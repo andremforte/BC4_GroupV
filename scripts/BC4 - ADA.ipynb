{
 "cells": [
  {
   "cell_type": "markdown",
   "id": "2e429287",
   "metadata": {},
   "source": [
    "# Business Case 4: Cryptocurrencies Forecasting"
   ]
  },
  {
   "cell_type": "markdown",
   "id": "c8c7cf49",
   "metadata": {},
   "source": [
    "## Contents:\n",
    "  \n",
    " * [Modeling ADA](#Modeling)\n",
    " * [ADA - Entire Dataset](#entiredataset)\n",
    "    * [Model 1: LSTM](#lstm)\n",
    "    * [Model 2: XGBOOST Regressor](#xgboost)\n",
    " * [ADA - since January 2021](#jan2021)\n",
    "    * [Model 1: LSTM](#lstm2)\n",
    "    * [Model 2: XGBOOST Regressor](#xgboost2)\n",
    " * [ADA - since January 2022](#jan2022)\n",
    "    * [Model 1: LSTM](#lstm3)\n",
    "    * [Model 2: XGBOOST Regressor](#xgboost3)\n",
    " * [Predictions for the next two days using the best model](#predictions)"
   ]
  },
  {
   "cell_type": "markdown",
   "id": "18e6ee6e",
   "metadata": {},
   "source": [
    "## Imports"
   ]
  },
  {
   "cell_type": "code",
   "execution_count": 1,
   "id": "5748d9b6",
   "metadata": {},
   "outputs": [],
   "source": [
    "#! pip install xgboost\n",
    "#! pip install fastai==0.7.0\n",
    "#! pip install --upgrade tensorflow\n",
    "#! pip install keras\n",
    "#! pip install pystan\n",
    "#! pip install ephem\n",
    "#! pip install fbprophet"
   ]
  },
  {
   "cell_type": "code",
   "execution_count": 2,
   "id": "28a80461",
   "metadata": {},
   "outputs": [],
   "source": [
    "import numpy as np\n",
    "import pandas as pd\n",
    "import seaborn as sns\n",
    "import matplotlib.pyplot as plt\n",
    "%matplotlib inline\n",
    "from math import ceil\n",
    "import math\n",
    "import scipy.stats as stats\n",
    "from itertools import cycle\n",
    "\n",
    "import plotly.express as px\n",
    "import plotly.graph_objects as go\n",
    "from plotly.subplots import make_subplots\n",
    "import plotly\n",
    "\n",
    "import json\n",
    "import requests\n",
    "import tensorflow as tf\n",
    "from sklearn.preprocessing import MinMaxScaler\n",
    "from keras.models import Sequential\n",
    "from keras.layers import Activation, Dense, Dropout, LSTM\n",
    "from sklearn.metrics import mean_squared_error , mean_absolute_error, explained_variance_score, r2_score\n",
    "from tensorflow.keras import layers\n",
    "from xgboost import XGBRegressor\n",
    "\n",
    "import warnings"
   ]
  },
  {
   "cell_type": "markdown",
   "id": "745ad7b6",
   "metadata": {},
   "source": [
    "# Modeling  <a name=\"Modeling\"></a>\n",
    ">In this step, we decided to implement algorithms (LSTM, XGBOOST Regressor) that can predict the closing price of ADA."
   ]
  },
  {
   "cell_type": "markdown",
   "id": "704de260",
   "metadata": {},
   "source": [
    "# ADA - Entire Dataset <a name=\"entiredataset\"></a>"
   ]
  },
  {
   "cell_type": "code",
   "execution_count": 3,
   "id": "32905e5d",
   "metadata": {},
   "outputs": [],
   "source": [
    "ada = pd.read_csv('ADA.csv', index_col = 'Date')"
   ]
  },
  {
   "cell_type": "code",
   "execution_count": 4,
   "id": "d6e69e14",
   "metadata": {
    "scrolled": true
   },
   "outputs": [
    {
     "data": {
      "text/html": [
       "<div>\n",
       "<style scoped>\n",
       "    .dataframe tbody tr th:only-of-type {\n",
       "        vertical-align: middle;\n",
       "    }\n",
       "\n",
       "    .dataframe tbody tr th {\n",
       "        vertical-align: top;\n",
       "    }\n",
       "\n",
       "    .dataframe thead th {\n",
       "        text-align: right;\n",
       "    }\n",
       "</style>\n",
       "<table border=\"1\" class=\"dataframe\">\n",
       "  <thead>\n",
       "    <tr style=\"text-align: right;\">\n",
       "      <th></th>\n",
       "      <th>close</th>\n",
       "      <th>volume</th>\n",
       "      <th>%D</th>\n",
       "      <th>spread</th>\n",
       "      <th>volatility</th>\n",
       "      <th>close_off_high</th>\n",
       "      <th>EUR/USD_close</th>\n",
       "    </tr>\n",
       "    <tr>\n",
       "      <th>Date</th>\n",
       "      <th></th>\n",
       "      <th></th>\n",
       "      <th></th>\n",
       "      <th></th>\n",
       "      <th></th>\n",
       "      <th></th>\n",
       "      <th></th>\n",
       "    </tr>\n",
       "  </thead>\n",
       "  <tbody>\n",
       "    <tr>\n",
       "      <th>2017-11-24</th>\n",
       "      <td>0.001502</td>\n",
       "      <td>0.000000</td>\n",
       "      <td>0.518040</td>\n",
       "      <td>0.001022</td>\n",
       "      <td>0.029306</td>\n",
       "      <td>0.999606</td>\n",
       "      <td>0.645889</td>\n",
       "    </tr>\n",
       "    <tr>\n",
       "      <th>2017-11-25</th>\n",
       "      <td>0.002203</td>\n",
       "      <td>0.000034</td>\n",
       "      <td>0.634866</td>\n",
       "      <td>0.002088</td>\n",
       "      <td>0.051031</td>\n",
       "      <td>1.000000</td>\n",
       "      <td>0.645889</td>\n",
       "    </tr>\n",
       "    <tr>\n",
       "      <th>2017-11-26</th>\n",
       "      <td>0.004202</td>\n",
       "      <td>0.001308</td>\n",
       "      <td>0.752464</td>\n",
       "      <td>0.009129</td>\n",
       "      <td>0.187687</td>\n",
       "      <td>0.993543</td>\n",
       "      <td>0.645889</td>\n",
       "    </tr>\n",
       "    <tr>\n",
       "      <th>2017-11-27</th>\n",
       "      <td>0.009045</td>\n",
       "      <td>0.003777</td>\n",
       "      <td>0.823601</td>\n",
       "      <td>0.019906</td>\n",
       "      <td>0.333804</td>\n",
       "      <td>0.988024</td>\n",
       "      <td>0.685035</td>\n",
       "    </tr>\n",
       "    <tr>\n",
       "      <th>2017-11-28</th>\n",
       "      <td>0.032532</td>\n",
       "      <td>0.012272</td>\n",
       "      <td>0.851392</td>\n",
       "      <td>0.083214</td>\n",
       "      <td>1.000000</td>\n",
       "      <td>0.978030</td>\n",
       "      <td>0.673386</td>\n",
       "    </tr>\n",
       "  </tbody>\n",
       "</table>\n",
       "</div>"
      ],
      "text/plain": [
       "               close    volume        %D    spread  volatility  \\\n",
       "Date                                                             \n",
       "2017-11-24  0.001502  0.000000  0.518040  0.001022    0.029306   \n",
       "2017-11-25  0.002203  0.000034  0.634866  0.002088    0.051031   \n",
       "2017-11-26  0.004202  0.001308  0.752464  0.009129    0.187687   \n",
       "2017-11-27  0.009045  0.003777  0.823601  0.019906    0.333804   \n",
       "2017-11-28  0.032532  0.012272  0.851392  0.083214    1.000000   \n",
       "\n",
       "            close_off_high  EUR/USD_close  \n",
       "Date                                       \n",
       "2017-11-24        0.999606       0.645889  \n",
       "2017-11-25        1.000000       0.645889  \n",
       "2017-11-26        0.993543       0.645889  \n",
       "2017-11-27        0.988024       0.685035  \n",
       "2017-11-28        0.978030       0.673386  "
      ]
     },
     "execution_count": 4,
     "metadata": {},
     "output_type": "execute_result"
    }
   ],
   "source": [
    "ada.head()"
   ]
  },
  {
   "cell_type": "markdown",
   "id": "b8cb8770",
   "metadata": {},
   "source": [
    "# Model 1: LSTM <a name=\"lstm\"></a>"
   ]
  },
  {
   "cell_type": "code",
   "execution_count": 5,
   "id": "d0e4476b",
   "metadata": {},
   "outputs": [],
   "source": [
    "data = ada.copy()"
   ]
  },
  {
   "cell_type": "code",
   "execution_count": 6,
   "id": "d7bb58e9",
   "metadata": {},
   "outputs": [
    {
     "data": {
      "text/html": [
       "<div>\n",
       "<style scoped>\n",
       "    .dataframe tbody tr th:only-of-type {\n",
       "        vertical-align: middle;\n",
       "    }\n",
       "\n",
       "    .dataframe tbody tr th {\n",
       "        vertical-align: top;\n",
       "    }\n",
       "\n",
       "    .dataframe thead th {\n",
       "        text-align: right;\n",
       "    }\n",
       "</style>\n",
       "<table border=\"1\" class=\"dataframe\">\n",
       "  <thead>\n",
       "    <tr style=\"text-align: right;\">\n",
       "      <th></th>\n",
       "      <th>close</th>\n",
       "      <th>volume</th>\n",
       "      <th>%D</th>\n",
       "      <th>spread</th>\n",
       "      <th>volatility</th>\n",
       "      <th>close_off_high</th>\n",
       "      <th>EUR/USD_close</th>\n",
       "    </tr>\n",
       "    <tr>\n",
       "      <th>Date</th>\n",
       "      <th></th>\n",
       "      <th></th>\n",
       "      <th></th>\n",
       "      <th></th>\n",
       "      <th></th>\n",
       "      <th></th>\n",
       "      <th></th>\n",
       "    </tr>\n",
       "  </thead>\n",
       "  <tbody>\n",
       "    <tr>\n",
       "      <th>2017-11-24</th>\n",
       "      <td>0.001502</td>\n",
       "      <td>0.000000</td>\n",
       "      <td>0.518040</td>\n",
       "      <td>0.001022</td>\n",
       "      <td>0.029306</td>\n",
       "      <td>0.999606</td>\n",
       "      <td>0.645889</td>\n",
       "    </tr>\n",
       "    <tr>\n",
       "      <th>2017-11-25</th>\n",
       "      <td>0.002203</td>\n",
       "      <td>0.000034</td>\n",
       "      <td>0.634866</td>\n",
       "      <td>0.002088</td>\n",
       "      <td>0.051031</td>\n",
       "      <td>1.000000</td>\n",
       "      <td>0.645889</td>\n",
       "    </tr>\n",
       "    <tr>\n",
       "      <th>2017-11-26</th>\n",
       "      <td>0.004202</td>\n",
       "      <td>0.001308</td>\n",
       "      <td>0.752464</td>\n",
       "      <td>0.009129</td>\n",
       "      <td>0.187687</td>\n",
       "      <td>0.993543</td>\n",
       "      <td>0.645889</td>\n",
       "    </tr>\n",
       "    <tr>\n",
       "      <th>2017-11-27</th>\n",
       "      <td>0.009045</td>\n",
       "      <td>0.003777</td>\n",
       "      <td>0.823601</td>\n",
       "      <td>0.019906</td>\n",
       "      <td>0.333804</td>\n",
       "      <td>0.988024</td>\n",
       "      <td>0.685035</td>\n",
       "    </tr>\n",
       "    <tr>\n",
       "      <th>2017-11-28</th>\n",
       "      <td>0.032532</td>\n",
       "      <td>0.012272</td>\n",
       "      <td>0.851392</td>\n",
       "      <td>0.083214</td>\n",
       "      <td>1.000000</td>\n",
       "      <td>0.978030</td>\n",
       "      <td>0.673386</td>\n",
       "    </tr>\n",
       "    <tr>\n",
       "      <th>...</th>\n",
       "      <td>...</td>\n",
       "      <td>...</td>\n",
       "      <td>...</td>\n",
       "      <td>...</td>\n",
       "      <td>...</td>\n",
       "      <td>...</td>\n",
       "      <td>...</td>\n",
       "    </tr>\n",
       "    <tr>\n",
       "      <th>2022-04-21</th>\n",
       "      <td>0.301097</td>\n",
       "      <td>0.045233</td>\n",
       "      <td>0.218628</td>\n",
       "      <td>0.071968</td>\n",
       "      <td>0.040121</td>\n",
       "      <td>0.891895</td>\n",
       "      <td>0.103918</td>\n",
       "    </tr>\n",
       "    <tr>\n",
       "      <th>2022-04-22</th>\n",
       "      <td>0.299969</td>\n",
       "      <td>0.037639</td>\n",
       "      <td>0.182432</td>\n",
       "      <td>0.029171</td>\n",
       "      <td>0.012924</td>\n",
       "      <td>0.969597</td>\n",
       "      <td>0.095986</td>\n",
       "    </tr>\n",
       "    <tr>\n",
       "      <th>2022-04-23</th>\n",
       "      <td>0.293635</td>\n",
       "      <td>0.023123</td>\n",
       "      <td>0.107167</td>\n",
       "      <td>0.025355</td>\n",
       "      <td>0.010435</td>\n",
       "      <td>0.959472</td>\n",
       "      <td>0.095986</td>\n",
       "    </tr>\n",
       "    <tr>\n",
       "      <th>2022-04-24</th>\n",
       "      <td>0.292903</td>\n",
       "      <td>0.025194</td>\n",
       "      <td>0.074484</td>\n",
       "      <td>0.015394</td>\n",
       "      <td>0.003986</td>\n",
       "      <td>0.978912</td>\n",
       "      <td>0.095986</td>\n",
       "    </tr>\n",
       "    <tr>\n",
       "      <th>2022-04-25</th>\n",
       "      <td>0.297096</td>\n",
       "      <td>0.059278</td>\n",
       "      <td>0.177352</td>\n",
       "      <td>0.070901</td>\n",
       "      <td>0.042094</td>\n",
       "      <td>0.994479</td>\n",
       "      <td>0.082962</td>\n",
       "    </tr>\n",
       "  </tbody>\n",
       "</table>\n",
       "<p>1614 rows × 7 columns</p>\n",
       "</div>"
      ],
      "text/plain": [
       "               close    volume        %D    spread  volatility  \\\n",
       "Date                                                             \n",
       "2017-11-24  0.001502  0.000000  0.518040  0.001022    0.029306   \n",
       "2017-11-25  0.002203  0.000034  0.634866  0.002088    0.051031   \n",
       "2017-11-26  0.004202  0.001308  0.752464  0.009129    0.187687   \n",
       "2017-11-27  0.009045  0.003777  0.823601  0.019906    0.333804   \n",
       "2017-11-28  0.032532  0.012272  0.851392  0.083214    1.000000   \n",
       "...              ...       ...       ...       ...         ...   \n",
       "2022-04-21  0.301097  0.045233  0.218628  0.071968    0.040121   \n",
       "2022-04-22  0.299969  0.037639  0.182432  0.029171    0.012924   \n",
       "2022-04-23  0.293635  0.023123  0.107167  0.025355    0.010435   \n",
       "2022-04-24  0.292903  0.025194  0.074484  0.015394    0.003986   \n",
       "2022-04-25  0.297096  0.059278  0.177352  0.070901    0.042094   \n",
       "\n",
       "            close_off_high  EUR/USD_close  \n",
       "Date                                       \n",
       "2017-11-24        0.999606       0.645889  \n",
       "2017-11-25        1.000000       0.645889  \n",
       "2017-11-26        0.993543       0.645889  \n",
       "2017-11-27        0.988024       0.685035  \n",
       "2017-11-28        0.978030       0.673386  \n",
       "...                    ...            ...  \n",
       "2022-04-21        0.891895       0.103918  \n",
       "2022-04-22        0.969597       0.095986  \n",
       "2022-04-23        0.959472       0.095986  \n",
       "2022-04-24        0.978912       0.095986  \n",
       "2022-04-25        0.994479       0.082962  \n",
       "\n",
       "[1614 rows x 7 columns]"
      ]
     },
     "execution_count": 6,
     "metadata": {},
     "output_type": "execute_result"
    }
   ],
   "source": [
    "data"
   ]
  },
  {
   "cell_type": "code",
   "execution_count": 7,
   "id": "f1d5c78b",
   "metadata": {},
   "outputs": [],
   "source": [
    "hist = []\n",
    "target = []\n",
    "length = 7\n",
    "\n",
    "for i in range(len(data)-length):\n",
    "    t = data['close']\n",
    "    v = data[['close', 'volume', 'spread', 'volatility', 'close_off_high', 'EUR/USD_close']]\n",
    "    x = v[i:i+length]\n",
    "    y = t[i+length]\n",
    "    hist.append(x)\n",
    "    target.append(y)"
   ]
  },
  {
   "cell_type": "code",
   "execution_count": 8,
   "id": "fba04aec",
   "metadata": {},
   "outputs": [
    {
     "name": "stdout",
     "output_type": "stream",
     "text": [
      "7\n",
      "1607\n",
      "1607\n"
     ]
    }
   ],
   "source": [
    "print(len(hist[0]))\n",
    "print(len(hist))\n",
    "print(len(target))"
   ]
  },
  {
   "cell_type": "code",
   "execution_count": 9,
   "id": "72f98a10",
   "metadata": {},
   "outputs": [],
   "source": [
    "#convert list to array\n",
    "hist = np.array(hist)\n",
    "target = np.array(target)"
   ]
  },
  {
   "cell_type": "code",
   "execution_count": 10,
   "id": "c013ab52",
   "metadata": {},
   "outputs": [
    {
     "data": {
      "text/plain": [
       "(1607, 1)"
      ]
     },
     "execution_count": 10,
     "metadata": {},
     "output_type": "execute_result"
    }
   ],
   "source": [
    "target = target.reshape(-1,1)\n",
    "target.shape"
   ]
  },
  {
   "cell_type": "code",
   "execution_count": 11,
   "id": "20846eb4",
   "metadata": {},
   "outputs": [],
   "source": [
    "#Splitting the datasets into train and test using 80% for train and 20% for test\n",
    "\n",
    "training_size=int(len(data)*0.80)\n",
    "\n",
    "X_train = hist[:training_size,:]\n",
    "X_test = hist[training_size:,:]\n",
    "\n",
    "y_train = target[:training_size]\n",
    "y_test = target[training_size:]"
   ]
  },
  {
   "cell_type": "code",
   "execution_count": 12,
   "id": "560076ba",
   "metadata": {},
   "outputs": [
    {
     "data": {
      "text/plain": [
       "(1291, 7, 6)"
      ]
     },
     "execution_count": 12,
     "metadata": {},
     "output_type": "execute_result"
    }
   ],
   "source": [
    "X_train.shape"
   ]
  },
  {
   "cell_type": "code",
   "execution_count": 13,
   "id": "a9a1e870",
   "metadata": {},
   "outputs": [
    {
     "name": "stdout",
     "output_type": "stream",
     "text": [
      "Model: \"sequential\"\n",
      "_________________________________________________________________\n",
      " Layer (type)                Output Shape              Param #   \n",
      "=================================================================\n",
      " lstm (LSTM)                 (None, 7, 20)             2160      \n",
      "                                                                 \n",
      " lstm_1 (LSTM)               (None, 7, 32)             6784      \n",
      "                                                                 \n",
      " lstm_2 (LSTM)               (None, 32)                8320      \n",
      "                                                                 \n",
      " dense (Dense)               (None, 1)                 33        \n",
      "                                                                 \n",
      "=================================================================\n",
      "Total params: 17,297\n",
      "Trainable params: 17,297\n",
      "Non-trainable params: 0\n",
      "_________________________________________________________________\n"
     ]
    }
   ],
   "source": [
    "model = tf.keras.Sequential()\n",
    "\n",
    "model.add(layers.LSTM(units=20, activation = 'relu', return_sequences=True,\n",
    "                  input_shape=(7,6), dropout = 0.2))\n",
    "\n",
    "model.add(layers.LSTM(units=32, return_sequences=True,\n",
    "                  dropout=0.2))\n",
    "\n",
    "model.add(layers.LSTM(units=32, activation = 'relu', dropout=0.2))\n",
    "\n",
    "#model.add(layers.LSTM(units=55, return_sequences = True, dropout = 0.2))\n",
    "\n",
    "#model.add(layers.LSTM(units = 80, activation = 'relu', dropout = 0.2))\n",
    "\n",
    "model.add(layers.Dense(units=1))\n",
    "\n",
    "model.summary()"
   ]
  },
  {
   "cell_type": "code",
   "execution_count": 14,
   "id": "a4e6950c",
   "metadata": {},
   "outputs": [],
   "source": [
    "model.compile(optimizer='adam', loss='mean_squared_error')"
   ]
  },
  {
   "cell_type": "code",
   "execution_count": 15,
   "id": "09d21824",
   "metadata": {},
   "outputs": [
    {
     "name": "stdout",
     "output_type": "stream",
     "text": [
      "Epoch 1/30\n",
      "33/33 [==============================] - 4s 32ms/step - loss: 0.0033 - val_loss: 0.0937\n",
      "Epoch 2/30\n",
      "33/33 [==============================] - 0s 10ms/step - loss: 0.0029 - val_loss: 0.0829\n",
      "Epoch 3/30\n",
      "33/33 [==============================] - 0s 10ms/step - loss: 0.0023 - val_loss: 0.0772\n",
      "Epoch 4/30\n",
      "33/33 [==============================] - 0s 9ms/step - loss: 0.0020 - val_loss: 0.0659\n",
      "Epoch 5/30\n",
      "33/33 [==============================] - 0s 9ms/step - loss: 0.0016 - val_loss: 0.0504\n",
      "Epoch 6/30\n",
      "33/33 [==============================] - 0s 9ms/step - loss: 0.0012 - val_loss: 0.0329\n",
      "Epoch 7/30\n",
      "33/33 [==============================] - 0s 9ms/step - loss: 0.0011 - val_loss: 0.0278\n",
      "Epoch 8/30\n",
      "33/33 [==============================] - 0s 10ms/step - loss: 8.8598e-04 - val_loss: 0.0205\n",
      "Epoch 9/30\n",
      "33/33 [==============================] - 0s 9ms/step - loss: 7.1319e-04 - val_loss: 0.0114\n",
      "Epoch 10/30\n",
      "33/33 [==============================] - 0s 10ms/step - loss: 6.6127e-04 - val_loss: 0.0104\n",
      "Epoch 11/30\n",
      "33/33 [==============================] - 0s 10ms/step - loss: 6.5398e-04 - val_loss: 0.0151\n",
      "Epoch 12/30\n",
      "33/33 [==============================] - 0s 10ms/step - loss: 6.5179e-04 - val_loss: 0.0093\n",
      "Epoch 13/30\n",
      "33/33 [==============================] - 0s 10ms/step - loss: 6.9978e-04 - val_loss: 0.0084\n",
      "Epoch 14/30\n",
      "33/33 [==============================] - 0s 9ms/step - loss: 7.5147e-04 - val_loss: 0.0161\n",
      "Epoch 15/30\n",
      "33/33 [==============================] - 0s 9ms/step - loss: 5.0106e-04 - val_loss: 0.0083\n",
      "Epoch 16/30\n",
      "33/33 [==============================] - 0s 9ms/step - loss: 5.1532e-04 - val_loss: 0.0152\n",
      "Epoch 17/30\n",
      "33/33 [==============================] - 0s 10ms/step - loss: 4.7715e-04 - val_loss: 0.0095\n",
      "Epoch 18/30\n",
      "33/33 [==============================] - 0s 10ms/step - loss: 4.9119e-04 - val_loss: 0.0106\n",
      "Epoch 19/30\n",
      "33/33 [==============================] - 0s 9ms/step - loss: 4.8211e-04 - val_loss: 0.0090\n",
      "Epoch 20/30\n",
      "33/33 [==============================] - 0s 9ms/step - loss: 5.6426e-04 - val_loss: 0.0084\n",
      "Epoch 21/30\n",
      "33/33 [==============================] - 0s 9ms/step - loss: 4.9259e-04 - val_loss: 0.0077\n",
      "Epoch 22/30\n",
      "33/33 [==============================] - 0s 9ms/step - loss: 4.5857e-04 - val_loss: 0.0124\n",
      "Epoch 23/30\n",
      "33/33 [==============================] - 0s 9ms/step - loss: 4.7912e-04 - val_loss: 0.0069\n",
      "Epoch 24/30\n",
      "33/33 [==============================] - 0s 9ms/step - loss: 4.4281e-04 - val_loss: 0.0105\n",
      "Epoch 25/30\n",
      "33/33 [==============================] - 0s 9ms/step - loss: 4.9754e-04 - val_loss: 0.0071\n",
      "Epoch 26/30\n",
      "33/33 [==============================] - 0s 9ms/step - loss: 5.3815e-04 - val_loss: 0.0081\n",
      "Epoch 27/30\n",
      "33/33 [==============================] - 0s 9ms/step - loss: 4.0790e-04 - val_loss: 0.0078\n",
      "Epoch 28/30\n",
      "33/33 [==============================] - 0s 9ms/step - loss: 3.5679e-04 - val_loss: 0.0104\n",
      "Epoch 29/30\n",
      "33/33 [==============================] - 0s 9ms/step - loss: 3.8872e-04 - val_loss: 0.0092\n",
      "Epoch 30/30\n",
      "33/33 [==============================] - 0s 9ms/step - loss: 4.0587e-04 - val_loss: 0.0130\n"
     ]
    }
   ],
   "source": [
    "history = model.fit(X_train, y_train, epochs=30, batch_size=32, shuffle = False, validation_split=0.2)"
   ]
  },
  {
   "cell_type": "code",
   "execution_count": 16,
   "id": "1bcc185d",
   "metadata": {},
   "outputs": [
    {
     "data": {
      "image/png": "[encoded data removed]",
      "text/plain": [
       "<Figure size 864x576 with 1 Axes>"
      ]
     },
     "metadata": {
      "needs_background": "light"
     },
     "output_type": "display_data"
    }
   ],
   "source": [
    "loss = history.history['loss']\n",
    "val_loss = history.history['val_loss']\n",
    "epoch_count = range(len(loss))\n",
    "plt.figure(figsize=(12,8))\n",
    "plt.plot(epoch_count, loss, 'r', label='Training loss')\n",
    "plt.plot(epoch_count, val_loss, 'b', label='Validation loss')\n",
    "plt.legend(['Training Loss','Validation Loss'])\n",
    "plt.xlabel('Epoch')\n",
    "plt.ylabel('Loss')\n",
    "plt.show();"
   ]
  },
  {
   "cell_type": "code",
   "execution_count": 17,
   "id": "36cb8b49",
   "metadata": {},
   "outputs": [],
   "source": [
    "pred_test = model.predict(X_test)\n",
    "pred_train = model.predict (X_train)"
   ]
  },
  {
   "cell_type": "code",
   "execution_count": 18,
   "id": "ffd38b0f",
   "metadata": {},
   "outputs": [
    {
     "data": {
      "text/html": [
       "<div>\n",
       "<style scoped>\n",
       "    .dataframe tbody tr th:only-of-type {\n",
       "        vertical-align: middle;\n",
       "    }\n",
       "\n",
       "    .dataframe tbody tr th {\n",
       "        vertical-align: top;\n",
       "    }\n",
       "\n",
       "    .dataframe thead th {\n",
       "        text-align: right;\n",
       "    }\n",
       "</style>\n",
       "<table border=\"1\" class=\"dataframe\">\n",
       "  <thead>\n",
       "    <tr style=\"text-align: right;\">\n",
       "      <th></th>\n",
       "      <th>y_test</th>\n",
       "      <th>Predictions</th>\n",
       "      <th>Date</th>\n",
       "    </tr>\n",
       "  </thead>\n",
       "  <tbody>\n",
       "    <tr>\n",
       "      <th>311</th>\n",
       "      <td>0.301097</td>\n",
       "      <td>0.151252</td>\n",
       "      <td>2022-04-21</td>\n",
       "    </tr>\n",
       "    <tr>\n",
       "      <th>312</th>\n",
       "      <td>0.299969</td>\n",
       "      <td>0.150540</td>\n",
       "      <td>2022-04-22</td>\n",
       "    </tr>\n",
       "    <tr>\n",
       "      <th>313</th>\n",
       "      <td>0.293635</td>\n",
       "      <td>0.151601</td>\n",
       "      <td>2022-04-23</td>\n",
       "    </tr>\n",
       "    <tr>\n",
       "      <th>314</th>\n",
       "      <td>0.292903</td>\n",
       "      <td>0.152593</td>\n",
       "      <td>2022-04-24</td>\n",
       "    </tr>\n",
       "    <tr>\n",
       "      <th>315</th>\n",
       "      <td>0.297096</td>\n",
       "      <td>0.151551</td>\n",
       "      <td>2022-04-25</td>\n",
       "    </tr>\n",
       "  </tbody>\n",
       "</table>\n",
       "</div>"
      ],
      "text/plain": [
       "       y_test  Predictions       Date\n",
       "311  0.301097     0.151252 2022-04-21\n",
       "312  0.299969     0.150540 2022-04-22\n",
       "313  0.293635     0.151601 2022-04-23\n",
       "314  0.292903     0.152593 2022-04-24\n",
       "315  0.297096     0.151551 2022-04-25"
      ]
     },
     "execution_count": 18,
     "metadata": {},
     "output_type": "execute_result"
    }
   ],
   "source": [
    "results = np.concatenate((y_test, pred_test), axis=1)\n",
    "results = pd.DataFrame(results, columns = ['y_test', 'Predictions'])\n",
    "a = data['close'].tail(len(pred_test))\n",
    "a = list(a.index)\n",
    "results['Date'] = a\n",
    "results['Date'] = pd.to_datetime(results['Date'])\n",
    "results.tail()"
   ]
  },
  {
   "cell_type": "code",
   "execution_count": 19,
   "id": "4f8a42ee",
   "metadata": {},
   "outputs": [
    {
     "data": {
      "image/png": "[encoded data removed]",
      "text/plain": [
       "<Figure size 864x576 with 1 Axes>"
      ]
     },
     "metadata": {
      "needs_background": "light"
     },
     "output_type": "display_data"
    }
   ],
   "source": [
    "plt.figure(figsize=(12,8))\n",
    "plt.plot(y_test, color='blue', label='Real')\n",
    "plt.plot(pred_test, color='red', label='Prediction')\n",
    "plt.title('ADA Price Prediction')\n",
    "plt.legend()\n",
    "plt.show()"
   ]
  },
  {
   "cell_type": "code",
   "execution_count": 20,
   "id": "fa35cd86",
   "metadata": {},
   "outputs": [
    {
     "name": "stdout",
     "output_type": "stream",
     "text": [
      "Train data RMSE:  0.05436780349340661\n",
      "Train data MSE:  0.0029558580566976765\n",
      "Train data MAE:  0.025200418154204714\n",
      "-------------------------------------------------------------------------------------\n",
      "Test data RMSE:  0.27428484022546284\n",
      "Test data MSE:  0.0752321735775077\n",
      "Test data MAE:  0.24779514819433138\n"
     ]
    }
   ],
   "source": [
    "# Evaluation metrices RMSE and MAE\n",
    "print(\"Train data RMSE: \", math.sqrt(mean_squared_error(y_train,pred_train)))\n",
    "print(\"Train data MSE: \", mean_squared_error(y_train,pred_train))\n",
    "print(\"Train data MAE: \", mean_absolute_error(y_train,pred_train))\n",
    "print(\"-------------------------------------------------------------------------------------\")\n",
    "print(\"Test data RMSE: \", math.sqrt(mean_squared_error(y_test,pred_test)))\n",
    "print(\"Test data MSE: \", mean_squared_error(y_test,pred_test))\n",
    "print(\"Test data MAE: \", mean_absolute_error(y_test,pred_test))"
   ]
  },
  {
   "cell_type": "code",
   "execution_count": 21,
   "id": "62416aab",
   "metadata": {
    "scrolled": true
   },
   "outputs": [
    {
     "name": "stdout",
     "output_type": "stream",
     "text": [
      "Train data R2 score: 0.8330631200789307\n",
      "Test data R2 score: -1.0929220029565339\n"
     ]
    }
   ],
   "source": [
    "print(\"Train data R2 score:\", r2_score(y_train, pred_train))\n",
    "print(\"Test data R2 score:\", r2_score(y_test, pred_test))"
   ]
  },
  {
   "cell_type": "markdown",
   "id": "a5589e1c",
   "metadata": {},
   "source": [
    "# Model 2: XGBoost Regressor<a name=\"xgboost\"></a>"
   ]
  },
  {
   "cell_type": "code",
   "execution_count": 22,
   "id": "68d92d22",
   "metadata": {},
   "outputs": [
    {
     "data": {
      "text/plain": [
       "(1614, 8)"
      ]
     },
     "execution_count": 22,
     "metadata": {},
     "output_type": "execute_result"
    }
   ],
   "source": [
    "data1 = ada.copy()\n",
    "data1.reset_index(inplace = True)\n",
    "data1.shape"
   ]
  },
  {
   "cell_type": "code",
   "execution_count": 23,
   "id": "e26b2f9c",
   "metadata": {},
   "outputs": [
    {
     "name": "stdout",
     "output_type": "stream",
     "text": [
      "Total data for prediction:  1614\n"
     ]
    }
   ],
   "source": [
    "close_stock = data1.copy()\n",
    "print(\"Total data for prediction: \",data1.shape[0])"
   ]
  },
  {
   "cell_type": "code",
   "execution_count": 24,
   "id": "23311a08",
   "metadata": {},
   "outputs": [],
   "source": [
    "data1.set_index('Date', inplace = True)"
   ]
  },
  {
   "cell_type": "code",
   "execution_count": 25,
   "id": "69f0a21c",
   "metadata": {},
   "outputs": [
    {
     "data": {
      "text/plain": [
       "(1614, 7)"
      ]
     },
     "execution_count": 25,
     "metadata": {},
     "output_type": "execute_result"
    }
   ],
   "source": [
    "data1.shape"
   ]
  },
  {
   "cell_type": "code",
   "execution_count": 26,
   "id": "2a7d472b",
   "metadata": {},
   "outputs": [
    {
     "name": "stdout",
     "output_type": "stream",
     "text": [
      "train_data:  (1291, 7)\n",
      "test_data:  (323, 7)\n"
     ]
    }
   ],
   "source": [
    "training_size=int(len(data1)*0.80)\n",
    "test_size=len(data1)-training_size\n",
    "train_data,test_data=data1.iloc[:training_size,:],data1.iloc[training_size:,:]\n",
    "print(\"train_data: \", train_data.shape)\n",
    "print(\"test_data: \", test_data.shape)"
   ]
  },
  {
   "cell_type": "code",
   "execution_count": 27,
   "id": "68f0a09f",
   "metadata": {},
   "outputs": [
    {
     "data": {
      "image/png": "[encoded data removed]",
      "text/plain": [
       "<Figure size 2160x1080 with 1 Axes>"
      ]
     },
     "metadata": {
      "needs_background": "light"
     },
     "output_type": "display_data"
    }
   ],
   "source": [
    "fig, ax = plt.subplots(figsize=(30, 15))\n",
    "sns.lineplot(x = close_stock['Date'][:training_size], y = close_stock['close'][:training_size], color = 'blue')\n",
    "sns.lineplot(x = close_stock['Date'][training_size:], y = close_stock['close'][training_size:], color = 'orange')\n",
    "\n",
    "# Formatting\n",
    "ax.set_title('Train & Test data', fontsize = 20, loc='center', fontdict=dict(weight='bold'))\n",
    "ax.set_xlabel('Date', fontsize = 16, fontdict=dict(weight='bold'))\n",
    "ax.set_ylabel('Weekly Sales', fontsize = 16, fontdict=dict(weight='bold'))\n",
    "plt.tick_params(axis='y', which='major', labelsize=16)\n",
    "plt.tick_params(axis='x', labelsize=5)\n",
    "plt.xticks(rotation='vertical')\n",
    "plt.legend(loc='upper right' ,labels = ('train', 'test'))\n",
    "plt.show()"
   ]
  },
  {
   "cell_type": "code",
   "execution_count": 28,
   "id": "55424599",
   "metadata": {},
   "outputs": [],
   "source": [
    "# convert an array of values into a dataset matrix\n",
    "def create_dataset(dataset, time_step=1):\n",
    "    dataX, dataY = [], []\n",
    "    for i in range(len(dataset)-time_step-1):\n",
    "        a = dataset.iloc[i:(i+time_step), 0:]   \n",
    "        dataX.append(a)\n",
    "        dataY.append(dataset.iloc[i + time_step, 0])\n",
    "    return np.array(dataX), np.array(dataY)"
   ]
  },
  {
   "cell_type": "code",
   "execution_count": 29,
   "id": "58549aeb",
   "metadata": {},
   "outputs": [
    {
     "name": "stdout",
     "output_type": "stream",
     "text": [
      "X_train:  (1283, 7, 7)\n",
      "y_train:  (1283,)\n",
      "X_test:  (315, 7, 7)\n",
      "y_test (315,)\n"
     ]
    }
   ],
   "source": [
    "time_step = 7\n",
    "X_train, y_train = create_dataset(train_data, time_step)\n",
    "X_test, y_test = create_dataset(test_data, time_step)\n",
    "\n",
    "print(\"X_train: \", X_train.shape)\n",
    "print(\"y_train: \", y_train.shape)\n",
    "print(\"X_test: \", X_test.shape)\n",
    "print(\"y_test\", y_test.shape)"
   ]
  },
  {
   "cell_type": "code",
   "execution_count": 30,
   "id": "3d684fc3",
   "metadata": {},
   "outputs": [],
   "source": [
    "nsamples, nx, ny = X_train.shape\n",
    "X_train = X_train.reshape((nsamples,nx*ny))\n",
    "\n",
    "nsamples, nx, ny = X_test.shape\n",
    "X_test = X_test.reshape((nsamples,nx*ny))"
   ]
  },
  {
   "cell_type": "code",
   "execution_count": 31,
   "id": "017f9d78",
   "metadata": {},
   "outputs": [
    {
     "data": {
      "text/plain": [
       "XGBRegressor(base_score=0.5, booster='gbtree', callbacks=None,\n",
       "             colsample_bylevel=1, colsample_bynode=1, colsample_bytree=1,\n",
       "             early_stopping_rounds=None, enable_categorical=False,\n",
       "             eval_metric=None, gamma=0, gpu_id=-1, grow_policy='depthwise',\n",
       "             importance_type=None, interaction_constraints='',\n",
       "             learning_rate=0.300000012, max_bin=256, max_cat_to_onehot=4,\n",
       "             max_delta_step=0, max_depth=6, max_leaves=0, min_child_weight=1,\n",
       "             missing=nan, monotone_constraints='()', n_estimators=1000,\n",
       "             n_jobs=0, num_parallel_tree=1, predictor='auto', random_state=1,\n",
       "             reg_alpha=0, reg_lambda=1, ...)"
      ]
     },
     "execution_count": 31,
     "metadata": {},
     "output_type": "execute_result"
    }
   ],
   "source": [
    "model1 = XGBRegressor(n_estimators=1000, random_state = 1)\n",
    "model1.fit(X_train, y_train)"
   ]
  },
  {
   "cell_type": "code",
   "execution_count": 32,
   "id": "80a331ec",
   "metadata": {},
   "outputs": [],
   "source": [
    "predictions = model1.predict(X_test).reshape(-1,1)\n",
    "y_test = y_test.reshape(-1,1)\n",
    "\n",
    "predictions_train = model1.predict(X_train).reshape(-1,1)"
   ]
  },
  {
   "cell_type": "code",
   "execution_count": 33,
   "id": "dd572230",
   "metadata": {},
   "outputs": [
    {
     "data": {
      "text/html": [
       "<div>\n",
       "<style scoped>\n",
       "    .dataframe tbody tr th:only-of-type {\n",
       "        vertical-align: middle;\n",
       "    }\n",
       "\n",
       "    .dataframe tbody tr th {\n",
       "        vertical-align: top;\n",
       "    }\n",
       "\n",
       "    .dataframe thead th {\n",
       "        text-align: right;\n",
       "    }\n",
       "</style>\n",
       "<table border=\"1\" class=\"dataframe\">\n",
       "  <thead>\n",
       "    <tr style=\"text-align: right;\">\n",
       "      <th></th>\n",
       "      <th>y_test</th>\n",
       "      <th>Predictions</th>\n",
       "      <th>Date</th>\n",
       "    </tr>\n",
       "  </thead>\n",
       "  <tbody>\n",
       "    <tr>\n",
       "      <th>310</th>\n",
       "      <td>0.310222</td>\n",
       "      <td>0.361086</td>\n",
       "      <td>2022-04-21</td>\n",
       "    </tr>\n",
       "    <tr>\n",
       "      <th>311</th>\n",
       "      <td>0.301097</td>\n",
       "      <td>0.363771</td>\n",
       "      <td>2022-04-22</td>\n",
       "    </tr>\n",
       "    <tr>\n",
       "      <th>312</th>\n",
       "      <td>0.299969</td>\n",
       "      <td>0.333453</td>\n",
       "      <td>2022-04-23</td>\n",
       "    </tr>\n",
       "    <tr>\n",
       "      <th>313</th>\n",
       "      <td>0.293635</td>\n",
       "      <td>0.303582</td>\n",
       "      <td>2022-04-24</td>\n",
       "    </tr>\n",
       "    <tr>\n",
       "      <th>314</th>\n",
       "      <td>0.292903</td>\n",
       "      <td>0.300041</td>\n",
       "      <td>2022-04-25</td>\n",
       "    </tr>\n",
       "  </tbody>\n",
       "</table>\n",
       "</div>"
      ],
      "text/plain": [
       "       y_test  Predictions       Date\n",
       "310  0.310222     0.361086 2022-04-21\n",
       "311  0.301097     0.363771 2022-04-22\n",
       "312  0.299969     0.333453 2022-04-23\n",
       "313  0.293635     0.303582 2022-04-24\n",
       "314  0.292903     0.300041 2022-04-25"
      ]
     },
     "execution_count": 33,
     "metadata": {},
     "output_type": "execute_result"
    }
   ],
   "source": [
    "results2 = np.concatenate((y_test, predictions),axis = 1)\n",
    "results2 = pd.DataFrame(results2, columns = ['y_test', 'Predictions'])\n",
    "a = data1['close'].tail(len(predictions))\n",
    "a = list(a.index)\n",
    "results2['Date'] = a\n",
    "results2['Date'] = pd.to_datetime(results2['Date'])\n",
    "results2.tail()"
   ]
  },
  {
   "cell_type": "code",
   "execution_count": 34,
   "id": "f4bb627c",
   "metadata": {},
   "outputs": [
    {
     "data": {
      "image/png": "[encoded data removed]",
      "text/plain": [
       "<Figure size 864x576 with 1 Axes>"
      ]
     },
     "metadata": {
      "needs_background": "light"
     },
     "output_type": "display_data"
    }
   ],
   "source": [
    "plt.figure(figsize=(12,8))\n",
    "plt.plot(y_test, color='blue', label='Real')\n",
    "plt.plot(predictions, color='red', label='Prediction')\n",
    "plt.title('ADA Price Prediction')\n",
    "plt.legend()\n",
    "plt.show()"
   ]
  },
  {
   "cell_type": "code",
   "execution_count": 35,
   "id": "c0c0be71",
   "metadata": {},
   "outputs": [
    {
     "name": "stdout",
     "output_type": "stream",
     "text": [
      "Test: \n",
      "Mean Absolute Error - MAE : 0.05108241978127293\n",
      "Root Mean squared Error - RMSE : 0.07859946904350586\n",
      "R^2 Score - Coefficient of Determination 0.8279499085168661\n",
      "----------------------------------------------------------------\n",
      "Train:\n",
      "Mean Absolute Error - MAE : 0.00044190125547240595\n",
      "Root Mean squared Error - RMSE : 0.0006129885824286719\n",
      "R^2 Score - Coefficient of Determination 0.9999773222560278\n"
     ]
    }
   ],
   "source": [
    "print ('Test: ')\n",
    "print(\"Mean Absolute Error - MAE : \" + str(mean_absolute_error(y_test, predictions)))\n",
    "print(\"Root Mean squared Error - RMSE : \" + str(math.sqrt(mean_squared_error(y_test, predictions))))\n",
    "print('R^2 Score - Coefficient of Determination', r2_score(y_test, predictions))\n",
    "print (\"----------------------------------------------------------------\")\n",
    "print('Train:')\n",
    "print(\"Mean Absolute Error - MAE : \" + str(mean_absolute_error(y_train, predictions_train)))\n",
    "print(\"Root Mean squared Error - RMSE : \" + str(math.sqrt(mean_squared_error(y_train, predictions_train))))\n",
    "print('R^2 Score - Coefficient of Determination', r2_score(y_train, predictions_train))"
   ]
  },
  {
   "cell_type": "markdown",
   "id": "b2f33333",
   "metadata": {},
   "source": [
    "# ADA - since January 2021<a name=\"jan2021\"></a>"
   ]
  },
  {
   "cell_type": "markdown",
   "id": "7d5faeee",
   "metadata": {},
   "source": [
    "# Model 1: LSTM <a name=\"lstm2\"></a>"
   ]
  },
  {
   "cell_type": "code",
   "execution_count": 36,
   "id": "2c26673f",
   "metadata": {},
   "outputs": [],
   "source": [
    "data2 = ada.copy()"
   ]
  },
  {
   "cell_type": "code",
   "execution_count": 37,
   "id": "7d181f09",
   "metadata": {},
   "outputs": [
    {
     "name": "stdout",
     "output_type": "stream",
     "text": [
      "Total data for prediction:  480\n"
     ]
    }
   ],
   "source": [
    "data2.reset_index(inplace = True)\n",
    "data2 = data2[data2['Date'] >= '2021-01-01']\n",
    "data2.set_index('Date', inplace = True)\n",
    "print(\"Total data for prediction: \",data2.shape[0])"
   ]
  },
  {
   "cell_type": "code",
   "execution_count": 38,
   "id": "5b3c778c",
   "metadata": {},
   "outputs": [],
   "source": [
    "hist = []\n",
    "target = []\n",
    "length = 7\n",
    "\n",
    "for i in range(len(data2)-length):\n",
    "    t = data2['close']\n",
    "    v = data2[['close','volume', 'spread', 'volatility', 'close_off_high', 'EUR/USD_close']]\n",
    "    x = v[i:i+length]\n",
    "    y = t[i+length]\n",
    "    hist.append(x)\n",
    "    target.append(y)"
   ]
  },
  {
   "cell_type": "code",
   "execution_count": 39,
   "id": "4fc4a332",
   "metadata": {},
   "outputs": [
    {
     "name": "stdout",
     "output_type": "stream",
     "text": [
      "7\n",
      "473\n",
      "473\n"
     ]
    }
   ],
   "source": [
    "print(len(hist[0]))\n",
    "print(len(hist))\n",
    "print(len(target))"
   ]
  },
  {
   "cell_type": "code",
   "execution_count": 40,
   "id": "33c4d942",
   "metadata": {},
   "outputs": [],
   "source": [
    "#convert list to array\n",
    "hist = np.array(hist)\n",
    "target = np.array(target)"
   ]
  },
  {
   "cell_type": "code",
   "execution_count": 41,
   "id": "7a781221",
   "metadata": {},
   "outputs": [
    {
     "data": {
      "text/plain": [
       "(473, 1)"
      ]
     },
     "execution_count": 41,
     "metadata": {},
     "output_type": "execute_result"
    }
   ],
   "source": [
    "target = target.reshape(-1,1)\n",
    "target.shape"
   ]
  },
  {
   "cell_type": "code",
   "execution_count": 42,
   "id": "0d9d774a",
   "metadata": {},
   "outputs": [],
   "source": [
    "training_size = int(len(data2)*0.8)\n",
    "\n",
    "X_train = hist[:training_size,:]\n",
    "X_test = hist[training_size:,:]\n",
    "\n",
    "y_train = target[:training_size]\n",
    "y_test = target[training_size:]"
   ]
  },
  {
   "cell_type": "code",
   "execution_count": 43,
   "id": "efc29939",
   "metadata": {},
   "outputs": [
    {
     "data": {
      "text/plain": [
       "(384, 7, 6)"
      ]
     },
     "execution_count": 43,
     "metadata": {},
     "output_type": "execute_result"
    }
   ],
   "source": [
    "X_train.shape"
   ]
  },
  {
   "cell_type": "code",
   "execution_count": 44,
   "id": "d939095f",
   "metadata": {},
   "outputs": [
    {
     "name": "stdout",
     "output_type": "stream",
     "text": [
      "Model: \"sequential_1\"\n",
      "_________________________________________________________________\n",
      " Layer (type)                Output Shape              Param #   \n",
      "=================================================================\n",
      " lstm_3 (LSTM)               (None, 7, 20)             2160      \n",
      "                                                                 \n",
      " lstm_4 (LSTM)               (None, 7, 32)             6784      \n",
      "                                                                 \n",
      " lstm_5 (LSTM)               (None, 32)                8320      \n",
      "                                                                 \n",
      " dense_1 (Dense)             (None, 1)                 33        \n",
      "                                                                 \n",
      "=================================================================\n",
      "Total params: 17,297\n",
      "Trainable params: 17,297\n",
      "Non-trainable params: 0\n",
      "_________________________________________________________________\n"
     ]
    }
   ],
   "source": [
    "model2 = tf.keras.Sequential()\n",
    "\n",
    "model2.add(layers.LSTM(units=20, activation = 'relu', return_sequences=True,\n",
    "                  input_shape=(7,6), dropout = 0.2))\n",
    "\n",
    "model2.add(layers.LSTM(units=32, return_sequences=True,\n",
    "                  dropout=0.2))\n",
    "\n",
    "model2.add(layers.LSTM(units=32, activation = 'relu', dropout=0.2))\n",
    "\n",
    "#model.add(layers.LSTM(units=55, return_sequences = True, dropout = 0.2))\n",
    "\n",
    "#model.add(layers.LSTM(units = 80, activation = 'relu', dropout = 0.2))\n",
    "\n",
    "model2.add(layers.Dense(units=1))\n",
    "\n",
    "model2.summary()"
   ]
  },
  {
   "cell_type": "code",
   "execution_count": 45,
   "id": "74f36158",
   "metadata": {},
   "outputs": [],
   "source": [
    "model2.compile(optimizer='adam', loss='mean_squared_error')"
   ]
  },
  {
   "cell_type": "code",
   "execution_count": 46,
   "id": "b50c32ee",
   "metadata": {},
   "outputs": [
    {
     "name": "stdout",
     "output_type": "stream",
     "text": [
      "Epoch 1/30\n",
      "10/10 [==============================] - 5s 94ms/step - loss: 0.2423 - val_loss: 0.1261\n",
      "Epoch 2/30\n",
      "10/10 [==============================] - 0s 16ms/step - loss: 0.1112 - val_loss: 0.0234\n",
      "Epoch 3/30\n",
      "10/10 [==============================] - 0s 13ms/step - loss: 0.0280 - val_loss: 0.0247\n",
      "Epoch 4/30\n",
      "10/10 [==============================] - 0s 12ms/step - loss: 0.0825 - val_loss: 0.0066\n",
      "Epoch 5/30\n",
      "10/10 [==============================] - 0s 12ms/step - loss: 0.0569 - val_loss: 0.0077\n",
      "Epoch 6/30\n",
      "10/10 [==============================] - 0s 11ms/step - loss: 0.0412 - val_loss: 0.0061\n",
      "Epoch 7/30\n",
      "10/10 [==============================] - 0s 11ms/step - loss: 0.0391 - val_loss: 0.0068\n",
      "Epoch 8/30\n",
      "10/10 [==============================] - 0s 12ms/step - loss: 0.0415 - val_loss: 0.0060\n",
      "Epoch 9/30\n",
      "10/10 [==============================] - 0s 13ms/step - loss: 0.0383 - val_loss: 0.0052\n",
      "Epoch 10/30\n",
      "10/10 [==============================] - 0s 12ms/step - loss: 0.0344 - val_loss: 0.0050\n",
      "Epoch 11/30\n",
      "10/10 [==============================] - 0s 13ms/step - loss: 0.0307 - val_loss: 0.0059\n",
      "Epoch 12/30\n",
      "10/10 [==============================] - 0s 12ms/step - loss: 0.0311 - val_loss: 0.0050\n",
      "Epoch 13/30\n",
      "10/10 [==============================] - 0s 12ms/step - loss: 0.0265 - val_loss: 0.0065\n",
      "Epoch 14/30\n",
      "10/10 [==============================] - 0s 12ms/step - loss: 0.0226 - val_loss: 0.0038\n",
      "Epoch 15/30\n",
      "10/10 [==============================] - 0s 12ms/step - loss: 0.0222 - val_loss: 0.0055\n",
      "Epoch 16/30\n",
      "10/10 [==============================] - 0s 12ms/step - loss: 0.0192 - val_loss: 0.0058\n",
      "Epoch 17/30\n",
      "10/10 [==============================] - 0s 13ms/step - loss: 0.0183 - val_loss: 0.0066\n",
      "Epoch 18/30\n",
      "10/10 [==============================] - 0s 11ms/step - loss: 0.0201 - val_loss: 0.0051\n",
      "Epoch 19/30\n",
      "10/10 [==============================] - 0s 13ms/step - loss: 0.0160 - val_loss: 0.0073\n",
      "Epoch 20/30\n",
      "10/10 [==============================] - 0s 12ms/step - loss: 0.0160 - val_loss: 0.0055\n",
      "Epoch 21/30\n",
      "10/10 [==============================] - 0s 12ms/step - loss: 0.0172 - val_loss: 0.0057\n",
      "Epoch 22/30\n",
      "10/10 [==============================] - 0s 12ms/step - loss: 0.0165 - val_loss: 0.0067\n",
      "Epoch 23/30\n",
      "10/10 [==============================] - 0s 12ms/step - loss: 0.0153 - val_loss: 0.0059\n",
      "Epoch 24/30\n",
      "10/10 [==============================] - 0s 12ms/step - loss: 0.0171 - val_loss: 0.0065\n",
      "Epoch 25/30\n",
      "10/10 [==============================] - 0s 12ms/step - loss: 0.0116 - val_loss: 0.0070\n",
      "Epoch 26/30\n",
      "10/10 [==============================] - 0s 11ms/step - loss: 0.0133 - val_loss: 0.0072\n",
      "Epoch 27/30\n",
      "10/10 [==============================] - 0s 11ms/step - loss: 0.0104 - val_loss: 0.0050\n",
      "Epoch 28/30\n",
      "10/10 [==============================] - 0s 12ms/step - loss: 0.0108 - val_loss: 0.0060\n",
      "Epoch 29/30\n",
      "10/10 [==============================] - 0s 12ms/step - loss: 0.0109 - val_loss: 0.0051\n",
      "Epoch 30/30\n",
      "10/10 [==============================] - 0s 12ms/step - loss: 0.0125 - val_loss: 0.0074\n"
     ]
    }
   ],
   "source": [
    "history = model2.fit(X_train, y_train,  epochs=30, batch_size=32, validation_split=0.2, shuffle = False)"
   ]
  },
  {
   "cell_type": "code",
   "execution_count": 47,
   "id": "3a5bcc79",
   "metadata": {},
   "outputs": [
    {
     "data": {
      "image/png": "[encoded data removed]",
      "text/plain": [
       "<Figure size 864x576 with 1 Axes>"
      ]
     },
     "metadata": {
      "needs_background": "light"
     },
     "output_type": "display_data"
    }
   ],
   "source": [
    "loss = history.history['loss']\n",
    "val_loss = history.history['val_loss']\n",
    "epoch_count = range(len(loss))\n",
    "plt.figure(figsize=(12,8))\n",
    "plt.plot(epoch_count, loss, 'r', label='Training loss')\n",
    "plt.plot(epoch_count, val_loss, 'b', label='Validation loss')\n",
    "plt.legend(['Training Loss','Validation Loss'])\n",
    "plt.xlabel('Epoch')\n",
    "plt.ylabel('Loss')\n",
    "plt.show();"
   ]
  },
  {
   "cell_type": "code",
   "execution_count": 48,
   "id": "e51dbfa8",
   "metadata": {},
   "outputs": [],
   "source": [
    "pred_test = model2.predict(X_test)\n",
    "pred_train = model2.predict(X_train)"
   ]
  },
  {
   "cell_type": "code",
   "execution_count": 49,
   "id": "1c911f81",
   "metadata": {},
   "outputs": [
    {
     "data": {
      "text/html": [
       "<div>\n",
       "<style scoped>\n",
       "    .dataframe tbody tr th:only-of-type {\n",
       "        vertical-align: middle;\n",
       "    }\n",
       "\n",
       "    .dataframe tbody tr th {\n",
       "        vertical-align: top;\n",
       "    }\n",
       "\n",
       "    .dataframe thead th {\n",
       "        text-align: right;\n",
       "    }\n",
       "</style>\n",
       "<table border=\"1\" class=\"dataframe\">\n",
       "  <thead>\n",
       "    <tr style=\"text-align: right;\">\n",
       "      <th></th>\n",
       "      <th>y_test</th>\n",
       "      <th>Predictions</th>\n",
       "      <th>Date</th>\n",
       "    </tr>\n",
       "  </thead>\n",
       "  <tbody>\n",
       "    <tr>\n",
       "      <th>0</th>\n",
       "      <td>0.346289</td>\n",
       "      <td>0.490684</td>\n",
       "      <td>2022-01-27</td>\n",
       "    </tr>\n",
       "    <tr>\n",
       "      <th>1</th>\n",
       "      <td>0.348692</td>\n",
       "      <td>0.471680</td>\n",
       "      <td>2022-01-28</td>\n",
       "    </tr>\n",
       "    <tr>\n",
       "      <th>2</th>\n",
       "      <td>0.351736</td>\n",
       "      <td>0.455085</td>\n",
       "      <td>2022-01-29</td>\n",
       "    </tr>\n",
       "    <tr>\n",
       "      <th>3</th>\n",
       "      <td>0.344231</td>\n",
       "      <td>0.451314</td>\n",
       "      <td>2022-01-30</td>\n",
       "    </tr>\n",
       "    <tr>\n",
       "      <th>4</th>\n",
       "      <td>0.349268</td>\n",
       "      <td>0.443517</td>\n",
       "      <td>2022-01-31</td>\n",
       "    </tr>\n",
       "  </tbody>\n",
       "</table>\n",
       "</div>"
      ],
      "text/plain": [
       "     y_test  Predictions       Date\n",
       "0  0.346289     0.490684 2022-01-27\n",
       "1  0.348692     0.471680 2022-01-28\n",
       "2  0.351736     0.455085 2022-01-29\n",
       "3  0.344231     0.451314 2022-01-30\n",
       "4  0.349268     0.443517 2022-01-31"
      ]
     },
     "execution_count": 49,
     "metadata": {},
     "output_type": "execute_result"
    }
   ],
   "source": [
    "results = np.concatenate((y_test, pred_test), axis=1)\n",
    "results = pd.DataFrame(results, columns = ['y_test', 'Predictions'])\n",
    "a = data2['close'].tail(len(pred_test))\n",
    "a = list(a.index)\n",
    "results['Date'] = a\n",
    "results['Date'] = pd.to_datetime(results['Date'])\n",
    "results.tail()\n",
    "results.head()"
   ]
  },
  {
   "cell_type": "code",
   "execution_count": 50,
   "id": "265777c4",
   "metadata": {},
   "outputs": [
    {
     "data": {
      "image/png": "[encoded data removed]",
      "text/plain": [
       "<Figure size 864x576 with 1 Axes>"
      ]
     },
     "metadata": {
      "needs_background": "light"
     },
     "output_type": "display_data"
    }
   ],
   "source": [
    "plt.figure(figsize=(12,8))\n",
    "plt.plot(y_test, color='blue', label='Real')\n",
    "plt.plot(pred_test, color='red', label='Prediction')\n",
    "plt.title('ADA Price Prediction')\n",
    "plt.legend()\n",
    "plt.show()"
   ]
  },
  {
   "cell_type": "code",
   "execution_count": 51,
   "id": "06f58736",
   "metadata": {},
   "outputs": [
    {
     "name": "stdout",
     "output_type": "stream",
     "text": [
      "Train data RMSE:  0.07618346290437884\n",
      "Train data MSE:  0.005803920020102868\n",
      "Train data MAE:  0.059860688385261374\n",
      "-------------------------------------------------------------------------------------\n",
      "Test data RMSE:  0.10760997400800412\n",
      "Test data MSE:  0.011579906506003323\n",
      "Test data MAE:  0.1027822902582798\n"
     ]
    }
   ],
   "source": [
    "# Evaluation metrices RMSE and MAE\n",
    "print(\"Train data RMSE: \", math.sqrt(mean_squared_error(y_train,pred_train)))\n",
    "print(\"Train data MSE: \", mean_squared_error(y_train,pred_train))\n",
    "print(\"Train data MAE: \", mean_absolute_error(y_train,pred_train))\n",
    "print(\"-------------------------------------------------------------------------------------\")\n",
    "print(\"Test data RMSE: \", math.sqrt(mean_squared_error(y_test,pred_test)))\n",
    "print(\"Test data MSE: \", mean_squared_error(y_test,pred_test))\n",
    "print(\"Test data MAE: \", mean_absolute_error(y_test,pred_test))"
   ]
  },
  {
   "cell_type": "code",
   "execution_count": 52,
   "id": "ddaeb7c7",
   "metadata": {
    "scrolled": true
   },
   "outputs": [
    {
     "name": "stdout",
     "output_type": "stream",
     "text": [
      "Train data R2 score: 0.850345349810476\n",
      "Test data R2 score: -5.463112643966122\n"
     ]
    }
   ],
   "source": [
    "print(\"Train data R2 score:\", r2_score(y_train, pred_train))\n",
    "print(\"Test data R2 score:\", r2_score(y_test, pred_test))"
   ]
  },
  {
   "cell_type": "markdown",
   "id": "326871f4",
   "metadata": {},
   "source": [
    "# Model 2: XGBoost Regressor <a name=\"xgboost2\"></a>"
   ]
  },
  {
   "cell_type": "code",
   "execution_count": 53,
   "id": "65fe4733",
   "metadata": {},
   "outputs": [],
   "source": [
    "data3 = ada.copy()\n",
    "data3.reset_index(inplace = True)"
   ]
  },
  {
   "cell_type": "code",
   "execution_count": 54,
   "id": "55b0d602",
   "metadata": {},
   "outputs": [
    {
     "data": {
      "text/html": [
       "<div>\n",
       "<style scoped>\n",
       "    .dataframe tbody tr th:only-of-type {\n",
       "        vertical-align: middle;\n",
       "    }\n",
       "\n",
       "    .dataframe tbody tr th {\n",
       "        vertical-align: top;\n",
       "    }\n",
       "\n",
       "    .dataframe thead th {\n",
       "        text-align: right;\n",
       "    }\n",
       "</style>\n",
       "<table border=\"1\" class=\"dataframe\">\n",
       "  <thead>\n",
       "    <tr style=\"text-align: right;\">\n",
       "      <th></th>\n",
       "      <th>Date</th>\n",
       "      <th>close</th>\n",
       "      <th>volume</th>\n",
       "      <th>%D</th>\n",
       "      <th>spread</th>\n",
       "      <th>volatility</th>\n",
       "      <th>close_off_high</th>\n",
       "      <th>EUR/USD_close</th>\n",
       "    </tr>\n",
       "  </thead>\n",
       "  <tbody>\n",
       "    <tr>\n",
       "      <th>0</th>\n",
       "      <td>2017-11-24</td>\n",
       "      <td>0.001502</td>\n",
       "      <td>0.000000</td>\n",
       "      <td>0.518040</td>\n",
       "      <td>0.001022</td>\n",
       "      <td>0.029306</td>\n",
       "      <td>0.999606</td>\n",
       "      <td>0.645889</td>\n",
       "    </tr>\n",
       "    <tr>\n",
       "      <th>1</th>\n",
       "      <td>2017-11-25</td>\n",
       "      <td>0.002203</td>\n",
       "      <td>0.000034</td>\n",
       "      <td>0.634866</td>\n",
       "      <td>0.002088</td>\n",
       "      <td>0.051031</td>\n",
       "      <td>1.000000</td>\n",
       "      <td>0.645889</td>\n",
       "    </tr>\n",
       "    <tr>\n",
       "      <th>2</th>\n",
       "      <td>2017-11-26</td>\n",
       "      <td>0.004202</td>\n",
       "      <td>0.001308</td>\n",
       "      <td>0.752464</td>\n",
       "      <td>0.009129</td>\n",
       "      <td>0.187687</td>\n",
       "      <td>0.993543</td>\n",
       "      <td>0.645889</td>\n",
       "    </tr>\n",
       "    <tr>\n",
       "      <th>3</th>\n",
       "      <td>2017-11-27</td>\n",
       "      <td>0.009045</td>\n",
       "      <td>0.003777</td>\n",
       "      <td>0.823601</td>\n",
       "      <td>0.019906</td>\n",
       "      <td>0.333804</td>\n",
       "      <td>0.988024</td>\n",
       "      <td>0.685035</td>\n",
       "    </tr>\n",
       "    <tr>\n",
       "      <th>4</th>\n",
       "      <td>2017-11-28</td>\n",
       "      <td>0.032532</td>\n",
       "      <td>0.012272</td>\n",
       "      <td>0.851392</td>\n",
       "      <td>0.083214</td>\n",
       "      <td>1.000000</td>\n",
       "      <td>0.978030</td>\n",
       "      <td>0.673386</td>\n",
       "    </tr>\n",
       "    <tr>\n",
       "      <th>5</th>\n",
       "      <td>2017-11-29</td>\n",
       "      <td>0.022334</td>\n",
       "      <td>0.010719</td>\n",
       "      <td>0.762251</td>\n",
       "      <td>0.064893</td>\n",
       "      <td>0.329965</td>\n",
       "      <td>0.895178</td>\n",
       "      <td>0.642704</td>\n",
       "    </tr>\n",
       "    <tr>\n",
       "      <th>6</th>\n",
       "      <td>2017-11-30</td>\n",
       "      <td>0.032579</td>\n",
       "      <td>0.006210</td>\n",
       "      <td>0.755405</td>\n",
       "      <td>0.032778</td>\n",
       "      <td>0.206944</td>\n",
       "      <td>0.984567</td>\n",
       "      <td>0.644827</td>\n",
       "    </tr>\n",
       "    <tr>\n",
       "      <th>7</th>\n",
       "      <td>2017-12-01</td>\n",
       "      <td>0.036474</td>\n",
       "      <td>0.003562</td>\n",
       "      <td>0.750013</td>\n",
       "      <td>0.017718</td>\n",
       "      <td>0.088619</td>\n",
       "      <td>1.000000</td>\n",
       "      <td>0.669793</td>\n",
       "    </tr>\n",
       "    <tr>\n",
       "      <th>8</th>\n",
       "      <td>2017-12-02</td>\n",
       "      <td>0.036814</td>\n",
       "      <td>0.002676</td>\n",
       "      <td>0.872784</td>\n",
       "      <td>0.009129</td>\n",
       "      <td>0.038037</td>\n",
       "      <td>0.988053</td>\n",
       "      <td>0.669793</td>\n",
       "    </tr>\n",
       "    <tr>\n",
       "      <th>9</th>\n",
       "      <td>2017-12-03</td>\n",
       "      <td>0.036629</td>\n",
       "      <td>0.002140</td>\n",
       "      <td>0.906398</td>\n",
       "      <td>0.013670</td>\n",
       "      <td>0.058657</td>\n",
       "      <td>0.986412</td>\n",
       "      <td>0.669793</td>\n",
       "    </tr>\n",
       "  </tbody>\n",
       "</table>\n",
       "</div>"
      ],
      "text/plain": [
       "         Date     close    volume        %D    spread  volatility  \\\n",
       "0  2017-11-24  0.001502  0.000000  0.518040  0.001022    0.029306   \n",
       "1  2017-11-25  0.002203  0.000034  0.634866  0.002088    0.051031   \n",
       "2  2017-11-26  0.004202  0.001308  0.752464  0.009129    0.187687   \n",
       "3  2017-11-27  0.009045  0.003777  0.823601  0.019906    0.333804   \n",
       "4  2017-11-28  0.032532  0.012272  0.851392  0.083214    1.000000   \n",
       "5  2017-11-29  0.022334  0.010719  0.762251  0.064893    0.329965   \n",
       "6  2017-11-30  0.032579  0.006210  0.755405  0.032778    0.206944   \n",
       "7  2017-12-01  0.036474  0.003562  0.750013  0.017718    0.088619   \n",
       "8  2017-12-02  0.036814  0.002676  0.872784  0.009129    0.038037   \n",
       "9  2017-12-03  0.036629  0.002140  0.906398  0.013670    0.058657   \n",
       "\n",
       "   close_off_high  EUR/USD_close  \n",
       "0        0.999606       0.645889  \n",
       "1        1.000000       0.645889  \n",
       "2        0.993543       0.645889  \n",
       "3        0.988024       0.685035  \n",
       "4        0.978030       0.673386  \n",
       "5        0.895178       0.642704  \n",
       "6        0.984567       0.644827  \n",
       "7        1.000000       0.669793  \n",
       "8        0.988053       0.669793  \n",
       "9        0.986412       0.669793  "
      ]
     },
     "execution_count": 54,
     "metadata": {},
     "output_type": "execute_result"
    }
   ],
   "source": [
    "data3.head(10)"
   ]
  },
  {
   "cell_type": "code",
   "execution_count": 55,
   "id": "cf78a7d8",
   "metadata": {
    "scrolled": true
   },
   "outputs": [
    {
     "name": "stdout",
     "output_type": "stream",
     "text": [
      "Total data for prediction:  480\n"
     ]
    }
   ],
   "source": [
    "data3 = data3[(data3['Date'] >= '2021-01-01')]\n",
    "data3.set_index('Date', inplace = True)\n",
    "print(\"Total data for prediction: \",data3.shape[0])"
   ]
  },
  {
   "cell_type": "code",
   "execution_count": 56,
   "id": "f8fef781",
   "metadata": {},
   "outputs": [
    {
     "data": {
      "text/plain": [
       "(480, 7)"
      ]
     },
     "execution_count": 56,
     "metadata": {},
     "output_type": "execute_result"
    }
   ],
   "source": [
    "data3.shape"
   ]
  },
  {
   "cell_type": "code",
   "execution_count": 57,
   "id": "f5908818",
   "metadata": {},
   "outputs": [
    {
     "name": "stdout",
     "output_type": "stream",
     "text": [
      "train_data:  (384, 7)\n",
      "test_data:  (96, 7)\n"
     ]
    }
   ],
   "source": [
    "training_size=int(len(data3)*0.80)\n",
    "test_size=len(data3)-training_size\n",
    "train_data,test_data=data3.iloc[:training_size,:],data3.iloc[training_size:,:]\n",
    "print(\"train_data: \", train_data.shape)\n",
    "print(\"test_data: \", test_data.shape)"
   ]
  },
  {
   "cell_type": "code",
   "execution_count": 58,
   "id": "56340747",
   "metadata": {},
   "outputs": [
    {
     "data": {
      "image/png": "[encoded data removed]",
      "text/plain": [
       "<Figure size 1080x432 with 1 Axes>"
      ]
     },
     "metadata": {
      "needs_background": "light"
     },
     "output_type": "display_data"
    }
   ],
   "source": [
    "data3.reset_index(inplace = True)\n",
    "fig, ax = plt.subplots(figsize=(15, 6))\n",
    "sns.lineplot(x = data3['Date'][:training_size], y = data3['close'][:training_size], color = 'blue')\n",
    "sns.lineplot(x = data3['Date'][training_size:], y = data3['close'][training_size:], color = 'orange')\n",
    "\n",
    "# Formatting\n",
    "ax.set_title('Train & Test data', fontsize = 20, loc='center', fontdict=dict(weight='bold'))\n",
    "ax.set_xlabel('Date', fontsize = 16, fontdict=dict(weight='bold'))\n",
    "ax.set_ylabel('Weekly Sales', fontsize = 16, fontdict=dict(weight='bold'))\n",
    "plt.tick_params(axis='y', which='major', labelsize=16)\n",
    "plt.tick_params(axis='x', which='major', labelsize=5)\n",
    "plt.xticks(rotation = 'vertical')\n",
    "plt.legend(loc='upper right' ,labels = ('train', 'test'))\n",
    "plt.show()"
   ]
  },
  {
   "cell_type": "code",
   "execution_count": 59,
   "id": "dd0b0630",
   "metadata": {},
   "outputs": [],
   "source": [
    "data3.set_index('Date', inplace = True)"
   ]
  },
  {
   "cell_type": "code",
   "execution_count": 60,
   "id": "f282c91e",
   "metadata": {},
   "outputs": [],
   "source": [
    "# convert an array of values into a dataset matrix\n",
    "def create_dataset(dataset, time_step=1):\n",
    "    dataX, dataY = [], []\n",
    "    for i in range(len(dataset)-time_step):\n",
    "        a = dataset.iloc[i:(i+time_step), :]   \n",
    "        dataX.append(a)\n",
    "        dataY.append(dataset.iloc[i + time_step, 0])\n",
    "    return np.array(dataX), np.array(dataY)"
   ]
  },
  {
   "cell_type": "code",
   "execution_count": 61,
   "id": "aeb6c1eb",
   "metadata": {
    "scrolled": true
   },
   "outputs": [
    {
     "name": "stdout",
     "output_type": "stream",
     "text": [
      "X_train:  (377, 7, 7)\n",
      "y_train:  (377,)\n",
      "X_test:  (89, 7, 7)\n",
      "y_test (89,)\n"
     ]
    }
   ],
   "source": [
    "time_step = 7\n",
    "X_train, y_train = create_dataset(train_data, time_step)\n",
    "X_test, y_test = create_dataset(test_data, time_step)\n",
    "\n",
    "print(\"X_train: \", X_train.shape)\n",
    "print(\"y_train: \", y_train.shape)\n",
    "print(\"X_test: \", X_test.shape)\n",
    "print(\"y_test\", y_test.shape)"
   ]
  },
  {
   "cell_type": "code",
   "execution_count": 62,
   "id": "73a5548c",
   "metadata": {},
   "outputs": [],
   "source": [
    "nsamples, nx, ny = X_train.shape\n",
    "X_train = X_train.reshape((nsamples,nx*ny))\n",
    "\n",
    "nsamples, nx, ny = X_test.shape\n",
    "X_test = X_test.reshape((nsamples,nx*ny))"
   ]
  },
  {
   "cell_type": "code",
   "execution_count": 63,
   "id": "d477670d",
   "metadata": {},
   "outputs": [
    {
     "data": {
      "text/plain": [
       "XGBRegressor(base_score=0.5, booster='gbtree', callbacks=None,\n",
       "             colsample_bylevel=1, colsample_bynode=1, colsample_bytree=1,\n",
       "             early_stopping_rounds=None, enable_categorical=False, eta=0.01,\n",
       "             eval_metric=None, gamma=0, gpu_id=-1, grow_policy='depthwise',\n",
       "             importance_type=None, interaction_constraints='',\n",
       "             learning_rate=0.05, max_bin=256, max_cat_to_onehot=4,\n",
       "             max_delta_step=0, max_depth=2, max_leaves=0, min_child_weight=1,\n",
       "             missing=nan, monotone_constraints='()', n_estimators=1000,\n",
       "             n_jobs=0, num_parallel_tree=1, predictor='auto', random_state=1,\n",
       "             reg_alpha=0, ...)"
      ]
     },
     "execution_count": 63,
     "metadata": {},
     "output_type": "execute_result"
    }
   ],
   "source": [
    "model3 = XGBRegressor(n_estimators=1000, random_state = 1, max_depth=2, eta = 0.01, learning_rate = 0.05)\n",
    "model3.fit(X_train, y_train)"
   ]
  },
  {
   "cell_type": "code",
   "execution_count": 64,
   "id": "d9ed2dea",
   "metadata": {},
   "outputs": [],
   "source": [
    "predictions = model3.predict(X_test).reshape(-1,1)\n",
    "y_test = y_test.reshape(-1,1)\n",
    "\n",
    "predictions_train = model3.predict(X_train).reshape(-1,1)\n",
    "y_train = y_train.reshape(-1,1)"
   ]
  },
  {
   "cell_type": "code",
   "execution_count": 65,
   "id": "2e9baab6",
   "metadata": {},
   "outputs": [
    {
     "data": {
      "text/html": [
       "<div>\n",
       "<style scoped>\n",
       "    .dataframe tbody tr th:only-of-type {\n",
       "        vertical-align: middle;\n",
       "    }\n",
       "\n",
       "    .dataframe tbody tr th {\n",
       "        vertical-align: top;\n",
       "    }\n",
       "\n",
       "    .dataframe thead th {\n",
       "        text-align: right;\n",
       "    }\n",
       "</style>\n",
       "<table border=\"1\" class=\"dataframe\">\n",
       "  <thead>\n",
       "    <tr style=\"text-align: right;\">\n",
       "      <th></th>\n",
       "      <th>y_test</th>\n",
       "      <th>Predictions</th>\n",
       "      <th>Date</th>\n",
       "    </tr>\n",
       "  </thead>\n",
       "  <tbody>\n",
       "    <tr>\n",
       "      <th>84</th>\n",
       "      <td>0.301097</td>\n",
       "      <td>0.374857</td>\n",
       "      <td>2022-04-21</td>\n",
       "    </tr>\n",
       "    <tr>\n",
       "      <th>85</th>\n",
       "      <td>0.299969</td>\n",
       "      <td>0.343088</td>\n",
       "      <td>2022-04-22</td>\n",
       "    </tr>\n",
       "    <tr>\n",
       "      <th>86</th>\n",
       "      <td>0.293635</td>\n",
       "      <td>0.332447</td>\n",
       "      <td>2022-04-23</td>\n",
       "    </tr>\n",
       "    <tr>\n",
       "      <th>87</th>\n",
       "      <td>0.292903</td>\n",
       "      <td>0.322872</td>\n",
       "      <td>2022-04-24</td>\n",
       "    </tr>\n",
       "    <tr>\n",
       "      <th>88</th>\n",
       "      <td>0.297096</td>\n",
       "      <td>0.315270</td>\n",
       "      <td>2022-04-25</td>\n",
       "    </tr>\n",
       "  </tbody>\n",
       "</table>\n",
       "</div>"
      ],
      "text/plain": [
       "      y_test  Predictions       Date\n",
       "84  0.301097     0.374857 2022-04-21\n",
       "85  0.299969     0.343088 2022-04-22\n",
       "86  0.293635     0.332447 2022-04-23\n",
       "87  0.292903     0.322872 2022-04-24\n",
       "88  0.297096     0.315270 2022-04-25"
      ]
     },
     "execution_count": 65,
     "metadata": {},
     "output_type": "execute_result"
    }
   ],
   "source": [
    "results2 = np.concatenate((y_test, predictions), axis = 1)\n",
    "results2 = pd.DataFrame(results2, columns = ['y_test', 'Predictions'])\n",
    "a = data3['close'].tail(len(y_test))\n",
    "a = list(a.index)\n",
    "results2['Date'] = a\n",
    "results2['Date'] = pd.to_datetime(results2['Date'])\n",
    "results2.tail()"
   ]
  },
  {
   "cell_type": "code",
   "execution_count": 66,
   "id": "cf0d4173",
   "metadata": {},
   "outputs": [
    {
     "data": {
      "image/png": "[encoded data removed]",
      "text/plain": [
       "<Figure size 960x640 with 1 Axes>"
      ]
     },
     "metadata": {
      "needs_background": "light"
     },
     "output_type": "display_data"
    }
   ],
   "source": [
    "plt.figure(figsize = (12,8), dpi = 80 )\n",
    "plt.plot(results2['Date'], results2['y_test'], 'b', label = 'y_test')\n",
    "plt.plot(results2['Date'], results2['Predictions'], 'r', label = 'Predictions')\n",
    "plt.title ('Predictions vs Real Values of Test Data (cryptocurrency: ADA)', fontsize = 16, )\n",
    "plt.xlabel('Date', fontsize = 14)\n",
    "plt.ylabel('Price', fontsize = 14)\n",
    "plt.legend()\n",
    "\n",
    "plt.show()"
   ]
  },
  {
   "cell_type": "code",
   "execution_count": 67,
   "id": "05bf351b",
   "metadata": {
    "scrolled": true
   },
   "outputs": [
    {
     "name": "stdout",
     "output_type": "stream",
     "text": [
      "Train data MSE:  4.1182550277705855e-05\n",
      "Mean Absolute Error - MAE : 0.004893010343870912\n",
      "Root Mean squared Error - RMSE : 0.0064173631872994265\n",
      "R^2 Score 0.9989480347459933\n",
      "--------------------------------------------------------------\n",
      "Test data MSE:  0.0016460092036875364\n",
      "Mean Absolute Error - MAE : 0.03577485520892204\n",
      "Root Mean squared Error - RMSE : 0.040571038977176024\n",
      "R^2 Score 0.0813101218975878\n"
     ]
    }
   ],
   "source": [
    "print(\"Train data MSE: \", mean_squared_error(y_train,predictions_train))\n",
    "print(\"Mean Absolute Error - MAE : \" + str(mean_absolute_error(y_train, predictions_train)))\n",
    "print(\"Root Mean squared Error - RMSE : \" + str(math.sqrt(mean_squared_error(y_train, predictions_train))))\n",
    "print('R^2 Score', r2_score(y_train, predictions_train))\n",
    "\n",
    "print (\"--------------------------------------------------------------\")\n",
    "print(\"Test data MSE: \", mean_squared_error(y_test,predictions))\n",
    "print(\"Mean Absolute Error - MAE : \" + str(mean_absolute_error(y_test, predictions)))\n",
    "print(\"Root Mean squared Error - RMSE : \" + str(math.sqrt(mean_squared_error(y_test, predictions))))\n",
    "print('R^2 Score', r2_score(y_test, predictions))"
   ]
  },
  {
   "cell_type": "markdown",
   "id": "b2f33333",
   "metadata": {},
   "source": [
    "# ADA - since January 2022  <a name=\"jan2022\"></a>"
   ]
  },
  {
   "cell_type": "markdown",
   "id": "7d5faeee",
   "metadata": {},
   "source": [
    "# Model 1: LSTM <a name=\"lstm3\"></a>"
   ]
  },
  {
   "cell_type": "code",
   "execution_count": 68,
   "id": "2c26673f",
   "metadata": {},
   "outputs": [
    {
     "name": "stdout",
     "output_type": "stream",
     "text": [
      "Total data for prediction:  115\n"
     ]
    }
   ],
   "source": [
    "data4 = ada.copy()\n",
    "data4.reset_index(inplace = True)\n",
    "data4 = data4[data4['Date'] >= '2022-01-01']\n",
    "data4.set_index('Date', inplace = True)\n",
    "print(\"Total data for prediction: \",data4.shape[0])"
   ]
  },
  {
   "cell_type": "code",
   "execution_count": 69,
   "id": "5b3c778c",
   "metadata": {},
   "outputs": [],
   "source": [
    "hist = []\n",
    "target = []\n",
    "length = 7\n",
    "\n",
    "for i in range(len(data4)-length):\n",
    "    t = data4['close']\n",
    "    v = data4[['close','volume', 'spread', 'volatility', 'close_off_high', 'EUR/USD_close']]\n",
    "    x = v[i:i+length]\n",
    "    y = t[i+length]\n",
    "    hist.append(x)\n",
    "    target.append(y)"
   ]
  },
  {
   "cell_type": "code",
   "execution_count": 70,
   "id": "f254c217",
   "metadata": {},
   "outputs": [
    {
     "name": "stdout",
     "output_type": "stream",
     "text": [
      "7\n",
      "108\n",
      "108\n"
     ]
    }
   ],
   "source": [
    "print(len(hist[0]))\n",
    "print(len(hist))\n",
    "print(len(target))"
   ]
  },
  {
   "cell_type": "code",
   "execution_count": 71,
   "id": "3671c796",
   "metadata": {},
   "outputs": [],
   "source": [
    "#convert list to array\n",
    "hist = np.array(hist)\n",
    "target = np.array(target)"
   ]
  },
  {
   "cell_type": "code",
   "execution_count": 72,
   "id": "56c934f1",
   "metadata": {},
   "outputs": [
    {
     "data": {
      "text/plain": [
       "(108, 1)"
      ]
     },
     "execution_count": 72,
     "metadata": {},
     "output_type": "execute_result"
    }
   ],
   "source": [
    "target = target.reshape(-1,1)\n",
    "target.shape"
   ]
  },
  {
   "cell_type": "code",
   "execution_count": 73,
   "id": "f85c3825",
   "metadata": {},
   "outputs": [],
   "source": [
    "training_size = int(len(data4)*0.8)\n",
    "\n",
    "X_train = hist[:training_size,:]\n",
    "X_test = hist[training_size:,:]\n",
    "\n",
    "y_train = target[:training_size]\n",
    "y_test = target[training_size:]"
   ]
  },
  {
   "cell_type": "code",
   "execution_count": 74,
   "id": "efc29939",
   "metadata": {},
   "outputs": [
    {
     "data": {
      "text/plain": [
       "(92, 7, 6)"
      ]
     },
     "execution_count": 74,
     "metadata": {},
     "output_type": "execute_result"
    }
   ],
   "source": [
    "X_train.shape"
   ]
  },
  {
   "cell_type": "code",
   "execution_count": 75,
   "id": "37202683",
   "metadata": {},
   "outputs": [
    {
     "name": "stdout",
     "output_type": "stream",
     "text": [
      "Model: \"sequential_2\"\n",
      "_________________________________________________________________\n",
      " Layer (type)                Output Shape              Param #   \n",
      "=================================================================\n",
      " lstm_6 (LSTM)               (None, 7, 20)             2160      \n",
      "                                                                 \n",
      " lstm_7 (LSTM)               (None, 7, 32)             6784      \n",
      "                                                                 \n",
      " lstm_8 (LSTM)               (None, 32)                8320      \n",
      "                                                                 \n",
      " dense_2 (Dense)             (None, 1)                 33        \n",
      "                                                                 \n",
      "=================================================================\n",
      "Total params: 17,297\n",
      "Trainable params: 17,297\n",
      "Non-trainable params: 0\n",
      "_________________________________________________________________\n"
     ]
    }
   ],
   "source": [
    "model4 = tf.keras.Sequential()\n",
    "\n",
    "model4.add(layers.LSTM(units=20, activation = 'relu', return_sequences=True,\n",
    "                  input_shape=(7,6), dropout = 0.2))\n",
    "\n",
    "model4.add(layers.LSTM(units=32, return_sequences=True,\n",
    "                  dropout=0.2))\n",
    "\n",
    "model4.add(layers.LSTM(units=32, activation = 'relu', dropout=0.2))\n",
    "\n",
    "#model.add(layers.LSTM(units=55, return_sequences = True, dropout = 0.2))\n",
    "\n",
    "#model.add(layers.LSTM(units = 80, activation = 'relu', dropout = 0.2))\n",
    "\n",
    "model4.add(layers.Dense(units=1))\n",
    "\n",
    "model4.summary()"
   ]
  },
  {
   "cell_type": "code",
   "execution_count": 76,
   "id": "a4e6950c",
   "metadata": {},
   "outputs": [],
   "source": [
    "model4.compile(optimizer='adam', loss='mean_squared_error')"
   ]
  },
  {
   "cell_type": "code",
   "execution_count": 77,
   "id": "09d21824",
   "metadata": {},
   "outputs": [
    {
     "name": "stdout",
     "output_type": "stream",
     "text": [
      "Epoch 1/30\n",
      "3/3 [==============================] - 5s 327ms/step - loss: 0.1152 - val_loss: 0.1133\n",
      "Epoch 2/30\n",
      "3/3 [==============================] - 0s 27ms/step - loss: 0.0922 - val_loss: 0.0921\n",
      "Epoch 3/30\n",
      "3/3 [==============================] - 0s 26ms/step - loss: 0.0735 - val_loss: 0.0718\n",
      "Epoch 4/30\n",
      "3/3 [==============================] - 0s 28ms/step - loss: 0.0545 - val_loss: 0.0511\n",
      "Epoch 5/30\n",
      "3/3 [==============================] - 0s 28ms/step - loss: 0.0367 - val_loss: 0.0307\n",
      "Epoch 6/30\n",
      "3/3 [==============================] - 0s 23ms/step - loss: 0.0199 - val_loss: 0.0129\n",
      "Epoch 7/30\n",
      "3/3 [==============================] - 0s 25ms/step - loss: 0.0084 - val_loss: 0.0022\n",
      "Epoch 8/30\n",
      "3/3 [==============================] - 0s 28ms/step - loss: 0.0071 - val_loss: 4.7973e-04\n",
      "Epoch 9/30\n",
      "3/3 [==============================] - 0s 31ms/step - loss: 0.0086 - val_loss: 4.7278e-04\n",
      "Epoch 10/30\n",
      "3/3 [==============================] - 0s 24ms/step - loss: 0.0076 - val_loss: 0.0014\n",
      "Epoch 11/30\n",
      "3/3 [==============================] - 0s 23ms/step - loss: 0.0045 - val_loss: 0.0044\n",
      "Epoch 12/30\n",
      "3/3 [==============================] - 0s 25ms/step - loss: 0.0048 - val_loss: 0.0073\n",
      "Epoch 13/30\n",
      "3/3 [==============================] - 0s 27ms/step - loss: 0.0059 - val_loss: 0.0087\n",
      "Epoch 14/30\n",
      "3/3 [==============================] - 0s 30ms/step - loss: 0.0058 - val_loss: 0.0084\n",
      "Epoch 15/30\n",
      "3/3 [==============================] - 0s 40ms/step - loss: 0.0055 - val_loss: 0.0071\n",
      "Epoch 16/30\n",
      "3/3 [==============================] - 0s 30ms/step - loss: 0.0048 - val_loss: 0.0057\n",
      "Epoch 17/30\n",
      "3/3 [==============================] - 0s 41ms/step - loss: 0.0042 - val_loss: 0.0044\n",
      "Epoch 18/30\n",
      "3/3 [==============================] - 0s 60ms/step - loss: 0.0041 - val_loss: 0.0035\n",
      "Epoch 19/30\n",
      "3/3 [==============================] - 0s 33ms/step - loss: 0.0041 - val_loss: 0.0031\n",
      "Epoch 20/30\n",
      "3/3 [==============================] - 0s 41ms/step - loss: 0.0040 - val_loss: 0.0033\n",
      "Epoch 21/30\n",
      "3/3 [==============================] - 0s 36ms/step - loss: 0.0048 - val_loss: 0.0038\n",
      "Epoch 22/30\n",
      "3/3 [==============================] - 0s 33ms/step - loss: 0.0040 - val_loss: 0.0045\n",
      "Epoch 23/30\n",
      "3/3 [==============================] - 0s 41ms/step - loss: 0.0030 - val_loss: 0.0051\n",
      "Epoch 24/30\n",
      "3/3 [==============================] - 0s 34ms/step - loss: 0.0044 - val_loss: 0.0056\n",
      "Epoch 25/30\n",
      "3/3 [==============================] - 0s 29ms/step - loss: 0.0034 - val_loss: 0.0058\n",
      "Epoch 26/30\n",
      "3/3 [==============================] - 0s 30ms/step - loss: 0.0040 - val_loss: 0.0058\n",
      "Epoch 27/30\n",
      "3/3 [==============================] - 0s 30ms/step - loss: 0.0035 - val_loss: 0.0056\n",
      "Epoch 28/30\n",
      "3/3 [==============================] - 0s 29ms/step - loss: 0.0036 - val_loss: 0.0050\n",
      "Epoch 29/30\n",
      "3/3 [==============================] - 0s 35ms/step - loss: 0.0038 - val_loss: 0.0045\n",
      "Epoch 30/30\n",
      "3/3 [==============================] - 0s 33ms/step - loss: 0.0028 - val_loss: 0.0043\n"
     ]
    }
   ],
   "source": [
    "history = model4.fit(X_train, y_train, epochs=30, batch_size=32, validation_split=0.2, shuffle = False)"
   ]
  },
  {
   "cell_type": "code",
   "execution_count": 78,
   "id": "1bcc185d",
   "metadata": {},
   "outputs": [
    {
     "data": {
      "image/png": "[encoded data removed]",
      "text/plain": [
       "<Figure size 864x576 with 1 Axes>"
      ]
     },
     "metadata": {
      "needs_background": "light"
     },
     "output_type": "display_data"
    }
   ],
   "source": [
    "loss = history.history['loss']\n",
    "val_loss = history.history['val_loss']\n",
    "epoch_count = range(len(loss))\n",
    "plt.figure(figsize=(12,8))\n",
    "plt.plot(epoch_count, loss, 'r', label='Training loss')\n",
    "plt.plot(epoch_count, val_loss, 'b', label='Validation loss')\n",
    "plt.legend(['Training Loss','Validation Loss'])\n",
    "plt.xlabel('Epoch')\n",
    "plt.ylabel('Loss')\n",
    "plt.show();"
   ]
  },
  {
   "cell_type": "code",
   "execution_count": 79,
   "id": "36cb8b49",
   "metadata": {},
   "outputs": [],
   "source": [
    "pred_test = model4.predict(X_test)\n",
    "pred_train = model4.predict (X_train)"
   ]
  },
  {
   "cell_type": "code",
   "execution_count": 80,
   "id": "1c911f81",
   "metadata": {},
   "outputs": [
    {
     "data": {
      "text/html": [
       "<div>\n",
       "<style scoped>\n",
       "    .dataframe tbody tr th:only-of-type {\n",
       "        vertical-align: middle;\n",
       "    }\n",
       "\n",
       "    .dataframe tbody tr th {\n",
       "        vertical-align: top;\n",
       "    }\n",
       "\n",
       "    .dataframe thead th {\n",
       "        text-align: right;\n",
       "    }\n",
       "</style>\n",
       "<table border=\"1\" class=\"dataframe\">\n",
       "  <thead>\n",
       "    <tr style=\"text-align: right;\">\n",
       "      <th></th>\n",
       "      <th>y_test</th>\n",
       "      <th>Predictions</th>\n",
       "      <th>Date</th>\n",
       "    </tr>\n",
       "  </thead>\n",
       "  <tbody>\n",
       "    <tr>\n",
       "      <th>11</th>\n",
       "      <td>0.301097</td>\n",
       "      <td>0.292072</td>\n",
       "      <td>2022-04-21</td>\n",
       "    </tr>\n",
       "    <tr>\n",
       "      <th>12</th>\n",
       "      <td>0.299969</td>\n",
       "      <td>0.291666</td>\n",
       "      <td>2022-04-22</td>\n",
       "    </tr>\n",
       "    <tr>\n",
       "      <th>13</th>\n",
       "      <td>0.293635</td>\n",
       "      <td>0.290891</td>\n",
       "      <td>2022-04-23</td>\n",
       "    </tr>\n",
       "    <tr>\n",
       "      <th>14</th>\n",
       "      <td>0.292903</td>\n",
       "      <td>0.290375</td>\n",
       "      <td>2022-04-24</td>\n",
       "    </tr>\n",
       "    <tr>\n",
       "      <th>15</th>\n",
       "      <td>0.297096</td>\n",
       "      <td>0.291155</td>\n",
       "      <td>2022-04-25</td>\n",
       "    </tr>\n",
       "  </tbody>\n",
       "</table>\n",
       "</div>"
      ],
      "text/plain": [
       "      y_test  Predictions       Date\n",
       "11  0.301097     0.292072 2022-04-21\n",
       "12  0.299969     0.291666 2022-04-22\n",
       "13  0.293635     0.290891 2022-04-23\n",
       "14  0.292903     0.290375 2022-04-24\n",
       "15  0.297096     0.291155 2022-04-25"
      ]
     },
     "execution_count": 80,
     "metadata": {},
     "output_type": "execute_result"
    }
   ],
   "source": [
    "results = np.concatenate((y_test, pred_test), axis=1)\n",
    "results = pd.DataFrame(results, columns = ['y_test', 'Predictions'])\n",
    "a = data4['close'].tail(len(pred_test))\n",
    "a = list(a.index)\n",
    "results['Date'] = a\n",
    "results['Date'] = pd.to_datetime(results['Date'])\n",
    "results.tail()"
   ]
  },
  {
   "cell_type": "code",
   "execution_count": 81,
   "id": "4f8a42ee",
   "metadata": {},
   "outputs": [
    {
     "data": {
      "image/png": "[encoded data removed]",
      "text/plain": [
       "<Figure size 960x640 with 1 Axes>"
      ]
     },
     "metadata": {
      "needs_background": "light"
     },
     "output_type": "display_data"
    }
   ],
   "source": [
    "plt.figure(figsize = (12,8), dpi = 80)\n",
    "plt.plot(results['Date'], results['y_test'], 'b', label = 'y_test')\n",
    "plt.plot(results['Date'], results['Predictions'], 'r', label = 'Predictions')\n",
    "plt.title ('Predictions vs Real Values of Test Data (cryptocurrency: ADA)', fontsize = 16, )\n",
    "plt.xlabel('Date', fontsize = 14)\n",
    "plt.ylabel('Price', fontsize = 14)\n",
    "plt.legend()\n",
    "\n",
    "plt.show()"
   ]
  },
  {
   "cell_type": "code",
   "execution_count": 82,
   "id": "fa35cd86",
   "metadata": {},
   "outputs": [
    {
     "name": "stdout",
     "output_type": "stream",
     "text": [
      "Train data RMSE:  0.05483582360335767\n",
      "Train data MSE:  0.0030069675502585576\n",
      "Train data MAE:  0.043853270928265006\n",
      "-------------------------------------------------------------------------------------\n",
      "Test data RMSE:  0.017729463749487664\n",
      "Test data MSE:  0.0003143338848443972\n",
      "Test data MAE:  0.014999189289730389\n"
     ]
    }
   ],
   "source": [
    "# Evaluation metrices RMSE and MAE\n",
    "print(\"Train data RMSE: \", math.sqrt(mean_squared_error(y_train,pred_train)))\n",
    "print(\"Train data MSE: \", mean_squared_error(y_train,pred_train))\n",
    "print(\"Train data MAE: \", mean_absolute_error(y_train,pred_train))\n",
    "print(\"-------------------------------------------------------------------------------------\")\n",
    "print(\"Test data RMSE: \", math.sqrt(mean_squared_error(y_test,pred_test)))\n",
    "print(\"Test data MSE: \", mean_squared_error(y_test,pred_test))\n",
    "print(\"Test data MAE: \", mean_absolute_error(y_test,pred_test))"
   ]
  },
  {
   "cell_type": "code",
   "execution_count": 83,
   "id": "62416aab",
   "metadata": {
    "scrolled": true
   },
   "outputs": [
    {
     "name": "stdout",
     "output_type": "stream",
     "text": [
      "Train data R2 score: 0.030482873188521054\n",
      "Test data R2 score: -1.1832877224234184\n"
     ]
    }
   ],
   "source": [
    "print(\"Train data R2 score:\", r2_score(y_train, pred_train))\n",
    "print(\"Test data R2 score:\", r2_score(y_test, pred_test))"
   ]
  },
  {
   "cell_type": "markdown",
   "id": "a5589e1c",
   "metadata": {},
   "source": [
    "# Model 2: XGBoost Regressor   <a name=\"xgboost3\"></a>"
   ]
  },
  {
   "cell_type": "code",
   "execution_count": 84,
   "id": "68d92d22",
   "metadata": {},
   "outputs": [
    {
     "name": "stdout",
     "output_type": "stream",
     "text": [
      "Total data for prediction:  115\n"
     ]
    }
   ],
   "source": [
    "data5= ada.copy()\n",
    "data5.reset_index(inplace = True)\n",
    "data5 = data5[data5['Date'] >= '2022-01-01']\n",
    "data5.set_index('Date', inplace = True)\n",
    "print(\"Total data for prediction: \",data5.shape[0])"
   ]
  },
  {
   "cell_type": "code",
   "execution_count": 85,
   "id": "2a7d472b",
   "metadata": {},
   "outputs": [
    {
     "name": "stdout",
     "output_type": "stream",
     "text": [
      "train_data:  (92, 7)\n",
      "test_data:  (23, 7)\n"
     ]
    }
   ],
   "source": [
    "training_size=int(len(data5)*0.80)\n",
    "test_size=len(data5)-training_size\n",
    "train_data,test_data=data5.iloc[:training_size,:],data5.iloc[training_size:,:]\n",
    "print(\"train_data: \", train_data.shape)\n",
    "print(\"test_data: \", test_data.shape)"
   ]
  },
  {
   "cell_type": "code",
   "execution_count": 86,
   "id": "68f0a09f",
   "metadata": {
    "scrolled": true
   },
   "outputs": [
    {
     "data": {
      "image/png": "[encoded data removed]",
      "text/plain": [
       "<Figure size 1080x432 with 1 Axes>"
      ]
     },
     "metadata": {
      "needs_background": "light"
     },
     "output_type": "display_data"
    }
   ],
   "source": [
    "data5.reset_index(inplace = True)\n",
    "fig, ax = plt.subplots(figsize=(15, 6))\n",
    "sns.lineplot(x = data5['Date'][:training_size], y = data5['close'][:training_size], color = 'blue')\n",
    "sns.lineplot(x = data5['Date'][training_size:], y = data5['close'][training_size:], color = 'orange')\n",
    "\n",
    "# Formatting\n",
    "ax.set_title('Train & Test data', fontsize = 20, loc='center', fontdict=dict(weight='bold'))\n",
    "ax.set_xlabel('Date', fontsize = 16, fontdict=dict(weight='bold'))\n",
    "ax.set_ylabel('Weekly Sales', fontsize = 16, fontdict=dict(weight='bold'))\n",
    "plt.tick_params(axis='y', which='major', labelsize=16)\n",
    "plt.tick_params(axis='x', which='major', labelsize=5)\n",
    "plt.xticks(rotation = 'vertical')\n",
    "plt.legend(loc='upper right' ,labels = ('train', 'test'))\n",
    "plt.show()"
   ]
  },
  {
   "cell_type": "code",
   "execution_count": 87,
   "id": "2d760131",
   "metadata": {},
   "outputs": [],
   "source": [
    "data5.set_index('Date', inplace = True)"
   ]
  },
  {
   "cell_type": "code",
   "execution_count": 88,
   "id": "55424599",
   "metadata": {},
   "outputs": [],
   "source": [
    "# convert an array of values into a dataset matrix\n",
    "def create_dataset(dataset, time_step=1):\n",
    "    dataX, dataY = [], []\n",
    "    for i in range(len(dataset)-time_step-1):\n",
    "        a = dataset.iloc[i:(i+time_step), :]   \n",
    "        dataX.append(a)\n",
    "        dataY.append(dataset.iloc[i + time_step, 0])\n",
    "    return np.array(dataX), np.array(dataY)"
   ]
  },
  {
   "cell_type": "code",
   "execution_count": 89,
   "id": "58549aeb",
   "metadata": {},
   "outputs": [
    {
     "name": "stdout",
     "output_type": "stream",
     "text": [
      "X_train:  (84, 7, 7)\n",
      "y_train:  (84,)\n",
      "X_test:  (15, 7, 7)\n",
      "y_test (15,)\n"
     ]
    }
   ],
   "source": [
    "time_step = 7\n",
    "X_train, y_train = create_dataset(train_data, time_step)\n",
    "X_test, y_test = create_dataset(test_data, time_step)\n",
    "\n",
    "print(\"X_train: \", X_train.shape)\n",
    "print(\"y_train: \", y_train.shape)\n",
    "print(\"X_test: \", X_test.shape)\n",
    "print(\"y_test\", y_test.shape)"
   ]
  },
  {
   "cell_type": "code",
   "execution_count": 90,
   "id": "73a5548c",
   "metadata": {},
   "outputs": [],
   "source": [
    "nsamples, nx, ny = X_train.shape\n",
    "X_train = X_train.reshape((nsamples,nx*ny))\n",
    "\n",
    "nsamples, nx, ny = X_test.shape\n",
    "X_test = X_test.reshape((nsamples,nx*ny))"
   ]
  },
  {
   "cell_type": "code",
   "execution_count": 91,
   "id": "017f9d78",
   "metadata": {},
   "outputs": [
    {
     "data": {
      "text/plain": [
       "XGBRegressor(base_score=0.5, booster='gbtree', callbacks=None,\n",
       "             colsample_bylevel=1, colsample_bynode=1, colsample_bytree=1,\n",
       "             early_stopping_rounds=None, enable_categorical=False, eta=0.2,\n",
       "             eval_metric=None, gamma=0, gpu_id=-1, grow_policy='depthwise',\n",
       "             importance_type=None, interaction_constraints='',\n",
       "             learning_rate=0.200000003, max_bin=256, max_cat_to_onehot=4,\n",
       "             max_delta_step=0, max_depth=6, max_leaves=0, min_child_weight=1,\n",
       "             missing=nan, monotone_constraints='()', n_estimators=1000,\n",
       "             n_jobs=0, num_parallel_tree=1, predictor='auto', random_state=1,\n",
       "             reg_alpha=0, ...)"
      ]
     },
     "execution_count": 91,
     "metadata": {},
     "output_type": "execute_result"
    }
   ],
   "source": [
    "model5 = XGBRegressor(n_estimators=1000, random_state = 1, eta = 0.2)\n",
    "model5.fit(X_train, y_train)"
   ]
  },
  {
   "cell_type": "code",
   "execution_count": 92,
   "id": "d9ed2dea",
   "metadata": {},
   "outputs": [],
   "source": [
    "predictions = model5.predict(X_test).reshape(-1,1)\n",
    "y_test = y_test.reshape(-1,1)\n",
    "\n",
    "\n",
    "predictions_train = model5.predict(X_train).reshape(-1,1)\n",
    "y_train = y_train.reshape(-1,1)"
   ]
  },
  {
   "cell_type": "code",
   "execution_count": 93,
   "id": "2e9baab6",
   "metadata": {},
   "outputs": [
    {
     "data": {
      "text/html": [
       "<div>\n",
       "<style scoped>\n",
       "    .dataframe tbody tr th:only-of-type {\n",
       "        vertical-align: middle;\n",
       "    }\n",
       "\n",
       "    .dataframe tbody tr th {\n",
       "        vertical-align: top;\n",
       "    }\n",
       "\n",
       "    .dataframe thead th {\n",
       "        text-align: right;\n",
       "    }\n",
       "</style>\n",
       "<table border=\"1\" class=\"dataframe\">\n",
       "  <thead>\n",
       "    <tr style=\"text-align: right;\">\n",
       "      <th></th>\n",
       "      <th>y_test</th>\n",
       "      <th>Predictions</th>\n",
       "      <th>Date</th>\n",
       "    </tr>\n",
       "  </thead>\n",
       "  <tbody>\n",
       "    <tr>\n",
       "      <th>10</th>\n",
       "      <td>0.310222</td>\n",
       "      <td>0.315433</td>\n",
       "      <td>2022-04-21</td>\n",
       "    </tr>\n",
       "    <tr>\n",
       "      <th>11</th>\n",
       "      <td>0.301097</td>\n",
       "      <td>0.317212</td>\n",
       "      <td>2022-04-22</td>\n",
       "    </tr>\n",
       "    <tr>\n",
       "      <th>12</th>\n",
       "      <td>0.299969</td>\n",
       "      <td>0.306884</td>\n",
       "      <td>2022-04-23</td>\n",
       "    </tr>\n",
       "    <tr>\n",
       "      <th>13</th>\n",
       "      <td>0.293635</td>\n",
       "      <td>0.288256</td>\n",
       "      <td>2022-04-24</td>\n",
       "    </tr>\n",
       "    <tr>\n",
       "      <th>14</th>\n",
       "      <td>0.292903</td>\n",
       "      <td>0.293839</td>\n",
       "      <td>2022-04-25</td>\n",
       "    </tr>\n",
       "  </tbody>\n",
       "</table>\n",
       "</div>"
      ],
      "text/plain": [
       "      y_test  Predictions       Date\n",
       "10  0.310222     0.315433 2022-04-21\n",
       "11  0.301097     0.317212 2022-04-22\n",
       "12  0.299969     0.306884 2022-04-23\n",
       "13  0.293635     0.288256 2022-04-24\n",
       "14  0.292903     0.293839 2022-04-25"
      ]
     },
     "execution_count": 93,
     "metadata": {},
     "output_type": "execute_result"
    }
   ],
   "source": [
    "results2 = np.concatenate((y_test, predictions), axis = 1)\n",
    "results2 = pd.DataFrame(results2, columns = ['y_test', 'Predictions'])\n",
    "a = data5['close'].tail(len(predictions))\n",
    "a = list(a.index)\n",
    "results2['Date'] = a\n",
    "results2['Date'] = pd.to_datetime(results2['Date'])\n",
    "results2.tail()"
   ]
  },
  {
   "cell_type": "code",
   "execution_count": 94,
   "id": "cf0d4173",
   "metadata": {
    "scrolled": true
   },
   "outputs": [
    {
     "data": {
      "image/png": "[encoded data removed]",
      "text/plain": [
       "<Figure size 960x640 with 1 Axes>"
      ]
     },
     "metadata": {
      "needs_background": "light"
     },
     "output_type": "display_data"
    }
   ],
   "source": [
    "plt.figure(figsize = (12,8), dpi = 80 )\n",
    "plt.plot(results2['Date'], results2['y_test'], 'b', label = 'y_test')\n",
    "plt.plot(results2['Date'], results2['Predictions'], 'r', label = 'Predictions')\n",
    "plt.title ('Predictions vs Real Values of Test Data (cryptocurrency: ADA)', fontsize = 16, )\n",
    "plt.xlabel('Date', fontsize = 14)\n",
    "plt.ylabel('Price', fontsize = 14)\n",
    "plt.legend()\n",
    "\n",
    "plt.show()"
   ]
  },
  {
   "cell_type": "code",
   "execution_count": 95,
   "id": "c0c0be71",
   "metadata": {},
   "outputs": [
    {
     "name": "stdout",
     "output_type": "stream",
     "text": [
      "Train data MSE:  1.7384579154953016e-07\n",
      "Mean Absolute Error - MAE : 0.0003150583232292783\n",
      "Root Mean squared Error - RMSE : 0.000416948188087597\n",
      "R^2 Score 0.9999471841785492\n",
      "--------------------------------------------------------------\n",
      "Test data MSE:  0.00033713762191426715\n",
      "Mean Absolute Error - MAE : 0.012992152385746062\n",
      "Root Mean squared Error - RMSE : 0.018361307739762633\n",
      "R^2 Score -1.3597433098263187\n"
     ]
    }
   ],
   "source": [
    "print(\"Train data MSE: \", mean_squared_error(y_train,predictions_train))\n",
    "print(\"Mean Absolute Error - MAE : \" + str(mean_absolute_error(y_train, predictions_train)))\n",
    "print(\"Root Mean squared Error - RMSE : \" + str(math.sqrt(mean_squared_error(y_train, predictions_train))))\n",
    "print('R^2 Score', r2_score(y_train, predictions_train))\n",
    "\n",
    "print (\"--------------------------------------------------------------\")\n",
    "print(\"Test data MSE: \", mean_squared_error(y_test,predictions))\n",
    "print(\"Mean Absolute Error - MAE : \" + str(mean_absolute_error(y_test, predictions)))\n",
    "print(\"Root Mean squared Error - RMSE : \" + str(math.sqrt(mean_squared_error(y_test, predictions))))\n",
    "print('R^2 Score', r2_score(y_test, predictions))"
   ]
  },
  {
   "cell_type": "markdown",
   "id": "c06002e4",
   "metadata": {},
   "source": [
    "# Predictions for the next two days using the best model <a name=\"predictions\"></a>"
   ]
  },
  {
   "cell_type": "code",
   "execution_count": 96,
   "id": "66fb4272",
   "metadata": {},
   "outputs": [],
   "source": [
    "#Importing the dataset with the updated data\n",
    "#Use just the 7 past rows, because our model is predicting based on this sliding window\n",
    "predictions = pd.read_csv('test_ADA.csv', index_col = 'Date')"
   ]
  },
  {
   "cell_type": "code",
   "execution_count": 97,
   "id": "f0559de4",
   "metadata": {
    "scrolled": true
   },
   "outputs": [
    {
     "data": {
      "text/html": [
       "<div>\n",
       "<style scoped>\n",
       "    .dataframe tbody tr th:only-of-type {\n",
       "        vertical-align: middle;\n",
       "    }\n",
       "\n",
       "    .dataframe tbody tr th {\n",
       "        vertical-align: top;\n",
       "    }\n",
       "\n",
       "    .dataframe thead th {\n",
       "        text-align: right;\n",
       "    }\n",
       "</style>\n",
       "<table border=\"1\" class=\"dataframe\">\n",
       "  <thead>\n",
       "    <tr style=\"text-align: right;\">\n",
       "      <th></th>\n",
       "      <th>close</th>\n",
       "      <th>volume</th>\n",
       "      <th>%D</th>\n",
       "      <th>spread</th>\n",
       "      <th>volatility</th>\n",
       "      <th>close_off_high</th>\n",
       "      <th>EUR/USD_close</th>\n",
       "    </tr>\n",
       "    <tr>\n",
       "      <th>Date</th>\n",
       "      <th></th>\n",
       "      <th></th>\n",
       "      <th></th>\n",
       "      <th></th>\n",
       "      <th></th>\n",
       "      <th></th>\n",
       "      <th></th>\n",
       "    </tr>\n",
       "  </thead>\n",
       "  <tbody>\n",
       "    <tr>\n",
       "      <th>2022-05-02</th>\n",
       "      <td>0.257302</td>\n",
       "      <td>0.041796</td>\n",
       "      <td>0.134111</td>\n",
       "      <td>0.029023</td>\n",
       "      <td>0.015833</td>\n",
       "      <td>0.973809</td>\n",
       "      <td>0.015836</td>\n",
       "    </tr>\n",
       "    <tr>\n",
       "      <th>2022-05-03</th>\n",
       "      <td>0.253775</td>\n",
       "      <td>0.033661</td>\n",
       "      <td>0.156091</td>\n",
       "      <td>0.035928</td>\n",
       "      <td>0.021465</td>\n",
       "      <td>0.949697</td>\n",
       "      <td>0.002421</td>\n",
       "    </tr>\n",
       "    <tr>\n",
       "      <th>2022-05-04</th>\n",
       "      <td>0.296501</td>\n",
       "      <td>0.078934</td>\n",
       "      <td>0.323298</td>\n",
       "      <td>0.127480</td>\n",
       "      <td>0.094051</td>\n",
       "      <td>0.998682</td>\n",
       "      <td>0.012130</td>\n",
       "    </tr>\n",
       "    <tr>\n",
       "      <th>2022-05-05</th>\n",
       "      <td>0.260570</td>\n",
       "      <td>0.093885</td>\n",
       "      <td>0.358716</td>\n",
       "      <td>0.125426</td>\n",
       "      <td>0.078474</td>\n",
       "      <td>0.792953</td>\n",
       "      <td>0.058967</td>\n",
       "    </tr>\n",
       "    <tr>\n",
       "      <th>2022-05-06</th>\n",
       "      <td>0.257923</td>\n",
       "      <td>0.068287</td>\n",
       "      <td>0.400958</td>\n",
       "      <td>0.031978</td>\n",
       "      <td>0.018082</td>\n",
       "      <td>0.972587</td>\n",
       "      <td>0.017718</td>\n",
       "    </tr>\n",
       "    <tr>\n",
       "      <th>2022-05-07</th>\n",
       "      <td>0.250629</td>\n",
       "      <td>0.041599</td>\n",
       "      <td>0.203497</td>\n",
       "      <td>0.033865</td>\n",
       "      <td>0.019794</td>\n",
       "      <td>0.957413</td>\n",
       "      <td>0.017718</td>\n",
       "    </tr>\n",
       "    <tr>\n",
       "      <th>2022-05-08</th>\n",
       "      <td>0.244678</td>\n",
       "      <td>0.056798</td>\n",
       "      <td>0.134467</td>\n",
       "      <td>0.031369</td>\n",
       "      <td>0.018563</td>\n",
       "      <td>0.964549</td>\n",
       "      <td>0.017718</td>\n",
       "    </tr>\n",
       "  </tbody>\n",
       "</table>\n",
       "</div>"
      ],
      "text/plain": [
       "               close    volume        %D    spread  volatility  \\\n",
       "Date                                                             \n",
       "2022-05-02  0.257302  0.041796  0.134111  0.029023    0.015833   \n",
       "2022-05-03  0.253775  0.033661  0.156091  0.035928    0.021465   \n",
       "2022-05-04  0.296501  0.078934  0.323298  0.127480    0.094051   \n",
       "2022-05-05  0.260570  0.093885  0.358716  0.125426    0.078474   \n",
       "2022-05-06  0.257923  0.068287  0.400958  0.031978    0.018082   \n",
       "2022-05-07  0.250629  0.041599  0.203497  0.033865    0.019794   \n",
       "2022-05-08  0.244678  0.056798  0.134467  0.031369    0.018563   \n",
       "\n",
       "            close_off_high  EUR/USD_close  \n",
       "Date                                       \n",
       "2022-05-02        0.973809       0.015836  \n",
       "2022-05-03        0.949697       0.002421  \n",
       "2022-05-04        0.998682       0.012130  \n",
       "2022-05-05        0.792953       0.058967  \n",
       "2022-05-06        0.972587       0.017718  \n",
       "2022-05-07        0.957413       0.017718  \n",
       "2022-05-08        0.964549       0.017718  "
      ]
     },
     "execution_count": 97,
     "metadata": {},
     "output_type": "execute_result"
    }
   ],
   "source": [
    "predictions.tail(7)"
   ]
  },
  {
   "cell_type": "code",
   "execution_count": 98,
   "id": "7660d24b",
   "metadata": {},
   "outputs": [],
   "source": [
    "predictions1 = predictions.tail(7)\n",
    "predictions1 = np.array(predictions1)"
   ]
  },
  {
   "cell_type": "code",
   "execution_count": 99,
   "id": "4cb389cb",
   "metadata": {},
   "outputs": [],
   "source": [
    "x_input=predictions1[len(predictions1)-time_step:].reshape(1,-1)\n",
    "temp_input=list(x_input)\n",
    "temp_input=temp_input[0].tolist()\n",
    "\n",
    "output9=[]\n",
    "n_steps=7\n",
    "i=0\n",
    "pred_days = 1\n"
   ]
  },
  {
   "cell_type": "code",
   "execution_count": 100,
   "id": "f402a242",
   "metadata": {},
   "outputs": [
    {
     "name": "stdout",
     "output_type": "stream",
     "text": [
      "0 day input [0.25730179 0.04179572 0.13411149 0.02902301 0.01583305 0.97380915\n",
      " 0.01583568 0.25377494 0.03366074 0.15609101 0.03592785 0.02146507\n",
      " 0.94969672 0.00242126 0.29650087 0.07893411 0.3232985  0.12748035\n",
      " 0.0940513  0.9986822  0.01213009 0.26057016 0.0938849  0.3587157\n",
      " 0.12542625 0.07847411 0.7929526  0.05896673 0.25792333 0.06828745\n",
      " 0.40095837 0.03197764 0.01808184 0.97258652 0.01771789 0.25062884\n",
      " 0.04159891 0.20349718 0.03386469 0.01979356 0.9574134  0.01771789\n",
      " 0.24467848 0.05679849 0.13446738 0.03136945 0.01856257 0.96454896\n",
      " 0.01771789]\n",
      "0 day output [0.33468667]\n",
      "Output of predicted next days:  1\n"
     ]
    }
   ],
   "source": [
    "while(i<pred_days):\n",
    "    \n",
    "    if(len(temp_input)>time_step):        \n",
    "        x_input=np.array(temp_input[i:])\n",
    "        print(\"{} day input {}\".format(i,x_input))\n",
    "        x_input=x_input.reshape(1,-1)\n",
    "        \n",
    "        yhat = model3.predict(x_input)\n",
    "        print(\"{} day output {}\".format(i,yhat))\n",
    "        temp_input.extend(yhat.tolist())\n",
    "        temp_input=temp_input[i:]\n",
    "       \n",
    "        output9.extend(yhat.tolist())\n",
    "        i=i+1\n",
    "        \n",
    "print(\"Output of predicted next days: \", len(output9))"
   ]
  },
  {
   "cell_type": "code",
   "execution_count": 101,
   "id": "54bd2b18",
   "metadata": {},
   "outputs": [
    {
     "data": {
      "text/plain": [
       "[0.33468666672706604]"
      ]
     },
     "execution_count": 101,
     "metadata": {},
     "output_type": "execute_result"
    }
   ],
   "source": [
    "output9  #predicted closing price for May 9th, 2022 (Monday)"
   ]
  },
  {
   "cell_type": "code",
   "execution_count": 102,
   "id": "a60d3cbb",
   "metadata": {
    "scrolled": true
   },
   "outputs": [
    {
     "name": "stdout",
     "output_type": "stream",
     "text": [
      "[1 2 3 4 5 6 7]\n",
      "[8]\n"
     ]
    }
   ],
   "source": [
    "last_days=np.arange(1,time_step+1)\n",
    "day_pred=np.arange(time_step+1,time_step+pred_days+1)\n",
    "print(last_days)\n",
    "print(day_pred)"
   ]
  },
  {
   "cell_type": "code",
   "execution_count": 103,
   "id": "4f6ef42d",
   "metadata": {},
   "outputs": [],
   "source": [
    "# Inserting the prediction for the row May 9th, 2022 --> using new predicted value + data from May 8th 2022 for the other variables "
   ]
  },
  {
   "cell_type": "code",
   "execution_count": 104,
   "id": "c593abc6",
   "metadata": {},
   "outputs": [
    {
     "data": {
      "text/html": [
       "<div>\n",
       "<style scoped>\n",
       "    .dataframe tbody tr th:only-of-type {\n",
       "        vertical-align: middle;\n",
       "    }\n",
       "\n",
       "    .dataframe tbody tr th {\n",
       "        vertical-align: top;\n",
       "    }\n",
       "\n",
       "    .dataframe thead th {\n",
       "        text-align: right;\n",
       "    }\n",
       "</style>\n",
       "<table border=\"1\" class=\"dataframe\">\n",
       "  <thead>\n",
       "    <tr style=\"text-align: right;\">\n",
       "      <th></th>\n",
       "      <th>Date</th>\n",
       "      <th>close</th>\n",
       "      <th>volume</th>\n",
       "      <th>%D</th>\n",
       "      <th>spread</th>\n",
       "      <th>volatility</th>\n",
       "      <th>close_off_high</th>\n",
       "      <th>EUR/USD_close</th>\n",
       "    </tr>\n",
       "  </thead>\n",
       "  <tbody>\n",
       "    <tr>\n",
       "      <th>0</th>\n",
       "      <td>2022-05-08</td>\n",
       "      <td>0.244678</td>\n",
       "      <td>0.056798</td>\n",
       "      <td>0.134467</td>\n",
       "      <td>0.031369</td>\n",
       "      <td>0.018563</td>\n",
       "      <td>0.964549</td>\n",
       "      <td>0.017718</td>\n",
       "    </tr>\n",
       "  </tbody>\n",
       "</table>\n",
       "</div>"
      ],
      "text/plain": [
       "         Date     close    volume        %D    spread  volatility  \\\n",
       "0  2022-05-08  0.244678  0.056798  0.134467  0.031369    0.018563   \n",
       "\n",
       "   close_off_high  EUR/USD_close  \n",
       "0        0.964549       0.017718  "
      ]
     },
     "execution_count": 104,
     "metadata": {},
     "output_type": "execute_result"
    }
   ],
   "source": [
    "a = predictions.tail(1).copy()\n",
    "a.reset_index(inplace = True)\n",
    "a"
   ]
  },
  {
   "cell_type": "code",
   "execution_count": 105,
   "id": "63b2d074",
   "metadata": {},
   "outputs": [
    {
     "data": {
      "text/html": [
       "<div>\n",
       "<style scoped>\n",
       "    .dataframe tbody tr th:only-of-type {\n",
       "        vertical-align: middle;\n",
       "    }\n",
       "\n",
       "    .dataframe tbody tr th {\n",
       "        vertical-align: top;\n",
       "    }\n",
       "\n",
       "    .dataframe thead th {\n",
       "        text-align: right;\n",
       "    }\n",
       "</style>\n",
       "<table border=\"1\" class=\"dataframe\">\n",
       "  <thead>\n",
       "    <tr style=\"text-align: right;\">\n",
       "      <th></th>\n",
       "      <th>close</th>\n",
       "      <th>volume</th>\n",
       "      <th>%D</th>\n",
       "      <th>spread</th>\n",
       "      <th>volatility</th>\n",
       "      <th>close_off_high</th>\n",
       "      <th>EUR/USD_close</th>\n",
       "    </tr>\n",
       "    <tr>\n",
       "      <th>Date</th>\n",
       "      <th></th>\n",
       "      <th></th>\n",
       "      <th></th>\n",
       "      <th></th>\n",
       "      <th></th>\n",
       "      <th></th>\n",
       "      <th></th>\n",
       "    </tr>\n",
       "  </thead>\n",
       "  <tbody>\n",
       "    <tr>\n",
       "      <th>2022-05-09</th>\n",
       "      <td>0.334687</td>\n",
       "      <td>0.056798</td>\n",
       "      <td>0.134467</td>\n",
       "      <td>0.031369</td>\n",
       "      <td>0.018563</td>\n",
       "      <td>0.964549</td>\n",
       "      <td>0.017718</td>\n",
       "    </tr>\n",
       "  </tbody>\n",
       "</table>\n",
       "</div>"
      ],
      "text/plain": [
       "               close    volume        %D    spread  volatility  \\\n",
       "Date                                                             \n",
       "2022-05-09  0.334687  0.056798  0.134467  0.031369    0.018563   \n",
       "\n",
       "            close_off_high  EUR/USD_close  \n",
       "Date                                       \n",
       "2022-05-09        0.964549       0.017718  "
      ]
     },
     "execution_count": 105,
     "metadata": {},
     "output_type": "execute_result"
    }
   ],
   "source": [
    "a.at[0,'Date']='2022-05-09'\n",
    "a.at[0,'close']= output9[0]\n",
    "a.set_index('Date', inplace = True)\n",
    "a"
   ]
  },
  {
   "cell_type": "code",
   "execution_count": 106,
   "id": "d89f150f",
   "metadata": {},
   "outputs": [],
   "source": [
    "final_predictions = pd.concat([predictions, a], axis=0, join='outer')"
   ]
  },
  {
   "cell_type": "code",
   "execution_count": 107,
   "id": "fed79fe6",
   "metadata": {},
   "outputs": [
    {
     "name": "stdout",
     "output_type": "stream",
     "text": [
      "The predicted closing price for ADA on May 9th, 2022 is  1.0087480968977214 USD\n"
     ]
    }
   ],
   "source": [
    "#Get the predicted denormalized closing price using MinMaxScaler formula\n",
    "intermediate_result = ((2.96639-0.023954)*output9[0])+0.023954\n",
    "\n",
    "print (\"The predicted closing price for ADA on May 9th, 2022 is \", intermediate_result, \"USD\")"
   ]
  },
  {
   "cell_type": "markdown",
   "id": "b30c6dc4",
   "metadata": {},
   "source": [
    "# Final Predictions<a name=\"finalpredictions\"></a>"
   ]
  },
  {
   "cell_type": "code",
   "execution_count": 108,
   "id": "ccd287f0",
   "metadata": {
    "scrolled": true
   },
   "outputs": [
    {
     "data": {
      "text/html": [
       "<div>\n",
       "<style scoped>\n",
       "    .dataframe tbody tr th:only-of-type {\n",
       "        vertical-align: middle;\n",
       "    }\n",
       "\n",
       "    .dataframe tbody tr th {\n",
       "        vertical-align: top;\n",
       "    }\n",
       "\n",
       "    .dataframe thead th {\n",
       "        text-align: right;\n",
       "    }\n",
       "</style>\n",
       "<table border=\"1\" class=\"dataframe\">\n",
       "  <thead>\n",
       "    <tr style=\"text-align: right;\">\n",
       "      <th></th>\n",
       "      <th>close</th>\n",
       "      <th>volume</th>\n",
       "      <th>%D</th>\n",
       "      <th>spread</th>\n",
       "      <th>volatility</th>\n",
       "      <th>close_off_high</th>\n",
       "      <th>EUR/USD_close</th>\n",
       "    </tr>\n",
       "    <tr>\n",
       "      <th>Date</th>\n",
       "      <th></th>\n",
       "      <th></th>\n",
       "      <th></th>\n",
       "      <th></th>\n",
       "      <th></th>\n",
       "      <th></th>\n",
       "      <th></th>\n",
       "    </tr>\n",
       "  </thead>\n",
       "  <tbody>\n",
       "    <tr>\n",
       "      <th>2022-05-03</th>\n",
       "      <td>0.253775</td>\n",
       "      <td>0.033661</td>\n",
       "      <td>0.156091</td>\n",
       "      <td>0.035928</td>\n",
       "      <td>0.021465</td>\n",
       "      <td>0.949697</td>\n",
       "      <td>0.002421</td>\n",
       "    </tr>\n",
       "    <tr>\n",
       "      <th>2022-05-04</th>\n",
       "      <td>0.296501</td>\n",
       "      <td>0.078934</td>\n",
       "      <td>0.323298</td>\n",
       "      <td>0.127480</td>\n",
       "      <td>0.094051</td>\n",
       "      <td>0.998682</td>\n",
       "      <td>0.012130</td>\n",
       "    </tr>\n",
       "    <tr>\n",
       "      <th>2022-05-05</th>\n",
       "      <td>0.260570</td>\n",
       "      <td>0.093885</td>\n",
       "      <td>0.358716</td>\n",
       "      <td>0.125426</td>\n",
       "      <td>0.078474</td>\n",
       "      <td>0.792953</td>\n",
       "      <td>0.058967</td>\n",
       "    </tr>\n",
       "    <tr>\n",
       "      <th>2022-05-06</th>\n",
       "      <td>0.257923</td>\n",
       "      <td>0.068287</td>\n",
       "      <td>0.400958</td>\n",
       "      <td>0.031978</td>\n",
       "      <td>0.018082</td>\n",
       "      <td>0.972587</td>\n",
       "      <td>0.017718</td>\n",
       "    </tr>\n",
       "    <tr>\n",
       "      <th>2022-05-07</th>\n",
       "      <td>0.250629</td>\n",
       "      <td>0.041599</td>\n",
       "      <td>0.203497</td>\n",
       "      <td>0.033865</td>\n",
       "      <td>0.019794</td>\n",
       "      <td>0.957413</td>\n",
       "      <td>0.017718</td>\n",
       "    </tr>\n",
       "    <tr>\n",
       "      <th>2022-05-08</th>\n",
       "      <td>0.244678</td>\n",
       "      <td>0.056798</td>\n",
       "      <td>0.134467</td>\n",
       "      <td>0.031369</td>\n",
       "      <td>0.018563</td>\n",
       "      <td>0.964549</td>\n",
       "      <td>0.017718</td>\n",
       "    </tr>\n",
       "    <tr>\n",
       "      <th>2022-05-09</th>\n",
       "      <td>0.334687</td>\n",
       "      <td>0.056798</td>\n",
       "      <td>0.134467</td>\n",
       "      <td>0.031369</td>\n",
       "      <td>0.018563</td>\n",
       "      <td>0.964549</td>\n",
       "      <td>0.017718</td>\n",
       "    </tr>\n",
       "  </tbody>\n",
       "</table>\n",
       "</div>"
      ],
      "text/plain": [
       "               close    volume        %D    spread  volatility  \\\n",
       "Date                                                             \n",
       "2022-05-03  0.253775  0.033661  0.156091  0.035928    0.021465   \n",
       "2022-05-04  0.296501  0.078934  0.323298  0.127480    0.094051   \n",
       "2022-05-05  0.260570  0.093885  0.358716  0.125426    0.078474   \n",
       "2022-05-06  0.257923  0.068287  0.400958  0.031978    0.018082   \n",
       "2022-05-07  0.250629  0.041599  0.203497  0.033865    0.019794   \n",
       "2022-05-08  0.244678  0.056798  0.134467  0.031369    0.018563   \n",
       "2022-05-09  0.334687  0.056798  0.134467  0.031369    0.018563   \n",
       "\n",
       "            close_off_high  EUR/USD_close  \n",
       "Date                                       \n",
       "2022-05-03        0.949697       0.002421  \n",
       "2022-05-04        0.998682       0.012130  \n",
       "2022-05-05        0.792953       0.058967  \n",
       "2022-05-06        0.972587       0.017718  \n",
       "2022-05-07        0.957413       0.017718  \n",
       "2022-05-08        0.964549       0.017718  \n",
       "2022-05-09        0.964549       0.017718  "
      ]
     },
     "execution_count": 108,
     "metadata": {},
     "output_type": "execute_result"
    }
   ],
   "source": [
    "final_predictions.tail(7)"
   ]
  },
  {
   "cell_type": "code",
   "execution_count": 109,
   "id": "b62f5f49",
   "metadata": {},
   "outputs": [],
   "source": [
    "final_predictions1 = final_predictions.tail(7)\n",
    "final_predictions1 = np.array(final_predictions1)"
   ]
  },
  {
   "cell_type": "code",
   "execution_count": 110,
   "id": "b25f3431",
   "metadata": {},
   "outputs": [],
   "source": [
    "x_input=(final_predictions1[len(final_predictions1)-(time_step*time_step):]).reshape(1,-1)\n",
    "temp_input=list(x_input)\n",
    "temp_input=temp_input[0].tolist()\n",
    "\n",
    "output10=[]\n",
    "n_steps=7\n",
    "i=0\n",
    "pred_days = 1"
   ]
  },
  {
   "cell_type": "code",
   "execution_count": 111,
   "id": "f402a242",
   "metadata": {
    "scrolled": true
   },
   "outputs": [
    {
     "name": "stdout",
     "output_type": "stream",
     "text": [
      "0 day input [0.25377494 0.03366074 0.15609101 0.03592785 0.02146507 0.94969672\n",
      " 0.00242126 0.29650087 0.07893411 0.3232985  0.12748035 0.0940513\n",
      " 0.9986822  0.01213009 0.26057016 0.0938849  0.3587157  0.12542625\n",
      " 0.07847411 0.7929526  0.05896673 0.25792333 0.06828745 0.40095837\n",
      " 0.03197764 0.01808184 0.97258652 0.01771789 0.25062884 0.04159891\n",
      " 0.20349718 0.03386469 0.01979356 0.9574134  0.01771789 0.24467848\n",
      " 0.05679849 0.13446738 0.03136945 0.01856257 0.96454896 0.01771789\n",
      " 0.33468667 0.05679849 0.13446738 0.03136945 0.01856257 0.96454896\n",
      " 0.01771789]\n",
      "0 day output [0.31925473]\n",
      "Output of predicted next days:  1\n"
     ]
    }
   ],
   "source": [
    "while(i<pred_days):\n",
    "    \n",
    "    if(len(temp_input)>time_step):        \n",
    "        x_input=np.array(temp_input[i:])\n",
    "        print(\"{} day input {}\".format(i,x_input))\n",
    "        x_input=x_input.reshape(1,-1)\n",
    "        \n",
    "        yhat = model3.predict(x_input)\n",
    "        print(\"{} day output {}\".format(i,yhat))\n",
    "        temp_input.extend(yhat.tolist())\n",
    "        temp_input=temp_input[i:]\n",
    "       \n",
    "        output10.extend(yhat.tolist())\n",
    "        i=i+1\n",
    "        \n",
    "print(\"Output of predicted next days: \", len(output10))"
   ]
  },
  {
   "cell_type": "code",
   "execution_count": 112,
   "id": "2fb076f9",
   "metadata": {},
   "outputs": [
    {
     "name": "stdout",
     "output_type": "stream",
     "text": [
      "The predicted normalized closing price for ADA on May 10th, 2022 is  0.31925472617149353\n"
     ]
    }
   ],
   "source": [
    "print (\"The predicted normalized closing price for ADA on May 10th, 2022 is \", output10[0])"
   ]
  },
  {
   "cell_type": "code",
   "execution_count": 113,
   "id": "713f443f",
   "metadata": {},
   "outputs": [
    {
     "name": "stdout",
     "output_type": "stream",
     "text": [
      "The predicted closing price for ADA on May 10th, 2022 is  0.9633405994571449 USD\n"
     ]
    }
   ],
   "source": [
    "#Get the predicted denormalized closing price using MinMaxScaler formula\n",
    "final_result = ((2.96639-0.023954)*output10[0])+0.023954\n",
    "\n",
    "print (\"The predicted closing price for ADA on May 10th, 2022 is \", final_result, \"USD\")"
   ]
  }
 ],
 "metadata": {
  "kernelspec": {
   "display_name": "Python 3 (ipykernel)",
   "language": "python",
   "name": "python3"
  },
  "language_info": {
   "codemirror_mode": {
    "name": "ipython",
    "version": 3
   },
   "file_extension": ".py",
   "mimetype": "text/x-python",
   "name": "python",
   "nbconvert_exporter": "python",
   "pygments_lexer": "ipython3",
   "version": "3.9.6"
  }
 },
 "nbformat": 4,
 "nbformat_minor": 5
}
