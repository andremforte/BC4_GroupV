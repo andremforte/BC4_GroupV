{
 "cells": [
  {
   "cell_type": "markdown",
   "id": "2e429287",
   "metadata": {},
   "source": [
    "# Business Case 4: Cryptocurrencies Forecasting"
   ]
  },
  {
   "cell_type": "markdown",
   "id": "c8c7cf49",
   "metadata": {},
   "source": [
    "## Contents:\n",
    "  \n",
    " * [Modeling MATIC](#Modeling)\n",
    " * [MATIC - Entire Dataset](#entiredataset)\n",
    "    * [Model 1: LSTM](#lstm)\n",
    "    * [Model 2: XGBOOST Regressor](#xgboost)\n",
    " * [MATIC - since January 2021](#jan2021)\n",
    "    * [Model 1: LSTM](#lstm2)\n",
    "    * [Model 2: XGBOOST Regressor](#xgboost2)\n",
    " * [MATIC - since January 2022](#jan2022)\n",
    "    * [Model 1: LSTM](#lstm3)\n",
    "    * [Model 2: XGBOOST Regressor](#xgboost3)\n",
    " * [Predictions for the next two days using the best model](#predictions)\n",
    " * [Final Predictions](#finalpredictions)"
   ]
  },
  {
   "cell_type": "markdown",
   "id": "18e6ee6e",
   "metadata": {},
   "source": [
    "## Imports"
   ]
  },
  {
   "cell_type": "code",
   "execution_count": 1,
   "id": "5748d9b6",
   "metadata": {},
   "outputs": [],
   "source": [
    "#! pip install xgboost\n",
    "#! pip install fastai==0.7.0\n",
    "#! pip install --upgrade tensorflow\n",
    "#! pip install keras\n",
    "#! pip install pystan\n",
    "#! pip install ephem\n",
    "#! pip install fbprophet"
   ]
  },
  {
   "cell_type": "code",
   "execution_count": 2,
   "id": "28a80461",
   "metadata": {},
   "outputs": [],
   "source": [
    "import numpy as np\n",
    "import pandas as pd\n",
    "import seaborn as sns\n",
    "import matplotlib.pyplot as plt\n",
    "%matplotlib inline\n",
    "from math import ceil\n",
    "import math\n",
    "import scipy.stats as stats\n",
    "from itertools import cycle\n",
    "\n",
    "import plotly.express as px\n",
    "import plotly.graph_objects as go\n",
    "from plotly.subplots import make_subplots\n",
    "import plotly\n",
    "\n",
    "import json\n",
    "import requests\n",
    "import tensorflow as tf\n",
    "from sklearn.preprocessing import MinMaxScaler\n",
    "from keras.models import Sequential\n",
    "from keras.layers import Activation, Dense, Dropout, LSTM\n",
    "from sklearn.ensemble import RandomForestRegressor\n",
    "from sklearn.linear_model import LinearRegression\n",
    "from sklearn.metrics import mean_squared_error , mean_absolute_error, explained_variance_score, r2_score\n",
    "from tensorflow.keras import layers\n",
    "from xgboost import XGBRegressor\n",
    "\n",
    "import warnings"
   ]
  },
  {
   "cell_type": "markdown",
   "id": "745ad7b6",
   "metadata": {},
   "source": [
    "# Modeling - MATIC<a name=\"Modeling\"></a>\n",
    ">In this step, we decided to implement algorithms (LSTM, XGBOOST Regressor) that can predict the closing price of MATIC."
   ]
  },
  {
   "cell_type": "markdown",
   "id": "704de260",
   "metadata": {},
   "source": [
    "# MATIC - Entire Dataset <a name=\"entiredataset\"></a>"
   ]
  },
  {
   "cell_type": "code",
   "execution_count": 3,
   "id": "32905e5d",
   "metadata": {},
   "outputs": [],
   "source": [
    "matic = pd.read_csv('MATIC.csv', index_col = 'Date')"
   ]
  },
  {
   "cell_type": "code",
   "execution_count": 4,
   "id": "d6e69e14",
   "metadata": {
    "scrolled": true
   },
   "outputs": [
    {
     "data": {
      "text/html": [
       "<div>\n",
       "<style scoped>\n",
       "    .dataframe tbody tr th:only-of-type {\n",
       "        vertical-align: middle;\n",
       "    }\n",
       "\n",
       "    .dataframe tbody tr th {\n",
       "        vertical-align: top;\n",
       "    }\n",
       "\n",
       "    .dataframe thead th {\n",
       "        text-align: right;\n",
       "    }\n",
       "</style>\n",
       "<table border=\"1\" class=\"dataframe\">\n",
       "  <thead>\n",
       "    <tr style=\"text-align: right;\">\n",
       "      <th></th>\n",
       "      <th>close</th>\n",
       "      <th>volume</th>\n",
       "      <th>%D</th>\n",
       "      <th>volatility</th>\n",
       "      <th>close_off_high</th>\n",
       "      <th>EUR/USD_close</th>\n",
       "      <th>BTC_closeprice</th>\n",
       "    </tr>\n",
       "    <tr>\n",
       "      <th>Date</th>\n",
       "      <th></th>\n",
       "      <th></th>\n",
       "      <th></th>\n",
       "      <th></th>\n",
       "      <th></th>\n",
       "      <th></th>\n",
       "      <th></th>\n",
       "    </tr>\n",
       "  </thead>\n",
       "  <tbody>\n",
       "    <tr>\n",
       "      <th>2019-05-13</th>\n",
       "      <td>0.000319</td>\n",
       "      <td>0.007652</td>\n",
       "      <td>0.868354</td>\n",
       "      <td>0.914201</td>\n",
       "      <td>0.999480</td>\n",
       "      <td>0.343941</td>\n",
       "      <td>0.045436</td>\n",
       "    </tr>\n",
       "    <tr>\n",
       "      <th>2019-05-14</th>\n",
       "      <td>0.000000</td>\n",
       "      <td>0.010239</td>\n",
       "      <td>0.801153</td>\n",
       "      <td>0.532984</td>\n",
       "      <td>0.996507</td>\n",
       "      <td>0.341617</td>\n",
       "      <td>0.048304</td>\n",
       "    </tr>\n",
       "    <tr>\n",
       "      <th>2019-05-15</th>\n",
       "      <td>0.000613</td>\n",
       "      <td>0.004913</td>\n",
       "      <td>0.786702</td>\n",
       "      <td>0.438745</td>\n",
       "      <td>0.999475</td>\n",
       "      <td>0.324949</td>\n",
       "      <td>0.051671</td>\n",
       "    </tr>\n",
       "    <tr>\n",
       "      <th>2019-05-16</th>\n",
       "      <td>0.001100</td>\n",
       "      <td>0.006003</td>\n",
       "      <td>0.773782</td>\n",
       "      <td>0.440960</td>\n",
       "      <td>0.998908</td>\n",
       "      <td>0.326589</td>\n",
       "      <td>0.046554</td>\n",
       "    </tr>\n",
       "    <tr>\n",
       "      <th>2019-05-17</th>\n",
       "      <td>0.002300</td>\n",
       "      <td>0.017904</td>\n",
       "      <td>0.900332</td>\n",
       "      <td>0.623460</td>\n",
       "      <td>0.999255</td>\n",
       "      <td>0.306584</td>\n",
       "      <td>0.037911</td>\n",
       "    </tr>\n",
       "  </tbody>\n",
       "</table>\n",
       "</div>"
      ],
      "text/plain": [
       "               close    volume        %D  volatility  close_off_high  \\\n",
       "Date                                                                   \n",
       "2019-05-13  0.000319  0.007652  0.868354    0.914201        0.999480   \n",
       "2019-05-14  0.000000  0.010239  0.801153    0.532984        0.996507   \n",
       "2019-05-15  0.000613  0.004913  0.786702    0.438745        0.999475   \n",
       "2019-05-16  0.001100  0.006003  0.773782    0.440960        0.998908   \n",
       "2019-05-17  0.002300  0.017904  0.900332    0.623460        0.999255   \n",
       "\n",
       "            EUR/USD_close  BTC_closeprice  \n",
       "Date                                       \n",
       "2019-05-13       0.343941        0.045436  \n",
       "2019-05-14       0.341617        0.048304  \n",
       "2019-05-15       0.324949        0.051671  \n",
       "2019-05-16       0.326589        0.046554  \n",
       "2019-05-17       0.306584        0.037911  "
      ]
     },
     "execution_count": 4,
     "metadata": {},
     "output_type": "execute_result"
    }
   ],
   "source": [
    "matic.head()"
   ]
  },
  {
   "cell_type": "markdown",
   "id": "b8cb8770",
   "metadata": {},
   "source": [
    "# Model 1: LSTM <a name=\"lstm\"></a>"
   ]
  },
  {
   "cell_type": "code",
   "execution_count": 5,
   "id": "d0e4476b",
   "metadata": {},
   "outputs": [],
   "source": [
    "data = matic.copy()"
   ]
  },
  {
   "cell_type": "code",
   "execution_count": 6,
   "id": "d7bb58e9",
   "metadata": {},
   "outputs": [
    {
     "data": {
      "text/html": [
       "<div>\n",
       "<style scoped>\n",
       "    .dataframe tbody tr th:only-of-type {\n",
       "        vertical-align: middle;\n",
       "    }\n",
       "\n",
       "    .dataframe tbody tr th {\n",
       "        vertical-align: top;\n",
       "    }\n",
       "\n",
       "    .dataframe thead th {\n",
       "        text-align: right;\n",
       "    }\n",
       "</style>\n",
       "<table border=\"1\" class=\"dataframe\">\n",
       "  <thead>\n",
       "    <tr style=\"text-align: right;\">\n",
       "      <th></th>\n",
       "      <th>close</th>\n",
       "      <th>volume</th>\n",
       "      <th>%D</th>\n",
       "      <th>volatility</th>\n",
       "      <th>close_off_high</th>\n",
       "      <th>EUR/USD_close</th>\n",
       "      <th>BTC_closeprice</th>\n",
       "    </tr>\n",
       "    <tr>\n",
       "      <th>Date</th>\n",
       "      <th></th>\n",
       "      <th></th>\n",
       "      <th></th>\n",
       "      <th></th>\n",
       "      <th></th>\n",
       "      <th></th>\n",
       "      <th></th>\n",
       "    </tr>\n",
       "  </thead>\n",
       "  <tbody>\n",
       "    <tr>\n",
       "      <th>2019-05-13</th>\n",
       "      <td>0.000319</td>\n",
       "      <td>0.007652</td>\n",
       "      <td>0.868354</td>\n",
       "      <td>0.914201</td>\n",
       "      <td>0.999480</td>\n",
       "      <td>0.343941</td>\n",
       "      <td>0.045436</td>\n",
       "    </tr>\n",
       "    <tr>\n",
       "      <th>2019-05-14</th>\n",
       "      <td>0.000000</td>\n",
       "      <td>0.010239</td>\n",
       "      <td>0.801153</td>\n",
       "      <td>0.532984</td>\n",
       "      <td>0.996507</td>\n",
       "      <td>0.341617</td>\n",
       "      <td>0.048304</td>\n",
       "    </tr>\n",
       "    <tr>\n",
       "      <th>2019-05-15</th>\n",
       "      <td>0.000613</td>\n",
       "      <td>0.004913</td>\n",
       "      <td>0.786702</td>\n",
       "      <td>0.438745</td>\n",
       "      <td>0.999475</td>\n",
       "      <td>0.324949</td>\n",
       "      <td>0.051671</td>\n",
       "    </tr>\n",
       "    <tr>\n",
       "      <th>2019-05-16</th>\n",
       "      <td>0.001100</td>\n",
       "      <td>0.006003</td>\n",
       "      <td>0.773782</td>\n",
       "      <td>0.440960</td>\n",
       "      <td>0.998908</td>\n",
       "      <td>0.326589</td>\n",
       "      <td>0.046554</td>\n",
       "    </tr>\n",
       "    <tr>\n",
       "      <th>2019-05-17</th>\n",
       "      <td>0.002300</td>\n",
       "      <td>0.017904</td>\n",
       "      <td>0.900332</td>\n",
       "      <td>0.623460</td>\n",
       "      <td>0.999255</td>\n",
       "      <td>0.306584</td>\n",
       "      <td>0.037911</td>\n",
       "    </tr>\n",
       "  </tbody>\n",
       "</table>\n",
       "</div>"
      ],
      "text/plain": [
       "               close    volume        %D  volatility  close_off_high  \\\n",
       "Date                                                                   \n",
       "2019-05-13  0.000319  0.007652  0.868354    0.914201        0.999480   \n",
       "2019-05-14  0.000000  0.010239  0.801153    0.532984        0.996507   \n",
       "2019-05-15  0.000613  0.004913  0.786702    0.438745        0.999475   \n",
       "2019-05-16  0.001100  0.006003  0.773782    0.440960        0.998908   \n",
       "2019-05-17  0.002300  0.017904  0.900332    0.623460        0.999255   \n",
       "\n",
       "            EUR/USD_close  BTC_closeprice  \n",
       "Date                                       \n",
       "2019-05-13       0.343941        0.045436  \n",
       "2019-05-14       0.341617        0.048304  \n",
       "2019-05-15       0.324949        0.051671  \n",
       "2019-05-16       0.326589        0.046554  \n",
       "2019-05-17       0.306584        0.037911  "
      ]
     },
     "execution_count": 6,
     "metadata": {},
     "output_type": "execute_result"
    }
   ],
   "source": [
    "data.head()"
   ]
  },
  {
   "cell_type": "code",
   "execution_count": 7,
   "id": "f1d5c78b",
   "metadata": {},
   "outputs": [],
   "source": [
    "#Splitting the original dataset using all the variables (hist) and \"close\" (target) using 7 days a the length of the sliding window\n",
    "\n",
    "hist = []\n",
    "target = []\n",
    "length = 7\n",
    "\n",
    "for i in range(len(data)-length):\n",
    "    t = data['close']\n",
    "    v = data[['close', 'volume', 'BTC_closeprice','volatility', 'close_off_high', 'EUR/USD_close']]\n",
    "    x = v[i:i+length]\n",
    "    y = t[i+length]\n",
    "    hist.append(x)\n",
    "    target.append(y)"
   ]
  },
  {
   "cell_type": "code",
   "execution_count": 8,
   "id": "fba04aec",
   "metadata": {},
   "outputs": [
    {
     "name": "stdout",
     "output_type": "stream",
     "text": [
      "7\n",
      "1072\n",
      "1072\n"
     ]
    }
   ],
   "source": [
    "print(len(hist[0]))  #nr of days\n",
    "print(len(hist)) #size of train dataset\n",
    "print(len(target)) #size of test dataset"
   ]
  },
  {
   "cell_type": "code",
   "execution_count": 9,
   "id": "72f98a10",
   "metadata": {},
   "outputs": [],
   "source": [
    "#convert lists to arrays\n",
    "hist = np.array(hist)\n",
    "target = np.array(target)"
   ]
  },
  {
   "cell_type": "code",
   "execution_count": 10,
   "id": "c013ab52",
   "metadata": {},
   "outputs": [
    {
     "data": {
      "text/plain": [
       "(1072, 1)"
      ]
     },
     "execution_count": 10,
     "metadata": {},
     "output_type": "execute_result"
    }
   ],
   "source": [
    "target = target.reshape(-1,1)\n",
    "target.shape"
   ]
  },
  {
   "cell_type": "code",
   "execution_count": 11,
   "id": "20846eb4",
   "metadata": {},
   "outputs": [],
   "source": [
    "#Splitting the datasets into train and test using 80% for train and 20% for test\n",
    "\n",
    "training_size=int(len(data)*0.80)\n",
    "\n",
    "X_train = hist[:training_size,:]\n",
    "X_test = hist[training_size:,:]\n",
    "\n",
    "y_train = target[:training_size]\n",
    "y_test = target[training_size:]"
   ]
  },
  {
   "cell_type": "code",
   "execution_count": 12,
   "id": "560076ba",
   "metadata": {},
   "outputs": [
    {
     "data": {
      "text/plain": [
       "(863, 7, 6)"
      ]
     },
     "execution_count": 12,
     "metadata": {},
     "output_type": "execute_result"
    }
   ],
   "source": [
    "#Nr of instances, # nr of days (length), #nr of columns\n",
    "X_train.shape"
   ]
  },
  {
   "cell_type": "code",
   "execution_count": 13,
   "id": "a9a1e870",
   "metadata": {},
   "outputs": [
    {
     "name": "stdout",
     "output_type": "stream",
     "text": [
      "Model: \"sequential\"\n",
      "_________________________________________________________________\n",
      " Layer (type)                Output Shape              Param #   \n",
      "=================================================================\n",
      " lstm (LSTM)                 (None, 7, 20)             2160      \n",
      "                                                                 \n",
      " lstm_1 (LSTM)               (None, 7, 32)             6784      \n",
      "                                                                 \n",
      " lstm_2 (LSTM)               (None, 40)                11680     \n",
      "                                                                 \n",
      " dense (Dense)               (None, 1)                 41        \n",
      "                                                                 \n",
      "=================================================================\n",
      "Total params: 20,665\n",
      "Trainable params: 20,665\n",
      "Non-trainable params: 0\n",
      "_________________________________________________________________\n"
     ]
    }
   ],
   "source": [
    "model = tf.keras.Sequential()\n",
    "\n",
    "model.add(layers.LSTM(units=20, activation = 'relu', return_sequences=True,\n",
    "                  input_shape=(7,6), dropout = 0.2))\n",
    "\n",
    "model.add(layers.LSTM(units=32, return_sequences=True,\n",
    "                  dropout=0.2))\n",
    "\n",
    "model.add(layers.LSTM(units=40, activation = 'relu', dropout=0.2))\n",
    "\n",
    "#model.add(layers.LSTM(units=55, return_sequences = True, dropout = 0.2))\n",
    "\n",
    "#model.add(layers.LSTM(units = 80, activation = 'relu', dropout = 0.2))\n",
    "\n",
    "model.add(layers.Dense(units=1))\n",
    "\n",
    "model.summary()"
   ]
  },
  {
   "cell_type": "code",
   "execution_count": 14,
   "id": "a4e6950c",
   "metadata": {},
   "outputs": [],
   "source": [
    "model.compile(optimizer='adam', loss='mean_squared_error')"
   ]
  },
  {
   "cell_type": "code",
   "execution_count": 15,
   "id": "09d21824",
   "metadata": {},
   "outputs": [
    {
     "name": "stdout",
     "output_type": "stream",
     "text": [
      "Epoch 1/30\n",
      "22/22 [==============================] - 5s 50ms/step - loss: 7.5525e-04 - val_loss: 0.1749\n",
      "Epoch 2/30\n",
      "22/22 [==============================] - 0s 12ms/step - loss: 8.6262e-04 - val_loss: 0.1777\n",
      "Epoch 3/30\n",
      "22/22 [==============================] - 0s 14ms/step - loss: 6.1564e-04 - val_loss: 0.1686\n",
      "Epoch 4/30\n",
      "22/22 [==============================] - 0s 11ms/step - loss: 4.4355e-04 - val_loss: 0.1589\n",
      "Epoch 5/30\n",
      "22/22 [==============================] - 0s 11ms/step - loss: 3.1027e-04 - val_loss: 0.1462\n",
      "Epoch 6/30\n",
      "22/22 [==============================] - 0s 11ms/step - loss: 2.8215e-04 - val_loss: 0.1407\n",
      "Epoch 7/30\n",
      "22/22 [==============================] - 0s 11ms/step - loss: 1.9451e-04 - val_loss: 0.1420\n",
      "Epoch 8/30\n",
      "22/22 [==============================] - 0s 10ms/step - loss: 2.3980e-04 - val_loss: 0.1381\n",
      "Epoch 9/30\n",
      "22/22 [==============================] - 0s 10ms/step - loss: 3.7311e-04 - val_loss: 0.1568\n",
      "Epoch 10/30\n",
      "22/22 [==============================] - 0s 10ms/step - loss: 2.1815e-04 - val_loss: 0.1312\n",
      "Epoch 11/30\n",
      "22/22 [==============================] - 0s 10ms/step - loss: 1.2560e-04 - val_loss: 0.1277\n",
      "Epoch 12/30\n",
      "22/22 [==============================] - 0s 10ms/step - loss: 1.4920e-04 - val_loss: 0.1231\n",
      "Epoch 13/30\n",
      "22/22 [==============================] - 0s 11ms/step - loss: 1.6582e-04 - val_loss: 0.1260\n",
      "Epoch 14/30\n",
      "22/22 [==============================] - 0s 10ms/step - loss: 1.7019e-04 - val_loss: 0.1204\n",
      "Epoch 15/30\n",
      "22/22 [==============================] - 0s 10ms/step - loss: 3.7521e-04 - val_loss: 0.1505\n",
      "Epoch 16/30\n",
      "22/22 [==============================] - 0s 10ms/step - loss: 2.0314e-04 - val_loss: 0.1214\n",
      "Epoch 17/30\n",
      "22/22 [==============================] - 0s 10ms/step - loss: 1.7478e-04 - val_loss: 0.1346\n",
      "Epoch 18/30\n",
      "22/22 [==============================] - 0s 11ms/step - loss: 1.7923e-04 - val_loss: 0.1163\n",
      "Epoch 19/30\n",
      "22/22 [==============================] - 0s 10ms/step - loss: 1.9149e-04 - val_loss: 0.1319\n",
      "Epoch 20/30\n",
      "22/22 [==============================] - 0s 11ms/step - loss: 1.9237e-04 - val_loss: 0.1120\n",
      "Epoch 21/30\n",
      "22/22 [==============================] - 0s 13ms/step - loss: 2.3692e-04 - val_loss: 0.1347\n",
      "Epoch 22/30\n",
      "22/22 [==============================] - 0s 10ms/step - loss: 1.9978e-04 - val_loss: 0.1117\n",
      "Epoch 23/30\n",
      "22/22 [==============================] - 0s 11ms/step - loss: 3.5444e-04 - val_loss: 0.1461\n",
      "Epoch 24/30\n",
      "22/22 [==============================] - 0s 10ms/step - loss: 1.8221e-04 - val_loss: 0.1106\n",
      "Epoch 25/30\n",
      "22/22 [==============================] - 0s 10ms/step - loss: 8.7884e-05 - val_loss: 0.1067\n",
      "Epoch 26/30\n",
      "22/22 [==============================] - 0s 13ms/step - loss: 9.2100e-05 - val_loss: 0.1085\n",
      "Epoch 27/30\n",
      "22/22 [==============================] - 0s 10ms/step - loss: 6.9056e-05 - val_loss: 0.0963\n",
      "Epoch 28/30\n",
      "22/22 [==============================] - 0s 10ms/step - loss: 7.7583e-05 - val_loss: 0.0958\n",
      "Epoch 29/30\n",
      "22/22 [==============================] - 0s 10ms/step - loss: 1.1083e-04 - val_loss: 0.0921\n",
      "Epoch 30/30\n",
      "22/22 [==============================] - 0s 10ms/step - loss: 1.4934e-04 - val_loss: 0.1130\n"
     ]
    }
   ],
   "source": [
    "history = model.fit(X_train, y_train, epochs=30, batch_size=32, shuffle = False, validation_split=0.2)"
   ]
  },
  {
   "cell_type": "code",
   "execution_count": 16,
   "id": "1bcc185d",
   "metadata": {},
   "outputs": [
    {
     "data": {
      "image/png": "[encoded data removed]",
      "text/plain": [
       "<Figure size 864x576 with 1 Axes>"
      ]
     },
     "metadata": {
      "needs_background": "light"
     },
     "output_type": "display_data"
    }
   ],
   "source": [
    "loss = history.history['loss']\n",
    "val_loss = history.history['val_loss']\n",
    "epoch_count = range(len(loss))\n",
    "plt.figure(figsize=(12,8))\n",
    "plt.plot(epoch_count, loss, 'r', label='Training loss')\n",
    "plt.plot(epoch_count, val_loss, 'b', label='Validation loss')\n",
    "plt.legend(['Training Loss','Validation Loss'])\n",
    "plt.xlabel('Epoch')\n",
    "plt.ylabel('Loss')\n",
    "plt.show();"
   ]
  },
  {
   "cell_type": "code",
   "execution_count": 17,
   "id": "36cb8b49",
   "metadata": {},
   "outputs": [],
   "source": [
    "pred_test = model.predict(X_test)\n",
    "pred_train = model.predict (X_train)"
   ]
  },
  {
   "cell_type": "code",
   "execution_count": 18,
   "id": "ffd38b0f",
   "metadata": {},
   "outputs": [
    {
     "data": {
      "text/html": [
       "<div>\n",
       "<style scoped>\n",
       "    .dataframe tbody tr th:only-of-type {\n",
       "        vertical-align: middle;\n",
       "    }\n",
       "\n",
       "    .dataframe tbody tr th {\n",
       "        vertical-align: top;\n",
       "    }\n",
       "\n",
       "    .dataframe thead th {\n",
       "        text-align: right;\n",
       "    }\n",
       "</style>\n",
       "<table border=\"1\" class=\"dataframe\">\n",
       "  <thead>\n",
       "    <tr style=\"text-align: right;\">\n",
       "      <th></th>\n",
       "      <th>y_test</th>\n",
       "      <th>Predictions</th>\n",
       "      <th>Date</th>\n",
       "    </tr>\n",
       "  </thead>\n",
       "  <tbody>\n",
       "    <tr>\n",
       "      <th>204</th>\n",
       "      <td>0.478253</td>\n",
       "      <td>0.100589</td>\n",
       "      <td>2022-04-21</td>\n",
       "    </tr>\n",
       "    <tr>\n",
       "      <th>205</th>\n",
       "      <td>0.484972</td>\n",
       "      <td>0.101364</td>\n",
       "      <td>2022-04-22</td>\n",
       "    </tr>\n",
       "    <tr>\n",
       "      <th>206</th>\n",
       "      <td>0.473411</td>\n",
       "      <td>0.102387</td>\n",
       "      <td>2022-04-23</td>\n",
       "    </tr>\n",
       "    <tr>\n",
       "      <th>207</th>\n",
       "      <td>0.465838</td>\n",
       "      <td>0.103522</td>\n",
       "      <td>2022-04-24</td>\n",
       "    </tr>\n",
       "    <tr>\n",
       "      <th>208</th>\n",
       "      <td>0.468774</td>\n",
       "      <td>0.104236</td>\n",
       "      <td>2022-04-25</td>\n",
       "    </tr>\n",
       "  </tbody>\n",
       "</table>\n",
       "</div>"
      ],
      "text/plain": [
       "       y_test  Predictions       Date\n",
       "204  0.478253     0.100589 2022-04-21\n",
       "205  0.484972     0.101364 2022-04-22\n",
       "206  0.473411     0.102387 2022-04-23\n",
       "207  0.465838     0.103522 2022-04-24\n",
       "208  0.468774     0.104236 2022-04-25"
      ]
     },
     "execution_count": 18,
     "metadata": {},
     "output_type": "execute_result"
    }
   ],
   "source": [
    "results = np.concatenate((y_test, pred_test), axis=1)\n",
    "results = pd.DataFrame(results, columns = ['y_test', 'Predictions'])\n",
    "a = data['close'].tail(len(pred_test))\n",
    "a = list(a.index)\n",
    "results['Date'] = a\n",
    "results['Date'] = pd.to_datetime(results['Date'])\n",
    "results.tail()"
   ]
  },
  {
   "cell_type": "code",
   "execution_count": 19,
   "id": "4f8a42ee",
   "metadata": {},
   "outputs": [
    {
     "data": {
      "image/png": "[encoded data removed]",
      "text/plain": [
       "<Figure size 864x576 with 1 Axes>"
      ]
     },
     "metadata": {
      "needs_background": "light"
     },
     "output_type": "display_data"
    }
   ],
   "source": [
    "plt.figure(figsize=(12,8))\n",
    "plt.plot(y_test, color='blue', label='Real')\n",
    "plt.plot(pred_test, color='red', label='Prediction')\n",
    "plt.title('ADA Price Prediction')\n",
    "plt.legend()\n",
    "plt.show()"
   ]
  },
  {
   "cell_type": "code",
   "execution_count": 20,
   "id": "fa35cd86",
   "metadata": {
    "scrolled": true
   },
   "outputs": [
    {
     "name": "stdout",
     "output_type": "stream",
     "text": [
      "Train data RMSE:  0.15098674208913787\n",
      "Train data MSE:  0.022796996286691837\n",
      "Train data MAE:  0.06661786120104773\n",
      "-------------------------------------------------------------------------------------\n",
      "Test data RMSE:  0.4797911649275998\n",
      "Test data MSE:  0.2301995619425833\n",
      "Test data MAE:  0.4686485212708497\n"
     ]
    }
   ],
   "source": [
    "# Evaluation metrices RMSE and MAE\n",
    "print(\"Train data RMSE: \", math.sqrt(mean_squared_error(y_train,pred_train)))\n",
    "print(\"Train data MSE: \", mean_squared_error(y_train,pred_train))\n",
    "print(\"Train data MAE: \", mean_absolute_error(y_train,pred_train))\n",
    "print(\"-------------------------------------------------------------------------------------\")\n",
    "print(\"Test data RMSE: \", math.sqrt(mean_squared_error(y_test,pred_test)))\n",
    "print(\"Test data MSE: \", mean_squared_error(y_test,pred_test))\n",
    "print(\"Test data MAE: \", mean_absolute_error(y_test,pred_test))"
   ]
  },
  {
   "cell_type": "code",
   "execution_count": 21,
   "id": "62416aab",
   "metadata": {
    "scrolled": true
   },
   "outputs": [
    {
     "name": "stdout",
     "output_type": "stream",
     "text": [
      "Train data R2 score: 0.23241005406152504\n",
      "Test data R2 score: -13.424323903699808\n"
     ]
    }
   ],
   "source": [
    "print(\"Train data R2 score:\", r2_score(y_train, pred_train))\n",
    "print(\"Test data R2 score:\", r2_score(y_test, pred_test))"
   ]
  },
  {
   "cell_type": "markdown",
   "id": "a5589e1c",
   "metadata": {},
   "source": [
    "# Model 2: XGBoost Regressor  <a name=\"xgboost\"></a>"
   ]
  },
  {
   "cell_type": "code",
   "execution_count": 22,
   "id": "68d92d22",
   "metadata": {},
   "outputs": [
    {
     "data": {
      "text/plain": [
       "(1079, 8)"
      ]
     },
     "execution_count": 22,
     "metadata": {},
     "output_type": "execute_result"
    }
   ],
   "source": [
    "data1 = matic.copy()\n",
    "data1.reset_index(inplace = True)\n",
    "data1.shape"
   ]
  },
  {
   "cell_type": "code",
   "execution_count": 23,
   "id": "e26b2f9c",
   "metadata": {},
   "outputs": [
    {
     "name": "stdout",
     "output_type": "stream",
     "text": [
      "Total data for prediction:  1079\n"
     ]
    }
   ],
   "source": [
    "close_stock = data1.copy()\n",
    "print(\"Total data for prediction: \",data1.shape[0])"
   ]
  },
  {
   "cell_type": "code",
   "execution_count": 24,
   "id": "23311a08",
   "metadata": {},
   "outputs": [
    {
     "data": {
      "text/plain": [
       "(1079, 7)"
      ]
     },
     "execution_count": 24,
     "metadata": {},
     "output_type": "execute_result"
    }
   ],
   "source": [
    "data1.set_index('Date', inplace = True)\n",
    "data1.shape"
   ]
  },
  {
   "cell_type": "code",
   "execution_count": 25,
   "id": "2a7d472b",
   "metadata": {},
   "outputs": [
    {
     "name": "stdout",
     "output_type": "stream",
     "text": [
      "train_data:  (863, 7)\n",
      "test_data:  (216, 7)\n"
     ]
    }
   ],
   "source": [
    "#Train and test split using 80% for train and 20% for test\n",
    "training_size=int(len(data1)*0.80)\n",
    "test_size=len(data1)-training_size\n",
    "train_data,test_data=data1.iloc[:training_size,:],data1.iloc[training_size:,:]\n",
    "print(\"train_data: \", train_data.shape)\n",
    "print(\"test_data: \", test_data.shape)"
   ]
  },
  {
   "cell_type": "code",
   "execution_count": 26,
   "id": "68f0a09f",
   "metadata": {},
   "outputs": [
    {
     "data": {
      "image/png": "[encoded data removed]",
      "text/plain": [
       "<Figure size 2160x1080 with 1 Axes>"
      ]
     },
     "metadata": {
      "needs_background": "light"
     },
     "output_type": "display_data"
    }
   ],
   "source": [
    "data1.reset_index(inplace = True)\n",
    "fig, ax = plt.subplots(figsize=(30, 15))\n",
    "sns.lineplot(x = close_stock['Date'][:training_size], y = close_stock['close'][:training_size], color = 'blue')\n",
    "sns.lineplot(x = close_stock['Date'][training_size:], y = close_stock['close'][training_size:], color = 'orange')\n",
    "\n",
    "# Formatting\n",
    "ax.set_title('Train & Test data', fontsize = 20, loc='center', fontdict=dict(weight='bold'))\n",
    "ax.set_xlabel('Date', fontsize = 16, fontdict=dict(weight='bold'))\n",
    "ax.set_ylabel('Weekly Sales', fontsize = 16, fontdict=dict(weight='bold'))\n",
    "plt.tick_params(axis='y', which='major', labelsize=16)\n",
    "plt.tick_params(axis='x', labelsize=5)\n",
    "plt.xticks(rotation='vertical')\n",
    "plt.legend(loc='upper right' ,labels = ('train', 'test'))\n",
    "plt.show()"
   ]
  },
  {
   "cell_type": "code",
   "execution_count": 27,
   "id": "bbfbcf05",
   "metadata": {},
   "outputs": [],
   "source": [
    "data1.set_index('Date', inplace = True)"
   ]
  },
  {
   "cell_type": "code",
   "execution_count": 28,
   "id": "55424599",
   "metadata": {},
   "outputs": [],
   "source": [
    "# convert an array of values into a dataset matrix\n",
    "def create_dataset(dataset, time_step):\n",
    "    dataX, dataY = [], []\n",
    "    for i in range(len(dataset)-time_step-1):\n",
    "        a = dataset.iloc[i:(i+time_step), 1:]   \n",
    "        dataX.append(a)\n",
    "        dataY.append(dataset.iloc[i + time_step, 0])\n",
    "    return np.array(dataX), np.array(dataY)"
   ]
  },
  {
   "cell_type": "code",
   "execution_count": 29,
   "id": "58549aeb",
   "metadata": {},
   "outputs": [
    {
     "name": "stdout",
     "output_type": "stream",
     "text": [
      "X_train:  (855, 7, 6)\n",
      "y_train:  (855,)\n",
      "X_test:  (208, 7, 6)\n",
      "y_test (208,)\n"
     ]
    }
   ],
   "source": [
    "#Sliding window = 7 or 20\n",
    "time_step = 7\n",
    "X_train, y_train = create_dataset(train_data, time_step)\n",
    "X_test, y_test = create_dataset(test_data, time_step)\n",
    "\n",
    "print(\"X_train: \", X_train.shape)\n",
    "print(\"y_train: \", y_train.shape)\n",
    "print(\"X_test: \", X_test.shape)\n",
    "print(\"y_test\", y_test.shape)"
   ]
  },
  {
   "cell_type": "code",
   "execution_count": 30,
   "id": "3d684fc3",
   "metadata": {},
   "outputs": [],
   "source": [
    "#Reshaping the arrays because XGBRegressor only accepts 1-Dimensional arrays\n",
    "nsamples, nx, ny = X_train.shape\n",
    "X_train = X_train.reshape((nsamples,nx*ny))\n",
    "\n",
    "nsamples, nx, ny = X_test.shape\n",
    "X_test = X_test.reshape((nsamples,nx*ny))"
   ]
  },
  {
   "cell_type": "code",
   "execution_count": 31,
   "id": "017f9d78",
   "metadata": {},
   "outputs": [
    {
     "data": {
      "text/plain": [
       "XGBRegressor(base_score=0.5, booster='gbtree', callbacks=None,\n",
       "             colsample_bylevel=1, colsample_bynode=1, colsample_bytree=1,\n",
       "             early_stopping_rounds=None, enable_categorical=False, eta=0.2,\n",
       "             eval_metric=None, gamma=0, gpu_id=-1, grow_policy='depthwise',\n",
       "             importance_type=None, interaction_constraints='',\n",
       "             learning_rate=0.200000003, max_bin=256, max_cat_to_onehot=4,\n",
       "             max_delta_step=0, max_depth=6, max_leaves=0, min_child_weight=1,\n",
       "             missing=nan, monotone_constraints='()', n_estimators=100, n_jobs=0,\n",
       "             num_parallel_tree=1, predictor='auto', random_state=1, reg_alpha=0, ...)"
      ]
     },
     "execution_count": 31,
     "metadata": {},
     "output_type": "execute_result"
    }
   ],
   "source": [
    "model1 = XGBRegressor(n_estimators=100, random_state = 1, eta = 0.2)\n",
    "model1.fit(X_train, y_train)"
   ]
  },
  {
   "cell_type": "code",
   "execution_count": 32,
   "id": "80a331ec",
   "metadata": {},
   "outputs": [],
   "source": [
    "predictions = model1.predict(X_test).reshape(-1,1)\n",
    "y_test = y_test.reshape(-1,1)\n",
    "\n",
    "predictions_train = model1.predict(X_train)"
   ]
  },
  {
   "cell_type": "code",
   "execution_count": 33,
   "id": "dd572230",
   "metadata": {},
   "outputs": [
    {
     "data": {
      "text/html": [
       "<div>\n",
       "<style scoped>\n",
       "    .dataframe tbody tr th:only-of-type {\n",
       "        vertical-align: middle;\n",
       "    }\n",
       "\n",
       "    .dataframe tbody tr th {\n",
       "        vertical-align: top;\n",
       "    }\n",
       "\n",
       "    .dataframe thead th {\n",
       "        text-align: right;\n",
       "    }\n",
       "</style>\n",
       "<table border=\"1\" class=\"dataframe\">\n",
       "  <thead>\n",
       "    <tr style=\"text-align: right;\">\n",
       "      <th></th>\n",
       "      <th>y_test</th>\n",
       "      <th>Predictions</th>\n",
       "      <th>Date</th>\n",
       "    </tr>\n",
       "  </thead>\n",
       "  <tbody>\n",
       "    <tr>\n",
       "      <th>203</th>\n",
       "      <td>0.491457</td>\n",
       "      <td>0.305300</td>\n",
       "      <td>2022-04-21</td>\n",
       "    </tr>\n",
       "    <tr>\n",
       "      <th>204</th>\n",
       "      <td>0.478253</td>\n",
       "      <td>0.348893</td>\n",
       "      <td>2022-04-22</td>\n",
       "    </tr>\n",
       "    <tr>\n",
       "      <th>205</th>\n",
       "      <td>0.484972</td>\n",
       "      <td>0.322445</td>\n",
       "      <td>2022-04-23</td>\n",
       "    </tr>\n",
       "    <tr>\n",
       "      <th>206</th>\n",
       "      <td>0.473411</td>\n",
       "      <td>0.385004</td>\n",
       "      <td>2022-04-24</td>\n",
       "    </tr>\n",
       "    <tr>\n",
       "      <th>207</th>\n",
       "      <td>0.465838</td>\n",
       "      <td>0.408563</td>\n",
       "      <td>2022-04-25</td>\n",
       "    </tr>\n",
       "  </tbody>\n",
       "</table>\n",
       "</div>"
      ],
      "text/plain": [
       "       y_test  Predictions       Date\n",
       "203  0.491457     0.305300 2022-04-21\n",
       "204  0.478253     0.348893 2022-04-22\n",
       "205  0.484972     0.322445 2022-04-23\n",
       "206  0.473411     0.385004 2022-04-24\n",
       "207  0.465838     0.408563 2022-04-25"
      ]
     },
     "execution_count": 33,
     "metadata": {},
     "output_type": "execute_result"
    }
   ],
   "source": [
    "results2 = np.concatenate((y_test, predictions),axis = 1)\n",
    "results2 = pd.DataFrame(results2, columns = ['y_test', 'Predictions'])\n",
    "a = data1['close'].tail(len(predictions))\n",
    "a = list(a.index)\n",
    "results2['Date'] = a\n",
    "results2['Date'] = pd.to_datetime(results2['Date'])\n",
    "results2.tail()"
   ]
  },
  {
   "cell_type": "code",
   "execution_count": 34,
   "id": "f4bb627c",
   "metadata": {},
   "outputs": [
    {
     "data": {
      "image/png": "[encoded data removed]",
      "text/plain": [
       "<Figure size 864x576 with 1 Axes>"
      ]
     },
     "metadata": {
      "needs_background": "light"
     },
     "output_type": "display_data"
    }
   ],
   "source": [
    "plt.figure(figsize=(12,8))\n",
    "plt.plot(y_test, color='blue', label='Real')\n",
    "plt.plot(predictions, color='red', label='Prediction')\n",
    "plt.title('BTC Price Prediction')\n",
    "plt.legend()\n",
    "plt.show()"
   ]
  },
  {
   "cell_type": "code",
   "execution_count": 35,
   "id": "c0c0be71",
   "metadata": {},
   "outputs": [
    {
     "name": "stdout",
     "output_type": "stream",
     "text": [
      "Train data MSE:  2.699506509518863e-07\n",
      "Mean Absolute Error - MAE : 0.00036849491808096946\n",
      "Root Mean squared Error - RMSE : 0.000519567753956966\n",
      "R^2 Score 0.9999907316463722\n",
      "--------------------------------------------------------------\n",
      "Test data MSE:  0.04013285909030266\n",
      "Mean Absolute Error - MAE : 0.1741356269836943\n",
      "Root Mean squared Error - RMSE : 0.20033187237756916\n",
      "R^2 Score -1.5167289716446062\n"
     ]
    }
   ],
   "source": [
    "print(\"Train data MSE: \", mean_squared_error(y_train,predictions_train))\n",
    "print(\"Mean Absolute Error - MAE : \" + str(mean_absolute_error(y_train, predictions_train)))\n",
    "print(\"Root Mean squared Error - RMSE : \" + str(math.sqrt(mean_squared_error(y_train, predictions_train))))\n",
    "print('R^2 Score', r2_score(y_train, predictions_train))\n",
    "\n",
    "print (\"--------------------------------------------------------------\")\n",
    "print(\"Test data MSE: \", mean_squared_error(y_test,predictions))\n",
    "print(\"Mean Absolute Error - MAE : \" + str(mean_absolute_error(y_test, predictions)))\n",
    "print(\"Root Mean squared Error - RMSE : \" + str(math.sqrt(mean_squared_error(y_test, predictions))))\n",
    "print('R^2 Score', r2_score(y_test, predictions))"
   ]
  },
  {
   "cell_type": "markdown",
   "id": "b2f33333",
   "metadata": {},
   "source": [
    "# MATIC - since January 2021  <a name=\"jan2021\"></a>"
   ]
  },
  {
   "cell_type": "markdown",
   "id": "7d5faeee",
   "metadata": {},
   "source": [
    "# Model 1: LSTM <a name=\"lstm2\"></a>"
   ]
  },
  {
   "cell_type": "code",
   "execution_count": 36,
   "id": "2c26673f",
   "metadata": {},
   "outputs": [
    {
     "name": "stdout",
     "output_type": "stream",
     "text": [
      "Total data for prediction:  480\n"
     ]
    }
   ],
   "source": [
    "data2 = matic.copy()\n",
    "data2.reset_index(inplace = True)\n",
    "data2 = data2[data2['Date'] >= '2021-01-01']\n",
    "data2.set_index('Date', inplace = True)\n",
    "print(\"Total data for prediction: \",data2.shape[0])"
   ]
  },
  {
   "cell_type": "code",
   "execution_count": 37,
   "id": "5b3c778c",
   "metadata": {},
   "outputs": [],
   "source": [
    "hist = []\n",
    "target = []\n",
    "length = 7\n",
    "\n",
    "for i in range(len(data2)-length):\n",
    "    t = data2['close']\n",
    "    v = data2[['close','volume','BTC_closeprice','volatility', 'close_off_high', 'EUR/USD_close']]\n",
    "    x = v[i:i+length]\n",
    "    y = t[i+length]\n",
    "    hist.append(x)\n",
    "    target.append(y)"
   ]
  },
  {
   "cell_type": "code",
   "execution_count": 38,
   "id": "f254c217",
   "metadata": {
    "scrolled": true
   },
   "outputs": [
    {
     "name": "stdout",
     "output_type": "stream",
     "text": [
      "7\n",
      "473\n",
      "473\n"
     ]
    }
   ],
   "source": [
    "print(len(hist[0]))\n",
    "print(len(hist))\n",
    "print(len(target))"
   ]
  },
  {
   "cell_type": "code",
   "execution_count": 39,
   "id": "3671c796",
   "metadata": {},
   "outputs": [],
   "source": [
    "#convert list to array\n",
    "hist = np.array(hist)\n",
    "target = np.array(target)"
   ]
  },
  {
   "cell_type": "code",
   "execution_count": 40,
   "id": "56c934f1",
   "metadata": {},
   "outputs": [
    {
     "data": {
      "text/plain": [
       "(473, 1)"
      ]
     },
     "execution_count": 40,
     "metadata": {},
     "output_type": "execute_result"
    }
   ],
   "source": [
    "target = target.reshape(-1,1)\n",
    "target.shape"
   ]
  },
  {
   "cell_type": "code",
   "execution_count": 41,
   "id": "f85c3825",
   "metadata": {},
   "outputs": [],
   "source": [
    "training_size = int(len(data2)*0.8)\n",
    "\n",
    "X_train = hist[:training_size,:]\n",
    "X_test = hist[training_size:,:]\n",
    "\n",
    "y_train = target[:training_size]\n",
    "y_test = target[training_size:]"
   ]
  },
  {
   "cell_type": "code",
   "execution_count": 42,
   "id": "efc29939",
   "metadata": {},
   "outputs": [
    {
     "data": {
      "text/plain": [
       "(384, 7, 6)"
      ]
     },
     "execution_count": 42,
     "metadata": {},
     "output_type": "execute_result"
    }
   ],
   "source": [
    "X_train.shape"
   ]
  },
  {
   "cell_type": "code",
   "execution_count": 43,
   "id": "37202683",
   "metadata": {},
   "outputs": [
    {
     "name": "stdout",
     "output_type": "stream",
     "text": [
      "Model: \"sequential_1\"\n",
      "_________________________________________________________________\n",
      " Layer (type)                Output Shape              Param #   \n",
      "=================================================================\n",
      " lstm_3 (LSTM)               (None, 7, 20)             2160      \n",
      "                                                                 \n",
      " lstm_4 (LSTM)               (None, 7, 32)             6784      \n",
      "                                                                 \n",
      " lstm_5 (LSTM)               (None, 32)                8320      \n",
      "                                                                 \n",
      " dense_1 (Dense)             (None, 1)                 33        \n",
      "                                                                 \n",
      "=================================================================\n",
      "Total params: 17,297\n",
      "Trainable params: 17,297\n",
      "Non-trainable params: 0\n",
      "_________________________________________________________________\n"
     ]
    }
   ],
   "source": [
    "model2 = tf.keras.Sequential()\n",
    "\n",
    "model2.add(layers.LSTM(units=20, activation = 'relu', return_sequences=True,\n",
    "                  input_shape=(7,6), dropout = 0.2))\n",
    "\n",
    "model2.add(layers.LSTM(units=32, return_sequences=True,\n",
    "                  dropout=0.2))\n",
    "\n",
    "model2.add(layers.LSTM(units=32, activation = 'relu', dropout=0.2))\n",
    "\n",
    "#model.add(layers.LSTM(units=55, return_sequences = True, dropout = 0.2))\n",
    "\n",
    "#model.add(layers.LSTM(units = 80, activation = 'relu', dropout = 0.2))\n",
    "\n",
    "model2.add(layers.Dense(units=1))\n",
    "\n",
    "model2.summary()"
   ]
  },
  {
   "cell_type": "code",
   "execution_count": 44,
   "id": "9886005f",
   "metadata": {},
   "outputs": [],
   "source": [
    "model2.compile(optimizer='adam', loss='mean_squared_error')"
   ]
  },
  {
   "cell_type": "code",
   "execution_count": 45,
   "id": "773781e5",
   "metadata": {},
   "outputs": [
    {
     "name": "stdout",
     "output_type": "stream",
     "text": [
      "Epoch 1/30\n",
      "10/10 [==============================] - 4s 85ms/step - loss: 0.1133 - val_loss: 0.3781\n",
      "Epoch 2/30\n",
      "10/10 [==============================] - 0s 14ms/step - loss: 0.0537 - val_loss: 0.2138\n",
      "Epoch 3/30\n",
      "10/10 [==============================] - 0s 12ms/step - loss: 0.0308 - val_loss: 0.1104\n",
      "Epoch 4/30\n",
      "10/10 [==============================] - 0s 11ms/step - loss: 0.0471 - val_loss: 0.1200\n",
      "Epoch 5/30\n",
      "10/10 [==============================] - 0s 11ms/step - loss: 0.0427 - val_loss: 0.1317\n",
      "Epoch 6/30\n",
      "10/10 [==============================] - 0s 12ms/step - loss: 0.0354 - val_loss: 0.1080\n",
      "Epoch 7/30\n",
      "10/10 [==============================] - 0s 11ms/step - loss: 0.0306 - val_loss: 0.0755\n",
      "Epoch 8/30\n",
      "10/10 [==============================] - 0s 11ms/step - loss: 0.0286 - val_loss: 0.0538\n",
      "Epoch 9/30\n",
      "10/10 [==============================] - 0s 12ms/step - loss: 0.0270 - val_loss: 0.0353\n",
      "Epoch 10/30\n",
      "10/10 [==============================] - 0s 11ms/step - loss: 0.0226 - val_loss: 0.0254\n",
      "Epoch 11/30\n",
      "10/10 [==============================] - 0s 12ms/step - loss: 0.0175 - val_loss: 0.0151\n",
      "Epoch 12/30\n",
      "10/10 [==============================] - 0s 12ms/step - loss: 0.0154 - val_loss: 0.0083\n",
      "Epoch 13/30\n",
      "10/10 [==============================] - 0s 12ms/step - loss: 0.0189 - val_loss: 0.0107\n",
      "Epoch 14/30\n",
      "10/10 [==============================] - 0s 11ms/step - loss: 0.0114 - val_loss: 0.0076\n",
      "Epoch 15/30\n",
      "10/10 [==============================] - 0s 12ms/step - loss: 0.0132 - val_loss: 0.0111\n",
      "Epoch 16/30\n",
      "10/10 [==============================] - 0s 11ms/step - loss: 0.0123 - val_loss: 0.0081\n",
      "Epoch 17/30\n",
      "10/10 [==============================] - 0s 11ms/step - loss: 0.0137 - val_loss: 0.0152\n",
      "Epoch 18/30\n",
      "10/10 [==============================] - 0s 14ms/step - loss: 0.0123 - val_loss: 0.0112\n",
      "Epoch 19/30\n",
      "10/10 [==============================] - 0s 12ms/step - loss: 0.0112 - val_loss: 0.0089\n",
      "Epoch 20/30\n",
      "10/10 [==============================] - 0s 12ms/step - loss: 0.0104 - val_loss: 0.0113\n",
      "Epoch 21/30\n",
      "10/10 [==============================] - 0s 12ms/step - loss: 0.0107 - val_loss: 0.0133\n",
      "Epoch 22/30\n",
      "10/10 [==============================] - 0s 11ms/step - loss: 0.0104 - val_loss: 0.0168\n",
      "Epoch 23/30\n",
      "10/10 [==============================] - 0s 11ms/step - loss: 0.0096 - val_loss: 0.0170\n",
      "Epoch 24/30\n",
      "10/10 [==============================] - 0s 11ms/step - loss: 0.0080 - val_loss: 0.0190\n",
      "Epoch 25/30\n",
      "10/10 [==============================] - 0s 12ms/step - loss: 0.0085 - val_loss: 0.0205\n",
      "Epoch 26/30\n",
      "10/10 [==============================] - 0s 13ms/step - loss: 0.0082 - val_loss: 0.0215\n",
      "Epoch 27/30\n",
      "10/10 [==============================] - 0s 15ms/step - loss: 0.0089 - val_loss: 0.0221\n",
      "Epoch 28/30\n",
      "10/10 [==============================] - 0s 13ms/step - loss: 0.0078 - val_loss: 0.0248\n",
      "Epoch 29/30\n",
      "10/10 [==============================] - 0s 12ms/step - loss: 0.0078 - val_loss: 0.0277\n",
      "Epoch 30/30\n",
      "10/10 [==============================] - 0s 12ms/step - loss: 0.0078 - val_loss: 0.0274\n"
     ]
    }
   ],
   "source": [
    "history = model2.fit(X_train, y_train, epochs=30, batch_size=32, validation_split=0.2, shuffle = False)"
   ]
  },
  {
   "cell_type": "code",
   "execution_count": 46,
   "id": "ad9615ac",
   "metadata": {},
   "outputs": [
    {
     "data": {
      "image/png": "[encoded data removed]",
      "text/plain": [
       "<Figure size 864x576 with 1 Axes>"
      ]
     },
     "metadata": {
      "needs_background": "light"
     },
     "output_type": "display_data"
    }
   ],
   "source": [
    "loss = history.history['loss']\n",
    "val_loss = history.history['val_loss']\n",
    "epoch_count = range(len(loss))\n",
    "plt.figure(figsize=(12,8))\n",
    "plt.plot(epoch_count, loss, 'r', label='Training loss')\n",
    "plt.plot(epoch_count, val_loss, 'b', label='Validation loss')\n",
    "plt.legend(['Training Loss','Validation Loss'])\n",
    "plt.xlabel('Epoch')\n",
    "plt.ylabel('Loss')\n",
    "plt.show();"
   ]
  },
  {
   "cell_type": "code",
   "execution_count": 47,
   "id": "40cc3154",
   "metadata": {},
   "outputs": [],
   "source": [
    "pred_test = model2.predict(X_test)\n",
    "pred_train = model2.predict (X_train)"
   ]
  },
  {
   "cell_type": "code",
   "execution_count": 48,
   "id": "1c911f81",
   "metadata": {},
   "outputs": [
    {
     "data": {
      "text/html": [
       "<div>\n",
       "<style scoped>\n",
       "    .dataframe tbody tr th:only-of-type {\n",
       "        vertical-align: middle;\n",
       "    }\n",
       "\n",
       "    .dataframe tbody tr th {\n",
       "        vertical-align: top;\n",
       "    }\n",
       "\n",
       "    .dataframe thead th {\n",
       "        text-align: right;\n",
       "    }\n",
       "</style>\n",
       "<table border=\"1\" class=\"dataframe\">\n",
       "  <thead>\n",
       "    <tr style=\"text-align: right;\">\n",
       "      <th></th>\n",
       "      <th>y_test</th>\n",
       "      <th>Predictions</th>\n",
       "      <th>Date</th>\n",
       "    </tr>\n",
       "  </thead>\n",
       "  <tbody>\n",
       "    <tr>\n",
       "      <th>0</th>\n",
       "      <td>0.552084</td>\n",
       "      <td>0.528236</td>\n",
       "      <td>2022-01-27</td>\n",
       "    </tr>\n",
       "    <tr>\n",
       "      <th>1</th>\n",
       "      <td>0.582594</td>\n",
       "      <td>0.520217</td>\n",
       "      <td>2022-01-28</td>\n",
       "    </tr>\n",
       "    <tr>\n",
       "      <th>2</th>\n",
       "      <td>0.588083</td>\n",
       "      <td>0.514634</td>\n",
       "      <td>2022-01-29</td>\n",
       "    </tr>\n",
       "    <tr>\n",
       "      <th>3</th>\n",
       "      <td>0.556840</td>\n",
       "      <td>0.513996</td>\n",
       "      <td>2022-01-30</td>\n",
       "    </tr>\n",
       "    <tr>\n",
       "      <th>4</th>\n",
       "      <td>0.570291</td>\n",
       "      <td>0.513559</td>\n",
       "      <td>2022-01-31</td>\n",
       "    </tr>\n",
       "  </tbody>\n",
       "</table>\n",
       "</div>"
      ],
      "text/plain": [
       "     y_test  Predictions       Date\n",
       "0  0.552084     0.528236 2022-01-27\n",
       "1  0.582594     0.520217 2022-01-28\n",
       "2  0.588083     0.514634 2022-01-29\n",
       "3  0.556840     0.513996 2022-01-30\n",
       "4  0.570291     0.513559 2022-01-31"
      ]
     },
     "execution_count": 48,
     "metadata": {},
     "output_type": "execute_result"
    }
   ],
   "source": [
    "results = np.concatenate((y_test, pred_test), axis=1)\n",
    "results = pd.DataFrame(results, columns = ['y_test', 'Predictions'])\n",
    "a = data2['close'].tail(len(pred_test))\n",
    "a = list(a.index)\n",
    "results['Date'] = a\n",
    "results['Date'] = pd.to_datetime(results['Date'])\n",
    "results.tail()\n",
    "results.head()"
   ]
  },
  {
   "cell_type": "code",
   "execution_count": 49,
   "id": "a172ed59",
   "metadata": {},
   "outputs": [
    {
     "data": {
      "image/png": "[encoded data removed]",
      "text/plain": [
       "<Figure size 864x576 with 1 Axes>"
      ]
     },
     "metadata": {
      "needs_background": "light"
     },
     "output_type": "display_data"
    }
   ],
   "source": [
    "plt.figure(figsize=(12,8))\n",
    "plt.plot(y_test, color='blue', label='Real')\n",
    "plt.plot(pred_test, color='red', label='Prediction')\n",
    "plt.title('MATIC Price Prediction')\n",
    "plt.legend()\n",
    "plt.show()"
   ]
  },
  {
   "cell_type": "code",
   "execution_count": 50,
   "id": "df424692",
   "metadata": {},
   "outputs": [
    {
     "name": "stdout",
     "output_type": "stream",
     "text": [
      "Train data RMSE:  0.09127586075506833\n",
      "Train data MSE:  0.008331282756578622\n",
      "Train data MAE:  0.059494820490843425\n",
      "-------------------------------------------------------------------------------------\n",
      "Test data RMSE:  0.05845753143041022\n",
      "Test data MSE:  0.003417282980937399\n",
      "Test data MAE:  0.0430260597086085\n"
     ]
    }
   ],
   "source": [
    "# Evaluation metrices RMSE and MAE\n",
    "print(\"Train data RMSE: \", math.sqrt(mean_squared_error(y_train,pred_train)))\n",
    "print(\"Train data MSE: \", mean_squared_error(y_train,pred_train))\n",
    "print(\"Train data MAE: \", mean_absolute_error(y_train,pred_train))\n",
    "print(\"-------------------------------------------------------------------------------------\")\n",
    "print(\"Test data RMSE: \", math.sqrt(mean_squared_error(y_test,pred_test)))\n",
    "print(\"Test data MSE: \", mean_squared_error(y_test,pred_test))\n",
    "print(\"Test data MAE: \", mean_absolute_error(y_test,pred_test))"
   ]
  },
  {
   "cell_type": "code",
   "execution_count": 51,
   "id": "ba69dfcd",
   "metadata": {
    "scrolled": true
   },
   "outputs": [
    {
     "name": "stdout",
     "output_type": "stream",
     "text": [
      "Train data R2 score: 0.8677517908366165\n",
      "Test data R2 score: -0.19502611534850334\n"
     ]
    }
   ],
   "source": [
    "print(\"Train data R2 score:\", r2_score(y_train, pred_train))\n",
    "print(\"Test data R2 score:\", r2_score(y_test, pred_test))"
   ]
  },
  {
   "cell_type": "markdown",
   "id": "8d232550",
   "metadata": {},
   "source": [
    "# Model 2: XGBoost Regressor   <a name=\"xgboost2\"></a>"
   ]
  },
  {
   "cell_type": "code",
   "execution_count": 52,
   "id": "95597b79",
   "metadata": {},
   "outputs": [],
   "source": [
    "data3 = matic.copy()"
   ]
  },
  {
   "cell_type": "code",
   "execution_count": 53,
   "id": "a05b12f5",
   "metadata": {
    "scrolled": false
   },
   "outputs": [
    {
     "name": "stdout",
     "output_type": "stream",
     "text": [
      "Total data for prediction:  480\n"
     ]
    }
   ],
   "source": [
    "data3.reset_index(inplace = True)\n",
    "data3 = data3[data3['Date'] >= '2021-01-01']               \n",
    "data3.set_index('Date', inplace = True)\n",
    "print(\"Total data for prediction: \",data3.shape[0])"
   ]
  },
  {
   "cell_type": "code",
   "execution_count": 54,
   "id": "f8fef781",
   "metadata": {},
   "outputs": [
    {
     "data": {
      "text/plain": [
       "(480, 7)"
      ]
     },
     "execution_count": 54,
     "metadata": {},
     "output_type": "execute_result"
    }
   ],
   "source": [
    "data3.shape"
   ]
  },
  {
   "cell_type": "code",
   "execution_count": 55,
   "id": "0906905c",
   "metadata": {},
   "outputs": [
    {
     "name": "stdout",
     "output_type": "stream",
     "text": [
      "train_data:  (384, 7)\n",
      "test_data:  (96, 7)\n"
     ]
    }
   ],
   "source": [
    "training_size=int(len(data3)*0.80)\n",
    "test_size=len(data3)-training_size\n",
    "train_data,test_data=data3.iloc[:training_size,:],data3.iloc[training_size:,:]\n",
    "print(\"train_data: \", train_data.shape)\n",
    "print(\"test_data: \", test_data.shape)"
   ]
  },
  {
   "cell_type": "code",
   "execution_count": 56,
   "id": "70e9aaf7",
   "metadata": {},
   "outputs": [
    {
     "data": {
      "image/png": "[encoded data removed]",
      "text/plain": [
       "<Figure size 1080x432 with 1 Axes>"
      ]
     },
     "metadata": {
      "needs_background": "light"
     },
     "output_type": "display_data"
    }
   ],
   "source": [
    "data3.reset_index(inplace = True)\n",
    "fig, ax = plt.subplots(figsize=(15, 6))\n",
    "sns.lineplot(x = data3['Date'][:training_size], y = data3['close'][:training_size], color = 'blue')\n",
    "sns.lineplot(x = data3['Date'][training_size:], y =data3['close'][training_size:], color = 'orange')\n",
    "\n",
    "# Formatting\n",
    "ax.set_title('Train & Test data', fontsize = 20, loc='center', fontdict=dict(weight='bold'))\n",
    "ax.set_xlabel('Date', fontsize = 16, fontdict=dict(weight='bold'))\n",
    "ax.set_ylabel('Weekly Sales', fontsize = 16, fontdict=dict(weight='bold'))\n",
    "plt.tick_params(axis='y', which='major', labelsize=16)\n",
    "plt.tick_params(axis='x', which='major', labelsize=5)\n",
    "plt.xticks(rotation = 'vertical')\n",
    "plt.legend(loc='upper right' ,labels = ('train', 'test'))\n",
    "plt.show()"
   ]
  },
  {
   "cell_type": "code",
   "execution_count": 57,
   "id": "404bc424",
   "metadata": {},
   "outputs": [],
   "source": [
    "data3.set_index('Date', inplace = True)"
   ]
  },
  {
   "cell_type": "code",
   "execution_count": 58,
   "id": "acff2e2f",
   "metadata": {},
   "outputs": [],
   "source": [
    "# convert an array of values into a dataset matrix\n",
    "def create_dataset(dataset, time_step=1):\n",
    "    dataX, dataY = [], []\n",
    "    for i in range(len(dataset)-time_step-1):\n",
    "        a = dataset.iloc[i:(i+time_step), :]   \n",
    "        dataX.append(a)\n",
    "        dataY.append(dataset.iloc[i + time_step, 0])\n",
    "    return np.array(dataX), np.array(dataY)"
   ]
  },
  {
   "cell_type": "code",
   "execution_count": 59,
   "id": "967c856d",
   "metadata": {},
   "outputs": [
    {
     "name": "stdout",
     "output_type": "stream",
     "text": [
      "X_train:  (376, 7, 7)\n",
      "y_train:  (376,)\n",
      "X_test:  (88, 7, 7)\n",
      "y_test (88,)\n"
     ]
    }
   ],
   "source": [
    "time_step = 7\n",
    "X_train, y_train = create_dataset(train_data, time_step)\n",
    "X_test, y_test = create_dataset(test_data, time_step)\n",
    "\n",
    "print(\"X_train: \", X_train.shape)\n",
    "print(\"y_train: \", y_train.shape)\n",
    "print(\"X_test: \", X_test.shape)\n",
    "print(\"y_test\", y_test.shape)"
   ]
  },
  {
   "cell_type": "code",
   "execution_count": 60,
   "id": "73a5548c",
   "metadata": {},
   "outputs": [],
   "source": [
    "nsamples, nx, ny = X_train.shape\n",
    "X_train = X_train.reshape((nsamples,nx*ny))\n",
    "\n",
    "nsamples, nx, ny = X_test.shape\n",
    "X_test = X_test.reshape((nsamples,nx*ny))"
   ]
  },
  {
   "cell_type": "code",
   "execution_count": 61,
   "id": "ac737696",
   "metadata": {},
   "outputs": [
    {
     "data": {
      "text/plain": [
       "XGBRegressor(base_score=0.5, booster='gbtree', callbacks=None,\n",
       "             colsample_bylevel=1, colsample_bynode=1, colsample_bytree=1,\n",
       "             early_stopping_rounds=None, enable_categorical=False, eta=0.2,\n",
       "             eval_metric=None, gamma=0, gpu_id=-1, grow_policy='depthwise',\n",
       "             importance_type=None, interaction_constraints='',\n",
       "             learning_rate=0.200000003, max_bin=256, max_cat_to_onehot=4,\n",
       "             max_delta_step=0, max_depth=6, max_leaves=0, min_child_weight=1,\n",
       "             missing=nan, monotone_constraints='()', n_estimators=1000,\n",
       "             n_jobs=0, num_parallel_tree=1, predictor='auto', random_state=1,\n",
       "             reg_alpha=0, ...)"
      ]
     },
     "execution_count": 61,
     "metadata": {},
     "output_type": "execute_result"
    }
   ],
   "source": [
    "model3 = XGBRegressor(n_estimators=1000, random_state = 1, eta = 0.2)\n",
    "model3.fit(X_train, y_train)"
   ]
  },
  {
   "cell_type": "code",
   "execution_count": 62,
   "id": "d9ed2dea",
   "metadata": {},
   "outputs": [],
   "source": [
    "predictions = model3.predict(X_test).reshape(-1,1)\n",
    "y_test = y_test.reshape(-1,1)\n",
    "\n",
    "predictions_train = model3.predict(X_train).reshape(-1,1)\n",
    "y_train = y_train.reshape(-1,1)"
   ]
  },
  {
   "cell_type": "code",
   "execution_count": 63,
   "id": "2e9baab6",
   "metadata": {},
   "outputs": [
    {
     "data": {
      "text/html": [
       "<div>\n",
       "<style scoped>\n",
       "    .dataframe tbody tr th:only-of-type {\n",
       "        vertical-align: middle;\n",
       "    }\n",
       "\n",
       "    .dataframe tbody tr th {\n",
       "        vertical-align: top;\n",
       "    }\n",
       "\n",
       "    .dataframe thead th {\n",
       "        text-align: right;\n",
       "    }\n",
       "</style>\n",
       "<table border=\"1\" class=\"dataframe\">\n",
       "  <thead>\n",
       "    <tr style=\"text-align: right;\">\n",
       "      <th></th>\n",
       "      <th>y_test</th>\n",
       "      <th>Predictions</th>\n",
       "      <th>Date</th>\n",
       "    </tr>\n",
       "  </thead>\n",
       "  <tbody>\n",
       "    <tr>\n",
       "      <th>83</th>\n",
       "      <td>0.491457</td>\n",
       "      <td>0.493809</td>\n",
       "      <td>2022-04-21</td>\n",
       "    </tr>\n",
       "    <tr>\n",
       "      <th>84</th>\n",
       "      <td>0.478253</td>\n",
       "      <td>0.499741</td>\n",
       "      <td>2022-04-22</td>\n",
       "    </tr>\n",
       "    <tr>\n",
       "      <th>85</th>\n",
       "      <td>0.484972</td>\n",
       "      <td>0.488281</td>\n",
       "      <td>2022-04-23</td>\n",
       "    </tr>\n",
       "    <tr>\n",
       "      <th>86</th>\n",
       "      <td>0.473411</td>\n",
       "      <td>0.477429</td>\n",
       "      <td>2022-04-24</td>\n",
       "    </tr>\n",
       "    <tr>\n",
       "      <th>87</th>\n",
       "      <td>0.465838</td>\n",
       "      <td>0.465044</td>\n",
       "      <td>2022-04-25</td>\n",
       "    </tr>\n",
       "  </tbody>\n",
       "</table>\n",
       "</div>"
      ],
      "text/plain": [
       "      y_test  Predictions       Date\n",
       "83  0.491457     0.493809 2022-04-21\n",
       "84  0.478253     0.499741 2022-04-22\n",
       "85  0.484972     0.488281 2022-04-23\n",
       "86  0.473411     0.477429 2022-04-24\n",
       "87  0.465838     0.465044 2022-04-25"
      ]
     },
     "execution_count": 63,
     "metadata": {},
     "output_type": "execute_result"
    }
   ],
   "source": [
    "results2 = np.concatenate((y_test, predictions), axis = 1)\n",
    "results2 = pd.DataFrame(results2, columns = ['y_test', 'Predictions'])\n",
    "a = data3['close'].tail(len(predictions))\n",
    "a = list(a.index)\n",
    "results2['Date'] = a\n",
    "results2['Date'] = pd.to_datetime(results2['Date'])\n",
    "results2.tail()"
   ]
  },
  {
   "cell_type": "code",
   "execution_count": 64,
   "id": "629b9a32",
   "metadata": {},
   "outputs": [
    {
     "data": {
      "image/png": "[encoded data removed]",
      "text/plain": [
       "<Figure size 960x640 with 1 Axes>"
      ]
     },
     "metadata": {
      "needs_background": "light"
     },
     "output_type": "display_data"
    }
   ],
   "source": [
    "plt.figure(figsize = (12,8), dpi = 80)\n",
    "plt.plot(results2['Date'], results2['y_test'], 'b', label = 'y_test')\n",
    "plt.plot(results2['Date'], results2['Predictions'], 'r', label = 'Predictions')\n",
    "plt.title ('Predictions vs Real Values of Test Data (cryptocurrency: MATIC)', fontsize = 16, )\n",
    "plt.xlabel('Date', fontsize = 14)\n",
    "plt.ylabel('Price', fontsize = 14)\n",
    "plt.legend()\n",
    "\n",
    "plt.show()"
   ]
  },
  {
   "cell_type": "code",
   "execution_count": 65,
   "id": "e14eda2d",
   "metadata": {},
   "outputs": [
    {
     "name": "stdout",
     "output_type": "stream",
     "text": [
      "Train data MSE:  3.9853202740570274e-07\n",
      "Mean Absolute Error - MAE : 0.0004681256409610305\n",
      "Root Mean squared Error - RMSE : 0.0006312939310699119\n",
      "R^2 Score 0.9999937258919092\n",
      "--------------------------------------------------------------\n",
      "Test data MSE:  0.0010115718180287601\n",
      "Mean Absolute Error - MAE : 0.024629679550430657\n",
      "Root Mean squared Error - RMSE : 0.031805216836688285\n",
      "R^2 Score 0.6433614582900482\n"
     ]
    }
   ],
   "source": [
    "print(\"Train data MSE: \", mean_squared_error(y_train,predictions_train))\n",
    "print(\"Mean Absolute Error - MAE : \" + str(mean_absolute_error(y_train, predictions_train)))\n",
    "print(\"Root Mean squared Error - RMSE : \" + str(math.sqrt(mean_squared_error(y_train, predictions_train))))\n",
    "print('R^2 Score', r2_score(y_train, predictions_train))\n",
    "\n",
    "print (\"--------------------------------------------------------------\")\n",
    "print(\"Test data MSE: \", mean_squared_error(y_test,predictions))\n",
    "print(\"Mean Absolute Error - MAE : \" + str(mean_absolute_error(y_test, predictions)))\n",
    "print(\"Root Mean squared Error - RMSE : \" + str(math.sqrt(mean_squared_error(y_test, predictions))))\n",
    "print('R^2 Score', r2_score(y_test, predictions))"
   ]
  },
  {
   "cell_type": "markdown",
   "id": "e92438c4",
   "metadata": {},
   "source": [
    "# MATIC - since January 2022  <a name=\"jan2022\"></a>"
   ]
  },
  {
   "cell_type": "markdown",
   "id": "708a8c99",
   "metadata": {},
   "source": [
    "# Model 1: LSTM <a name=\"lstm3\"></a>"
   ]
  },
  {
   "cell_type": "code",
   "execution_count": 66,
   "id": "880a53ec",
   "metadata": {},
   "outputs": [
    {
     "name": "stdout",
     "output_type": "stream",
     "text": [
      "Total data for prediction:  115\n"
     ]
    }
   ],
   "source": [
    "data4 = matic.copy()\n",
    "data4.reset_index(inplace = True)\n",
    "data4 = data4[data4['Date'] >= '2022-01-01']\n",
    "data4.set_index('Date', inplace = True)\n",
    "print(\"Total data for prediction: \",data4.shape[0])"
   ]
  },
  {
   "cell_type": "code",
   "execution_count": 67,
   "id": "40ad14ca",
   "metadata": {},
   "outputs": [],
   "source": [
    "hist = []\n",
    "target = []\n",
    "length = 7\n",
    "\n",
    "for i in range(len(data4)-length):\n",
    "    t = data4['close']\n",
    "    v = data4[['close','volume', 'BTC_closeprice', 'volatility', 'close_off_high', 'EUR/USD_close']]\n",
    "    x = v[i:i+length]\n",
    "    y = t[i+length]\n",
    "    hist.append(x)\n",
    "    target.append(y)"
   ]
  },
  {
   "cell_type": "code",
   "execution_count": 68,
   "id": "c88f92e7",
   "metadata": {},
   "outputs": [
    {
     "name": "stdout",
     "output_type": "stream",
     "text": [
      "7\n",
      "108\n",
      "108\n"
     ]
    }
   ],
   "source": [
    "print(len(hist[0]))\n",
    "print(len(hist))\n",
    "print(len(target))"
   ]
  },
  {
   "cell_type": "code",
   "execution_count": 69,
   "id": "3edefe80",
   "metadata": {},
   "outputs": [],
   "source": [
    "#convert list to array\n",
    "hist = np.array(hist)\n",
    "target = np.array(target)"
   ]
  },
  {
   "cell_type": "code",
   "execution_count": 70,
   "id": "4a6f7c4f",
   "metadata": {},
   "outputs": [
    {
     "data": {
      "text/plain": [
       "(108, 1)"
      ]
     },
     "execution_count": 70,
     "metadata": {},
     "output_type": "execute_result"
    }
   ],
   "source": [
    "target = target.reshape(-1,1)\n",
    "target.shape"
   ]
  },
  {
   "cell_type": "code",
   "execution_count": 71,
   "id": "280f743a",
   "metadata": {},
   "outputs": [],
   "source": [
    "training_size = int(len(data4)*0.8)\n",
    "\n",
    "X_train = hist[:training_size,:]\n",
    "X_test = hist[training_size:,:]\n",
    "\n",
    "y_train = target[:training_size]\n",
    "y_test = target[training_size:]"
   ]
  },
  {
   "cell_type": "code",
   "execution_count": 72,
   "id": "28aa3a53",
   "metadata": {},
   "outputs": [
    {
     "data": {
      "text/plain": [
       "(92, 7, 6)"
      ]
     },
     "execution_count": 72,
     "metadata": {},
     "output_type": "execute_result"
    }
   ],
   "source": [
    "X_train.shape"
   ]
  },
  {
   "cell_type": "code",
   "execution_count": 73,
   "id": "2159fa4f",
   "metadata": {},
   "outputs": [
    {
     "name": "stdout",
     "output_type": "stream",
     "text": [
      "Model: \"sequential_2\"\n",
      "_________________________________________________________________\n",
      " Layer (type)                Output Shape              Param #   \n",
      "=================================================================\n",
      " lstm_6 (LSTM)               (None, 7, 20)             2160      \n",
      "                                                                 \n",
      " lstm_7 (LSTM)               (None, 7, 32)             6784      \n",
      "                                                                 \n",
      " lstm_8 (LSTM)               (None, 32)                8320      \n",
      "                                                                 \n",
      " dense_2 (Dense)             (None, 1)                 33        \n",
      "                                                                 \n",
      "=================================================================\n",
      "Total params: 17,297\n",
      "Trainable params: 17,297\n",
      "Non-trainable params: 0\n",
      "_________________________________________________________________\n"
     ]
    }
   ],
   "source": [
    "model4 = tf.keras.Sequential()\n",
    "\n",
    "model4.add(layers.LSTM(units=20, activation = 'relu', return_sequences=True,\n",
    "                  input_shape=(7,6), dropout = 0.2))\n",
    "\n",
    "model4.add(layers.LSTM(units=32, return_sequences=True,\n",
    "                  dropout=0.2))\n",
    "\n",
    "model4.add(layers.LSTM(units=32, activation = 'relu', dropout=0.2))\n",
    "\n",
    "#model.add(layers.LSTM(units=55, return_sequences = True, dropout = 0.2))\n",
    "\n",
    "#model.add(layers.LSTM(units = 80, activation = 'relu', dropout = 0.2))\n",
    "\n",
    "model4.add(layers.Dense(units=1))\n",
    "\n",
    "model4.summary()"
   ]
  },
  {
   "cell_type": "code",
   "execution_count": 74,
   "id": "bde4c62c",
   "metadata": {},
   "outputs": [],
   "source": [
    "model4.compile(optimizer='adam', loss='mean_squared_error')"
   ]
  },
  {
   "cell_type": "code",
   "execution_count": 75,
   "id": "eb14e483",
   "metadata": {},
   "outputs": [
    {
     "name": "stdout",
     "output_type": "stream",
     "text": [
      "Epoch 1/30\n",
      "3/3 [==============================] - 4s 273ms/step - loss: 0.3251 - val_loss: 0.2444\n",
      "Epoch 2/30\n",
      "3/3 [==============================] - 0s 22ms/step - loss: 0.2726 - val_loss: 0.1964\n",
      "Epoch 3/30\n",
      "3/3 [==============================] - 0s 23ms/step - loss: 0.2209 - val_loss: 0.1452\n",
      "Epoch 4/30\n",
      "3/3 [==============================] - 0s 22ms/step - loss: 0.1633 - val_loss: 0.0896\n",
      "Epoch 5/30\n",
      "3/3 [==============================] - 0s 22ms/step - loss: 0.1010 - val_loss: 0.0355\n",
      "Epoch 6/30\n",
      "3/3 [==============================] - 0s 22ms/step - loss: 0.0444 - val_loss: 0.0021\n",
      "Epoch 7/30\n",
      "3/3 [==============================] - 0s 19ms/step - loss: 0.0210 - val_loss: 0.0136\n",
      "Epoch 8/30\n",
      "3/3 [==============================] - 0s 20ms/step - loss: 0.0270 - val_loss: 0.0194\n",
      "Epoch 9/30\n",
      "3/3 [==============================] - 0s 19ms/step - loss: 0.0231 - val_loss: 0.0071\n",
      "Epoch 10/30\n",
      "3/3 [==============================] - 0s 20ms/step - loss: 0.0141 - val_loss: 8.7422e-04\n",
      "Epoch 11/30\n",
      "3/3 [==============================] - 0s 20ms/step - loss: 0.0095 - val_loss: 0.0039\n",
      "Epoch 12/30\n",
      "3/3 [==============================] - 0s 20ms/step - loss: 0.0128 - val_loss: 0.0072\n",
      "Epoch 13/30\n",
      "3/3 [==============================] - 0s 20ms/step - loss: 0.0182 - val_loss: 0.0069\n",
      "Epoch 14/30\n",
      "3/3 [==============================] - 0s 20ms/step - loss: 0.0174 - val_loss: 0.0041\n",
      "Epoch 15/30\n",
      "3/3 [==============================] - 0s 21ms/step - loss: 0.0123 - val_loss: 0.0016\n",
      "Epoch 16/30\n",
      "3/3 [==============================] - 0s 23ms/step - loss: 0.0123 - val_loss: 9.0830e-04\n",
      "Epoch 17/30\n",
      "3/3 [==============================] - 0s 24ms/step - loss: 0.0119 - val_loss: 0.0018\n",
      "Epoch 18/30\n",
      "3/3 [==============================] - 0s 20ms/step - loss: 0.0117 - val_loss: 0.0021\n",
      "Epoch 19/30\n",
      "3/3 [==============================] - 0s 20ms/step - loss: 0.0123 - val_loss: 0.0012\n",
      "Epoch 20/30\n",
      "3/3 [==============================] - 0s 22ms/step - loss: 0.0123 - val_loss: 9.8559e-04\n",
      "Epoch 21/30\n",
      "3/3 [==============================] - 0s 21ms/step - loss: 0.0112 - val_loss: 0.0021\n",
      "Epoch 22/30\n",
      "3/3 [==============================] - 0s 21ms/step - loss: 0.0137 - val_loss: 0.0028\n",
      "Epoch 23/30\n",
      "3/3 [==============================] - 0s 22ms/step - loss: 0.0127 - val_loss: 0.0026\n",
      "Epoch 24/30\n",
      "3/3 [==============================] - 0s 19ms/step - loss: 0.0109 - val_loss: 0.0017\n",
      "Epoch 25/30\n",
      "3/3 [==============================] - 0s 19ms/step - loss: 0.0124 - val_loss: 0.0010\n",
      "Epoch 26/30\n",
      "3/3 [==============================] - 0s 18ms/step - loss: 0.0108 - val_loss: 8.9679e-04\n",
      "Epoch 27/30\n",
      "3/3 [==============================] - 0s 18ms/step - loss: 0.0100 - val_loss: 9.4491e-04\n",
      "Epoch 28/30\n",
      "3/3 [==============================] - 0s 18ms/step - loss: 0.0095 - val_loss: 9.1671e-04\n",
      "Epoch 29/30\n",
      "3/3 [==============================] - 0s 20ms/step - loss: 0.0093 - val_loss: 9.3215e-04\n",
      "Epoch 30/30\n",
      "3/3 [==============================] - 0s 19ms/step - loss: 0.0097 - val_loss: 0.0012\n"
     ]
    }
   ],
   "source": [
    "history = model4.fit(X_train, y_train, epochs=30, batch_size=32, validation_split=0.2, shuffle = False)"
   ]
  },
  {
   "cell_type": "code",
   "execution_count": 76,
   "id": "8e6660df",
   "metadata": {},
   "outputs": [
    {
     "data": {
      "image/png": "[encoded data removed]",
      "text/plain": [
       "<Figure size 864x576 with 1 Axes>"
      ]
     },
     "metadata": {
      "needs_background": "light"
     },
     "output_type": "display_data"
    }
   ],
   "source": [
    "loss = history.history['loss']\n",
    "val_loss = history.history['val_loss']\n",
    "epoch_count = range(len(loss))\n",
    "plt.figure(figsize=(12,8))\n",
    "plt.plot(epoch_count, loss, 'r', label='Training loss')\n",
    "plt.plot(epoch_count, val_loss, 'b', label='Validation loss')\n",
    "plt.legend(['Training Loss','Validation Loss'])\n",
    "plt.xlabel('Epoch')\n",
    "plt.ylabel('Loss')\n",
    "plt.show();"
   ]
  },
  {
   "cell_type": "code",
   "execution_count": 77,
   "id": "bb67b8f8",
   "metadata": {},
   "outputs": [],
   "source": [
    "pred_test = model4.predict(X_test)\n",
    "pred_train = model4.predict (X_train)"
   ]
  },
  {
   "cell_type": "code",
   "execution_count": 78,
   "id": "cc9dfcc4",
   "metadata": {},
   "outputs": [
    {
     "data": {
      "text/html": [
       "<div>\n",
       "<style scoped>\n",
       "    .dataframe tbody tr th:only-of-type {\n",
       "        vertical-align: middle;\n",
       "    }\n",
       "\n",
       "    .dataframe tbody tr th {\n",
       "        vertical-align: top;\n",
       "    }\n",
       "\n",
       "    .dataframe thead th {\n",
       "        text-align: right;\n",
       "    }\n",
       "</style>\n",
       "<table border=\"1\" class=\"dataframe\">\n",
       "  <thead>\n",
       "    <tr style=\"text-align: right;\">\n",
       "      <th></th>\n",
       "      <th>y_test</th>\n",
       "      <th>Predictions</th>\n",
       "      <th>Date</th>\n",
       "    </tr>\n",
       "  </thead>\n",
       "  <tbody>\n",
       "    <tr>\n",
       "      <th>11</th>\n",
       "      <td>0.478253</td>\n",
       "      <td>0.504434</td>\n",
       "      <td>2022-04-21</td>\n",
       "    </tr>\n",
       "    <tr>\n",
       "      <th>12</th>\n",
       "      <td>0.484972</td>\n",
       "      <td>0.505171</td>\n",
       "      <td>2022-04-22</td>\n",
       "    </tr>\n",
       "    <tr>\n",
       "      <th>13</th>\n",
       "      <td>0.473411</td>\n",
       "      <td>0.504089</td>\n",
       "      <td>2022-04-23</td>\n",
       "    </tr>\n",
       "    <tr>\n",
       "      <th>14</th>\n",
       "      <td>0.465838</td>\n",
       "      <td>0.503368</td>\n",
       "      <td>2022-04-24</td>\n",
       "    </tr>\n",
       "    <tr>\n",
       "      <th>15</th>\n",
       "      <td>0.468774</td>\n",
       "      <td>0.504767</td>\n",
       "      <td>2022-04-25</td>\n",
       "    </tr>\n",
       "  </tbody>\n",
       "</table>\n",
       "</div>"
      ],
      "text/plain": [
       "      y_test  Predictions       Date\n",
       "11  0.478253     0.504434 2022-04-21\n",
       "12  0.484972     0.505171 2022-04-22\n",
       "13  0.473411     0.504089 2022-04-23\n",
       "14  0.465838     0.503368 2022-04-24\n",
       "15  0.468774     0.504767 2022-04-25"
      ]
     },
     "execution_count": 78,
     "metadata": {},
     "output_type": "execute_result"
    }
   ],
   "source": [
    "results = np.concatenate((y_test, pred_test), axis=1)\n",
    "results = pd.DataFrame(results, columns = ['y_test', 'Predictions'])\n",
    "a = data4['close'].tail(len(pred_test))\n",
    "a = list(a.index)\n",
    "results['Date'] = a\n",
    "results['Date'] = pd.to_datetime(results['Date'])\n",
    "results.tail()"
   ]
  },
  {
   "cell_type": "code",
   "execution_count": 79,
   "id": "35ef0410",
   "metadata": {},
   "outputs": [
    {
     "data": {
      "image/png": "[encoded data removed]",
      "text/plain": [
       "<Figure size 960x640 with 1 Axes>"
      ]
     },
     "metadata": {
      "needs_background": "light"
     },
     "output_type": "display_data"
    }
   ],
   "source": [
    "plt.figure(figsize = (12,8), dpi = 80)\n",
    "plt.plot(results['Date'], results['y_test'], 'b', label = 'y_test')\n",
    "plt.plot(results['Date'], results['Predictions'], 'r', label = 'Predictions')\n",
    "plt.title ('Predictions vs Real Values of Test Data (cryptocurrency: MATIC)', fontsize = 16,)\n",
    "plt.xlabel('Date', fontsize = 14)\n",
    "plt.ylabel('Price', fontsize = 14)\n",
    "plt.legend()\n",
    "\n",
    "plt.show()"
   ]
  },
  {
   "cell_type": "code",
   "execution_count": 80,
   "id": "ea92e161",
   "metadata": {},
   "outputs": [
    {
     "name": "stdout",
     "output_type": "stream",
     "text": [
      "Train data RMSE:  0.0772956232587302\n",
      "Train data MSE:  0.005974613374955554\n",
      "Train data MAE:  0.05181778074614278\n",
      "-------------------------------------------------------------------------------------\n",
      "Test data RMSE:  0.03070620083274641\n",
      "Test data MSE:  0.0009428707695809562\n",
      "Test data MAE:  0.02801632762904038\n"
     ]
    }
   ],
   "source": [
    "# Evaluation metrices RMSE and MAE\n",
    "print(\"Train data RMSE: \", math.sqrt(mean_squared_error(y_train,pred_train)))\n",
    "print(\"Train data MSE: \", mean_squared_error(y_train,pred_train))\n",
    "print(\"Train data MAE: \", mean_absolute_error(y_train,pred_train))\n",
    "print(\"-------------------------------------------------------------------------------------\")\n",
    "print(\"Test data RMSE: \", math.sqrt(mean_squared_error(y_test,pred_test)))\n",
    "print(\"Test data MSE: \", mean_squared_error(y_test,pred_test))\n",
    "print(\"Test data MAE: \", mean_absolute_error(y_test,pred_test))"
   ]
  },
  {
   "cell_type": "code",
   "execution_count": 81,
   "id": "22ca4419",
   "metadata": {
    "scrolled": true
   },
   "outputs": [
    {
     "name": "stdout",
     "output_type": "stream",
     "text": [
      "Train data R2 score: 0.24436436702815378\n",
      "Test data R2 score: -6.687433442887299\n"
     ]
    }
   ],
   "source": [
    "print(\"Train data R2 score:\", r2_score(y_train, pred_train))\n",
    "print(\"Test data R2 score:\", r2_score(y_test, pred_test))"
   ]
  },
  {
   "cell_type": "markdown",
   "id": "ad865093",
   "metadata": {},
   "source": [
    "# Model 2: XGBoost Regressor   <a name=\"xgboost3\"></a>"
   ]
  },
  {
   "cell_type": "code",
   "execution_count": 82,
   "id": "f7fccbc8",
   "metadata": {},
   "outputs": [
    {
     "name": "stdout",
     "output_type": "stream",
     "text": [
      "Total data for prediction:  115\n"
     ]
    }
   ],
   "source": [
    "data5= matic.copy()\n",
    "data5.reset_index(inplace = True)\n",
    "data5 = data5[data5['Date'] >= '2022-01-01']\n",
    "data5.set_index('Date', inplace = True)\n",
    "print(\"Total data for prediction: \",data5.shape[0])"
   ]
  },
  {
   "cell_type": "code",
   "execution_count": 83,
   "id": "5b9ac483",
   "metadata": {},
   "outputs": [
    {
     "name": "stdout",
     "output_type": "stream",
     "text": [
      "train_data:  (92, 7)\n",
      "test_data:  (23, 7)\n"
     ]
    }
   ],
   "source": [
    "training_size=int(len(data5)*0.80)\n",
    "test_size=len(data5)-training_size\n",
    "train_data,test_data=data5.iloc[:training_size,:],data5.iloc[training_size:,:]\n",
    "print(\"train_data: \", train_data.shape)\n",
    "print(\"test_data: \", test_data.shape)"
   ]
  },
  {
   "cell_type": "code",
   "execution_count": 84,
   "id": "c7b8ee15",
   "metadata": {
    "scrolled": true
   },
   "outputs": [
    {
     "data": {
      "image/png": "[encoded data removed]",
      "text/plain": [
       "<Figure size 1080x432 with 1 Axes>"
      ]
     },
     "metadata": {
      "needs_background": "light"
     },
     "output_type": "display_data"
    }
   ],
   "source": [
    "data5.reset_index(inplace = True)\n",
    "fig, ax = plt.subplots(figsize=(15, 6))\n",
    "sns.lineplot(x = data5['Date'][:training_size], y = data5['close'][:training_size], color = 'blue')\n",
    "sns.lineplot(x = data5['Date'][training_size:], y = data5['close'][training_size:], color = 'orange')\n",
    "\n",
    "# Formatting\n",
    "ax.set_title('Train & Test data', fontsize = 20, loc='center', fontdict=dict(weight='bold'))\n",
    "ax.set_xlabel('Date', fontsize = 16, fontdict=dict(weight='bold'))\n",
    "ax.set_ylabel('Weekly Sales', fontsize = 16, fontdict=dict(weight='bold'))\n",
    "plt.tick_params(axis='y', which='major', labelsize=16)\n",
    "plt.tick_params(axis='x', which='major', labelsize=5)\n",
    "plt.xticks(rotation = 'vertical')\n",
    "plt.legend(loc='upper right' ,labels = ('train', 'test'))\n",
    "plt.show()"
   ]
  },
  {
   "cell_type": "code",
   "execution_count": 85,
   "id": "2d760131",
   "metadata": {},
   "outputs": [],
   "source": [
    "data5.set_index('Date', inplace = True)"
   ]
  },
  {
   "cell_type": "code",
   "execution_count": 86,
   "id": "1cc60c5a",
   "metadata": {},
   "outputs": [],
   "source": [
    "# convert an array of values into a dataset matrix\n",
    "def create_dataset(dataset, time_step=1):\n",
    "    dataX, dataY = [], []\n",
    "    for i in range(len(dataset)-time_step-1):\n",
    "        a = dataset.iloc[i:(i+time_step), :]   \n",
    "        dataX.append(a)\n",
    "        dataY.append(dataset.iloc[i + time_step, 0])\n",
    "    return np.array(dataX), np.array(dataY)"
   ]
  },
  {
   "cell_type": "code",
   "execution_count": 87,
   "id": "1ccdd34d",
   "metadata": {},
   "outputs": [
    {
     "name": "stdout",
     "output_type": "stream",
     "text": [
      "X_train:  (84, 7, 7)\n",
      "y_train:  (84,)\n",
      "X_test:  (15, 7, 7)\n",
      "y_test (15,)\n"
     ]
    }
   ],
   "source": [
    "time_step = 7\n",
    "X_train, y_train = create_dataset(train_data, time_step)\n",
    "X_test, y_test = create_dataset(test_data, time_step)\n",
    "\n",
    "print(\"X_train: \", X_train.shape)\n",
    "print(\"y_train: \", y_train.shape)\n",
    "print(\"X_test: \", X_test.shape)\n",
    "print(\"y_test\", y_test.shape)"
   ]
  },
  {
   "cell_type": "code",
   "execution_count": 88,
   "id": "1c99c283",
   "metadata": {},
   "outputs": [],
   "source": [
    "nsamples, nx, ny = X_train.shape\n",
    "X_train = X_train.reshape((nsamples,nx*ny))\n",
    "\n",
    "nsamples, nx, ny = X_test.shape\n",
    "X_test = X_test.reshape((nsamples,nx*ny))"
   ]
  },
  {
   "cell_type": "code",
   "execution_count": 89,
   "id": "768d4699",
   "metadata": {},
   "outputs": [
    {
     "data": {
      "text/plain": [
       "XGBRegressor(base_score=0.5, booster='gbtree', callbacks=None,\n",
       "             colsample_bylevel=1, colsample_bynode=1, colsample_bytree=1,\n",
       "             early_stopping_rounds=None, enable_categorical=False, eta=0.2,\n",
       "             eval_metric=None, gamma=0, gpu_id=-1, grow_policy='depthwise',\n",
       "             importance_type=None, interaction_constraints='',\n",
       "             learning_rate=0.200000003, max_bin=256, max_cat_to_onehot=4,\n",
       "             max_delta_step=0, max_depth=6, max_leaves=0, min_child_weight=1,\n",
       "             missing=nan, monotone_constraints='()', n_estimators=1000,\n",
       "             n_jobs=0, num_parallel_tree=1, predictor='auto', random_state=1,\n",
       "             reg_alpha=0, ...)"
      ]
     },
     "execution_count": 89,
     "metadata": {},
     "output_type": "execute_result"
    }
   ],
   "source": [
    "model5 = XGBRegressor(n_estimators=1000, random_state = 1, eta = 0.2)\n",
    "model5.fit(X_train, y_train)"
   ]
  },
  {
   "cell_type": "code",
   "execution_count": 90,
   "id": "8a372445",
   "metadata": {},
   "outputs": [],
   "source": [
    "predictions = model5.predict(X_test).reshape(-1,1)\n",
    "y_test = y_test.reshape(-1,1)\n",
    "\n",
    "\n",
    "predictions_train = model5.predict(X_train).reshape(-1,1)\n",
    "y_train = y_train.reshape(-1,1)"
   ]
  },
  {
   "cell_type": "code",
   "execution_count": 91,
   "id": "4cb97fcc",
   "metadata": {},
   "outputs": [
    {
     "data": {
      "text/html": [
       "<div>\n",
       "<style scoped>\n",
       "    .dataframe tbody tr th:only-of-type {\n",
       "        vertical-align: middle;\n",
       "    }\n",
       "\n",
       "    .dataframe tbody tr th {\n",
       "        vertical-align: top;\n",
       "    }\n",
       "\n",
       "    .dataframe thead th {\n",
       "        text-align: right;\n",
       "    }\n",
       "</style>\n",
       "<table border=\"1\" class=\"dataframe\">\n",
       "  <thead>\n",
       "    <tr style=\"text-align: right;\">\n",
       "      <th></th>\n",
       "      <th>y_test</th>\n",
       "      <th>Predictions</th>\n",
       "      <th>Date</th>\n",
       "    </tr>\n",
       "  </thead>\n",
       "  <tbody>\n",
       "    <tr>\n",
       "      <th>10</th>\n",
       "      <td>0.491457</td>\n",
       "      <td>0.505857</td>\n",
       "      <td>2022-04-21</td>\n",
       "    </tr>\n",
       "    <tr>\n",
       "      <th>11</th>\n",
       "      <td>0.478253</td>\n",
       "      <td>0.494270</td>\n",
       "      <td>2022-04-22</td>\n",
       "    </tr>\n",
       "    <tr>\n",
       "      <th>12</th>\n",
       "      <td>0.484972</td>\n",
       "      <td>0.510257</td>\n",
       "      <td>2022-04-23</td>\n",
       "    </tr>\n",
       "    <tr>\n",
       "      <th>13</th>\n",
       "      <td>0.473411</td>\n",
       "      <td>0.512339</td>\n",
       "      <td>2022-04-24</td>\n",
       "    </tr>\n",
       "    <tr>\n",
       "      <th>14</th>\n",
       "      <td>0.465838</td>\n",
       "      <td>0.503304</td>\n",
       "      <td>2022-04-25</td>\n",
       "    </tr>\n",
       "  </tbody>\n",
       "</table>\n",
       "</div>"
      ],
      "text/plain": [
       "      y_test  Predictions       Date\n",
       "10  0.491457     0.505857 2022-04-21\n",
       "11  0.478253     0.494270 2022-04-22\n",
       "12  0.484972     0.510257 2022-04-23\n",
       "13  0.473411     0.512339 2022-04-24\n",
       "14  0.465838     0.503304 2022-04-25"
      ]
     },
     "execution_count": 91,
     "metadata": {},
     "output_type": "execute_result"
    }
   ],
   "source": [
    "results2 = np.concatenate((y_test, predictions), axis = 1)\n",
    "results2 = pd.DataFrame(results2, columns = ['y_test', 'Predictions'])\n",
    "a = data5['close'].tail(len(predictions))\n",
    "a = list(a.index)\n",
    "results2['Date'] = a\n",
    "results2['Date'] = pd.to_datetime(results2['Date'])\n",
    "results2.tail()"
   ]
  },
  {
   "cell_type": "code",
   "execution_count": 92,
   "id": "cf0d4173",
   "metadata": {
    "scrolled": true
   },
   "outputs": [
    {
     "data": {
      "image/png": "[encoded data removed]",
      "text/plain": [
       "<Figure size 960x640 with 1 Axes>"
      ]
     },
     "metadata": {
      "needs_background": "light"
     },
     "output_type": "display_data"
    }
   ],
   "source": [
    "plt.figure(figsize = (12,8), dpi = 80 )\n",
    "plt.plot(results2['Date'], results2['y_test'], 'b', label = 'y_test')\n",
    "plt.plot(results2['Date'], results2['Predictions'], 'r', label = 'Predictions')\n",
    "plt.title ('Predictions vs Real Values of Test Data (cryptocurrency: MATIC)', fontsize = 16, )\n",
    "plt.xlabel('Date', fontsize = 14)\n",
    "plt.ylabel('Price', fontsize = 14)\n",
    "plt.legend()\n",
    "\n",
    "plt.show()"
   ]
  },
  {
   "cell_type": "code",
   "execution_count": 93,
   "id": "bdc2a735",
   "metadata": {},
   "outputs": [
    {
     "name": "stdout",
     "output_type": "stream",
     "text": [
      "Train data MSE:  1.371112366434746e-07\n",
      "Mean Absolute Error - MAE : 0.0002616606722909103\n",
      "Root Mean squared Error - RMSE : 0.00037028534489427827\n",
      "R^2 Score 0.9999836437716435\n",
      "--------------------------------------------------------------\n",
      "Test data MSE:  0.000816973207009344\n",
      "Mean Absolute Error - MAE : 0.02540797109293647\n",
      "Root Mean squared Error - RMSE : 0.028582743168026125\n",
      "R^2 Score -5.764828380329906\n"
     ]
    }
   ],
   "source": [
    "print(\"Train data MSE: \", mean_squared_error(y_train,predictions_train))\n",
    "print(\"Mean Absolute Error - MAE : \" + str(mean_absolute_error(y_train, predictions_train)))\n",
    "print(\"Root Mean squared Error - RMSE : \" + str(math.sqrt(mean_squared_error(y_train, predictions_train))))\n",
    "print('R^2 Score', r2_score(y_train, predictions_train))\n",
    "\n",
    "print (\"--------------------------------------------------------------\")\n",
    "print(\"Test data MSE: \", mean_squared_error(y_test,predictions))\n",
    "print(\"Mean Absolute Error - MAE : \" + str(mean_absolute_error(y_test, predictions)))\n",
    "print(\"Root Mean squared Error - RMSE : \" + str(math.sqrt(mean_squared_error(y_test, predictions))))\n",
    "print('R^2 Score', r2_score(y_test, predictions))"
   ]
  },
  {
   "cell_type": "markdown",
   "id": "c9fc9ba5",
   "metadata": {},
   "source": [
    "# Predictions for the next two days using the best model <a name=\"predictions\"></a>"
   ]
  },
  {
   "cell_type": "code",
   "execution_count": 94,
   "id": "66fb4272",
   "metadata": {},
   "outputs": [],
   "source": [
    "#Importing the dataset with the updated data\n",
    "#Use just the 7 past rows, because our model is predicting based on this sliding window\n",
    "predictions = pd.read_csv('test_MATIC.csv', index_col = 'Date')"
   ]
  },
  {
   "cell_type": "code",
   "execution_count": 95,
   "id": "f0559de4",
   "metadata": {
    "scrolled": true
   },
   "outputs": [
    {
     "data": {
      "text/html": [
       "<div>\n",
       "<style scoped>\n",
       "    .dataframe tbody tr th:only-of-type {\n",
       "        vertical-align: middle;\n",
       "    }\n",
       "\n",
       "    .dataframe tbody tr th {\n",
       "        vertical-align: top;\n",
       "    }\n",
       "\n",
       "    .dataframe thead th {\n",
       "        text-align: right;\n",
       "    }\n",
       "</style>\n",
       "<table border=\"1\" class=\"dataframe\">\n",
       "  <thead>\n",
       "    <tr style=\"text-align: right;\">\n",
       "      <th></th>\n",
       "      <th>close</th>\n",
       "      <th>volume</th>\n",
       "      <th>%D</th>\n",
       "      <th>volatility</th>\n",
       "      <th>close_off_high</th>\n",
       "      <th>EUR/USD_close</th>\n",
       "      <th>BTC_closeprice</th>\n",
       "    </tr>\n",
       "    <tr>\n",
       "      <th>Date</th>\n",
       "      <th></th>\n",
       "      <th></th>\n",
       "      <th></th>\n",
       "      <th></th>\n",
       "      <th></th>\n",
       "      <th></th>\n",
       "      <th></th>\n",
       "    </tr>\n",
       "  </thead>\n",
       "  <tbody>\n",
       "    <tr>\n",
       "      <th>2022-05-02</th>\n",
       "      <td>0.372895</td>\n",
       "      <td>0.077998</td>\n",
       "      <td>0.076977</td>\n",
       "      <td>0.061691</td>\n",
       "      <td>0.957596</td>\n",
       "      <td>0.017292</td>\n",
       "      <td>0.536113</td>\n",
       "    </tr>\n",
       "    <tr>\n",
       "      <th>2022-05-03</th>\n",
       "      <td>0.372326</td>\n",
       "      <td>0.058609</td>\n",
       "      <td>0.110625</td>\n",
       "      <td>0.038474</td>\n",
       "      <td>0.961451</td>\n",
       "      <td>0.002644</td>\n",
       "      <td>0.523670</td>\n",
       "    </tr>\n",
       "    <tr>\n",
       "      <th>2022-05-04</th>\n",
       "      <td>0.405464</td>\n",
       "      <td>0.080514</td>\n",
       "      <td>0.162876</td>\n",
       "      <td>0.088311</td>\n",
       "      <td>0.999886</td>\n",
       "      <td>0.013245</td>\n",
       "      <td>0.554789</td>\n",
       "    </tr>\n",
       "    <tr>\n",
       "      <th>2022-05-05</th>\n",
       "      <td>0.368399</td>\n",
       "      <td>0.082281</td>\n",
       "      <td>0.153229</td>\n",
       "      <td>0.133863</td>\n",
       "      <td>0.876055</td>\n",
       "      <td>0.064389</td>\n",
       "      <td>0.504894</td>\n",
       "    </tr>\n",
       "    <tr>\n",
       "      <th>2022-05-06</th>\n",
       "      <td>0.361233</td>\n",
       "      <td>0.076340</td>\n",
       "      <td>0.134917</td>\n",
       "      <td>0.038684</td>\n",
       "      <td>0.967953</td>\n",
       "      <td>0.019347</td>\n",
       "      <td>0.496359</td>\n",
       "    </tr>\n",
       "    <tr>\n",
       "      <th>2022-05-07</th>\n",
       "      <td>0.353241</td>\n",
       "      <td>0.066992</td>\n",
       "      <td>0.045235</td>\n",
       "      <td>0.052400</td>\n",
       "      <td>0.955935</td>\n",
       "      <td>0.019347</td>\n",
       "      <td>0.487749</td>\n",
       "    </tr>\n",
       "    <tr>\n",
       "      <th>2022-05-08</th>\n",
       "      <td>0.338804</td>\n",
       "      <td>0.062373</td>\n",
       "      <td>0.027520</td>\n",
       "      <td>0.049226</td>\n",
       "      <td>0.952406</td>\n",
       "      <td>0.019347</td>\n",
       "      <td>0.467378</td>\n",
       "    </tr>\n",
       "  </tbody>\n",
       "</table>\n",
       "</div>"
      ],
      "text/plain": [
       "               close    volume        %D  volatility  close_off_high  \\\n",
       "Date                                                                   \n",
       "2022-05-02  0.372895  0.077998  0.076977    0.061691        0.957596   \n",
       "2022-05-03  0.372326  0.058609  0.110625    0.038474        0.961451   \n",
       "2022-05-04  0.405464  0.080514  0.162876    0.088311        0.999886   \n",
       "2022-05-05  0.368399  0.082281  0.153229    0.133863        0.876055   \n",
       "2022-05-06  0.361233  0.076340  0.134917    0.038684        0.967953   \n",
       "2022-05-07  0.353241  0.066992  0.045235    0.052400        0.955935   \n",
       "2022-05-08  0.338804  0.062373  0.027520    0.049226        0.952406   \n",
       "\n",
       "            EUR/USD_close  BTC_closeprice  \n",
       "Date                                       \n",
       "2022-05-02       0.017292        0.536113  \n",
       "2022-05-03       0.002644        0.523670  \n",
       "2022-05-04       0.013245        0.554789  \n",
       "2022-05-05       0.064389        0.504894  \n",
       "2022-05-06       0.019347        0.496359  \n",
       "2022-05-07       0.019347        0.487749  \n",
       "2022-05-08       0.019347        0.467378  "
      ]
     },
     "execution_count": 95,
     "metadata": {},
     "output_type": "execute_result"
    }
   ],
   "source": [
    "predictions.tail(7)"
   ]
  },
  {
   "cell_type": "code",
   "execution_count": 96,
   "id": "7660d24b",
   "metadata": {},
   "outputs": [],
   "source": [
    "predictions1 = predictions.tail(7)\n",
    "predictions1 = np.array(predictions1)"
   ]
  },
  {
   "cell_type": "code",
   "execution_count": 97,
   "id": "4cb389cb",
   "metadata": {},
   "outputs": [],
   "source": [
    "x_input=predictions1[len(predictions1)-time_step:].reshape(1,-1)\n",
    "temp_input=list(x_input)\n",
    "temp_input=temp_input[0].tolist()\n",
    "\n",
    "output9=[]\n",
    "n_steps=7\n",
    "i=0\n",
    "pred_days = 1\n"
   ]
  },
  {
   "cell_type": "code",
   "execution_count": 98,
   "id": "f402a242",
   "metadata": {},
   "outputs": [
    {
     "name": "stdout",
     "output_type": "stream",
     "text": [
      "0 day input [0.37289525 0.07799766 0.07697735 0.06169101 0.95759609 0.01729174\n",
      " 0.53611283 0.37232642 0.05860915 0.11062539 0.0384745  0.96145052\n",
      " 0.00264389 0.52366995 0.4054644  0.08051369 0.16287638 0.08831107\n",
      " 0.99988562 0.01324543 0.55478882 0.36839892 0.08228067 0.15322907\n",
      " 0.13386309 0.87605498 0.06438862 0.5048938  0.36123337 0.07634016\n",
      " 0.13491677 0.03868428 0.96795288 0.01934702 0.49635941 0.35324141\n",
      " 0.06699187 0.04523543 0.0523997  0.95593451 0.01934702 0.48774915\n",
      " 0.3388045  0.0623727  0.02752043 0.04922617 0.95240573 0.01934702\n",
      " 0.46737795]\n",
      "0 day output [0.36656293]\n",
      "Output of predicted next days:  1\n"
     ]
    }
   ],
   "source": [
    "while(i<pred_days):\n",
    "    \n",
    "    if(len(temp_input)>time_step):        \n",
    "        x_input=np.array(temp_input[i:])\n",
    "        print(\"{} day input {}\".format(i,x_input))\n",
    "        x_input=x_input.reshape(1,-1)\n",
    "        \n",
    "        yhat = model3.predict(x_input)\n",
    "        print(\"{} day output {}\".format(i,yhat))\n",
    "        temp_input.extend(yhat.tolist())\n",
    "        temp_input=temp_input[i:]\n",
    "       \n",
    "        output9.extend(yhat.tolist())\n",
    "        i=i+1\n",
    "        \n",
    "print(\"Output of predicted next days: \", len(output9))"
   ]
  },
  {
   "cell_type": "code",
   "execution_count": 99,
   "id": "54bd2b18",
   "metadata": {},
   "outputs": [
    {
     "data": {
      "text/plain": [
       "[0.36656293272972107]"
      ]
     },
     "execution_count": 99,
     "metadata": {},
     "output_type": "execute_result"
    }
   ],
   "source": [
    "output9  #predicted closing price for May 9th, 2022 (Monday)"
   ]
  },
  {
   "cell_type": "code",
   "execution_count": 100,
   "id": "a60d3cbb",
   "metadata": {
    "scrolled": true
   },
   "outputs": [
    {
     "name": "stdout",
     "output_type": "stream",
     "text": [
      "[1 2 3 4 5 6 7]\n",
      "[8]\n"
     ]
    }
   ],
   "source": [
    "last_days=np.arange(1,time_step+1)\n",
    "day_pred=np.arange(time_step+1,time_step+pred_days+1)\n",
    "print(last_days)\n",
    "print(day_pred)"
   ]
  },
  {
   "cell_type": "code",
   "execution_count": 101,
   "id": "4f6ef42d",
   "metadata": {},
   "outputs": [],
   "source": [
    "# Inserting the prediction for the row May 9th, 2022 --> using new predicted value + data from May 8th 2022 for the other variables "
   ]
  },
  {
   "cell_type": "code",
   "execution_count": 102,
   "id": "c593abc6",
   "metadata": {},
   "outputs": [
    {
     "data": {
      "text/html": [
       "<div>\n",
       "<style scoped>\n",
       "    .dataframe tbody tr th:only-of-type {\n",
       "        vertical-align: middle;\n",
       "    }\n",
       "\n",
       "    .dataframe tbody tr th {\n",
       "        vertical-align: top;\n",
       "    }\n",
       "\n",
       "    .dataframe thead th {\n",
       "        text-align: right;\n",
       "    }\n",
       "</style>\n",
       "<table border=\"1\" class=\"dataframe\">\n",
       "  <thead>\n",
       "    <tr style=\"text-align: right;\">\n",
       "      <th></th>\n",
       "      <th>Date</th>\n",
       "      <th>close</th>\n",
       "      <th>volume</th>\n",
       "      <th>%D</th>\n",
       "      <th>volatility</th>\n",
       "      <th>close_off_high</th>\n",
       "      <th>EUR/USD_close</th>\n",
       "      <th>BTC_closeprice</th>\n",
       "    </tr>\n",
       "  </thead>\n",
       "  <tbody>\n",
       "    <tr>\n",
       "      <th>0</th>\n",
       "      <td>2022-05-08</td>\n",
       "      <td>0.338804</td>\n",
       "      <td>0.062373</td>\n",
       "      <td>0.02752</td>\n",
       "      <td>0.049226</td>\n",
       "      <td>0.952406</td>\n",
       "      <td>0.019347</td>\n",
       "      <td>0.467378</td>\n",
       "    </tr>\n",
       "  </tbody>\n",
       "</table>\n",
       "</div>"
      ],
      "text/plain": [
       "         Date     close    volume       %D  volatility  close_off_high  \\\n",
       "0  2022-05-08  0.338804  0.062373  0.02752    0.049226        0.952406   \n",
       "\n",
       "   EUR/USD_close  BTC_closeprice  \n",
       "0       0.019347        0.467378  "
      ]
     },
     "execution_count": 102,
     "metadata": {},
     "output_type": "execute_result"
    }
   ],
   "source": [
    "a = predictions.tail(1).copy()\n",
    "a.reset_index(inplace = True)\n",
    "a"
   ]
  },
  {
   "cell_type": "code",
   "execution_count": 103,
   "id": "63b2d074",
   "metadata": {},
   "outputs": [
    {
     "data": {
      "text/html": [
       "<div>\n",
       "<style scoped>\n",
       "    .dataframe tbody tr th:only-of-type {\n",
       "        vertical-align: middle;\n",
       "    }\n",
       "\n",
       "    .dataframe tbody tr th {\n",
       "        vertical-align: top;\n",
       "    }\n",
       "\n",
       "    .dataframe thead th {\n",
       "        text-align: right;\n",
       "    }\n",
       "</style>\n",
       "<table border=\"1\" class=\"dataframe\">\n",
       "  <thead>\n",
       "    <tr style=\"text-align: right;\">\n",
       "      <th></th>\n",
       "      <th>close</th>\n",
       "      <th>volume</th>\n",
       "      <th>%D</th>\n",
       "      <th>volatility</th>\n",
       "      <th>close_off_high</th>\n",
       "      <th>EUR/USD_close</th>\n",
       "      <th>BTC_closeprice</th>\n",
       "    </tr>\n",
       "    <tr>\n",
       "      <th>Date</th>\n",
       "      <th></th>\n",
       "      <th></th>\n",
       "      <th></th>\n",
       "      <th></th>\n",
       "      <th></th>\n",
       "      <th></th>\n",
       "      <th></th>\n",
       "    </tr>\n",
       "  </thead>\n",
       "  <tbody>\n",
       "    <tr>\n",
       "      <th>2022-05-09</th>\n",
       "      <td>0.366563</td>\n",
       "      <td>0.062373</td>\n",
       "      <td>0.02752</td>\n",
       "      <td>0.049226</td>\n",
       "      <td>0.952406</td>\n",
       "      <td>0.019347</td>\n",
       "      <td>0.467378</td>\n",
       "    </tr>\n",
       "  </tbody>\n",
       "</table>\n",
       "</div>"
      ],
      "text/plain": [
       "               close    volume       %D  volatility  close_off_high  \\\n",
       "Date                                                                  \n",
       "2022-05-09  0.366563  0.062373  0.02752    0.049226        0.952406   \n",
       "\n",
       "            EUR/USD_close  BTC_closeprice  \n",
       "Date                                       \n",
       "2022-05-09       0.019347        0.467378  "
      ]
     },
     "execution_count": 103,
     "metadata": {},
     "output_type": "execute_result"
    }
   ],
   "source": [
    "a.at[0,'Date']='2022-05-09'\n",
    "a.at[0,'close']= output9[0]\n",
    "a.set_index('Date', inplace = True)\n",
    "a"
   ]
  },
  {
   "cell_type": "code",
   "execution_count": 104,
   "id": "d89f150f",
   "metadata": {},
   "outputs": [],
   "source": [
    "final_predictions = pd.concat([predictions, a], axis=0, join='outer')"
   ]
  },
  {
   "cell_type": "code",
   "execution_count": 105,
   "id": "fed79fe6",
   "metadata": {},
   "outputs": [
    {
     "name": "stdout",
     "output_type": "stream",
     "text": [
      "The predicted closing price for MATIC on May 9th, 2022 is  1.0565021084990502 USD\n"
     ]
    }
   ],
   "source": [
    "#Get the predicted denormalized closing price using MinMaxScaler formula\n",
    "intermediate_result = ((2.876757-0.003141)*output9[0])+0.003141\n",
    "\n",
    "print (\"The predicted closing price for MATIC on May 9th, 2022 is \", intermediate_result, \"USD\")"
   ]
  },
  {
   "cell_type": "markdown",
   "id": "b30c6dc4",
   "metadata": {},
   "source": [
    "# Final Predictions<a name=\"finalpredictions\"></a>"
   ]
  },
  {
   "cell_type": "code",
   "execution_count": 106,
   "id": "ccd287f0",
   "metadata": {
    "scrolled": true
   },
   "outputs": [
    {
     "data": {
      "text/html": [
       "<div>\n",
       "<style scoped>\n",
       "    .dataframe tbody tr th:only-of-type {\n",
       "        vertical-align: middle;\n",
       "    }\n",
       "\n",
       "    .dataframe tbody tr th {\n",
       "        vertical-align: top;\n",
       "    }\n",
       "\n",
       "    .dataframe thead th {\n",
       "        text-align: right;\n",
       "    }\n",
       "</style>\n",
       "<table border=\"1\" class=\"dataframe\">\n",
       "  <thead>\n",
       "    <tr style=\"text-align: right;\">\n",
       "      <th></th>\n",
       "      <th>close</th>\n",
       "      <th>volume</th>\n",
       "      <th>%D</th>\n",
       "      <th>volatility</th>\n",
       "      <th>close_off_high</th>\n",
       "      <th>EUR/USD_close</th>\n",
       "      <th>BTC_closeprice</th>\n",
       "    </tr>\n",
       "    <tr>\n",
       "      <th>Date</th>\n",
       "      <th></th>\n",
       "      <th></th>\n",
       "      <th></th>\n",
       "      <th></th>\n",
       "      <th></th>\n",
       "      <th></th>\n",
       "      <th></th>\n",
       "    </tr>\n",
       "  </thead>\n",
       "  <tbody>\n",
       "    <tr>\n",
       "      <th>2022-05-03</th>\n",
       "      <td>0.372326</td>\n",
       "      <td>0.058609</td>\n",
       "      <td>0.110625</td>\n",
       "      <td>0.038474</td>\n",
       "      <td>0.961451</td>\n",
       "      <td>0.002644</td>\n",
       "      <td>0.523670</td>\n",
       "    </tr>\n",
       "    <tr>\n",
       "      <th>2022-05-04</th>\n",
       "      <td>0.405464</td>\n",
       "      <td>0.080514</td>\n",
       "      <td>0.162876</td>\n",
       "      <td>0.088311</td>\n",
       "      <td>0.999886</td>\n",
       "      <td>0.013245</td>\n",
       "      <td>0.554789</td>\n",
       "    </tr>\n",
       "    <tr>\n",
       "      <th>2022-05-05</th>\n",
       "      <td>0.368399</td>\n",
       "      <td>0.082281</td>\n",
       "      <td>0.153229</td>\n",
       "      <td>0.133863</td>\n",
       "      <td>0.876055</td>\n",
       "      <td>0.064389</td>\n",
       "      <td>0.504894</td>\n",
       "    </tr>\n",
       "    <tr>\n",
       "      <th>2022-05-06</th>\n",
       "      <td>0.361233</td>\n",
       "      <td>0.076340</td>\n",
       "      <td>0.134917</td>\n",
       "      <td>0.038684</td>\n",
       "      <td>0.967953</td>\n",
       "      <td>0.019347</td>\n",
       "      <td>0.496359</td>\n",
       "    </tr>\n",
       "    <tr>\n",
       "      <th>2022-05-07</th>\n",
       "      <td>0.353241</td>\n",
       "      <td>0.066992</td>\n",
       "      <td>0.045235</td>\n",
       "      <td>0.052400</td>\n",
       "      <td>0.955935</td>\n",
       "      <td>0.019347</td>\n",
       "      <td>0.487749</td>\n",
       "    </tr>\n",
       "    <tr>\n",
       "      <th>2022-05-08</th>\n",
       "      <td>0.338804</td>\n",
       "      <td>0.062373</td>\n",
       "      <td>0.027520</td>\n",
       "      <td>0.049226</td>\n",
       "      <td>0.952406</td>\n",
       "      <td>0.019347</td>\n",
       "      <td>0.467378</td>\n",
       "    </tr>\n",
       "    <tr>\n",
       "      <th>2022-05-09</th>\n",
       "      <td>0.366563</td>\n",
       "      <td>0.062373</td>\n",
       "      <td>0.027520</td>\n",
       "      <td>0.049226</td>\n",
       "      <td>0.952406</td>\n",
       "      <td>0.019347</td>\n",
       "      <td>0.467378</td>\n",
       "    </tr>\n",
       "  </tbody>\n",
       "</table>\n",
       "</div>"
      ],
      "text/plain": [
       "               close    volume        %D  volatility  close_off_high  \\\n",
       "Date                                                                   \n",
       "2022-05-03  0.372326  0.058609  0.110625    0.038474        0.961451   \n",
       "2022-05-04  0.405464  0.080514  0.162876    0.088311        0.999886   \n",
       "2022-05-05  0.368399  0.082281  0.153229    0.133863        0.876055   \n",
       "2022-05-06  0.361233  0.076340  0.134917    0.038684        0.967953   \n",
       "2022-05-07  0.353241  0.066992  0.045235    0.052400        0.955935   \n",
       "2022-05-08  0.338804  0.062373  0.027520    0.049226        0.952406   \n",
       "2022-05-09  0.366563  0.062373  0.027520    0.049226        0.952406   \n",
       "\n",
       "            EUR/USD_close  BTC_closeprice  \n",
       "Date                                       \n",
       "2022-05-03       0.002644        0.523670  \n",
       "2022-05-04       0.013245        0.554789  \n",
       "2022-05-05       0.064389        0.504894  \n",
       "2022-05-06       0.019347        0.496359  \n",
       "2022-05-07       0.019347        0.487749  \n",
       "2022-05-08       0.019347        0.467378  \n",
       "2022-05-09       0.019347        0.467378  "
      ]
     },
     "execution_count": 106,
     "metadata": {},
     "output_type": "execute_result"
    }
   ],
   "source": [
    "final_predictions.tail(7)"
   ]
  },
  {
   "cell_type": "code",
   "execution_count": 107,
   "id": "b62f5f49",
   "metadata": {},
   "outputs": [],
   "source": [
    "final_predictions1 = final_predictions.tail(7)\n",
    "final_predictions1 = np.array(final_predictions1)"
   ]
  },
  {
   "cell_type": "code",
   "execution_count": 108,
   "id": "b25f3431",
   "metadata": {},
   "outputs": [],
   "source": [
    "x_input=(final_predictions1[len(final_predictions1)-(time_step*time_step):]).reshape(1,-1)\n",
    "temp_input=list(x_input)\n",
    "temp_input=temp_input[0].tolist()\n",
    "\n",
    "output10=[]\n",
    "n_steps=7\n",
    "i=0\n",
    "pred_days = 1"
   ]
  },
  {
   "cell_type": "code",
   "execution_count": 109,
   "id": "123d625d",
   "metadata": {
    "scrolled": true
   },
   "outputs": [
    {
     "name": "stdout",
     "output_type": "stream",
     "text": [
      "0 day input [0.37232642 0.05860915 0.11062539 0.0384745  0.96145052 0.00264389\n",
      " 0.52366995 0.4054644  0.08051369 0.16287638 0.08831107 0.99988562\n",
      " 0.01324543 0.55478882 0.36839892 0.08228067 0.15322907 0.13386309\n",
      " 0.87605498 0.06438862 0.5048938  0.36123337 0.07634016 0.13491677\n",
      " 0.03868428 0.96795288 0.01934702 0.49635941 0.35324141 0.06699187\n",
      " 0.04523543 0.0523997  0.95593451 0.01934702 0.48774915 0.3388045\n",
      " 0.0623727  0.02752043 0.04922617 0.95240573 0.01934702 0.46737795\n",
      " 0.36656293 0.0623727  0.02752043 0.04922617 0.95240573 0.01934702\n",
      " 0.46737795]\n",
      "0 day output [0.41961133]\n",
      "Output of predicted next days:  1\n"
     ]
    }
   ],
   "source": [
    "while(i<pred_days):\n",
    "    \n",
    "    if(len(temp_input)>time_step):        \n",
    "        x_input=np.array(temp_input[i:])\n",
    "        print(\"{} day input {}\".format(i,x_input))\n",
    "        x_input=x_input.reshape(1,-1)\n",
    "        \n",
    "        yhat = model3.predict(x_input)\n",
    "        print(\"{} day output {}\".format(i,yhat))\n",
    "        temp_input.extend(yhat.tolist())\n",
    "        temp_input=temp_input[i:]\n",
    "       \n",
    "        output10.extend(yhat.tolist())\n",
    "        i=i+1\n",
    "        \n",
    "print(\"Output of predicted next days: \", len(output10))"
   ]
  },
  {
   "cell_type": "code",
   "execution_count": 110,
   "id": "2fb076f9",
   "metadata": {},
   "outputs": [
    {
     "name": "stdout",
     "output_type": "stream",
     "text": [
      "The predicted normalized closing price for MATIC on May 10th, 2022 is  0.4196113348007202\n"
     ]
    }
   ],
   "source": [
    "print (\"The predicted normalized closing price for MATIC on May 10th, 2022 is \", output10[0])"
   ]
  },
  {
   "cell_type": "code",
   "execution_count": 111,
   "id": "713f443f",
   "metadata": {},
   "outputs": [
    {
     "name": "stdout",
     "output_type": "stream",
     "text": [
      "The predicted closing price for MATIC on May 10th, 2022 is  1.2089428454647067 USD\n"
     ]
    }
   ],
   "source": [
    "#Get the predicted denormalized closing price using MinMaxScaler formula\n",
    "final_result = ((2.876757-0.003141)*output10[0])+0.003141\n",
    "\n",
    "print (\"The predicted closing price for MATIC on May 10th, 2022 is \", final_result, \"USD\")"
   ]
  }
 ],
 "metadata": {
  "kernelspec": {
   "display_name": "Python 3 (ipykernel)",
   "language": "python",
   "name": "python3"
  },
  "language_info": {
   "codemirror_mode": {
    "name": "ipython",
    "version": 3
   },
   "file_extension": ".py",
   "mimetype": "text/x-python",
   "name": "python",
   "nbconvert_exporter": "python",
   "pygments_lexer": "ipython3",
   "version": "3.9.6"
  }
 },
 "nbformat": 4,
 "nbformat_minor": 5
}
