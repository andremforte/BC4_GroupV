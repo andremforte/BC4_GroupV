{
 "cells": [
  {
   "cell_type": "markdown",
   "id": "2e429287",
   "metadata": {},
   "source": [
    "# Business Case 4: Cryptocurrencies Forecasting"
   ]
  },
  {
   "cell_type": "markdown",
   "id": "c8c7cf49",
   "metadata": {},
   "source": [
    "## Contents:\n",
    "  \n",
    " * [Modeling AVAX](#Modeling)\n",
    " * [AVAX - Entire Dataset](#entiredataset)\n",
    "    * [Model 1: LSTM](#lstm)\n",
    "    * [Model 2: XGBOOST Regressor](#xgboost)\n",
    " * [AVAX - since January 2021](#jan2021)\n",
    "    * [Model 1: LSTM](#lstm2)\n",
    "    * [Model 2: XGBOOST Regressor](#xgboost2)\n",
    " * [AVAX - since January 2022](#jan2022)\n",
    "    * [Model 1: LSTM](#lstm3)\n",
    "    * [Model 2: XGBOOST Regressor](#xgboost3)\n",
    " * [Predictions for the next two days using the best model](#predictions)\n",
    " * [Final Predictions](#finalpredictions)"
   ]
  },
  {
   "cell_type": "markdown",
   "id": "18e6ee6e",
   "metadata": {},
   "source": [
    "## Imports"
   ]
  },
  {
   "cell_type": "code",
   "execution_count": 1,
   "id": "5748d9b6",
   "metadata": {},
   "outputs": [],
   "source": [
    "#! pip install xgboost\n",
    "#! pip install fastai==0.7.0\n",
    "#! pip install --upgrade tensorflow\n",
    "#! pip install keras\n",
    "#! pip install pystan\n",
    "#! pip install ephem\n",
    "#! pip install fbprophet"
   ]
  },
  {
   "cell_type": "code",
   "execution_count": 2,
   "id": "28a80461",
   "metadata": {},
   "outputs": [],
   "source": [
    "import numpy as np\n",
    "import pandas as pd\n",
    "import seaborn as sns\n",
    "import matplotlib.pyplot as plt\n",
    "%matplotlib inline\n",
    "from math import ceil\n",
    "import math\n",
    "import scipy.stats as stats\n",
    "from itertools import cycle\n",
    "\n",
    "import plotly.express as px\n",
    "import plotly.graph_objects as go\n",
    "from plotly.subplots import make_subplots\n",
    "import plotly\n",
    "\n",
    "import json\n",
    "import requests\n",
    "import tensorflow as tf\n",
    "from sklearn.preprocessing import MinMaxScaler\n",
    "from keras.models import Sequential\n",
    "from keras.layers import Activation, Dense, Dropout, LSTM\n",
    "from sklearn.metrics import mean_squared_error , mean_absolute_error, explained_variance_score, r2_score\n",
    "from tensorflow.keras import layers\n",
    "from xgboost import XGBRegressor\n",
    "\n",
    "import warnings"
   ]
  },
  {
   "cell_type": "markdown",
   "id": "745ad7b6",
   "metadata": {},
   "source": [
    "# Modeling - AVAX <a name=\"Modeling\"></a>\n",
    ">In this step, we decided to implement algorithms (LSTM, XGBOOST Regressor) that can predict the closing price of AVAX."
   ]
  },
  {
   "cell_type": "markdown",
   "id": "704de260",
   "metadata": {},
   "source": [
    "# AVAX - Entire Dataset <a name=\"entiredataset\"></a>"
   ]
  },
  {
   "cell_type": "code",
   "execution_count": 3,
   "id": "32905e5d",
   "metadata": {},
   "outputs": [],
   "source": [
    "avax = pd.read_csv('AVAX.csv', index_col = 'Date')"
   ]
  },
  {
   "cell_type": "code",
   "execution_count": 4,
   "id": "d6e69e14",
   "metadata": {},
   "outputs": [
    {
     "data": {
      "text/html": [
       "<div>\n",
       "<style scoped>\n",
       "    .dataframe tbody tr th:only-of-type {\n",
       "        vertical-align: middle;\n",
       "    }\n",
       "\n",
       "    .dataframe tbody tr th {\n",
       "        vertical-align: top;\n",
       "    }\n",
       "\n",
       "    .dataframe thead th {\n",
       "        text-align: right;\n",
       "    }\n",
       "</style>\n",
       "<table border=\"1\" class=\"dataframe\">\n",
       "  <thead>\n",
       "    <tr style=\"text-align: right;\">\n",
       "      <th></th>\n",
       "      <th>close</th>\n",
       "      <th>volume</th>\n",
       "      <th>%D</th>\n",
       "      <th>spread</th>\n",
       "      <th>volatility</th>\n",
       "      <th>close_off_high</th>\n",
       "      <th>EUR/USD_close</th>\n",
       "      <th>BTC_closeprice</th>\n",
       "    </tr>\n",
       "    <tr>\n",
       "      <th>Date</th>\n",
       "      <th></th>\n",
       "      <th></th>\n",
       "      <th></th>\n",
       "      <th></th>\n",
       "      <th></th>\n",
       "      <th></th>\n",
       "      <th></th>\n",
       "      <th></th>\n",
       "    </tr>\n",
       "  </thead>\n",
       "  <tbody>\n",
       "    <tr>\n",
       "      <th>2020-10-05</th>\n",
       "      <td>0.008143</td>\n",
       "      <td>0.001559</td>\n",
       "      <td>0.037982</td>\n",
       "      <td>0.001380</td>\n",
       "      <td>0.020477</td>\n",
       "      <td>0.996688</td>\n",
       "      <td>0.601965</td>\n",
       "      <td>0.003317</td>\n",
       "    </tr>\n",
       "    <tr>\n",
       "      <th>2020-10-06</th>\n",
       "      <td>0.004798</td>\n",
       "      <td>0.003357</td>\n",
       "      <td>0.020275</td>\n",
       "      <td>0.011279</td>\n",
       "      <td>0.109915</td>\n",
       "      <td>0.974751</td>\n",
       "      <td>0.648145</td>\n",
       "      <td>0.000000</td>\n",
       "    </tr>\n",
       "    <tr>\n",
       "      <th>2020-10-07</th>\n",
       "      <td>0.004108</td>\n",
       "      <td>0.003542</td>\n",
       "      <td>0.045540</td>\n",
       "      <td>0.006516</td>\n",
       "      <td>0.077992</td>\n",
       "      <td>0.994542</td>\n",
       "      <td>0.612993</td>\n",
       "      <td>0.001133</td>\n",
       "    </tr>\n",
       "    <tr>\n",
       "      <th>2020-10-08</th>\n",
       "      <td>0.007583</td>\n",
       "      <td>0.003406</td>\n",
       "      <td>0.162768</td>\n",
       "      <td>0.015064</td>\n",
       "      <td>0.170080</td>\n",
       "      <td>0.998792</td>\n",
       "      <td>0.632126</td>\n",
       "      <td>0.005465</td>\n",
       "    </tr>\n",
       "    <tr>\n",
       "      <th>2020-10-09</th>\n",
       "      <td>0.010098</td>\n",
       "      <td>0.002763</td>\n",
       "      <td>0.380941</td>\n",
       "      <td>0.011182</td>\n",
       "      <td>0.111429</td>\n",
       "      <td>0.997511</td>\n",
       "      <td>0.631824</td>\n",
       "      <td>0.008076</td>\n",
       "    </tr>\n",
       "  </tbody>\n",
       "</table>\n",
       "</div>"
      ],
      "text/plain": [
       "               close    volume        %D    spread  volatility  \\\n",
       "Date                                                             \n",
       "2020-10-05  0.008143  0.001559  0.037982  0.001380    0.020477   \n",
       "2020-10-06  0.004798  0.003357  0.020275  0.011279    0.109915   \n",
       "2020-10-07  0.004108  0.003542  0.045540  0.006516    0.077992   \n",
       "2020-10-08  0.007583  0.003406  0.162768  0.015064    0.170080   \n",
       "2020-10-09  0.010098  0.002763  0.380941  0.011182    0.111429   \n",
       "\n",
       "            close_off_high  EUR/USD_close  BTC_closeprice  \n",
       "Date                                                       \n",
       "2020-10-05        0.996688       0.601965        0.003317  \n",
       "2020-10-06        0.974751       0.648145        0.000000  \n",
       "2020-10-07        0.994542       0.612993        0.001133  \n",
       "2020-10-08        0.998792       0.632126        0.005465  \n",
       "2020-10-09        0.997511       0.631824        0.008076  "
      ]
     },
     "execution_count": 4,
     "metadata": {},
     "output_type": "execute_result"
    }
   ],
   "source": [
    "avax.head()"
   ]
  },
  {
   "cell_type": "markdown",
   "id": "b8cb8770",
   "metadata": {},
   "source": [
    "# Model 1: LSTM <a name=\"lstm\"></a>"
   ]
  },
  {
   "cell_type": "code",
   "execution_count": 5,
   "id": "d0e4476b",
   "metadata": {},
   "outputs": [],
   "source": [
    "data = avax.copy()"
   ]
  },
  {
   "cell_type": "code",
   "execution_count": 6,
   "id": "d7bb58e9",
   "metadata": {},
   "outputs": [
    {
     "data": {
      "text/html": [
       "<div>\n",
       "<style scoped>\n",
       "    .dataframe tbody tr th:only-of-type {\n",
       "        vertical-align: middle;\n",
       "    }\n",
       "\n",
       "    .dataframe tbody tr th {\n",
       "        vertical-align: top;\n",
       "    }\n",
       "\n",
       "    .dataframe thead th {\n",
       "        text-align: right;\n",
       "    }\n",
       "</style>\n",
       "<table border=\"1\" class=\"dataframe\">\n",
       "  <thead>\n",
       "    <tr style=\"text-align: right;\">\n",
       "      <th></th>\n",
       "      <th>close</th>\n",
       "      <th>volume</th>\n",
       "      <th>%D</th>\n",
       "      <th>spread</th>\n",
       "      <th>volatility</th>\n",
       "      <th>close_off_high</th>\n",
       "      <th>EUR/USD_close</th>\n",
       "      <th>BTC_closeprice</th>\n",
       "    </tr>\n",
       "    <tr>\n",
       "      <th>Date</th>\n",
       "      <th></th>\n",
       "      <th></th>\n",
       "      <th></th>\n",
       "      <th></th>\n",
       "      <th></th>\n",
       "      <th></th>\n",
       "      <th></th>\n",
       "      <th></th>\n",
       "    </tr>\n",
       "  </thead>\n",
       "  <tbody>\n",
       "    <tr>\n",
       "      <th>2020-10-05</th>\n",
       "      <td>0.008143</td>\n",
       "      <td>0.001559</td>\n",
       "      <td>0.037982</td>\n",
       "      <td>0.001380</td>\n",
       "      <td>0.020477</td>\n",
       "      <td>0.996688</td>\n",
       "      <td>0.601965</td>\n",
       "      <td>0.003317</td>\n",
       "    </tr>\n",
       "    <tr>\n",
       "      <th>2020-10-06</th>\n",
       "      <td>0.004798</td>\n",
       "      <td>0.003357</td>\n",
       "      <td>0.020275</td>\n",
       "      <td>0.011279</td>\n",
       "      <td>0.109915</td>\n",
       "      <td>0.974751</td>\n",
       "      <td>0.648145</td>\n",
       "      <td>0.000000</td>\n",
       "    </tr>\n",
       "    <tr>\n",
       "      <th>2020-10-07</th>\n",
       "      <td>0.004108</td>\n",
       "      <td>0.003542</td>\n",
       "      <td>0.045540</td>\n",
       "      <td>0.006516</td>\n",
       "      <td>0.077992</td>\n",
       "      <td>0.994542</td>\n",
       "      <td>0.612993</td>\n",
       "      <td>0.001133</td>\n",
       "    </tr>\n",
       "    <tr>\n",
       "      <th>2020-10-08</th>\n",
       "      <td>0.007583</td>\n",
       "      <td>0.003406</td>\n",
       "      <td>0.162768</td>\n",
       "      <td>0.015064</td>\n",
       "      <td>0.170080</td>\n",
       "      <td>0.998792</td>\n",
       "      <td>0.632126</td>\n",
       "      <td>0.005465</td>\n",
       "    </tr>\n",
       "    <tr>\n",
       "      <th>2020-10-09</th>\n",
       "      <td>0.010098</td>\n",
       "      <td>0.002763</td>\n",
       "      <td>0.380941</td>\n",
       "      <td>0.011182</td>\n",
       "      <td>0.111429</td>\n",
       "      <td>0.997511</td>\n",
       "      <td>0.631824</td>\n",
       "      <td>0.008076</td>\n",
       "    </tr>\n",
       "  </tbody>\n",
       "</table>\n",
       "</div>"
      ],
      "text/plain": [
       "               close    volume        %D    spread  volatility  \\\n",
       "Date                                                             \n",
       "2020-10-05  0.008143  0.001559  0.037982  0.001380    0.020477   \n",
       "2020-10-06  0.004798  0.003357  0.020275  0.011279    0.109915   \n",
       "2020-10-07  0.004108  0.003542  0.045540  0.006516    0.077992   \n",
       "2020-10-08  0.007583  0.003406  0.162768  0.015064    0.170080   \n",
       "2020-10-09  0.010098  0.002763  0.380941  0.011182    0.111429   \n",
       "\n",
       "            close_off_high  EUR/USD_close  BTC_closeprice  \n",
       "Date                                                       \n",
       "2020-10-05        0.996688       0.601965        0.003317  \n",
       "2020-10-06        0.974751       0.648145        0.000000  \n",
       "2020-10-07        0.994542       0.612993        0.001133  \n",
       "2020-10-08        0.998792       0.632126        0.005465  \n",
       "2020-10-09        0.997511       0.631824        0.008076  "
      ]
     },
     "execution_count": 6,
     "metadata": {},
     "output_type": "execute_result"
    }
   ],
   "source": [
    "data.head()"
   ]
  },
  {
   "cell_type": "code",
   "execution_count": 7,
   "id": "f1d5c78b",
   "metadata": {},
   "outputs": [],
   "source": [
    "#Splitting the original dataset using all the variables (hist) and \"close\" (target) using 7 days a the length of the sliding window\n",
    "\n",
    "hist = []\n",
    "target = []\n",
    "length = 7\n",
    "\n",
    "for i in range(len(data)-length):\n",
    "    t = data['close']\n",
    "    v = data[['close', 'volume', 'spread', 'BTC_closeprice','volatility', 'close_off_high', 'EUR/USD_close']]\n",
    "    x = v[i:i+length]\n",
    "    y = t[i+length]\n",
    "    hist.append(x)\n",
    "    target.append(y)"
   ]
  },
  {
   "cell_type": "code",
   "execution_count": 8,
   "id": "fba04aec",
   "metadata": {},
   "outputs": [
    {
     "name": "stdout",
     "output_type": "stream",
     "text": [
      "7\n",
      "561\n",
      "561\n"
     ]
    }
   ],
   "source": [
    "print(len(hist[0]))  #nr of days\n",
    "print(len(hist)) #size of train dataset\n",
    "print(len(target)) #size of test dataset"
   ]
  },
  {
   "cell_type": "code",
   "execution_count": 9,
   "id": "72f98a10",
   "metadata": {},
   "outputs": [],
   "source": [
    "#convert lists to arrays\n",
    "hist = np.array(hist)\n",
    "target = np.array(target)"
   ]
  },
  {
   "cell_type": "code",
   "execution_count": 10,
   "id": "c013ab52",
   "metadata": {},
   "outputs": [
    {
     "data": {
      "text/plain": [
       "(561, 1)"
      ]
     },
     "execution_count": 10,
     "metadata": {},
     "output_type": "execute_result"
    }
   ],
   "source": [
    "target = target.reshape(-1,1)\n",
    "target.shape"
   ]
  },
  {
   "cell_type": "code",
   "execution_count": 11,
   "id": "20846eb4",
   "metadata": {},
   "outputs": [],
   "source": [
    "#Splitting the datasets into train and test using 80% for train and 20% for test\n",
    "\n",
    "training_size=int(len(data)*0.80)\n",
    "\n",
    "X_train = hist[:training_size,:]\n",
    "X_test = hist[training_size:,:]\n",
    "\n",
    "y_train = target[:training_size]\n",
    "y_test = target[training_size:]"
   ]
  },
  {
   "cell_type": "code",
   "execution_count": 12,
   "id": "560076ba",
   "metadata": {},
   "outputs": [
    {
     "data": {
      "text/plain": [
       "(454, 7, 7)"
      ]
     },
     "execution_count": 12,
     "metadata": {},
     "output_type": "execute_result"
    }
   ],
   "source": [
    "#Nr of instances, # nr of days (length), #nr of columns\n",
    "X_train.shape"
   ]
  },
  {
   "cell_type": "code",
   "execution_count": 13,
   "id": "a9a1e870",
   "metadata": {},
   "outputs": [
    {
     "name": "stdout",
     "output_type": "stream",
     "text": [
      "Model: \"sequential\"\n",
      "_________________________________________________________________\n",
      " Layer (type)                Output Shape              Param #   \n",
      "=================================================================\n",
      " lstm (LSTM)                 (None, 7, 20)             2240      \n",
      "                                                                 \n",
      " lstm_1 (LSTM)               (None, 7, 32)             6784      \n",
      "                                                                 \n",
      " lstm_2 (LSTM)               (None, 40)                11680     \n",
      "                                                                 \n",
      " dense (Dense)               (None, 1)                 41        \n",
      "                                                                 \n",
      "=================================================================\n",
      "Total params: 20,745\n",
      "Trainable params: 20,745\n",
      "Non-trainable params: 0\n",
      "_________________________________________________________________\n"
     ]
    }
   ],
   "source": [
    "model = tf.keras.Sequential()\n",
    "\n",
    "model.add(layers.LSTM(units=20, activation = 'relu', return_sequences=True,\n",
    "                  input_shape=(7,7), dropout = 0.2))\n",
    "\n",
    "model.add(layers.LSTM(units=32, return_sequences=True,\n",
    "                  dropout=0.2))\n",
    "\n",
    "model.add(layers.LSTM(units=40, activation = 'relu', dropout=0.2))\n",
    "\n",
    "#model.add(layers.LSTM(units=55, return_sequences = True, dropout = 0.2))\n",
    "\n",
    "#model.add(layers.LSTM(units = 80, activation = 'relu', dropout = 0.2))\n",
    "\n",
    "model.add(layers.Dense(units=1))\n",
    "\n",
    "model.summary()"
   ]
  },
  {
   "cell_type": "code",
   "execution_count": 14,
   "id": "a4e6950c",
   "metadata": {},
   "outputs": [],
   "source": [
    "model.compile(optimizer='adam', loss='mean_squared_error')"
   ]
  },
  {
   "cell_type": "code",
   "execution_count": 15,
   "id": "09d21824",
   "metadata": {},
   "outputs": [
    {
     "name": "stdout",
     "output_type": "stream",
     "text": [
      "Epoch 1/30\n",
      "12/12 [==============================] - 4s 70ms/step - loss: 0.0283 - val_loss: 0.3577\n",
      "Epoch 2/30\n",
      "12/12 [==============================] - 0s 10ms/step - loss: 0.0136 - val_loss: 0.2423\n",
      "Epoch 3/30\n",
      "12/12 [==============================] - 0s 10ms/step - loss: 0.0163 - val_loss: 0.2133\n",
      "Epoch 4/30\n",
      "12/12 [==============================] - 0s 11ms/step - loss: 0.0149 - val_loss: 0.2082\n",
      "Epoch 5/30\n",
      "12/12 [==============================] - 0s 12ms/step - loss: 0.0117 - val_loss: 0.1821\n",
      "Epoch 6/30\n",
      "12/12 [==============================] - 0s 11ms/step - loss: 0.0105 - val_loss: 0.1433\n",
      "Epoch 7/30\n",
      "12/12 [==============================] - 0s 12ms/step - loss: 0.0086 - val_loss: 0.1106\n",
      "Epoch 8/30\n",
      "12/12 [==============================] - 0s 10ms/step - loss: 0.0068 - val_loss: 0.0810\n",
      "Epoch 9/30\n",
      "12/12 [==============================] - 0s 10ms/step - loss: 0.0050 - val_loss: 0.0560\n",
      "Epoch 10/30\n",
      "12/12 [==============================] - 0s 10ms/step - loss: 0.0044 - val_loss: 0.0494\n",
      "Epoch 11/30\n",
      "12/12 [==============================] - 0s 10ms/step - loss: 0.0050 - val_loss: 0.0488\n",
      "Epoch 12/30\n",
      "12/12 [==============================] - 0s 11ms/step - loss: 0.0037 - val_loss: 0.0505\n",
      "Epoch 13/30\n",
      "12/12 [==============================] - 0s 11ms/step - loss: 0.0033 - val_loss: 0.0450\n",
      "Epoch 14/30\n",
      "12/12 [==============================] - 0s 11ms/step - loss: 0.0037 - val_loss: 0.0355\n",
      "Epoch 15/30\n",
      "12/12 [==============================] - 0s 12ms/step - loss: 0.0034 - val_loss: 0.0320\n",
      "Epoch 16/30\n",
      "12/12 [==============================] - 0s 11ms/step - loss: 0.0043 - val_loss: 0.0431\n",
      "Epoch 17/30\n",
      "12/12 [==============================] - 0s 12ms/step - loss: 0.0029 - val_loss: 0.0459\n",
      "Epoch 18/30\n",
      "12/12 [==============================] - 0s 13ms/step - loss: 0.0033 - val_loss: 0.0385\n",
      "Epoch 19/30\n",
      "12/12 [==============================] - 0s 11ms/step - loss: 0.0031 - val_loss: 0.0404\n",
      "Epoch 20/30\n",
      "12/12 [==============================] - 0s 10ms/step - loss: 0.0029 - val_loss: 0.0377\n",
      "Epoch 21/30\n",
      "12/12 [==============================] - 0s 11ms/step - loss: 0.0036 - val_loss: 0.0357\n",
      "Epoch 22/30\n",
      "12/12 [==============================] - 0s 10ms/step - loss: 0.0031 - val_loss: 0.0346\n",
      "Epoch 23/30\n",
      "12/12 [==============================] - 0s 11ms/step - loss: 0.0033 - val_loss: 0.0399\n",
      "Epoch 24/30\n",
      "12/12 [==============================] - 0s 11ms/step - loss: 0.0028 - val_loss: 0.0307\n",
      "Epoch 25/30\n",
      "12/12 [==============================] - 0s 11ms/step - loss: 0.0032 - val_loss: 0.0376\n",
      "Epoch 26/30\n",
      "12/12 [==============================] - 0s 12ms/step - loss: 0.0031 - val_loss: 0.0274\n",
      "Epoch 27/30\n",
      "12/12 [==============================] - 0s 10ms/step - loss: 0.0033 - val_loss: 0.0295\n",
      "Epoch 28/30\n",
      "12/12 [==============================] - 0s 11ms/step - loss: 0.0024 - val_loss: 0.0287\n",
      "Epoch 29/30\n",
      "12/12 [==============================] - 0s 11ms/step - loss: 0.0029 - val_loss: 0.0349\n",
      "Epoch 30/30\n",
      "12/12 [==============================] - 0s 11ms/step - loss: 0.0027 - val_loss: 0.0366\n"
     ]
    }
   ],
   "source": [
    "history = model.fit(X_train, y_train, epochs=30, batch_size=32, shuffle = False, validation_split=0.2)"
   ]
  },
  {
   "cell_type": "code",
   "execution_count": 16,
   "id": "1bcc185d",
   "metadata": {},
   "outputs": [
    {
     "data": {
      "image/png": "[encoded data removed]",
      "text/plain": [
       "<Figure size 864x576 with 1 Axes>"
      ]
     },
     "metadata": {
      "needs_background": "light"
     },
     "output_type": "display_data"
    }
   ],
   "source": [
    "loss = history.history['loss']\n",
    "val_loss = history.history['val_loss']\n",
    "epoch_count = range(len(loss))\n",
    "plt.figure(figsize=(12,8))\n",
    "plt.plot(epoch_count, loss, 'r', label='Training loss')\n",
    "plt.plot(epoch_count, val_loss, 'b', label='Validation loss')\n",
    "plt.legend(['Training Loss','Validation Loss'])\n",
    "plt.xlabel('Epoch')\n",
    "plt.ylabel('Loss')\n",
    "plt.show();"
   ]
  },
  {
   "cell_type": "code",
   "execution_count": 17,
   "id": "36cb8b49",
   "metadata": {},
   "outputs": [],
   "source": [
    "pred_test = model.predict(X_test)\n",
    "pred_train = model.predict (X_train)"
   ]
  },
  {
   "cell_type": "code",
   "execution_count": 18,
   "id": "ffd38b0f",
   "metadata": {},
   "outputs": [
    {
     "data": {
      "text/html": [
       "<div>\n",
       "<style scoped>\n",
       "    .dataframe tbody tr th:only-of-type {\n",
       "        vertical-align: middle;\n",
       "    }\n",
       "\n",
       "    .dataframe tbody tr th {\n",
       "        vertical-align: top;\n",
       "    }\n",
       "\n",
       "    .dataframe thead th {\n",
       "        text-align: right;\n",
       "    }\n",
       "</style>\n",
       "<table border=\"1\" class=\"dataframe\">\n",
       "  <thead>\n",
       "    <tr style=\"text-align: right;\">\n",
       "      <th></th>\n",
       "      <th>y_test</th>\n",
       "      <th>Predictions</th>\n",
       "      <th>Date</th>\n",
       "    </tr>\n",
       "  </thead>\n",
       "  <tbody>\n",
       "    <tr>\n",
       "      <th>102</th>\n",
       "      <td>0.548335</td>\n",
       "      <td>0.374468</td>\n",
       "      <td>2022-04-21</td>\n",
       "    </tr>\n",
       "    <tr>\n",
       "      <th>103</th>\n",
       "      <td>0.541059</td>\n",
       "      <td>0.371469</td>\n",
       "      <td>2022-04-22</td>\n",
       "    </tr>\n",
       "    <tr>\n",
       "      <th>104</th>\n",
       "      <td>0.531920</td>\n",
       "      <td>0.374715</td>\n",
       "      <td>2022-04-23</td>\n",
       "    </tr>\n",
       "    <tr>\n",
       "      <th>105</th>\n",
       "      <td>0.521914</td>\n",
       "      <td>0.383477</td>\n",
       "      <td>2022-04-24</td>\n",
       "    </tr>\n",
       "    <tr>\n",
       "      <th>106</th>\n",
       "      <td>0.531520</td>\n",
       "      <td>0.388353</td>\n",
       "      <td>2022-04-25</td>\n",
       "    </tr>\n",
       "  </tbody>\n",
       "</table>\n",
       "</div>"
      ],
      "text/plain": [
       "       y_test  Predictions       Date\n",
       "102  0.548335     0.374468 2022-04-21\n",
       "103  0.541059     0.371469 2022-04-22\n",
       "104  0.531920     0.374715 2022-04-23\n",
       "105  0.521914     0.383477 2022-04-24\n",
       "106  0.531520     0.388353 2022-04-25"
      ]
     },
     "execution_count": 18,
     "metadata": {},
     "output_type": "execute_result"
    }
   ],
   "source": [
    "results = np.concatenate((y_test, pred_test), axis=1)\n",
    "results = pd.DataFrame(results, columns = ['y_test', 'Predictions'])\n",
    "a = data['close'].tail(len(pred_test))\n",
    "a = list(a.index)\n",
    "results['Date'] = a\n",
    "results['Date'] = pd.to_datetime(results['Date'])\n",
    "results.tail()"
   ]
  },
  {
   "cell_type": "code",
   "execution_count": 19,
   "id": "4f8a42ee",
   "metadata": {},
   "outputs": [
    {
     "data": {
      "image/png": "[encoded data removed]",
      "text/plain": [
       "<Figure size 864x576 with 1 Axes>"
      ]
     },
     "metadata": {
      "needs_background": "light"
     },
     "output_type": "display_data"
    }
   ],
   "source": [
    "plt.figure(figsize=(12,8))\n",
    "plt.plot(y_test, color='blue', label='Real')\n",
    "plt.plot(pred_test, color='red', label='Prediction')\n",
    "plt.title('ADA Price Prediction')\n",
    "plt.legend()\n",
    "plt.show()"
   ]
  },
  {
   "cell_type": "code",
   "execution_count": 20,
   "id": "fa35cd86",
   "metadata": {
    "scrolled": true
   },
   "outputs": [
    {
     "name": "stdout",
     "output_type": "stream",
     "text": [
      "Train data RMSE:  0.09290054465941154\n",
      "Train data MSE:  0.008630511198015318\n",
      "Train data MAE:  0.05922890842387242\n",
      "-------------------------------------------------------------------------------------\n",
      "Test data RMSE:  0.14256225238027306\n",
      "Test data MSE:  0.020323995803736672\n",
      "Test data MAE:  0.12838854043347595\n"
     ]
    }
   ],
   "source": [
    "# Evaluation metrices RMSE and MAE\n",
    "print(\"Train data RMSE: \", math.sqrt(mean_squared_error(y_train,pred_train)))\n",
    "print(\"Train data MSE: \", mean_squared_error(y_train,pred_train))\n",
    "print(\"Train data MAE: \", mean_absolute_error(y_train,pred_train))\n",
    "print(\"-------------------------------------------------------------------------------------\")\n",
    "print(\"Test data RMSE: \", math.sqrt(mean_squared_error(y_test,pred_test)))\n",
    "print(\"Test data MSE: \", mean_squared_error(y_test,pred_test))\n",
    "print(\"Test data MAE: \", mean_absolute_error(y_test,pred_test))"
   ]
  },
  {
   "cell_type": "code",
   "execution_count": 21,
   "id": "62416aab",
   "metadata": {
    "scrolled": true
   },
   "outputs": [
    {
     "name": "stdout",
     "output_type": "stream",
     "text": [
      "Train data R2 score: 0.8668277877203538\n",
      "Test data R2 score: -3.501787889702122\n"
     ]
    }
   ],
   "source": [
    "print(\"Train data R2 score:\", r2_score(y_train, pred_train))\n",
    "print(\"Test data R2 score:\", r2_score(y_test, pred_test))"
   ]
  },
  {
   "cell_type": "markdown",
   "id": "a5589e1c",
   "metadata": {},
   "source": [
    "# Model 2: XGBoost Regressor  <a name=\"xgboost\"></a>"
   ]
  },
  {
   "cell_type": "code",
   "execution_count": 22,
   "id": "68d92d22",
   "metadata": {},
   "outputs": [
    {
     "data": {
      "text/plain": [
       "(568, 9)"
      ]
     },
     "execution_count": 22,
     "metadata": {},
     "output_type": "execute_result"
    }
   ],
   "source": [
    "data1 = avax.copy()\n",
    "data1.reset_index(inplace = True)\n",
    "data1.shape"
   ]
  },
  {
   "cell_type": "code",
   "execution_count": 23,
   "id": "e26b2f9c",
   "metadata": {},
   "outputs": [
    {
     "name": "stdout",
     "output_type": "stream",
     "text": [
      "Total data for prediction:  568\n"
     ]
    }
   ],
   "source": [
    "close_stock = data1.copy()\n",
    "print(\"Total data for prediction: \",data1.shape[0])"
   ]
  },
  {
   "cell_type": "code",
   "execution_count": 24,
   "id": "23311a08",
   "metadata": {},
   "outputs": [
    {
     "data": {
      "text/plain": [
       "(568, 8)"
      ]
     },
     "execution_count": 24,
     "metadata": {},
     "output_type": "execute_result"
    }
   ],
   "source": [
    "data1.set_index('Date', inplace = True)\n",
    "data1.shape"
   ]
  },
  {
   "cell_type": "code",
   "execution_count": 25,
   "id": "2a7d472b",
   "metadata": {},
   "outputs": [
    {
     "name": "stdout",
     "output_type": "stream",
     "text": [
      "train_data:  (454, 8)\n",
      "test_data:  (114, 8)\n"
     ]
    }
   ],
   "source": [
    "#Train and test split using 80% for train and 20% for test\n",
    "training_size=int(len(data1)*0.80)\n",
    "test_size=len(data1)-training_size\n",
    "train_data,test_data=data1.iloc[:training_size,:],data1.iloc[training_size:,:]\n",
    "print(\"train_data: \", train_data.shape)\n",
    "print(\"test_data: \", test_data.shape)"
   ]
  },
  {
   "cell_type": "code",
   "execution_count": 26,
   "id": "68f0a09f",
   "metadata": {},
   "outputs": [
    {
     "data": {
      "image/png": "[encoded data removed]",
      "text/plain": [
       "<Figure size 2160x1080 with 1 Axes>"
      ]
     },
     "metadata": {
      "needs_background": "light"
     },
     "output_type": "display_data"
    }
   ],
   "source": [
    "data1.reset_index(inplace = True)\n",
    "fig, ax = plt.subplots(figsize=(30, 15))\n",
    "sns.lineplot(x = close_stock['Date'][:training_size], y = close_stock['close'][:training_size], color = 'blue')\n",
    "sns.lineplot(x = close_stock['Date'][training_size:], y = close_stock['close'][training_size:], color = 'orange')\n",
    "\n",
    "# Formatting\n",
    "ax.set_title('Train & Test data', fontsize = 20, loc='center', fontdict=dict(weight='bold'))\n",
    "ax.set_xlabel('Date', fontsize = 16, fontdict=dict(weight='bold'))\n",
    "ax.set_ylabel('Weekly Sales', fontsize = 16, fontdict=dict(weight='bold'))\n",
    "plt.tick_params(axis='y', which='major', labelsize=16)\n",
    "plt.tick_params(axis='x', labelsize=5)\n",
    "plt.xticks(rotation='vertical')\n",
    "plt.legend(loc='upper right' ,labels = ('train', 'test'))\n",
    "plt.show()"
   ]
  },
  {
   "cell_type": "code",
   "execution_count": 27,
   "id": "bbfbcf05",
   "metadata": {},
   "outputs": [],
   "source": [
    "data1.set_index('Date', inplace = True)"
   ]
  },
  {
   "cell_type": "code",
   "execution_count": 28,
   "id": "55424599",
   "metadata": {},
   "outputs": [],
   "source": [
    "# convert an array of values into a dataset matrix\n",
    "def create_dataset(dataset, time_step):\n",
    "    dataX, dataY = [], []\n",
    "    for i in range(len(dataset)-time_step-1):\n",
    "        a = dataset.iloc[i:(i+time_step), 1:]   \n",
    "        dataX.append(a)\n",
    "        dataY.append(dataset.iloc[i + time_step, 0])\n",
    "    return np.array(dataX), np.array(dataY)"
   ]
  },
  {
   "cell_type": "code",
   "execution_count": 29,
   "id": "58549aeb",
   "metadata": {},
   "outputs": [
    {
     "name": "stdout",
     "output_type": "stream",
     "text": [
      "X_train:  (446, 7, 7)\n",
      "y_train:  (446,)\n",
      "X_test:  (106, 7, 7)\n",
      "y_test (106,)\n"
     ]
    }
   ],
   "source": [
    "#Sliding window = 7 or 20\n",
    "time_step = 7\n",
    "X_train, y_train = create_dataset(train_data, time_step)\n",
    "X_test, y_test = create_dataset(test_data, time_step)\n",
    "\n",
    "print(\"X_train: \", X_train.shape)\n",
    "print(\"y_train: \", y_train.shape)\n",
    "print(\"X_test: \", X_test.shape)\n",
    "print(\"y_test\", y_test.shape)"
   ]
  },
  {
   "cell_type": "code",
   "execution_count": 30,
   "id": "3d684fc3",
   "metadata": {},
   "outputs": [],
   "source": [
    "#Reshaping the arrays because XGBRegressor only accepts 1-Dimensional arrays\n",
    "nsamples, nx, ny = X_train.shape\n",
    "X_train = X_train.reshape((nsamples,nx*ny))\n",
    "\n",
    "nsamples, nx, ny = X_test.shape\n",
    "X_test = X_test.reshape((nsamples,nx*ny))"
   ]
  },
  {
   "cell_type": "code",
   "execution_count": 31,
   "id": "017f9d78",
   "metadata": {},
   "outputs": [
    {
     "data": {
      "text/plain": [
       "XGBRegressor(base_score=0.5, booster='gbtree', callbacks=None,\n",
       "             colsample_bylevel=1, colsample_bynode=1, colsample_bytree=1,\n",
       "             early_stopping_rounds=None, enable_categorical=False, eta=0.2,\n",
       "             eval_metric=None, gamma=0, gpu_id=-1, grow_policy='depthwise',\n",
       "             importance_type=None, interaction_constraints='',\n",
       "             learning_rate=0.200000003, max_bin=256, max_cat_to_onehot=4,\n",
       "             max_delta_step=0, max_depth=6, max_leaves=0, min_child_weight=1,\n",
       "             missing=nan, monotone_constraints='()', n_estimators=100, n_jobs=0,\n",
       "             num_parallel_tree=1, predictor='auto', random_state=1, reg_alpha=0, ...)"
      ]
     },
     "execution_count": 31,
     "metadata": {},
     "output_type": "execute_result"
    }
   ],
   "source": [
    "model1 = XGBRegressor(n_estimators=100, random_state = 1, eta = 0.2)\n",
    "model1.fit(X_train, y_train)"
   ]
  },
  {
   "cell_type": "code",
   "execution_count": 32,
   "id": "80a331ec",
   "metadata": {},
   "outputs": [],
   "source": [
    "predictions = model1.predict(X_test).reshape(-1,1)\n",
    "y_test = y_test.reshape(-1,1)\n",
    "\n",
    "predictions_train = model1.predict(X_train)"
   ]
  },
  {
   "cell_type": "code",
   "execution_count": 33,
   "id": "dd572230",
   "metadata": {},
   "outputs": [
    {
     "data": {
      "text/html": [
       "<div>\n",
       "<style scoped>\n",
       "    .dataframe tbody tr th:only-of-type {\n",
       "        vertical-align: middle;\n",
       "    }\n",
       "\n",
       "    .dataframe tbody tr th {\n",
       "        vertical-align: top;\n",
       "    }\n",
       "\n",
       "    .dataframe thead th {\n",
       "        text-align: right;\n",
       "    }\n",
       "</style>\n",
       "<table border=\"1\" class=\"dataframe\">\n",
       "  <thead>\n",
       "    <tr style=\"text-align: right;\">\n",
       "      <th></th>\n",
       "      <th>y_test</th>\n",
       "      <th>Predictions</th>\n",
       "      <th>Date</th>\n",
       "    </tr>\n",
       "  </thead>\n",
       "  <tbody>\n",
       "    <tr>\n",
       "      <th>101</th>\n",
       "      <td>0.572598</td>\n",
       "      <td>0.644425</td>\n",
       "      <td>2022-04-21</td>\n",
       "    </tr>\n",
       "    <tr>\n",
       "      <th>102</th>\n",
       "      <td>0.548335</td>\n",
       "      <td>0.645084</td>\n",
       "      <td>2022-04-22</td>\n",
       "    </tr>\n",
       "    <tr>\n",
       "      <th>103</th>\n",
       "      <td>0.541059</td>\n",
       "      <td>0.645515</td>\n",
       "      <td>2022-04-23</td>\n",
       "    </tr>\n",
       "    <tr>\n",
       "      <th>104</th>\n",
       "      <td>0.531920</td>\n",
       "      <td>0.621525</td>\n",
       "      <td>2022-04-24</td>\n",
       "    </tr>\n",
       "    <tr>\n",
       "      <th>105</th>\n",
       "      <td>0.521914</td>\n",
       "      <td>0.617681</td>\n",
       "      <td>2022-04-25</td>\n",
       "    </tr>\n",
       "  </tbody>\n",
       "</table>\n",
       "</div>"
      ],
      "text/plain": [
       "       y_test  Predictions       Date\n",
       "101  0.572598     0.644425 2022-04-21\n",
       "102  0.548335     0.645084 2022-04-22\n",
       "103  0.541059     0.645515 2022-04-23\n",
       "104  0.531920     0.621525 2022-04-24\n",
       "105  0.521914     0.617681 2022-04-25"
      ]
     },
     "execution_count": 33,
     "metadata": {},
     "output_type": "execute_result"
    }
   ],
   "source": [
    "results2 = np.concatenate((y_test, predictions),axis = 1)\n",
    "results2 = pd.DataFrame(results2, columns = ['y_test', 'Predictions'])\n",
    "a = data1['close'].tail(len(predictions))\n",
    "a = list(a.index)\n",
    "results2['Date'] = a\n",
    "results2['Date'] = pd.to_datetime(results2['Date'])\n",
    "results2.tail()"
   ]
  },
  {
   "cell_type": "code",
   "execution_count": 34,
   "id": "f4bb627c",
   "metadata": {},
   "outputs": [
    {
     "data": {
      "image/png": "[encoded data removed]",
      "text/plain": [
       "<Figure size 864x576 with 1 Axes>"
      ]
     },
     "metadata": {
      "needs_background": "light"
     },
     "output_type": "display_data"
    }
   ],
   "source": [
    "plt.figure(figsize=(12,8))\n",
    "plt.plot(y_test, color='blue', label='Real')\n",
    "plt.plot(predictions, color='red', label='Prediction')\n",
    "plt.title('AVAX Price Prediction')\n",
    "plt.legend()\n",
    "plt.show()"
   ]
  },
  {
   "cell_type": "code",
   "execution_count": 35,
   "id": "c0c0be71",
   "metadata": {},
   "outputs": [
    {
     "name": "stdout",
     "output_type": "stream",
     "text": [
      "Train data MSE:  3.8689819992443025e-07\n",
      "Mean Absolute Error - MAE : 0.00044933111331315343\n",
      "Root Mean squared Error - RMSE : 0.0006220114146255117\n",
      "R^2 Score 0.9999937104026606\n",
      "--------------------------------------------------------------\n",
      "Test data MSE:  0.02857732764034984\n",
      "Mean Absolute Error - MAE : 0.15131838487313892\n",
      "Root Mean squared Error - RMSE : 0.16904829972629076\n",
      "R^2 Score -5.313217602489659\n"
     ]
    }
   ],
   "source": [
    "print(\"Train data MSE: \", mean_squared_error(y_train,predictions_train))\n",
    "print(\"Mean Absolute Error - MAE : \" + str(mean_absolute_error(y_train, predictions_train)))\n",
    "print(\"Root Mean squared Error - RMSE : \" + str(math.sqrt(mean_squared_error(y_train, predictions_train))))\n",
    "print('R^2 Score', r2_score(y_train, predictions_train))\n",
    "\n",
    "print (\"--------------------------------------------------------------\")\n",
    "print(\"Test data MSE: \", mean_squared_error(y_test,predictions))\n",
    "print(\"Mean Absolute Error - MAE : \" + str(mean_absolute_error(y_test, predictions)))\n",
    "print(\"Root Mean squared Error - RMSE : \" + str(math.sqrt(mean_squared_error(y_test, predictions))))\n",
    "print('R^2 Score', r2_score(y_test, predictions))"
   ]
  },
  {
   "cell_type": "markdown",
   "id": "b2f33333",
   "metadata": {},
   "source": [
    "# AVAX - since January 2021  <a name=\"jan2021\"></a>"
   ]
  },
  {
   "cell_type": "markdown",
   "id": "7d5faeee",
   "metadata": {},
   "source": [
    "# Model 1: LSTM <a name=\"lstm2\"></a>"
   ]
  },
  {
   "cell_type": "code",
   "execution_count": 36,
   "id": "2c26673f",
   "metadata": {},
   "outputs": [
    {
     "name": "stdout",
     "output_type": "stream",
     "text": [
      "Total data for prediction:  480\n"
     ]
    }
   ],
   "source": [
    "data2 = avax.copy()\n",
    "data2.reset_index(inplace = True)\n",
    "data2 = data2[data2['Date'] >= '2021-01-01']\n",
    "data2.set_index('Date', inplace = True)\n",
    "print(\"Total data for prediction: \",data2.shape[0])"
   ]
  },
  {
   "cell_type": "code",
   "execution_count": 37,
   "id": "5b3c778c",
   "metadata": {},
   "outputs": [],
   "source": [
    "hist = []\n",
    "target = []\n",
    "length = 7\n",
    "\n",
    "for i in range(len(data2)-length):\n",
    "    t = data2['close']\n",
    "    v = data2[['close','volume','BTC_closeprice','spread', 'volatility', 'close_off_high', 'EUR/USD_close']]\n",
    "    x = v[i:i+length]\n",
    "    y = t[i+length]\n",
    "    hist.append(x)\n",
    "    target.append(y)"
   ]
  },
  {
   "cell_type": "code",
   "execution_count": 38,
   "id": "f254c217",
   "metadata": {
    "scrolled": true
   },
   "outputs": [
    {
     "name": "stdout",
     "output_type": "stream",
     "text": [
      "7\n",
      "473\n",
      "473\n"
     ]
    }
   ],
   "source": [
    "print(len(hist[0]))\n",
    "print(len(hist))\n",
    "print(len(target))"
   ]
  },
  {
   "cell_type": "code",
   "execution_count": 39,
   "id": "3671c796",
   "metadata": {},
   "outputs": [],
   "source": [
    "#convert list to array\n",
    "hist = np.array(hist)\n",
    "target = np.array(target)"
   ]
  },
  {
   "cell_type": "code",
   "execution_count": 40,
   "id": "56c934f1",
   "metadata": {},
   "outputs": [
    {
     "data": {
      "text/plain": [
       "(473, 1)"
      ]
     },
     "execution_count": 40,
     "metadata": {},
     "output_type": "execute_result"
    }
   ],
   "source": [
    "target = target.reshape(-1,1)\n",
    "target.shape"
   ]
  },
  {
   "cell_type": "code",
   "execution_count": 41,
   "id": "f85c3825",
   "metadata": {},
   "outputs": [],
   "source": [
    "training_size = int(len(data2)*0.8)\n",
    "\n",
    "X_train = hist[:training_size,:]\n",
    "X_test = hist[training_size:,:]\n",
    "\n",
    "y_train = target[:training_size]\n",
    "y_test = target[training_size:]"
   ]
  },
  {
   "cell_type": "code",
   "execution_count": 42,
   "id": "efc29939",
   "metadata": {},
   "outputs": [
    {
     "data": {
      "text/plain": [
       "(384, 7, 7)"
      ]
     },
     "execution_count": 42,
     "metadata": {},
     "output_type": "execute_result"
    }
   ],
   "source": [
    "X_train.shape"
   ]
  },
  {
   "cell_type": "code",
   "execution_count": 43,
   "id": "37202683",
   "metadata": {},
   "outputs": [
    {
     "name": "stdout",
     "output_type": "stream",
     "text": [
      "Model: \"sequential_1\"\n",
      "_________________________________________________________________\n",
      " Layer (type)                Output Shape              Param #   \n",
      "=================================================================\n",
      " lstm_3 (LSTM)               (None, 7, 20)             2240      \n",
      "                                                                 \n",
      " lstm_4 (LSTM)               (None, 7, 32)             6784      \n",
      "                                                                 \n",
      " lstm_5 (LSTM)               (None, 32)                8320      \n",
      "                                                                 \n",
      " dense_1 (Dense)             (None, 1)                 33        \n",
      "                                                                 \n",
      "=================================================================\n",
      "Total params: 17,377\n",
      "Trainable params: 17,377\n",
      "Non-trainable params: 0\n",
      "_________________________________________________________________\n"
     ]
    }
   ],
   "source": [
    "model2 = tf.keras.Sequential()\n",
    "\n",
    "model2.add(layers.LSTM(units=20, activation = 'relu', return_sequences=True,\n",
    "                  input_shape=(7,7), dropout = 0.2))\n",
    "\n",
    "model2.add(layers.LSTM(units=32, return_sequences=True,\n",
    "                  dropout=0.2))\n",
    "\n",
    "model2.add(layers.LSTM(units=32, activation = 'relu', dropout=0.2))\n",
    "\n",
    "#model.add(layers.LSTM(units=55, return_sequences = True, dropout = 0.2))\n",
    "\n",
    "#model.add(layers.LSTM(units = 80, activation = 'relu', dropout = 0.2))\n",
    "\n",
    "model2.add(layers.Dense(units=1))\n",
    "\n",
    "model2.summary()"
   ]
  },
  {
   "cell_type": "code",
   "execution_count": 44,
   "id": "9886005f",
   "metadata": {},
   "outputs": [],
   "source": [
    "model2.compile(optimizer='adam', loss='mean_squared_error')"
   ]
  },
  {
   "cell_type": "code",
   "execution_count": 45,
   "id": "773781e5",
   "metadata": {},
   "outputs": [
    {
     "name": "stdout",
     "output_type": "stream",
     "text": [
      "Epoch 1/30\n",
      "10/10 [==============================] - 4s 88ms/step - loss: 0.0560 - val_loss: 0.4164\n",
      "Epoch 2/30\n",
      "10/10 [==============================] - 0s 12ms/step - loss: 0.0207 - val_loss: 0.2654\n",
      "Epoch 3/30\n",
      "10/10 [==============================] - 0s 11ms/step - loss: 0.0230 - val_loss: 0.2233\n",
      "Epoch 4/30\n",
      "10/10 [==============================] - 0s 11ms/step - loss: 0.0236 - val_loss: 0.2389\n",
      "Epoch 5/30\n",
      "10/10 [==============================] - 0s 11ms/step - loss: 0.0189 - val_loss: 0.2337\n",
      "Epoch 6/30\n",
      "10/10 [==============================] - 0s 11ms/step - loss: 0.0176 - val_loss: 0.2120\n",
      "Epoch 7/30\n",
      "10/10 [==============================] - 0s 10ms/step - loss: 0.0162 - val_loss: 0.1863\n",
      "Epoch 8/30\n",
      "10/10 [==============================] - 0s 10ms/step - loss: 0.0145 - val_loss: 0.1599\n",
      "Epoch 9/30\n",
      "10/10 [==============================] - 0s 11ms/step - loss: 0.0122 - val_loss: 0.1329\n",
      "Epoch 10/30\n",
      "10/10 [==============================] - 0s 11ms/step - loss: 0.0104 - val_loss: 0.0984\n",
      "Epoch 11/30\n",
      "10/10 [==============================] - 0s 11ms/step - loss: 0.0087 - val_loss: 0.0770\n",
      "Epoch 12/30\n",
      "10/10 [==============================] - 0s 11ms/step - loss: 0.0092 - val_loss: 0.0609\n",
      "Epoch 13/30\n",
      "10/10 [==============================] - 0s 12ms/step - loss: 0.0076 - val_loss: 0.0491\n",
      "Epoch 14/30\n",
      "10/10 [==============================] - 0s 13ms/step - loss: 0.0089 - val_loss: 0.0585\n",
      "Epoch 15/30\n",
      "10/10 [==============================] - 0s 12ms/step - loss: 0.0084 - val_loss: 0.0502\n",
      "Epoch 16/30\n",
      "10/10 [==============================] - 0s 11ms/step - loss: 0.0074 - val_loss: 0.0531\n",
      "Epoch 17/30\n",
      "10/10 [==============================] - 0s 11ms/step - loss: 0.0062 - val_loss: 0.0491\n",
      "Epoch 18/30\n",
      "10/10 [==============================] - 0s 11ms/step - loss: 0.0070 - val_loss: 0.0500\n",
      "Epoch 19/30\n",
      "10/10 [==============================] - 0s 11ms/step - loss: 0.0070 - val_loss: 0.0403\n",
      "Epoch 20/30\n",
      "10/10 [==============================] - 0s 10ms/step - loss: 0.0066 - val_loss: 0.0451\n",
      "Epoch 21/30\n",
      "10/10 [==============================] - 0s 11ms/step - loss: 0.0061 - val_loss: 0.0480\n",
      "Epoch 22/30\n",
      "10/10 [==============================] - 0s 11ms/step - loss: 0.0061 - val_loss: 0.0446\n",
      "Epoch 23/30\n",
      "10/10 [==============================] - 0s 10ms/step - loss: 0.0062 - val_loss: 0.0426\n",
      "Epoch 24/30\n",
      "10/10 [==============================] - 0s 11ms/step - loss: 0.0058 - val_loss: 0.0407\n",
      "Epoch 25/30\n",
      "10/10 [==============================] - 0s 11ms/step - loss: 0.0058 - val_loss: 0.0389\n",
      "Epoch 26/30\n",
      "10/10 [==============================] - 0s 12ms/step - loss: 0.0052 - val_loss: 0.0326\n",
      "Epoch 27/30\n",
      "10/10 [==============================] - 0s 11ms/step - loss: 0.0061 - val_loss: 0.0345\n",
      "Epoch 28/30\n",
      "10/10 [==============================] - 0s 12ms/step - loss: 0.0051 - val_loss: 0.0339\n",
      "Epoch 29/30\n",
      "10/10 [==============================] - 0s 10ms/step - loss: 0.0054 - val_loss: 0.0414\n",
      "Epoch 30/30\n",
      "10/10 [==============================] - 0s 11ms/step - loss: 0.0051 - val_loss: 0.0311\n"
     ]
    }
   ],
   "source": [
    "history = model2.fit(X_train, y_train, epochs=30, batch_size=32, validation_split=0.2, shuffle = False)"
   ]
  },
  {
   "cell_type": "code",
   "execution_count": 46,
   "id": "ad9615ac",
   "metadata": {},
   "outputs": [
    {
     "data": {
      "image/png": "[encoded data removed]",
      "text/plain": [
       "<Figure size 864x576 with 1 Axes>"
      ]
     },
     "metadata": {
      "needs_background": "light"
     },
     "output_type": "display_data"
    }
   ],
   "source": [
    "loss = history.history['loss']\n",
    "val_loss = history.history['val_loss']\n",
    "epoch_count = range(len(loss))\n",
    "plt.figure(figsize=(12,8))\n",
    "plt.plot(epoch_count, loss, 'r', label='Training loss')\n",
    "plt.plot(epoch_count, val_loss, 'b', label='Validation loss')\n",
    "plt.legend(['Training Loss','Validation Loss'])\n",
    "plt.xlabel('Epoch')\n",
    "plt.ylabel('Loss')\n",
    "plt.show();"
   ]
  },
  {
   "cell_type": "code",
   "execution_count": 47,
   "id": "40cc3154",
   "metadata": {},
   "outputs": [],
   "source": [
    "pred_test = model2.predict(X_test)\n",
    "pred_train = model2.predict (X_train)"
   ]
  },
  {
   "cell_type": "code",
   "execution_count": 48,
   "id": "1c911f81",
   "metadata": {},
   "outputs": [
    {
     "data": {
      "text/html": [
       "<div>\n",
       "<style scoped>\n",
       "    .dataframe tbody tr th:only-of-type {\n",
       "        vertical-align: middle;\n",
       "    }\n",
       "\n",
       "    .dataframe tbody tr th {\n",
       "        vertical-align: top;\n",
       "    }\n",
       "\n",
       "    .dataframe thead th {\n",
       "        text-align: right;\n",
       "    }\n",
       "</style>\n",
       "<table border=\"1\" class=\"dataframe\">\n",
       "  <thead>\n",
       "    <tr style=\"text-align: right;\">\n",
       "      <th></th>\n",
       "      <th>y_test</th>\n",
       "      <th>Predictions</th>\n",
       "      <th>Date</th>\n",
       "    </tr>\n",
       "  </thead>\n",
       "  <tbody>\n",
       "    <tr>\n",
       "      <th>0</th>\n",
       "      <td>0.469445</td>\n",
       "      <td>0.401072</td>\n",
       "      <td>2022-01-27</td>\n",
       "    </tr>\n",
       "    <tr>\n",
       "      <th>1</th>\n",
       "      <td>0.487910</td>\n",
       "      <td>0.397202</td>\n",
       "      <td>2022-01-28</td>\n",
       "    </tr>\n",
       "    <tr>\n",
       "      <th>2</th>\n",
       "      <td>0.525844</td>\n",
       "      <td>0.395362</td>\n",
       "      <td>2022-01-29</td>\n",
       "    </tr>\n",
       "    <tr>\n",
       "      <th>3</th>\n",
       "      <td>0.494341</td>\n",
       "      <td>0.393507</td>\n",
       "      <td>2022-01-30</td>\n",
       "    </tr>\n",
       "    <tr>\n",
       "      <th>4</th>\n",
       "      <td>0.509678</td>\n",
       "      <td>0.395431</td>\n",
       "      <td>2022-01-31</td>\n",
       "    </tr>\n",
       "  </tbody>\n",
       "</table>\n",
       "</div>"
      ],
      "text/plain": [
       "     y_test  Predictions       Date\n",
       "0  0.469445     0.401072 2022-01-27\n",
       "1  0.487910     0.397202 2022-01-28\n",
       "2  0.525844     0.395362 2022-01-29\n",
       "3  0.494341     0.393507 2022-01-30\n",
       "4  0.509678     0.395431 2022-01-31"
      ]
     },
     "execution_count": 48,
     "metadata": {},
     "output_type": "execute_result"
    }
   ],
   "source": [
    "results = np.concatenate((y_test, pred_test), axis=1)\n",
    "results = pd.DataFrame(results, columns = ['y_test', 'Predictions'])\n",
    "a = data2['close'].tail(len(pred_test))\n",
    "a = list(a.index)\n",
    "results['Date'] = a\n",
    "results['Date'] = pd.to_datetime(results['Date'])\n",
    "results.tail()\n",
    "results.head()"
   ]
  },
  {
   "cell_type": "code",
   "execution_count": 49,
   "id": "a172ed59",
   "metadata": {},
   "outputs": [
    {
     "data": {
      "image/png": "[encoded data removed]",
      "text/plain": [
       "<Figure size 864x576 with 1 Axes>"
      ]
     },
     "metadata": {
      "needs_background": "light"
     },
     "output_type": "display_data"
    }
   ],
   "source": [
    "plt.figure(figsize=(12,8))\n",
    "plt.plot(y_test, color='blue', label='Real')\n",
    "plt.plot(pred_test, color='red', label='Prediction')\n",
    "plt.title('ADA Price Prediction')\n",
    "plt.legend()\n",
    "plt.show()"
   ]
  },
  {
   "cell_type": "code",
   "execution_count": 50,
   "id": "df424692",
   "metadata": {},
   "outputs": [
    {
     "name": "stdout",
     "output_type": "stream",
     "text": [
      "Train data RMSE:  0.09305739377786905\n",
      "Train data MSE:  0.008659678536729382\n",
      "Train data MAE:  0.06434070956878386\n",
      "-------------------------------------------------------------------------------------\n",
      "Test data RMSE:  0.14385310630420747\n",
      "Test data MSE:  0.02069371619336962\n",
      "Test data MAE:  0.13232964431532468\n"
     ]
    }
   ],
   "source": [
    "# Evaluation metrices RMSE and MAE\n",
    "print(\"Train data RMSE: \", math.sqrt(mean_squared_error(y_train,pred_train)))\n",
    "print(\"Train data MSE: \", mean_squared_error(y_train,pred_train))\n",
    "print(\"Train data MAE: \", mean_absolute_error(y_train,pred_train))\n",
    "print(\"-------------------------------------------------------------------------------------\")\n",
    "print(\"Test data RMSE: \", math.sqrt(mean_squared_error(y_test,pred_test)))\n",
    "print(\"Test data MSE: \", mean_squared_error(y_test,pred_test))\n",
    "print(\"Test data MAE: \", mean_absolute_error(y_test,pred_test))"
   ]
  },
  {
   "cell_type": "code",
   "execution_count": 51,
   "id": "ba69dfcd",
   "metadata": {
    "scrolled": true
   },
   "outputs": [
    {
     "name": "stdout",
     "output_type": "stream",
     "text": [
      "Train data R2 score: 0.8626295759497958\n",
      "Test data R2 score: -4.469643021636161\n"
     ]
    }
   ],
   "source": [
    "print(\"Train data R2 score:\", r2_score(y_train, pred_train))\n",
    "print(\"Test data R2 score:\", r2_score(y_test, pred_test))"
   ]
  },
  {
   "cell_type": "markdown",
   "id": "8d232550",
   "metadata": {},
   "source": [
    "# Model 2: XGBoost Regressor   <a name=\"xgboost2\"></a>"
   ]
  },
  {
   "cell_type": "code",
   "execution_count": 52,
   "id": "95597b79",
   "metadata": {},
   "outputs": [],
   "source": [
    "data3 = avax.copy()"
   ]
  },
  {
   "cell_type": "code",
   "execution_count": 53,
   "id": "a05b12f5",
   "metadata": {
    "scrolled": false
   },
   "outputs": [
    {
     "name": "stdout",
     "output_type": "stream",
     "text": [
      "Total data for prediction:  480\n"
     ]
    }
   ],
   "source": [
    "data3.reset_index(inplace = True)\n",
    "data3 = data3[data3['Date'] >= '2021-01-01']               \n",
    "data3.set_index('Date', inplace = True)\n",
    "print(\"Total data for prediction: \",data3.shape[0])"
   ]
  },
  {
   "cell_type": "code",
   "execution_count": 54,
   "id": "f8fef781",
   "metadata": {},
   "outputs": [
    {
     "data": {
      "text/plain": [
       "(480, 8)"
      ]
     },
     "execution_count": 54,
     "metadata": {},
     "output_type": "execute_result"
    }
   ],
   "source": [
    "data3.shape"
   ]
  },
  {
   "cell_type": "code",
   "execution_count": 55,
   "id": "0906905c",
   "metadata": {},
   "outputs": [
    {
     "name": "stdout",
     "output_type": "stream",
     "text": [
      "train_data:  (384, 8)\n",
      "test_data:  (96, 8)\n"
     ]
    }
   ],
   "source": [
    "training_size=int(len(data3)*0.80)\n",
    "test_size=len(data3)-training_size\n",
    "train_data,test_data=data3.iloc[:training_size,:],data3.iloc[training_size:,:]\n",
    "print(\"train_data: \", train_data.shape)\n",
    "print(\"test_data: \", test_data.shape)"
   ]
  },
  {
   "cell_type": "code",
   "execution_count": 56,
   "id": "70e9aaf7",
   "metadata": {},
   "outputs": [
    {
     "data": {
      "image/png": "[encoded data removed]",
      "text/plain": [
       "<Figure size 1080x432 with 1 Axes>"
      ]
     },
     "metadata": {
      "needs_background": "light"
     },
     "output_type": "display_data"
    }
   ],
   "source": [
    "data3.reset_index(inplace = True)\n",
    "fig, ax = plt.subplots(figsize=(15, 6))\n",
    "sns.lineplot(x = data3['Date'][:training_size], y = data3['close'][:training_size], color = 'blue')\n",
    "sns.lineplot(x = data3['Date'][training_size:], y =data3['close'][training_size:], color = 'orange')\n",
    "\n",
    "# Formatting\n",
    "ax.set_title('Train & Test data', fontsize = 20, loc='center', fontdict=dict(weight='bold'))\n",
    "ax.set_xlabel('Date', fontsize = 16, fontdict=dict(weight='bold'))\n",
    "ax.set_ylabel('Weekly Sales', fontsize = 16, fontdict=dict(weight='bold'))\n",
    "plt.tick_params(axis='y', which='major', labelsize=16)\n",
    "plt.tick_params(axis='x', which='major', labelsize=5)\n",
    "plt.xticks(rotation = 'vertical')\n",
    "plt.legend(loc='upper right' ,labels = ('train', 'test'))\n",
    "plt.show()"
   ]
  },
  {
   "cell_type": "code",
   "execution_count": 57,
   "id": "404bc424",
   "metadata": {},
   "outputs": [],
   "source": [
    "data3.set_index('Date', inplace = True)"
   ]
  },
  {
   "cell_type": "code",
   "execution_count": 58,
   "id": "acff2e2f",
   "metadata": {},
   "outputs": [],
   "source": [
    "# convert an array of values into a dataset matrix\n",
    "def create_dataset(dataset, time_step=1):\n",
    "    dataX, dataY = [], []\n",
    "    for i in range(len(dataset)-time_step-1):\n",
    "        a = dataset.iloc[i:(i+time_step), :]   \n",
    "        dataX.append(a)\n",
    "        dataY.append(dataset.iloc[i + time_step, 0])\n",
    "    return np.array(dataX), np.array(dataY)"
   ]
  },
  {
   "cell_type": "code",
   "execution_count": 59,
   "id": "967c856d",
   "metadata": {},
   "outputs": [
    {
     "name": "stdout",
     "output_type": "stream",
     "text": [
      "X_train:  (376, 7, 8)\n",
      "y_train:  (376,)\n",
      "X_test:  (88, 7, 8)\n",
      "y_test (88,)\n"
     ]
    }
   ],
   "source": [
    "time_step = 7\n",
    "X_train, y_train = create_dataset(train_data, time_step)\n",
    "X_test, y_test = create_dataset(test_data, time_step)\n",
    "\n",
    "print(\"X_train: \", X_train.shape)\n",
    "print(\"y_train: \", y_train.shape)\n",
    "print(\"X_test: \", X_test.shape)\n",
    "print(\"y_test\", y_test.shape)"
   ]
  },
  {
   "cell_type": "code",
   "execution_count": 60,
   "id": "73a5548c",
   "metadata": {},
   "outputs": [],
   "source": [
    "nsamples, nx, ny = X_train.shape\n",
    "X_train = X_train.reshape((nsamples,nx*ny))\n",
    "\n",
    "nsamples, nx, ny = X_test.shape\n",
    "X_test = X_test.reshape((nsamples,nx*ny))"
   ]
  },
  {
   "cell_type": "code",
   "execution_count": 61,
   "id": "ac737696",
   "metadata": {},
   "outputs": [
    {
     "data": {
      "text/plain": [
       "XGBRegressor(base_score=0.5, booster='gbtree', callbacks=None,\n",
       "             colsample_bylevel=1, colsample_bynode=1, colsample_bytree=1,\n",
       "             early_stopping_rounds=None, enable_categorical=False, eta=0.2,\n",
       "             eval_metric=None, gamma=0, gpu_id=-1, grow_policy='depthwise',\n",
       "             importance_type=None, interaction_constraints='',\n",
       "             learning_rate=0.200000003, max_bin=256, max_cat_to_onehot=4,\n",
       "             max_delta_step=0, max_depth=6, max_leaves=0, min_child_weight=1,\n",
       "             missing=nan, monotone_constraints='()', n_estimators=1000,\n",
       "             n_jobs=0, num_parallel_tree=1, predictor='auto', random_state=1,\n",
       "             reg_alpha=0, ...)"
      ]
     },
     "execution_count": 61,
     "metadata": {},
     "output_type": "execute_result"
    }
   ],
   "source": [
    "model3 = XGBRegressor(n_estimators=1000, random_state = 1, eta = 0.2)\n",
    "model3.fit(X_train, y_train)"
   ]
  },
  {
   "cell_type": "code",
   "execution_count": 62,
   "id": "d9ed2dea",
   "metadata": {},
   "outputs": [],
   "source": [
    "predictions = model3.predict(X_test).reshape(-1,1)\n",
    "y_test = y_test.reshape(-1,1)\n",
    "\n",
    "predictions_train = model3.predict(X_train).reshape(-1,1)\n",
    "y_train = y_train.reshape(-1,1)"
   ]
  },
  {
   "cell_type": "code",
   "execution_count": 63,
   "id": "2e9baab6",
   "metadata": {},
   "outputs": [
    {
     "data": {
      "text/html": [
       "<div>\n",
       "<style scoped>\n",
       "    .dataframe tbody tr th:only-of-type {\n",
       "        vertical-align: middle;\n",
       "    }\n",
       "\n",
       "    .dataframe tbody tr th {\n",
       "        vertical-align: top;\n",
       "    }\n",
       "\n",
       "    .dataframe thead th {\n",
       "        text-align: right;\n",
       "    }\n",
       "</style>\n",
       "<table border=\"1\" class=\"dataframe\">\n",
       "  <thead>\n",
       "    <tr style=\"text-align: right;\">\n",
       "      <th></th>\n",
       "      <th>y_test</th>\n",
       "      <th>Predictions</th>\n",
       "      <th>Date</th>\n",
       "    </tr>\n",
       "  </thead>\n",
       "  <tbody>\n",
       "    <tr>\n",
       "      <th>83</th>\n",
       "      <td>0.572598</td>\n",
       "      <td>0.583399</td>\n",
       "      <td>2022-04-21</td>\n",
       "    </tr>\n",
       "    <tr>\n",
       "      <th>84</th>\n",
       "      <td>0.548335</td>\n",
       "      <td>0.595980</td>\n",
       "      <td>2022-04-22</td>\n",
       "    </tr>\n",
       "    <tr>\n",
       "      <th>85</th>\n",
       "      <td>0.541059</td>\n",
       "      <td>0.584277</td>\n",
       "      <td>2022-04-23</td>\n",
       "    </tr>\n",
       "    <tr>\n",
       "      <th>86</th>\n",
       "      <td>0.531920</td>\n",
       "      <td>0.586118</td>\n",
       "      <td>2022-04-24</td>\n",
       "    </tr>\n",
       "    <tr>\n",
       "      <th>87</th>\n",
       "      <td>0.521914</td>\n",
       "      <td>0.501303</td>\n",
       "      <td>2022-04-25</td>\n",
       "    </tr>\n",
       "  </tbody>\n",
       "</table>\n",
       "</div>"
      ],
      "text/plain": [
       "      y_test  Predictions       Date\n",
       "83  0.572598     0.583399 2022-04-21\n",
       "84  0.548335     0.595980 2022-04-22\n",
       "85  0.541059     0.584277 2022-04-23\n",
       "86  0.531920     0.586118 2022-04-24\n",
       "87  0.521914     0.501303 2022-04-25"
      ]
     },
     "execution_count": 63,
     "metadata": {},
     "output_type": "execute_result"
    }
   ],
   "source": [
    "results2 = np.concatenate((y_test, predictions), axis = 1)\n",
    "results2 = pd.DataFrame(results2, columns = ['y_test', 'Predictions'])\n",
    "a = data3['close'].tail(len(predictions))\n",
    "a = list(a.index)\n",
    "results2['Date'] = a\n",
    "results2['Date'] = pd.to_datetime(results2['Date'])\n",
    "results2.tail()"
   ]
  },
  {
   "cell_type": "code",
   "execution_count": 64,
   "id": "cf0d4173",
   "metadata": {},
   "outputs": [
    {
     "data": {
      "image/png": "[encoded data removed]",
      "text/plain": [
       "<Figure size 960x640 with 1 Axes>"
      ]
     },
     "metadata": {
      "needs_background": "light"
     },
     "output_type": "display_data"
    }
   ],
   "source": [
    "plt.figure(figsize = (12,8), dpi = 80)\n",
    "plt.plot(results2['Date'], results2['y_test'], 'b', label = 'y_test')\n",
    "plt.plot(results2['Date'], results2['Predictions'], 'r', label = 'Predictions')\n",
    "plt.title ('Predictions vs Real Values of Test Data (cryptocurrency: AVAX)', fontsize = 16, )\n",
    "plt.xlabel('Date', fontsize = 14)\n",
    "plt.ylabel('Price', fontsize = 14)\n",
    "plt.legend()\n",
    "\n",
    "plt.show()"
   ]
  },
  {
   "cell_type": "code",
   "execution_count": 65,
   "id": "e14eda2d",
   "metadata": {},
   "outputs": [
    {
     "name": "stdout",
     "output_type": "stream",
     "text": [
      "Train data MSE:  4.2933596163601895e-07\n",
      "Mean Absolute Error - MAE : 0.0004841273456275469\n",
      "Root Mean squared Error - RMSE : 0.0006552373322972516\n",
      "R^2 Score 0.999993254727944\n",
      "--------------------------------------------------------------\n",
      "Test data MSE:  0.0022553947051626114\n",
      "Mean Absolute Error - MAE : 0.039103612908923474\n",
      "Root Mean squared Error - RMSE : 0.047490996043067064\n",
      "R^2 Score 0.4048146238825383\n"
     ]
    }
   ],
   "source": [
    "print(\"Train data MSE: \", mean_squared_error(y_train,predictions_train))\n",
    "print(\"Mean Absolute Error - MAE : \" + str(mean_absolute_error(y_train, predictions_train)))\n",
    "print(\"Root Mean squared Error - RMSE : \" + str(math.sqrt(mean_squared_error(y_train, predictions_train))))\n",
    "print('R^2 Score', r2_score(y_train, predictions_train))\n",
    "\n",
    "print (\"--------------------------------------------------------------\")\n",
    "print(\"Test data MSE: \", mean_squared_error(y_test,predictions))\n",
    "print(\"Mean Absolute Error - MAE : \" + str(mean_absolute_error(y_test, predictions)))\n",
    "print(\"Root Mean squared Error - RMSE : \" + str(math.sqrt(mean_squared_error(y_test, predictions))))\n",
    "print('R^2 Score', r2_score(y_test, predictions))"
   ]
  },
  {
   "cell_type": "markdown",
   "id": "e92438c4",
   "metadata": {},
   "source": [
    "# AVAX - since January 2022  <a name=\"jan2022\"></a>"
   ]
  },
  {
   "cell_type": "markdown",
   "id": "708a8c99",
   "metadata": {},
   "source": [
    "# Model 1: LSTM <a name=\"lstm3\"></a>"
   ]
  },
  {
   "cell_type": "code",
   "execution_count": 66,
   "id": "880a53ec",
   "metadata": {},
   "outputs": [
    {
     "name": "stdout",
     "output_type": "stream",
     "text": [
      "Total data for prediction:  115\n"
     ]
    }
   ],
   "source": [
    "data4 = avax.copy()\n",
    "data4.reset_index(inplace = True)\n",
    "data4 = data4[data4['Date'] >= '2022-01-01']\n",
    "data4.set_index('Date', inplace = True)\n",
    "print(\"Total data for prediction: \",data4.shape[0])"
   ]
  },
  {
   "cell_type": "code",
   "execution_count": 67,
   "id": "40ad14ca",
   "metadata": {},
   "outputs": [],
   "source": [
    "hist = []\n",
    "target = []\n",
    "length = 7\n",
    "\n",
    "for i in range(len(data4)-length):\n",
    "    t = data4['close']\n",
    "    v = data4[['close','volume', 'BTC_closeprice','spread', 'volatility', 'close_off_high', 'EUR/USD_close']]\n",
    "    x = v[i:i+length]\n",
    "    y = t[i+length]\n",
    "    hist.append(x)\n",
    "    target.append(y)"
   ]
  },
  {
   "cell_type": "code",
   "execution_count": 68,
   "id": "c88f92e7",
   "metadata": {},
   "outputs": [
    {
     "name": "stdout",
     "output_type": "stream",
     "text": [
      "7\n",
      "108\n",
      "108\n"
     ]
    }
   ],
   "source": [
    "print(len(hist[0]))\n",
    "print(len(hist))\n",
    "print(len(target))"
   ]
  },
  {
   "cell_type": "code",
   "execution_count": 69,
   "id": "3edefe80",
   "metadata": {},
   "outputs": [],
   "source": [
    "#convert list to array\n",
    "hist = np.array(hist)\n",
    "target = np.array(target)"
   ]
  },
  {
   "cell_type": "code",
   "execution_count": 70,
   "id": "03cc2a18",
   "metadata": {},
   "outputs": [
    {
     "data": {
      "text/plain": [
       "(108, 1)"
      ]
     },
     "execution_count": 70,
     "metadata": {},
     "output_type": "execute_result"
    }
   ],
   "source": [
    "target = target.reshape(-1,1)\n",
    "target.shape"
   ]
  },
  {
   "cell_type": "code",
   "execution_count": 71,
   "id": "89c577d5",
   "metadata": {},
   "outputs": [],
   "source": [
    "training_size = int(len(data4)*0.8)\n",
    "\n",
    "X_train = hist[:training_size,:]\n",
    "X_test = hist[training_size:,:]\n",
    "\n",
    "y_train = target[:training_size]\n",
    "y_test = target[training_size:]"
   ]
  },
  {
   "cell_type": "code",
   "execution_count": 72,
   "id": "704b05c8",
   "metadata": {},
   "outputs": [
    {
     "data": {
      "text/plain": [
       "(92, 7, 7)"
      ]
     },
     "execution_count": 72,
     "metadata": {},
     "output_type": "execute_result"
    }
   ],
   "source": [
    "X_train.shape"
   ]
  },
  {
   "cell_type": "code",
   "execution_count": 73,
   "id": "c15e0fb5",
   "metadata": {},
   "outputs": [
    {
     "name": "stdout",
     "output_type": "stream",
     "text": [
      "Model: \"sequential_2\"\n",
      "_________________________________________________________________\n",
      " Layer (type)                Output Shape              Param #   \n",
      "=================================================================\n",
      " lstm_6 (LSTM)               (None, 7, 20)             2240      \n",
      "                                                                 \n",
      " lstm_7 (LSTM)               (None, 7, 32)             6784      \n",
      "                                                                 \n",
      " lstm_8 (LSTM)               (None, 32)                8320      \n",
      "                                                                 \n",
      " dense_2 (Dense)             (None, 1)                 33        \n",
      "                                                                 \n",
      "=================================================================\n",
      "Total params: 17,377\n",
      "Trainable params: 17,377\n",
      "Non-trainable params: 0\n",
      "_________________________________________________________________\n"
     ]
    }
   ],
   "source": [
    "model4 = tf.keras.Sequential()\n",
    "\n",
    "model4.add(layers.LSTM(units=20, activation = 'relu', return_sequences=True,\n",
    "                  input_shape=(7,7), dropout = 0.2))\n",
    "\n",
    "model4.add(layers.LSTM(units=32, return_sequences=True,\n",
    "                  dropout=0.2))\n",
    "\n",
    "model4.add(layers.LSTM(units=32, activation = 'relu', dropout=0.2))\n",
    "\n",
    "#model.add(layers.LSTM(units=55, return_sequences = True, dropout = 0.2))\n",
    "\n",
    "#model.add(layers.LSTM(units = 80, activation = 'relu', dropout = 0.2))\n",
    "\n",
    "model4.add(layers.Dense(units=1))\n",
    "\n",
    "model4.summary()"
   ]
  },
  {
   "cell_type": "code",
   "execution_count": 74,
   "id": "028a2803",
   "metadata": {},
   "outputs": [],
   "source": [
    "model4.compile(optimizer='adam', loss='mean_squared_error')"
   ]
  },
  {
   "cell_type": "code",
   "execution_count": 75,
   "id": "a5a1bbfd",
   "metadata": {},
   "outputs": [
    {
     "name": "stdout",
     "output_type": "stream",
     "text": [
      "Epoch 1/30\n",
      "3/3 [==============================] - 4s 292ms/step - loss: 0.3430 - val_loss: 0.4189\n",
      "Epoch 2/30\n",
      "3/3 [==============================] - 0s 22ms/step - loss: 0.3188 - val_loss: 0.3950\n",
      "Epoch 3/30\n",
      "3/3 [==============================] - 0s 23ms/step - loss: 0.2985 - val_loss: 0.3716\n",
      "Epoch 4/30\n",
      "3/3 [==============================] - 0s 22ms/step - loss: 0.2753 - val_loss: 0.3423\n",
      "Epoch 5/30\n",
      "3/3 [==============================] - 0s 20ms/step - loss: 0.2487 - val_loss: 0.3043\n",
      "Epoch 6/30\n",
      "3/3 [==============================] - 0s 19ms/step - loss: 0.2146 - val_loss: 0.2568\n",
      "Epoch 7/30\n",
      "3/3 [==============================] - 0s 20ms/step - loss: 0.1732 - val_loss: 0.1977\n",
      "Epoch 8/30\n",
      "3/3 [==============================] - 0s 20ms/step - loss: 0.1232 - val_loss: 0.1261\n",
      "Epoch 9/30\n",
      "3/3 [==============================] - 0s 21ms/step - loss: 0.0684 - val_loss: 0.0488\n",
      "Epoch 10/30\n",
      "3/3 [==============================] - 0s 19ms/step - loss: 0.0187 - val_loss: 0.0018\n",
      "Epoch 11/30\n",
      "3/3 [==============================] - 0s 18ms/step - loss: 0.0213 - val_loss: 0.0129\n",
      "Epoch 12/30\n",
      "3/3 [==============================] - 0s 19ms/step - loss: 0.0342 - val_loss: 0.0029\n",
      "Epoch 13/30\n",
      "3/3 [==============================] - 0s 18ms/step - loss: 0.0152 - val_loss: 0.0061\n",
      "Epoch 14/30\n",
      "3/3 [==============================] - 0s 19ms/step - loss: 0.0082 - val_loss: 0.0191\n",
      "Epoch 15/30\n",
      "3/3 [==============================] - 0s 18ms/step - loss: 0.0116 - val_loss: 0.0256\n",
      "Epoch 16/30\n",
      "3/3 [==============================] - 0s 18ms/step - loss: 0.0125 - val_loss: 0.0234\n",
      "Epoch 17/30\n",
      "3/3 [==============================] - 0s 18ms/step - loss: 0.0094 - val_loss: 0.0162\n",
      "Epoch 18/30\n",
      "3/3 [==============================] - 0s 19ms/step - loss: 0.0085 - val_loss: 0.0088\n",
      "Epoch 19/30\n",
      "3/3 [==============================] - 0s 18ms/step - loss: 0.0052 - val_loss: 0.0044\n",
      "Epoch 20/30\n",
      "3/3 [==============================] - 0s 19ms/step - loss: 0.0089 - val_loss: 0.0031\n",
      "Epoch 21/30\n",
      "3/3 [==============================] - 0s 19ms/step - loss: 0.0080 - val_loss: 0.0038\n",
      "Epoch 22/30\n",
      "3/3 [==============================] - 0s 18ms/step - loss: 0.0066 - val_loss: 0.0056\n",
      "Epoch 23/30\n",
      "3/3 [==============================] - 0s 19ms/step - loss: 0.0050 - val_loss: 0.0078\n",
      "Epoch 24/30\n",
      "3/3 [==============================] - 0s 18ms/step - loss: 0.0070 - val_loss: 0.0097\n",
      "Epoch 25/30\n",
      "3/3 [==============================] - 0s 18ms/step - loss: 0.0056 - val_loss: 0.0096\n",
      "Epoch 26/30\n",
      "3/3 [==============================] - 0s 20ms/step - loss: 0.0048 - val_loss: 0.0080\n",
      "Epoch 27/30\n",
      "3/3 [==============================] - 0s 19ms/step - loss: 0.0074 - val_loss: 0.0069\n",
      "Epoch 28/30\n",
      "3/3 [==============================] - 0s 19ms/step - loss: 0.0067 - val_loss: 0.0068\n",
      "Epoch 29/30\n",
      "3/3 [==============================] - 0s 19ms/step - loss: 0.0075 - val_loss: 0.0074\n",
      "Epoch 30/30\n",
      "3/3 [==============================] - 0s 18ms/step - loss: 0.0060 - val_loss: 0.0082\n"
     ]
    }
   ],
   "source": [
    "history = model4.fit(X_train, y_train, epochs=30, batch_size=32, validation_split=0.2, shuffle = False)"
   ]
  },
  {
   "cell_type": "code",
   "execution_count": 76,
   "id": "f0661096",
   "metadata": {},
   "outputs": [
    {
     "data": {
      "image/png": "[encoded data removed]",
      "text/plain": [
       "<Figure size 864x576 with 1 Axes>"
      ]
     },
     "metadata": {
      "needs_background": "light"
     },
     "output_type": "display_data"
    }
   ],
   "source": [
    "loss = history.history['loss']\n",
    "val_loss = history.history['val_loss']\n",
    "epoch_count = range(len(loss))\n",
    "plt.figure(figsize=(12,8))\n",
    "plt.plot(epoch_count, loss, 'r', label='Training loss')\n",
    "plt.plot(epoch_count, val_loss, 'b', label='Validation loss')\n",
    "plt.legend(['Training Loss','Validation Loss'])\n",
    "plt.xlabel('Epoch')\n",
    "plt.ylabel('Loss')\n",
    "plt.show();"
   ]
  },
  {
   "cell_type": "code",
   "execution_count": 77,
   "id": "9c902da7",
   "metadata": {},
   "outputs": [],
   "source": [
    "pred_test = model4.predict(X_test)\n",
    "pred_train = model4.predict (X_train)"
   ]
  },
  {
   "cell_type": "code",
   "execution_count": 78,
   "id": "b137cdb7",
   "metadata": {},
   "outputs": [
    {
     "data": {
      "text/html": [
       "<div>\n",
       "<style scoped>\n",
       "    .dataframe tbody tr th:only-of-type {\n",
       "        vertical-align: middle;\n",
       "    }\n",
       "\n",
       "    .dataframe tbody tr th {\n",
       "        vertical-align: top;\n",
       "    }\n",
       "\n",
       "    .dataframe thead th {\n",
       "        text-align: right;\n",
       "    }\n",
       "</style>\n",
       "<table border=\"1\" class=\"dataframe\">\n",
       "  <thead>\n",
       "    <tr style=\"text-align: right;\">\n",
       "      <th></th>\n",
       "      <th>y_test</th>\n",
       "      <th>Predictions</th>\n",
       "      <th>Date</th>\n",
       "    </tr>\n",
       "  </thead>\n",
       "  <tbody>\n",
       "    <tr>\n",
       "      <th>11</th>\n",
       "      <td>0.548335</td>\n",
       "      <td>0.532280</td>\n",
       "      <td>2022-04-21</td>\n",
       "    </tr>\n",
       "    <tr>\n",
       "      <th>12</th>\n",
       "      <td>0.541059</td>\n",
       "      <td>0.535082</td>\n",
       "      <td>2022-04-22</td>\n",
       "    </tr>\n",
       "    <tr>\n",
       "      <th>13</th>\n",
       "      <td>0.531920</td>\n",
       "      <td>0.533000</td>\n",
       "      <td>2022-04-23</td>\n",
       "    </tr>\n",
       "    <tr>\n",
       "      <th>14</th>\n",
       "      <td>0.521914</td>\n",
       "      <td>0.531710</td>\n",
       "      <td>2022-04-24</td>\n",
       "    </tr>\n",
       "    <tr>\n",
       "      <th>15</th>\n",
       "      <td>0.531520</td>\n",
       "      <td>0.534677</td>\n",
       "      <td>2022-04-25</td>\n",
       "    </tr>\n",
       "  </tbody>\n",
       "</table>\n",
       "</div>"
      ],
      "text/plain": [
       "      y_test  Predictions       Date\n",
       "11  0.548335     0.532280 2022-04-21\n",
       "12  0.541059     0.535082 2022-04-22\n",
       "13  0.531920     0.533000 2022-04-23\n",
       "14  0.521914     0.531710 2022-04-24\n",
       "15  0.531520     0.534677 2022-04-25"
      ]
     },
     "execution_count": 78,
     "metadata": {},
     "output_type": "execute_result"
    }
   ],
   "source": [
    "results = np.concatenate((y_test, pred_test), axis=1)\n",
    "results = pd.DataFrame(results, columns = ['y_test', 'Predictions'])\n",
    "a = data4['close'].tail(len(pred_test))\n",
    "a = list(a.index)\n",
    "results['Date'] = a\n",
    "results['Date'] = pd.to_datetime(results['Date'])\n",
    "results.tail()"
   ]
  },
  {
   "cell_type": "code",
   "execution_count": 79,
   "id": "4f8a42ee",
   "metadata": {},
   "outputs": [
    {
     "data": {
      "image/png": "[encoded data removed]",
      "text/plain": [
       "<Figure size 960x640 with 1 Axes>"
      ]
     },
     "metadata": {
      "needs_background": "light"
     },
     "output_type": "display_data"
    }
   ],
   "source": [
    "plt.figure(figsize = (12,8), dpi = 80)\n",
    "plt.plot(results['Date'], results['y_test'], 'b', label = 'y_test')\n",
    "plt.plot(results['Date'], results['Predictions'], 'r', label = 'Predictions')\n",
    "plt.title ('Predictions vs Real Values of Test Data (cryptocurrency: ETH)', fontsize = 16,)\n",
    "plt.xlabel('Date', fontsize = 14)\n",
    "plt.ylabel('Price', fontsize = 14)\n",
    "plt.legend()\n",
    "\n",
    "plt.show()"
   ]
  },
  {
   "cell_type": "code",
   "execution_count": 80,
   "id": "fa35cd86",
   "metadata": {},
   "outputs": [
    {
     "name": "stdout",
     "output_type": "stream",
     "text": [
      "Train data RMSE:  0.06946402424351614\n",
      "Train data MSE:  0.004825250664103797\n",
      "Train data MAE:  0.057637115767000494\n",
      "-------------------------------------------------------------------------------------\n",
      "Test data RMSE:  0.02667241838519582\n",
      "Test data MSE:  0.000711417902514932\n",
      "Test data MAE:  0.02203603251214404\n"
     ]
    }
   ],
   "source": [
    "# Evaluation metrices RMSE and MAE\n",
    "print(\"Train data RMSE: \", math.sqrt(mean_squared_error(y_train,pred_train)))\n",
    "print(\"Train data MSE: \", mean_squared_error(y_train,pred_train))\n",
    "print(\"Train data MAE: \", mean_absolute_error(y_train,pred_train))\n",
    "print(\"-------------------------------------------------------------------------------------\")\n",
    "print(\"Test data RMSE: \", math.sqrt(mean_squared_error(y_test,pred_test)))\n",
    "print(\"Test data MSE: \", mean_squared_error(y_test,pred_test))\n",
    "print(\"Test data MAE: \", mean_absolute_error(y_test,pred_test))"
   ]
  },
  {
   "cell_type": "code",
   "execution_count": 81,
   "id": "62416aab",
   "metadata": {
    "scrolled": true
   },
   "outputs": [
    {
     "name": "stdout",
     "output_type": "stream",
     "text": [
      "Train data R2 score: 0.03471914472676607\n",
      "Test data R2 score: -0.5617802040097339\n"
     ]
    }
   ],
   "source": [
    "print(\"Train data R2 score:\", r2_score(y_train, pred_train))\n",
    "print(\"Test data R2 score:\", r2_score(y_test, pred_test))"
   ]
  },
  {
   "cell_type": "markdown",
   "id": "a5589e1c",
   "metadata": {},
   "source": [
    "# Model 2: XGBoost Regressor   <a name=\"xgboost3\"></a>"
   ]
  },
  {
   "cell_type": "code",
   "execution_count": 82,
   "id": "68d92d22",
   "metadata": {},
   "outputs": [
    {
     "name": "stdout",
     "output_type": "stream",
     "text": [
      "Total data for prediction:  115\n"
     ]
    }
   ],
   "source": [
    "data5= avax.copy()\n",
    "data5.reset_index(inplace = True)\n",
    "data5 = data5[data5['Date'] >= '2022-01-01']\n",
    "data5.set_index('Date', inplace = True)\n",
    "print(\"Total data for prediction: \",data5.shape[0])"
   ]
  },
  {
   "cell_type": "code",
   "execution_count": 83,
   "id": "2a7d472b",
   "metadata": {},
   "outputs": [
    {
     "name": "stdout",
     "output_type": "stream",
     "text": [
      "train_data:  (92, 8)\n",
      "test_data:  (23, 8)\n"
     ]
    }
   ],
   "source": [
    "training_size=int(len(data5)*0.80)\n",
    "test_size=len(data5)-training_size\n",
    "train_data,test_data=data5.iloc[:training_size,:],data5.iloc[training_size:,:]\n",
    "print(\"train_data: \", train_data.shape)\n",
    "print(\"test_data: \", test_data.shape)"
   ]
  },
  {
   "cell_type": "code",
   "execution_count": 84,
   "id": "68f0a09f",
   "metadata": {
    "scrolled": true
   },
   "outputs": [
    {
     "data": {
      "image/png": "[encoded data removed]",
      "text/plain": [
       "<Figure size 1080x432 with 1 Axes>"
      ]
     },
     "metadata": {
      "needs_background": "light"
     },
     "output_type": "display_data"
    }
   ],
   "source": [
    "data5.reset_index(inplace = True)\n",
    "fig, ax = plt.subplots(figsize=(15, 6))\n",
    "sns.lineplot(x = data5['Date'][:training_size], y = data5['close'][:training_size], color = 'blue')\n",
    "sns.lineplot(x = data5['Date'][training_size:], y = data5['close'][training_size:], color = 'orange')\n",
    "\n",
    "# Formatting\n",
    "ax.set_title('Train & Test data', fontsize = 20, loc='center', fontdict=dict(weight='bold'))\n",
    "ax.set_xlabel('Date', fontsize = 16, fontdict=dict(weight='bold'))\n",
    "ax.set_ylabel('Weekly Sales', fontsize = 16, fontdict=dict(weight='bold'))\n",
    "plt.tick_params(axis='y', which='major', labelsize=16)\n",
    "plt.tick_params(axis='x', which='major', labelsize=5)\n",
    "plt.xticks(rotation = 'vertical')\n",
    "plt.legend(loc='upper right' ,labels = ('train', 'test'))\n",
    "plt.show()"
   ]
  },
  {
   "cell_type": "code",
   "execution_count": 85,
   "id": "2d760131",
   "metadata": {},
   "outputs": [],
   "source": [
    "data5.set_index('Date', inplace = True)"
   ]
  },
  {
   "cell_type": "code",
   "execution_count": 86,
   "id": "55424599",
   "metadata": {},
   "outputs": [],
   "source": [
    "# convert an array of values into a dataset matrix\n",
    "def create_dataset(dataset, time_step=1):\n",
    "    dataX, dataY = [], []\n",
    "    for i in range(len(dataset)-time_step-1):\n",
    "        a = dataset.iloc[i:(i+time_step), :]   \n",
    "        dataX.append(a)\n",
    "        dataY.append(dataset.iloc[i + time_step, 0])\n",
    "    return np.array(dataX), np.array(dataY)"
   ]
  },
  {
   "cell_type": "code",
   "execution_count": 87,
   "id": "58549aeb",
   "metadata": {},
   "outputs": [
    {
     "name": "stdout",
     "output_type": "stream",
     "text": [
      "X_train:  (84, 7, 8)\n",
      "y_train:  (84,)\n",
      "X_test:  (15, 7, 8)\n",
      "y_test (15,)\n"
     ]
    }
   ],
   "source": [
    "time_step = 7\n",
    "X_train, y_train = create_dataset(train_data, time_step)\n",
    "X_test, y_test = create_dataset(test_data, time_step)\n",
    "\n",
    "print(\"X_train: \", X_train.shape)\n",
    "print(\"y_train: \", y_train.shape)\n",
    "print(\"X_test: \", X_test.shape)\n",
    "print(\"y_test\", y_test.shape)"
   ]
  },
  {
   "cell_type": "code",
   "execution_count": 88,
   "id": "73a5548c",
   "metadata": {},
   "outputs": [],
   "source": [
    "nsamples, nx, ny = X_train.shape\n",
    "X_train = X_train.reshape((nsamples,nx*ny))\n",
    "\n",
    "nsamples, nx, ny = X_test.shape\n",
    "X_test = X_test.reshape((nsamples,nx*ny))"
   ]
  },
  {
   "cell_type": "code",
   "execution_count": 89,
   "id": "017f9d78",
   "metadata": {},
   "outputs": [
    {
     "data": {
      "text/plain": [
       "XGBRegressor(base_score=0.5, booster='gbtree', callbacks=None,\n",
       "             colsample_bylevel=1, colsample_bynode=1, colsample_bytree=1,\n",
       "             early_stopping_rounds=None, enable_categorical=False, eta=0.2,\n",
       "             eval_metric=None, gamma=0, gpu_id=-1, grow_policy='depthwise',\n",
       "             importance_type=None, interaction_constraints='',\n",
       "             learning_rate=0.200000003, max_bin=256, max_cat_to_onehot=4,\n",
       "             max_delta_step=0, max_depth=6, max_leaves=0, min_child_weight=1,\n",
       "             missing=nan, monotone_constraints='()', n_estimators=1000,\n",
       "             n_jobs=0, num_parallel_tree=1, predictor='auto', random_state=1,\n",
       "             reg_alpha=0, ...)"
      ]
     },
     "execution_count": 89,
     "metadata": {},
     "output_type": "execute_result"
    }
   ],
   "source": [
    "model5 = XGBRegressor(n_estimators=1000, random_state = 1, eta = 0.2)\n",
    "model5.fit(X_train, y_train)"
   ]
  },
  {
   "cell_type": "code",
   "execution_count": 90,
   "id": "d9ed2dea",
   "metadata": {},
   "outputs": [],
   "source": [
    "predictions = model5.predict(X_test).reshape(-1,1)\n",
    "y_test = y_test.reshape(-1,1)\n",
    "\n",
    "\n",
    "predictions_train = model5.predict(X_train).reshape(-1,1)\n",
    "y_train = y_train.reshape(-1,1)"
   ]
  },
  {
   "cell_type": "code",
   "execution_count": 91,
   "id": "2e9baab6",
   "metadata": {},
   "outputs": [
    {
     "data": {
      "text/html": [
       "<div>\n",
       "<style scoped>\n",
       "    .dataframe tbody tr th:only-of-type {\n",
       "        vertical-align: middle;\n",
       "    }\n",
       "\n",
       "    .dataframe tbody tr th {\n",
       "        vertical-align: top;\n",
       "    }\n",
       "\n",
       "    .dataframe thead th {\n",
       "        text-align: right;\n",
       "    }\n",
       "</style>\n",
       "<table border=\"1\" class=\"dataframe\">\n",
       "  <thead>\n",
       "    <tr style=\"text-align: right;\">\n",
       "      <th></th>\n",
       "      <th>y_test</th>\n",
       "      <th>Predictions</th>\n",
       "      <th>Date</th>\n",
       "    </tr>\n",
       "  </thead>\n",
       "  <tbody>\n",
       "    <tr>\n",
       "      <th>10</th>\n",
       "      <td>0.572598</td>\n",
       "      <td>0.604367</td>\n",
       "      <td>2022-04-21</td>\n",
       "    </tr>\n",
       "    <tr>\n",
       "      <th>11</th>\n",
       "      <td>0.548335</td>\n",
       "      <td>0.559721</td>\n",
       "      <td>2022-04-22</td>\n",
       "    </tr>\n",
       "    <tr>\n",
       "      <th>12</th>\n",
       "      <td>0.541059</td>\n",
       "      <td>0.500893</td>\n",
       "      <td>2022-04-23</td>\n",
       "    </tr>\n",
       "    <tr>\n",
       "      <th>13</th>\n",
       "      <td>0.531920</td>\n",
       "      <td>0.491185</td>\n",
       "      <td>2022-04-24</td>\n",
       "    </tr>\n",
       "    <tr>\n",
       "      <th>14</th>\n",
       "      <td>0.521914</td>\n",
       "      <td>0.484272</td>\n",
       "      <td>2022-04-25</td>\n",
       "    </tr>\n",
       "  </tbody>\n",
       "</table>\n",
       "</div>"
      ],
      "text/plain": [
       "      y_test  Predictions       Date\n",
       "10  0.572598     0.604367 2022-04-21\n",
       "11  0.548335     0.559721 2022-04-22\n",
       "12  0.541059     0.500893 2022-04-23\n",
       "13  0.531920     0.491185 2022-04-24\n",
       "14  0.521914     0.484272 2022-04-25"
      ]
     },
     "execution_count": 91,
     "metadata": {},
     "output_type": "execute_result"
    }
   ],
   "source": [
    "results2 = np.concatenate((y_test, predictions), axis = 1)\n",
    "results2 = pd.DataFrame(results2, columns = ['y_test', 'Predictions'])\n",
    "a = data5['close'].tail(len(predictions))\n",
    "a = list(a.index)\n",
    "results2['Date'] = a\n",
    "results2['Date'] = pd.to_datetime(results2['Date'])\n",
    "results2.tail()"
   ]
  },
  {
   "cell_type": "code",
   "execution_count": 92,
   "id": "cf0d4173",
   "metadata": {
    "scrolled": true
   },
   "outputs": [
    {
     "data": {
      "image/png": "[encoded data removed]",
      "text/plain": [
       "<Figure size 960x640 with 1 Axes>"
      ]
     },
     "metadata": {
      "needs_background": "light"
     },
     "output_type": "display_data"
    }
   ],
   "source": [
    "plt.figure(figsize = (12,8), dpi = 80 )\n",
    "plt.plot(results2['Date'], results2['y_test'], 'b', label = 'y_test')\n",
    "plt.plot(results2['Date'], results2['Predictions'], 'r', label = 'Predictions')\n",
    "plt.title ('Predictions vs Real Values of Test Data (cryptocurrency: AVAX)', fontsize = 16, )\n",
    "plt.xlabel('Date', fontsize = 14)\n",
    "plt.ylabel('Price', fontsize = 14)\n",
    "plt.legend()\n",
    "\n",
    "plt.show()"
   ]
  },
  {
   "cell_type": "code",
   "execution_count": 93,
   "id": "c0c0be71",
   "metadata": {},
   "outputs": [
    {
     "name": "stdout",
     "output_type": "stream",
     "text": [
      "Train data MSE:  1.780103880918849e-07\n",
      "Mean Absolute Error - MAE : 0.00030717091113444513\n",
      "Root Mean squared Error - RMSE : 0.00042191277308453805\n",
      "R^2 Score 0.999963070326039\n",
      "--------------------------------------------------------------\n",
      "Test data MSE:  0.0021529124057141896\n",
      "Mean Absolute Error - MAE : 0.043312519987164906\n",
      "Root Mean squared Error - RMSE : 0.046399487127706376\n",
      "R^2 Score -3.9687725996960737\n"
     ]
    }
   ],
   "source": [
    "print(\"Train data MSE: \", mean_squared_error(y_train,predictions_train))\n",
    "print(\"Mean Absolute Error - MAE : \" + str(mean_absolute_error(y_train, predictions_train)))\n",
    "print(\"Root Mean squared Error - RMSE : \" + str(math.sqrt(mean_squared_error(y_train, predictions_train))))\n",
    "print('R^2 Score', r2_score(y_train, predictions_train))\n",
    "\n",
    "print (\"--------------------------------------------------------------\")\n",
    "print(\"Test data MSE: \", mean_squared_error(y_test,predictions))\n",
    "print(\"Mean Absolute Error - MAE : \" + str(mean_absolute_error(y_test, predictions)))\n",
    "print(\"Root Mean squared Error - RMSE : \" + str(math.sqrt(mean_squared_error(y_test, predictions))))\n",
    "print('R^2 Score', r2_score(y_test, predictions))"
   ]
  },
  {
   "cell_type": "markdown",
   "id": "c9fc9ba5",
   "metadata": {},
   "source": [
    "# Predictions for the next two days using the best model <a name=\"predictions\"></a>"
   ]
  },
  {
   "cell_type": "code",
   "execution_count": 94,
   "id": "66fb4272",
   "metadata": {},
   "outputs": [],
   "source": [
    "#Importing the dataset with the updated data\n",
    "#Use just the 7 past rows, because our model is predicting based on this sliding window\n",
    "predictions = pd.read_csv('test_AVAX.csv', index_col = 'Date')"
   ]
  },
  {
   "cell_type": "code",
   "execution_count": 95,
   "id": "f0559de4",
   "metadata": {
    "scrolled": false
   },
   "outputs": [
    {
     "data": {
      "text/html": [
       "<div>\n",
       "<style scoped>\n",
       "    .dataframe tbody tr th:only-of-type {\n",
       "        vertical-align: middle;\n",
       "    }\n",
       "\n",
       "    .dataframe tbody tr th {\n",
       "        vertical-align: top;\n",
       "    }\n",
       "\n",
       "    .dataframe thead th {\n",
       "        text-align: right;\n",
       "    }\n",
       "</style>\n",
       "<table border=\"1\" class=\"dataframe\">\n",
       "  <thead>\n",
       "    <tr style=\"text-align: right;\">\n",
       "      <th></th>\n",
       "      <th>close</th>\n",
       "      <th>volume</th>\n",
       "      <th>%D</th>\n",
       "      <th>spread</th>\n",
       "      <th>volatility</th>\n",
       "      <th>close_off_high</th>\n",
       "      <th>EUR/USD_close</th>\n",
       "      <th>BTC_closeprice</th>\n",
       "    </tr>\n",
       "    <tr>\n",
       "      <th>Date</th>\n",
       "      <th></th>\n",
       "      <th></th>\n",
       "      <th></th>\n",
       "      <th></th>\n",
       "      <th></th>\n",
       "      <th></th>\n",
       "      <th></th>\n",
       "      <th></th>\n",
       "    </tr>\n",
       "  </thead>\n",
       "  <tbody>\n",
       "    <tr>\n",
       "      <th>2022-05-02</th>\n",
       "      <td>0.437690</td>\n",
       "      <td>0.263582</td>\n",
       "      <td>0.107030</td>\n",
       "      <td>0.165184</td>\n",
       "      <td>0.080541</td>\n",
       "      <td>0.900178</td>\n",
       "      <td>0.017292</td>\n",
       "      <td>0.490234</td>\n",
       "    </tr>\n",
       "    <tr>\n",
       "      <th>2022-05-03</th>\n",
       "      <td>0.431179</td>\n",
       "      <td>0.174391</td>\n",
       "      <td>0.142848</td>\n",
       "      <td>0.120085</td>\n",
       "      <td>0.050867</td>\n",
       "      <td>0.855191</td>\n",
       "      <td>0.002644</td>\n",
       "      <td>0.476561</td>\n",
       "    </tr>\n",
       "    <tr>\n",
       "      <th>2022-05-04</th>\n",
       "      <td>0.487597</td>\n",
       "      <td>0.258328</td>\n",
       "      <td>0.263567</td>\n",
       "      <td>0.242683</td>\n",
       "      <td>0.126012</td>\n",
       "      <td>0.988877</td>\n",
       "      <td>0.013245</td>\n",
       "      <td>0.510757</td>\n",
       "    </tr>\n",
       "    <tr>\n",
       "      <th>2022-05-05</th>\n",
       "      <td>0.427133</td>\n",
       "      <td>0.372117</td>\n",
       "      <td>0.253477</td>\n",
       "      <td>0.386215</td>\n",
       "      <td>0.186757</td>\n",
       "      <td>0.419824</td>\n",
       "      <td>0.064389</td>\n",
       "      <td>0.455927</td>\n",
       "    </tr>\n",
       "    <tr>\n",
       "      <th>2022-05-06</th>\n",
       "      <td>0.411231</td>\n",
       "      <td>0.261751</td>\n",
       "      <td>0.228970</td>\n",
       "      <td>0.119732</td>\n",
       "      <td>0.052336</td>\n",
       "      <td>0.871014</td>\n",
       "      <td>0.019347</td>\n",
       "      <td>0.446549</td>\n",
       "    </tr>\n",
       "    <tr>\n",
       "      <th>2022-05-07</th>\n",
       "      <td>0.396965</td>\n",
       "      <td>0.163350</td>\n",
       "      <td>0.091869</td>\n",
       "      <td>0.117177</td>\n",
       "      <td>0.053467</td>\n",
       "      <td>0.870445</td>\n",
       "      <td>0.019347</td>\n",
       "      <td>0.437087</td>\n",
       "    </tr>\n",
       "    <tr>\n",
       "      <th>2022-05-08</th>\n",
       "      <td>0.370933</td>\n",
       "      <td>0.247951</td>\n",
       "      <td>0.047687</td>\n",
       "      <td>0.131855</td>\n",
       "      <td>0.065671</td>\n",
       "      <td>0.800027</td>\n",
       "      <td>0.019347</td>\n",
       "      <td>0.414701</td>\n",
       "    </tr>\n",
       "  </tbody>\n",
       "</table>\n",
       "</div>"
      ],
      "text/plain": [
       "               close    volume        %D    spread  volatility  \\\n",
       "Date                                                             \n",
       "2022-05-02  0.437690  0.263582  0.107030  0.165184    0.080541   \n",
       "2022-05-03  0.431179  0.174391  0.142848  0.120085    0.050867   \n",
       "2022-05-04  0.487597  0.258328  0.263567  0.242683    0.126012   \n",
       "2022-05-05  0.427133  0.372117  0.253477  0.386215    0.186757   \n",
       "2022-05-06  0.411231  0.261751  0.228970  0.119732    0.052336   \n",
       "2022-05-07  0.396965  0.163350  0.091869  0.117177    0.053467   \n",
       "2022-05-08  0.370933  0.247951  0.047687  0.131855    0.065671   \n",
       "\n",
       "            close_off_high  EUR/USD_close  BTC_closeprice  \n",
       "Date                                                       \n",
       "2022-05-02        0.900178       0.017292        0.490234  \n",
       "2022-05-03        0.855191       0.002644        0.476561  \n",
       "2022-05-04        0.988877       0.013245        0.510757  \n",
       "2022-05-05        0.419824       0.064389        0.455927  \n",
       "2022-05-06        0.871014       0.019347        0.446549  \n",
       "2022-05-07        0.870445       0.019347        0.437087  \n",
       "2022-05-08        0.800027       0.019347        0.414701  "
      ]
     },
     "execution_count": 95,
     "metadata": {},
     "output_type": "execute_result"
    }
   ],
   "source": [
    "predictions.tail(7)"
   ]
  },
  {
   "cell_type": "code",
   "execution_count": 96,
   "id": "7660d24b",
   "metadata": {},
   "outputs": [],
   "source": [
    "predictions1 = predictions.tail(7)\n",
    "predictions1 = np.array(predictions1)"
   ]
  },
  {
   "cell_type": "code",
   "execution_count": 97,
   "id": "4cb389cb",
   "metadata": {},
   "outputs": [],
   "source": [
    "x_input=predictions1[len(predictions1)-time_step:].reshape(1,-1)\n",
    "temp_input=list(x_input)\n",
    "temp_input=temp_input[0].tolist()\n",
    "\n",
    "output9=[]\n",
    "n_steps=7\n",
    "i=0\n",
    "pred_days = 1\n"
   ]
  },
  {
   "cell_type": "code",
   "execution_count": 98,
   "id": "f402a242",
   "metadata": {},
   "outputs": [
    {
     "name": "stdout",
     "output_type": "stream",
     "text": [
      "0 day input [0.4376904  0.26358204 0.10703017 0.16518428 0.0805415  0.90017807\n",
      " 0.01729174 0.4902341  0.43117948 0.17439145 0.14284826 0.12008506\n",
      " 0.05086714 0.85519125 0.00264389 0.47656062 0.48759738 0.25832792\n",
      " 0.2635669  0.24268328 0.12601228 0.98887725 0.01324543 0.51075716\n",
      " 0.42713264 0.37211665 0.25347733 0.38621542 0.18675654 0.41982356\n",
      " 0.06438862 0.4559275  0.4112305  0.26175148 0.22896969 0.11973174\n",
      " 0.0523364  0.87101361 0.01934702 0.44654905 0.39696548 0.16335002\n",
      " 0.09186881 0.11717681 0.05346724 0.87044502 0.01934702 0.43708722\n",
      " 0.37093338 0.24795148 0.04768694 0.13185516 0.06567101 0.80002681\n",
      " 0.01934702 0.4147013 ]\n",
      "0 day output [0.4165253]\n",
      "Output of predicted next days:  1\n"
     ]
    }
   ],
   "source": [
    "while(i<pred_days):\n",
    "    \n",
    "    if(len(temp_input)>time_step):        \n",
    "        x_input=np.array(temp_input[i:])\n",
    "        print(\"{} day input {}\".format(i,x_input))\n",
    "        x_input=x_input.reshape(1,-1)\n",
    "        \n",
    "        yhat = model3.predict(x_input)\n",
    "        print(\"{} day output {}\".format(i,yhat))\n",
    "        temp_input.extend(yhat.tolist())\n",
    "        temp_input=temp_input[i:]\n",
    "       \n",
    "        output9.extend(yhat.tolist())\n",
    "        i=i+1\n",
    "        \n",
    "print(\"Output of predicted next days: \", len(output9))"
   ]
  },
  {
   "cell_type": "code",
   "execution_count": 99,
   "id": "54bd2b18",
   "metadata": {},
   "outputs": [
    {
     "data": {
      "text/plain": [
       "[0.41652530431747437]"
      ]
     },
     "execution_count": 99,
     "metadata": {},
     "output_type": "execute_result"
    }
   ],
   "source": [
    "output9  #predicted closing price for May 9th, 2022 (Monday)"
   ]
  },
  {
   "cell_type": "code",
   "execution_count": 100,
   "id": "a60d3cbb",
   "metadata": {
    "scrolled": true
   },
   "outputs": [
    {
     "name": "stdout",
     "output_type": "stream",
     "text": [
      "[1 2 3 4 5 6 7]\n",
      "[8]\n"
     ]
    }
   ],
   "source": [
    "last_days=np.arange(1,time_step+1)\n",
    "day_pred=np.arange(time_step+1,time_step+pred_days+1)\n",
    "print(last_days)\n",
    "print(day_pred)"
   ]
  },
  {
   "cell_type": "code",
   "execution_count": 101,
   "id": "4f6ef42d",
   "metadata": {},
   "outputs": [],
   "source": [
    "# Inserting the prediction for the row May 9th, 2022 --> using new predicted value + data from May 8th 2022 for the other variables "
   ]
  },
  {
   "cell_type": "code",
   "execution_count": 102,
   "id": "c593abc6",
   "metadata": {},
   "outputs": [
    {
     "data": {
      "text/html": [
       "<div>\n",
       "<style scoped>\n",
       "    .dataframe tbody tr th:only-of-type {\n",
       "        vertical-align: middle;\n",
       "    }\n",
       "\n",
       "    .dataframe tbody tr th {\n",
       "        vertical-align: top;\n",
       "    }\n",
       "\n",
       "    .dataframe thead th {\n",
       "        text-align: right;\n",
       "    }\n",
       "</style>\n",
       "<table border=\"1\" class=\"dataframe\">\n",
       "  <thead>\n",
       "    <tr style=\"text-align: right;\">\n",
       "      <th></th>\n",
       "      <th>Date</th>\n",
       "      <th>close</th>\n",
       "      <th>volume</th>\n",
       "      <th>%D</th>\n",
       "      <th>spread</th>\n",
       "      <th>volatility</th>\n",
       "      <th>close_off_high</th>\n",
       "      <th>EUR/USD_close</th>\n",
       "      <th>BTC_closeprice</th>\n",
       "    </tr>\n",
       "  </thead>\n",
       "  <tbody>\n",
       "    <tr>\n",
       "      <th>0</th>\n",
       "      <td>2022-05-08</td>\n",
       "      <td>0.370933</td>\n",
       "      <td>0.247951</td>\n",
       "      <td>0.047687</td>\n",
       "      <td>0.131855</td>\n",
       "      <td>0.065671</td>\n",
       "      <td>0.800027</td>\n",
       "      <td>0.019347</td>\n",
       "      <td>0.414701</td>\n",
       "    </tr>\n",
       "  </tbody>\n",
       "</table>\n",
       "</div>"
      ],
      "text/plain": [
       "         Date     close    volume        %D    spread  volatility  \\\n",
       "0  2022-05-08  0.370933  0.247951  0.047687  0.131855    0.065671   \n",
       "\n",
       "   close_off_high  EUR/USD_close  BTC_closeprice  \n",
       "0        0.800027       0.019347        0.414701  "
      ]
     },
     "execution_count": 102,
     "metadata": {},
     "output_type": "execute_result"
    }
   ],
   "source": [
    "a = predictions.tail(1).copy()\n",
    "a.reset_index(inplace = True)\n",
    "a"
   ]
  },
  {
   "cell_type": "code",
   "execution_count": 103,
   "id": "63b2d074",
   "metadata": {},
   "outputs": [
    {
     "data": {
      "text/html": [
       "<div>\n",
       "<style scoped>\n",
       "    .dataframe tbody tr th:only-of-type {\n",
       "        vertical-align: middle;\n",
       "    }\n",
       "\n",
       "    .dataframe tbody tr th {\n",
       "        vertical-align: top;\n",
       "    }\n",
       "\n",
       "    .dataframe thead th {\n",
       "        text-align: right;\n",
       "    }\n",
       "</style>\n",
       "<table border=\"1\" class=\"dataframe\">\n",
       "  <thead>\n",
       "    <tr style=\"text-align: right;\">\n",
       "      <th></th>\n",
       "      <th>close</th>\n",
       "      <th>volume</th>\n",
       "      <th>%D</th>\n",
       "      <th>spread</th>\n",
       "      <th>volatility</th>\n",
       "      <th>close_off_high</th>\n",
       "      <th>EUR/USD_close</th>\n",
       "      <th>BTC_closeprice</th>\n",
       "    </tr>\n",
       "    <tr>\n",
       "      <th>Date</th>\n",
       "      <th></th>\n",
       "      <th></th>\n",
       "      <th></th>\n",
       "      <th></th>\n",
       "      <th></th>\n",
       "      <th></th>\n",
       "      <th></th>\n",
       "      <th></th>\n",
       "    </tr>\n",
       "  </thead>\n",
       "  <tbody>\n",
       "    <tr>\n",
       "      <th>2022-05-09</th>\n",
       "      <td>0.416525</td>\n",
       "      <td>0.247951</td>\n",
       "      <td>0.047687</td>\n",
       "      <td>0.131855</td>\n",
       "      <td>0.065671</td>\n",
       "      <td>0.800027</td>\n",
       "      <td>0.019347</td>\n",
       "      <td>0.414701</td>\n",
       "    </tr>\n",
       "  </tbody>\n",
       "</table>\n",
       "</div>"
      ],
      "text/plain": [
       "               close    volume        %D    spread  volatility  \\\n",
       "Date                                                             \n",
       "2022-05-09  0.416525  0.247951  0.047687  0.131855    0.065671   \n",
       "\n",
       "            close_off_high  EUR/USD_close  BTC_closeprice  \n",
       "Date                                                       \n",
       "2022-05-09        0.800027       0.019347        0.414701  "
      ]
     },
     "execution_count": 103,
     "metadata": {},
     "output_type": "execute_result"
    }
   ],
   "source": [
    "a.at[0,'Date']='2022-05-09'\n",
    "a.at[0,'close']= output9[0]\n",
    "a.set_index('Date', inplace = True)\n",
    "a"
   ]
  },
  {
   "cell_type": "code",
   "execution_count": 104,
   "id": "d89f150f",
   "metadata": {},
   "outputs": [],
   "source": [
    "final_predictions = pd.concat([predictions, a], axis=0, join='outer')"
   ]
  },
  {
   "cell_type": "code",
   "execution_count": 105,
   "id": "fed79fe6",
   "metadata": {},
   "outputs": [
    {
     "name": "stdout",
     "output_type": "stream",
     "text": [
      "The predicted closing price for AVAX on May 9th, 2022 is  57.73125211512452 USD\n"
     ]
    }
   ],
   "source": [
    "#Get the predicted denormalized closing price using MinMaxScaler formula\n",
    "intermediate_result = ((134.531036-2.906161)*output9[0])+2.906161\n",
    "\n",
    "print (\"The predicted closing price for AVAX on May 9th, 2022 is \", intermediate_result, \"USD\")"
   ]
  },
  {
   "cell_type": "markdown",
   "id": "b30c6dc4",
   "metadata": {},
   "source": [
    "# Final Predictions<a name=\"finalpredictions\"></a>"
   ]
  },
  {
   "cell_type": "code",
   "execution_count": 106,
   "id": "ccd287f0",
   "metadata": {
    "scrolled": true
   },
   "outputs": [
    {
     "data": {
      "text/html": [
       "<div>\n",
       "<style scoped>\n",
       "    .dataframe tbody tr th:only-of-type {\n",
       "        vertical-align: middle;\n",
       "    }\n",
       "\n",
       "    .dataframe tbody tr th {\n",
       "        vertical-align: top;\n",
       "    }\n",
       "\n",
       "    .dataframe thead th {\n",
       "        text-align: right;\n",
       "    }\n",
       "</style>\n",
       "<table border=\"1\" class=\"dataframe\">\n",
       "  <thead>\n",
       "    <tr style=\"text-align: right;\">\n",
       "      <th></th>\n",
       "      <th>close</th>\n",
       "      <th>volume</th>\n",
       "      <th>%D</th>\n",
       "      <th>spread</th>\n",
       "      <th>volatility</th>\n",
       "      <th>close_off_high</th>\n",
       "      <th>EUR/USD_close</th>\n",
       "      <th>BTC_closeprice</th>\n",
       "    </tr>\n",
       "    <tr>\n",
       "      <th>Date</th>\n",
       "      <th></th>\n",
       "      <th></th>\n",
       "      <th></th>\n",
       "      <th></th>\n",
       "      <th></th>\n",
       "      <th></th>\n",
       "      <th></th>\n",
       "      <th></th>\n",
       "    </tr>\n",
       "  </thead>\n",
       "  <tbody>\n",
       "    <tr>\n",
       "      <th>2022-05-03</th>\n",
       "      <td>0.431179</td>\n",
       "      <td>0.174391</td>\n",
       "      <td>0.142848</td>\n",
       "      <td>0.120085</td>\n",
       "      <td>0.050867</td>\n",
       "      <td>0.855191</td>\n",
       "      <td>0.002644</td>\n",
       "      <td>0.476561</td>\n",
       "    </tr>\n",
       "    <tr>\n",
       "      <th>2022-05-04</th>\n",
       "      <td>0.487597</td>\n",
       "      <td>0.258328</td>\n",
       "      <td>0.263567</td>\n",
       "      <td>0.242683</td>\n",
       "      <td>0.126012</td>\n",
       "      <td>0.988877</td>\n",
       "      <td>0.013245</td>\n",
       "      <td>0.510757</td>\n",
       "    </tr>\n",
       "    <tr>\n",
       "      <th>2022-05-05</th>\n",
       "      <td>0.427133</td>\n",
       "      <td>0.372117</td>\n",
       "      <td>0.253477</td>\n",
       "      <td>0.386215</td>\n",
       "      <td>0.186757</td>\n",
       "      <td>0.419824</td>\n",
       "      <td>0.064389</td>\n",
       "      <td>0.455927</td>\n",
       "    </tr>\n",
       "    <tr>\n",
       "      <th>2022-05-06</th>\n",
       "      <td>0.411231</td>\n",
       "      <td>0.261751</td>\n",
       "      <td>0.228970</td>\n",
       "      <td>0.119732</td>\n",
       "      <td>0.052336</td>\n",
       "      <td>0.871014</td>\n",
       "      <td>0.019347</td>\n",
       "      <td>0.446549</td>\n",
       "    </tr>\n",
       "    <tr>\n",
       "      <th>2022-05-07</th>\n",
       "      <td>0.396965</td>\n",
       "      <td>0.163350</td>\n",
       "      <td>0.091869</td>\n",
       "      <td>0.117177</td>\n",
       "      <td>0.053467</td>\n",
       "      <td>0.870445</td>\n",
       "      <td>0.019347</td>\n",
       "      <td>0.437087</td>\n",
       "    </tr>\n",
       "    <tr>\n",
       "      <th>2022-05-08</th>\n",
       "      <td>0.370933</td>\n",
       "      <td>0.247951</td>\n",
       "      <td>0.047687</td>\n",
       "      <td>0.131855</td>\n",
       "      <td>0.065671</td>\n",
       "      <td>0.800027</td>\n",
       "      <td>0.019347</td>\n",
       "      <td>0.414701</td>\n",
       "    </tr>\n",
       "    <tr>\n",
       "      <th>2022-05-09</th>\n",
       "      <td>0.416525</td>\n",
       "      <td>0.247951</td>\n",
       "      <td>0.047687</td>\n",
       "      <td>0.131855</td>\n",
       "      <td>0.065671</td>\n",
       "      <td>0.800027</td>\n",
       "      <td>0.019347</td>\n",
       "      <td>0.414701</td>\n",
       "    </tr>\n",
       "  </tbody>\n",
       "</table>\n",
       "</div>"
      ],
      "text/plain": [
       "               close    volume        %D    spread  volatility  \\\n",
       "Date                                                             \n",
       "2022-05-03  0.431179  0.174391  0.142848  0.120085    0.050867   \n",
       "2022-05-04  0.487597  0.258328  0.263567  0.242683    0.126012   \n",
       "2022-05-05  0.427133  0.372117  0.253477  0.386215    0.186757   \n",
       "2022-05-06  0.411231  0.261751  0.228970  0.119732    0.052336   \n",
       "2022-05-07  0.396965  0.163350  0.091869  0.117177    0.053467   \n",
       "2022-05-08  0.370933  0.247951  0.047687  0.131855    0.065671   \n",
       "2022-05-09  0.416525  0.247951  0.047687  0.131855    0.065671   \n",
       "\n",
       "            close_off_high  EUR/USD_close  BTC_closeprice  \n",
       "Date                                                       \n",
       "2022-05-03        0.855191       0.002644        0.476561  \n",
       "2022-05-04        0.988877       0.013245        0.510757  \n",
       "2022-05-05        0.419824       0.064389        0.455927  \n",
       "2022-05-06        0.871014       0.019347        0.446549  \n",
       "2022-05-07        0.870445       0.019347        0.437087  \n",
       "2022-05-08        0.800027       0.019347        0.414701  \n",
       "2022-05-09        0.800027       0.019347        0.414701  "
      ]
     },
     "execution_count": 106,
     "metadata": {},
     "output_type": "execute_result"
    }
   ],
   "source": [
    "final_predictions.tail(7)"
   ]
  },
  {
   "cell_type": "code",
   "execution_count": 107,
   "id": "b62f5f49",
   "metadata": {},
   "outputs": [],
   "source": [
    "final_predictions1 = final_predictions.tail(7)\n",
    "final_predictions1 = np.array(final_predictions1)"
   ]
  },
  {
   "cell_type": "code",
   "execution_count": 108,
   "id": "b25f3431",
   "metadata": {},
   "outputs": [],
   "source": [
    "x_input=(final_predictions1[len(final_predictions1)-(time_step*time_step):]).reshape(1,-1)\n",
    "temp_input=list(x_input)\n",
    "temp_input=temp_input[0].tolist()\n",
    "\n",
    "output10=[]\n",
    "n_steps=7\n",
    "i=0\n",
    "pred_days = 1"
   ]
  },
  {
   "cell_type": "code",
   "execution_count": 109,
   "id": "f402a242",
   "metadata": {
    "scrolled": true
   },
   "outputs": [
    {
     "name": "stdout",
     "output_type": "stream",
     "text": [
      "0 day input [0.43117948 0.17439145 0.14284826 0.12008506 0.05086714 0.85519125\n",
      " 0.00264389 0.47656062 0.48759738 0.25832792 0.2635669  0.24268328\n",
      " 0.12601228 0.98887725 0.01324543 0.51075716 0.42713264 0.37211665\n",
      " 0.25347733 0.38621542 0.18675654 0.41982356 0.06438862 0.4559275\n",
      " 0.4112305  0.26175148 0.22896969 0.11973174 0.0523364  0.87101361\n",
      " 0.01934702 0.44654905 0.39696548 0.16335002 0.09186881 0.11717681\n",
      " 0.05346724 0.87044502 0.01934702 0.43708722 0.37093338 0.24795148\n",
      " 0.04768694 0.13185516 0.06567101 0.80002681 0.01934702 0.4147013\n",
      " 0.4165253  0.24795148 0.04768694 0.13185516 0.06567101 0.80002681\n",
      " 0.01934702 0.4147013 ]\n",
      "0 day output [0.44946748]\n",
      "Output of predicted next days:  1\n"
     ]
    }
   ],
   "source": [
    "while(i<pred_days):\n",
    "    \n",
    "    if(len(temp_input)>time_step):        \n",
    "        x_input=np.array(temp_input[i:])\n",
    "        print(\"{} day input {}\".format(i,x_input))\n",
    "        x_input=x_input.reshape(1,-1)\n",
    "        \n",
    "        yhat = model3.predict(x_input)\n",
    "        print(\"{} day output {}\".format(i,yhat))\n",
    "        temp_input.extend(yhat.tolist())\n",
    "        temp_input=temp_input[i:]\n",
    "       \n",
    "        output10.extend(yhat.tolist())\n",
    "        i=i+1\n",
    "        \n",
    "print(\"Output of predicted next days: \", len(output10))"
   ]
  },
  {
   "cell_type": "code",
   "execution_count": 110,
   "id": "2fb076f9",
   "metadata": {},
   "outputs": [
    {
     "name": "stdout",
     "output_type": "stream",
     "text": [
      "The predicted normalized closing price for AVAX on May 10th, 2022 is  0.4494674801826477\n"
     ]
    }
   ],
   "source": [
    "print (\"The predicted normalized closing price for AVAX on May 10th, 2022 is \", output10[0])"
   ]
  },
  {
   "cell_type": "code",
   "execution_count": 111,
   "id": "713f443f",
   "metadata": {},
   "outputs": [
    {
     "name": "stdout",
     "output_type": "stream",
     "text": [
      "The predicted closing price for AVAX on May 10th, 2022 is  62.06726189560598 USD\n"
     ]
    }
   ],
   "source": [
    "#Get the predicted denormalized closing price using MinMaxScaler formula\n",
    "final_result = ((134.531036-2.906161)*output10[0])+2.906161\n",
    "\n",
    "print (\"The predicted closing price for AVAX on May 10th, 2022 is \", final_result, \"USD\")"
   ]
  }
 ],
 "metadata": {
  "kernelspec": {
   "display_name": "Python 3 (ipykernel)",
   "language": "python",
   "name": "python3"
  },
  "language_info": {
   "codemirror_mode": {
    "name": "ipython",
    "version": 3
   },
   "file_extension": ".py",
   "mimetype": "text/x-python",
   "name": "python",
   "nbconvert_exporter": "python",
   "pygments_lexer": "ipython3",
   "version": "3.9.6"
  }
 },
 "nbformat": 4,
 "nbformat_minor": 5
}
