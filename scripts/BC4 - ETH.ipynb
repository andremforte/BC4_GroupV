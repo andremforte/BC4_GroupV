{
 "cells": [
  {
   "cell_type": "markdown",
   "id": "2e429287",
   "metadata": {},
   "source": [
    "# Business Case 4: Cryptocurrencies Forecasting"
   ]
  },
  {
   "cell_type": "markdown",
   "id": "c8c7cf49",
   "metadata": {},
   "source": [
    "## Contents:\n",
    "  \n",
    " * [Modeling ETH](#Modeling)\n",
    " * [ETH - Entire Dataset](#entiredataset)\n",
    "    * [Model 1: LSTM](#lstm)\n",
    "    * [Model 2: XGBOOST Regressor](#xgboost)\n",
    " * [ETH - since January 2021](#jan2021)\n",
    "    * [Model 1: LSTM](#lstm2)\n",
    "    * [Model 2: XGBOOST Regressor](#xgboost2)\n",
    " * [ETH - since January 2022](#jan2022)\n",
    "    * [Model 1: LSTM](#lstm3)\n",
    "    * [Model 2: XGBOOST Regressor](#xgboost3)\n",
    " * [Predictions for the next two days using the best model](#predictions)\n",
    " * [Final Predictions](#finalpredictions)"
   ]
  },
  {
   "cell_type": "markdown",
   "id": "18e6ee6e",
   "metadata": {},
   "source": [
    "## Imports"
   ]
  },
  {
   "cell_type": "code",
   "execution_count": 1,
   "id": "5748d9b6",
   "metadata": {},
   "outputs": [],
   "source": [
    "#! pip install xgboost\n",
    "#! pip install fastai==0.7.0\n",
    "#! pip install --upgrade tensorflow\n",
    "#! pip install keras\n",
    "#! pip install pystan\n",
    "#! pip install ephem\n",
    "#! pip install fbprophet"
   ]
  },
  {
   "cell_type": "code",
   "execution_count": 2,
   "id": "28a80461",
   "metadata": {},
   "outputs": [],
   "source": [
    "import numpy as np\n",
    "import pandas as pd\n",
    "import seaborn as sns\n",
    "import matplotlib.pyplot as plt\n",
    "%matplotlib inline\n",
    "from math import ceil\n",
    "import math\n",
    "import scipy.stats as stats\n",
    "from itertools import cycle\n",
    "\n",
    "import plotly.express as px\n",
    "import plotly.graph_objects as go\n",
    "from plotly.subplots import make_subplots\n",
    "import plotly\n",
    "\n",
    "import json\n",
    "import requests\n",
    "import tensorflow as tf\n",
    "from sklearn.preprocessing import MinMaxScaler\n",
    "from keras.models import Sequential\n",
    "from keras.layers import Activation, Dense, Dropout, LSTM\n",
    "from sklearn.metrics import mean_squared_error , mean_absolute_error, explained_variance_score, r2_score\n",
    "from tensorflow.keras import layers\n",
    "from xgboost import XGBRegressor\n",
    "\n",
    "import warnings"
   ]
  },
  {
   "cell_type": "markdown",
   "id": "745ad7b6",
   "metadata": {},
   "source": [
    "# Modeling - ETH <a name=\"Modeling\"></a>\n",
    ">In this step, we decided to implement algorithms (LSTM, XGBOOST Regressor) that can predict the closing price of ETH."
   ]
  },
  {
   "cell_type": "markdown",
   "id": "704de260",
   "metadata": {},
   "source": [
    "# ETH - Entire Dataset <a name=\"entiredataset\"></a>"
   ]
  },
  {
   "cell_type": "code",
   "execution_count": 3,
   "id": "32905e5d",
   "metadata": {},
   "outputs": [],
   "source": [
    "eth = pd.read_csv('ETH.csv', index_col = 'Date')"
   ]
  },
  {
   "cell_type": "code",
   "execution_count": 4,
   "id": "d6e69e14",
   "metadata": {},
   "outputs": [
    {
     "data": {
      "text/html": [
       "<div>\n",
       "<style scoped>\n",
       "    .dataframe tbody tr th:only-of-type {\n",
       "        vertical-align: middle;\n",
       "    }\n",
       "\n",
       "    .dataframe tbody tr th {\n",
       "        vertical-align: top;\n",
       "    }\n",
       "\n",
       "    .dataframe thead th {\n",
       "        text-align: right;\n",
       "    }\n",
       "</style>\n",
       "<table border=\"1\" class=\"dataframe\">\n",
       "  <thead>\n",
       "    <tr style=\"text-align: right;\">\n",
       "      <th></th>\n",
       "      <th>close</th>\n",
       "      <th>volume</th>\n",
       "      <th>%D</th>\n",
       "      <th>spread</th>\n",
       "      <th>volatility</th>\n",
       "      <th>close_off_high</th>\n",
       "      <th>EUR/USD_close</th>\n",
       "    </tr>\n",
       "    <tr>\n",
       "      <th>Date</th>\n",
       "      <th></th>\n",
       "      <th></th>\n",
       "      <th></th>\n",
       "      <th></th>\n",
       "      <th></th>\n",
       "      <th></th>\n",
       "      <th></th>\n",
       "    </tr>\n",
       "  </thead>\n",
       "  <tbody>\n",
       "    <tr>\n",
       "      <th>2017-11-24</th>\n",
       "      <td>0.082619</td>\n",
       "      <td>0.016150</td>\n",
       "      <td>0.962476</td>\n",
       "      <td>0.051878</td>\n",
       "      <td>0.423834</td>\n",
       "      <td>0.993797</td>\n",
       "      <td>0.645889</td>\n",
       "    </tr>\n",
       "    <tr>\n",
       "      <th>2017-11-25</th>\n",
       "      <td>0.080792</td>\n",
       "      <td>0.005727</td>\n",
       "      <td>0.931036</td>\n",
       "      <td>0.015445</td>\n",
       "      <td>0.103198</td>\n",
       "      <td>0.980644</td>\n",
       "      <td>0.645889</td>\n",
       "    </tr>\n",
       "    <tr>\n",
       "      <th>2017-11-26</th>\n",
       "      <td>0.081861</td>\n",
       "      <td>0.003042</td>\n",
       "      <td>0.944501</td>\n",
       "      <td>0.013409</td>\n",
       "      <td>0.090663</td>\n",
       "      <td>0.998575</td>\n",
       "      <td>0.645889</td>\n",
       "    </tr>\n",
       "    <tr>\n",
       "      <th>2017-11-27</th>\n",
       "      <td>0.083770</td>\n",
       "      <td>0.005421</td>\n",
       "      <td>0.930661</td>\n",
       "      <td>0.015971</td>\n",
       "      <td>0.108052</td>\n",
       "      <td>0.986646</td>\n",
       "      <td>0.685035</td>\n",
       "    </tr>\n",
       "    <tr>\n",
       "      <th>2017-11-28</th>\n",
       "      <td>0.082194</td>\n",
       "      <td>0.004822</td>\n",
       "      <td>0.924060</td>\n",
       "      <td>0.010051</td>\n",
       "      <td>0.063547</td>\n",
       "      <td>0.990199</td>\n",
       "      <td>0.673386</td>\n",
       "    </tr>\n",
       "  </tbody>\n",
       "</table>\n",
       "</div>"
      ],
      "text/plain": [
       "               close    volume        %D    spread  volatility  \\\n",
       "Date                                                             \n",
       "2017-11-24  0.082619  0.016150  0.962476  0.051878    0.423834   \n",
       "2017-11-25  0.080792  0.005727  0.931036  0.015445    0.103198   \n",
       "2017-11-26  0.081861  0.003042  0.944501  0.013409    0.090663   \n",
       "2017-11-27  0.083770  0.005421  0.930661  0.015971    0.108052   \n",
       "2017-11-28  0.082194  0.004822  0.924060  0.010051    0.063547   \n",
       "\n",
       "            close_off_high  EUR/USD_close  \n",
       "Date                                       \n",
       "2017-11-24        0.993797       0.645889  \n",
       "2017-11-25        0.980644       0.645889  \n",
       "2017-11-26        0.998575       0.645889  \n",
       "2017-11-27        0.986646       0.685035  \n",
       "2017-11-28        0.990199       0.673386  "
      ]
     },
     "execution_count": 4,
     "metadata": {},
     "output_type": "execute_result"
    }
   ],
   "source": [
    "eth.head()"
   ]
  },
  {
   "cell_type": "markdown",
   "id": "b8cb8770",
   "metadata": {},
   "source": [
    "# Model 1: LSTM <a name=\"lstm\"></a>"
   ]
  },
  {
   "cell_type": "code",
   "execution_count": 5,
   "id": "d0e4476b",
   "metadata": {},
   "outputs": [
    {
     "data": {
      "text/html": [
       "<div>\n",
       "<style scoped>\n",
       "    .dataframe tbody tr th:only-of-type {\n",
       "        vertical-align: middle;\n",
       "    }\n",
       "\n",
       "    .dataframe tbody tr th {\n",
       "        vertical-align: top;\n",
       "    }\n",
       "\n",
       "    .dataframe thead th {\n",
       "        text-align: right;\n",
       "    }\n",
       "</style>\n",
       "<table border=\"1\" class=\"dataframe\">\n",
       "  <thead>\n",
       "    <tr style=\"text-align: right;\">\n",
       "      <th></th>\n",
       "      <th>close</th>\n",
       "      <th>volume</th>\n",
       "      <th>%D</th>\n",
       "      <th>spread</th>\n",
       "      <th>volatility</th>\n",
       "      <th>close_off_high</th>\n",
       "      <th>EUR/USD_close</th>\n",
       "    </tr>\n",
       "    <tr>\n",
       "      <th>Date</th>\n",
       "      <th></th>\n",
       "      <th></th>\n",
       "      <th></th>\n",
       "      <th></th>\n",
       "      <th></th>\n",
       "      <th></th>\n",
       "      <th></th>\n",
       "    </tr>\n",
       "  </thead>\n",
       "  <tbody>\n",
       "    <tr>\n",
       "      <th>2017-11-24</th>\n",
       "      <td>0.082619</td>\n",
       "      <td>0.016150</td>\n",
       "      <td>0.962476</td>\n",
       "      <td>0.051878</td>\n",
       "      <td>0.423834</td>\n",
       "      <td>0.993797</td>\n",
       "      <td>0.645889</td>\n",
       "    </tr>\n",
       "    <tr>\n",
       "      <th>2017-11-25</th>\n",
       "      <td>0.080792</td>\n",
       "      <td>0.005727</td>\n",
       "      <td>0.931036</td>\n",
       "      <td>0.015445</td>\n",
       "      <td>0.103198</td>\n",
       "      <td>0.980644</td>\n",
       "      <td>0.645889</td>\n",
       "    </tr>\n",
       "    <tr>\n",
       "      <th>2017-11-26</th>\n",
       "      <td>0.081861</td>\n",
       "      <td>0.003042</td>\n",
       "      <td>0.944501</td>\n",
       "      <td>0.013409</td>\n",
       "      <td>0.090663</td>\n",
       "      <td>0.998575</td>\n",
       "      <td>0.645889</td>\n",
       "    </tr>\n",
       "    <tr>\n",
       "      <th>2017-11-27</th>\n",
       "      <td>0.083770</td>\n",
       "      <td>0.005421</td>\n",
       "      <td>0.930661</td>\n",
       "      <td>0.015971</td>\n",
       "      <td>0.108052</td>\n",
       "      <td>0.986646</td>\n",
       "      <td>0.685035</td>\n",
       "    </tr>\n",
       "    <tr>\n",
       "      <th>2017-11-28</th>\n",
       "      <td>0.082194</td>\n",
       "      <td>0.004822</td>\n",
       "      <td>0.924060</td>\n",
       "      <td>0.010051</td>\n",
       "      <td>0.063547</td>\n",
       "      <td>0.990199</td>\n",
       "      <td>0.673386</td>\n",
       "    </tr>\n",
       "  </tbody>\n",
       "</table>\n",
       "</div>"
      ],
      "text/plain": [
       "               close    volume        %D    spread  volatility  \\\n",
       "Date                                                             \n",
       "2017-11-24  0.082619  0.016150  0.962476  0.051878    0.423834   \n",
       "2017-11-25  0.080792  0.005727  0.931036  0.015445    0.103198   \n",
       "2017-11-26  0.081861  0.003042  0.944501  0.013409    0.090663   \n",
       "2017-11-27  0.083770  0.005421  0.930661  0.015971    0.108052   \n",
       "2017-11-28  0.082194  0.004822  0.924060  0.010051    0.063547   \n",
       "\n",
       "            close_off_high  EUR/USD_close  \n",
       "Date                                       \n",
       "2017-11-24        0.993797       0.645889  \n",
       "2017-11-25        0.980644       0.645889  \n",
       "2017-11-26        0.998575       0.645889  \n",
       "2017-11-27        0.986646       0.685035  \n",
       "2017-11-28        0.990199       0.673386  "
      ]
     },
     "execution_count": 5,
     "metadata": {},
     "output_type": "execute_result"
    }
   ],
   "source": [
    "data = eth.copy()\n",
    "data.head()"
   ]
  },
  {
   "cell_type": "code",
   "execution_count": 6,
   "id": "f1d5c78b",
   "metadata": {},
   "outputs": [],
   "source": [
    "#Splitting the original dataset using all the variables (hist) and \"close\" (target) using 7 days a the length of the sliding window\n",
    "\n",
    "hist = []\n",
    "target = []\n",
    "length = 7\n",
    "\n",
    "for i in range(len(data)-length):\n",
    "    t = data['close']\n",
    "    v = data[['close', 'volume', 'spread','volatility', 'close_off_high', 'EUR/USD_close']]\n",
    "    x = v[i:i+length]\n",
    "    y = t[i+length]\n",
    "    hist.append(x)\n",
    "    target.append(y)"
   ]
  },
  {
   "cell_type": "code",
   "execution_count": 7,
   "id": "fba04aec",
   "metadata": {},
   "outputs": [
    {
     "name": "stdout",
     "output_type": "stream",
     "text": [
      "7\n",
      "1607\n",
      "1607\n"
     ]
    }
   ],
   "source": [
    "print(len(hist[0]))  #nr of days\n",
    "print(len(hist)) #size of train dataset\n",
    "print(len(target)) #size of test dataset"
   ]
  },
  {
   "cell_type": "code",
   "execution_count": 8,
   "id": "72f98a10",
   "metadata": {},
   "outputs": [],
   "source": [
    "#convert lists to arrays\n",
    "hist = np.array(hist)\n",
    "target = np.array(target)"
   ]
  },
  {
   "cell_type": "code",
   "execution_count": 9,
   "id": "c013ab52",
   "metadata": {},
   "outputs": [
    {
     "data": {
      "text/plain": [
       "(1607, 1)"
      ]
     },
     "execution_count": 9,
     "metadata": {},
     "output_type": "execute_result"
    }
   ],
   "source": [
    "target = target.reshape(-1,1)\n",
    "target.shape"
   ]
  },
  {
   "cell_type": "code",
   "execution_count": 10,
   "id": "20846eb4",
   "metadata": {},
   "outputs": [],
   "source": [
    "#Splitting the datasets into train and test using 80% for train and 20% for test\n",
    "\n",
    "training_size=int(len(data)*0.80)\n",
    "\n",
    "X_train = hist[:training_size,:]\n",
    "X_test = hist[training_size:,:]\n",
    "\n",
    "y_train = target[:training_size]\n",
    "y_test = target[training_size:]"
   ]
  },
  {
   "cell_type": "code",
   "execution_count": 11,
   "id": "560076ba",
   "metadata": {},
   "outputs": [
    {
     "data": {
      "text/plain": [
       "(1291, 7, 6)"
      ]
     },
     "execution_count": 11,
     "metadata": {},
     "output_type": "execute_result"
    }
   ],
   "source": [
    "#Nr of instances, # nr of days (length), #nr of columns\n",
    "X_train.shape"
   ]
  },
  {
   "cell_type": "code",
   "execution_count": 12,
   "id": "a9a1e870",
   "metadata": {},
   "outputs": [
    {
     "name": "stdout",
     "output_type": "stream",
     "text": [
      "Model: \"sequential\"\n",
      "_________________________________________________________________\n",
      " Layer (type)                Output Shape              Param #   \n",
      "=================================================================\n",
      " lstm (LSTM)                 (None, 7, 20)             2160      \n",
      "                                                                 \n",
      " lstm_1 (LSTM)               (None, 7, 32)             6784      \n",
      "                                                                 \n",
      " lstm_2 (LSTM)               (None, 40)                11680     \n",
      "                                                                 \n",
      " dense (Dense)               (None, 1)                 41        \n",
      "                                                                 \n",
      "=================================================================\n",
      "Total params: 20,665\n",
      "Trainable params: 20,665\n",
      "Non-trainable params: 0\n",
      "_________________________________________________________________\n"
     ]
    }
   ],
   "source": [
    "model = tf.keras.Sequential()\n",
    "\n",
    "model.add(layers.LSTM(units=20, activation = 'relu', return_sequences=True,\n",
    "                  input_shape=(7,6), dropout = 0.2))\n",
    "\n",
    "model.add(layers.LSTM(units=32, return_sequences=True,\n",
    "                  dropout=0.2))\n",
    "\n",
    "model.add(layers.LSTM(units=40, activation = 'relu', dropout=0.2))\n",
    "\n",
    "#model.add(layers.LSTM(units=55, return_sequences = True, dropout = 0.2))\n",
    "\n",
    "#model.add(layers.LSTM(units = 80, activation = 'relu', dropout = 0.2))\n",
    "\n",
    "model.add(layers.Dense(units=1))\n",
    "\n",
    "model.summary()"
   ]
  },
  {
   "cell_type": "code",
   "execution_count": 13,
   "id": "a4e6950c",
   "metadata": {},
   "outputs": [],
   "source": [
    "model.compile(optimizer='adam', loss='mean_squared_error')"
   ]
  },
  {
   "cell_type": "code",
   "execution_count": 14,
   "id": "09d21824",
   "metadata": {},
   "outputs": [
    {
     "name": "stdout",
     "output_type": "stream",
     "text": [
      "Epoch 1/30\n",
      "33/33 [==============================] - 5s 33ms/step - loss: 0.0044 - val_loss: 0.1179\n",
      "Epoch 2/30\n",
      "33/33 [==============================] - 0s 11ms/step - loss: 0.0033 - val_loss: 0.1064\n",
      "Epoch 3/30\n",
      "33/33 [==============================] - 0s 11ms/step - loss: 0.0027 - val_loss: 0.1041\n",
      "Epoch 4/30\n",
      "33/33 [==============================] - 0s 9ms/step - loss: 0.0026 - val_loss: 0.0984\n",
      "Epoch 5/30\n",
      "33/33 [==============================] - 0s 12ms/step - loss: 0.0022 - val_loss: 0.0926\n",
      "Epoch 6/30\n",
      "33/33 [==============================] - 0s 10ms/step - loss: 0.0021 - val_loss: 0.0830\n",
      "Epoch 7/30\n",
      "33/33 [==============================] - 0s 9ms/step - loss: 0.0017 - val_loss: 0.0692\n",
      "Epoch 8/30\n",
      "33/33 [==============================] - 0s 9ms/step - loss: 0.0013 - val_loss: 0.0532\n",
      "Epoch 9/30\n",
      "33/33 [==============================] - 0s 9ms/step - loss: 9.7144e-04 - val_loss: 0.0442\n",
      "Epoch 10/30\n",
      "33/33 [==============================] - 0s 10ms/step - loss: 8.6878e-04 - val_loss: 0.0480\n",
      "Epoch 11/30\n",
      "33/33 [==============================] - 0s 9ms/step - loss: 9.3110e-04 - val_loss: 0.0393\n",
      "Epoch 12/30\n",
      "33/33 [==============================] - 0s 10ms/step - loss: 8.0280e-04 - val_loss: 0.0291\n",
      "Epoch 13/30\n",
      "33/33 [==============================] - 0s 9ms/step - loss: 7.0939e-04 - val_loss: 0.0317\n",
      "Epoch 14/30\n",
      "33/33 [==============================] - 0s 10ms/step - loss: 6.7133e-04 - val_loss: 0.0341\n",
      "Epoch 15/30\n",
      "33/33 [==============================] - 0s 9ms/step - loss: 6.4286e-04 - val_loss: 0.0260\n",
      "Epoch 16/30\n",
      "33/33 [==============================] - 0s 10ms/step - loss: 5.7064e-04 - val_loss: 0.0237\n",
      "Epoch 17/30\n",
      "33/33 [==============================] - 0s 10ms/step - loss: 5.0549e-04 - val_loss: 0.0256\n",
      "Epoch 18/30\n",
      "33/33 [==============================] - 0s 10ms/step - loss: 5.5865e-04 - val_loss: 0.0292\n",
      "Epoch 19/30\n",
      "33/33 [==============================] - 0s 9ms/step - loss: 5.4910e-04 - val_loss: 0.0264\n",
      "Epoch 20/30\n",
      "33/33 [==============================] - 0s 9ms/step - loss: 6.3744e-04 - val_loss: 0.0139\n",
      "Epoch 21/30\n",
      "33/33 [==============================] - 0s 9ms/step - loss: 5.0762e-04 - val_loss: 0.0160\n",
      "Epoch 22/30\n",
      "33/33 [==============================] - 0s 10ms/step - loss: 4.4520e-04 - val_loss: 0.0229\n",
      "Epoch 23/30\n",
      "33/33 [==============================] - 0s 9ms/step - loss: 4.2542e-04 - val_loss: 0.0197\n",
      "Epoch 24/30\n",
      "33/33 [==============================] - 0s 9ms/step - loss: 4.1791e-04 - val_loss: 0.0169\n",
      "Epoch 25/30\n",
      "33/33 [==============================] - 0s 9ms/step - loss: 3.7802e-04 - val_loss: 0.0267\n",
      "Epoch 26/30\n",
      "33/33 [==============================] - 0s 9ms/step - loss: 4.2314e-04 - val_loss: 0.0183\n",
      "Epoch 27/30\n",
      "33/33 [==============================] - 0s 9ms/step - loss: 4.1030e-04 - val_loss: 0.0248\n",
      "Epoch 28/30\n",
      "33/33 [==============================] - 0s 9ms/step - loss: 4.0639e-04 - val_loss: 0.0129\n",
      "Epoch 29/30\n",
      "33/33 [==============================] - 0s 9ms/step - loss: 3.9408e-04 - val_loss: 0.0245\n",
      "Epoch 30/30\n",
      "33/33 [==============================] - 0s 9ms/step - loss: 4.1965e-04 - val_loss: 0.0131\n"
     ]
    }
   ],
   "source": [
    "history = model.fit(X_train, y_train, epochs=30, batch_size=32, shuffle = False, validation_split=0.2)"
   ]
  },
  {
   "cell_type": "code",
   "execution_count": 15,
   "id": "1bcc185d",
   "metadata": {},
   "outputs": [
    {
     "data": {
      "image/png": "[encoded data removed]",
      "text/plain": [
       "<Figure size 864x576 with 1 Axes>"
      ]
     },
     "metadata": {
      "needs_background": "light"
     },
     "output_type": "display_data"
    }
   ],
   "source": [
    "loss = history.history['loss']\n",
    "val_loss = history.history['val_loss']\n",
    "epoch_count = range(len(loss))\n",
    "plt.figure(figsize=(12,8))\n",
    "plt.plot(epoch_count, loss, 'r', label='Training loss')\n",
    "plt.plot(epoch_count, val_loss, 'b', label='Validation loss')\n",
    "plt.legend(['Training Loss','Validation Loss'])\n",
    "plt.xlabel('Epoch')\n",
    "plt.ylabel('Loss')\n",
    "plt.show();"
   ]
  },
  {
   "cell_type": "code",
   "execution_count": 16,
   "id": "36cb8b49",
   "metadata": {},
   "outputs": [],
   "source": [
    "pred_test = model.predict(X_test)\n",
    "pred_train = model.predict (X_train)"
   ]
  },
  {
   "cell_type": "code",
   "execution_count": 17,
   "id": "ffd38b0f",
   "metadata": {},
   "outputs": [
    {
     "data": {
      "text/html": [
       "<div>\n",
       "<style scoped>\n",
       "    .dataframe tbody tr th:only-of-type {\n",
       "        vertical-align: middle;\n",
       "    }\n",
       "\n",
       "    .dataframe tbody tr th {\n",
       "        vertical-align: top;\n",
       "    }\n",
       "\n",
       "    .dataframe thead th {\n",
       "        text-align: right;\n",
       "    }\n",
       "</style>\n",
       "<table border=\"1\" class=\"dataframe\">\n",
       "  <thead>\n",
       "    <tr style=\"text-align: right;\">\n",
       "      <th></th>\n",
       "      <th>y_test</th>\n",
       "      <th>Predictions</th>\n",
       "      <th>Date</th>\n",
       "    </tr>\n",
       "  </thead>\n",
       "  <tbody>\n",
       "    <tr>\n",
       "      <th>311</th>\n",
       "      <td>0.614067</td>\n",
       "      <td>0.363521</td>\n",
       "      <td>2022-04-21</td>\n",
       "    </tr>\n",
       "    <tr>\n",
       "      <th>312</th>\n",
       "      <td>0.609277</td>\n",
       "      <td>0.362414</td>\n",
       "      <td>2022-04-22</td>\n",
       "    </tr>\n",
       "    <tr>\n",
       "      <th>313</th>\n",
       "      <td>0.603625</td>\n",
       "      <td>0.366621</td>\n",
       "      <td>2022-04-23</td>\n",
       "    </tr>\n",
       "    <tr>\n",
       "      <th>314</th>\n",
       "      <td>0.600372</td>\n",
       "      <td>0.369600</td>\n",
       "      <td>2022-04-24</td>\n",
       "    </tr>\n",
       "    <tr>\n",
       "      <th>315</th>\n",
       "      <td>0.618702</td>\n",
       "      <td>0.372033</td>\n",
       "      <td>2022-04-25</td>\n",
       "    </tr>\n",
       "  </tbody>\n",
       "</table>\n",
       "</div>"
      ],
      "text/plain": [
       "       y_test  Predictions       Date\n",
       "311  0.614067     0.363521 2022-04-21\n",
       "312  0.609277     0.362414 2022-04-22\n",
       "313  0.603625     0.366621 2022-04-23\n",
       "314  0.600372     0.369600 2022-04-24\n",
       "315  0.618702     0.372033 2022-04-25"
      ]
     },
     "execution_count": 17,
     "metadata": {},
     "output_type": "execute_result"
    }
   ],
   "source": [
    "results = np.concatenate((y_test, pred_test), axis=1)\n",
    "results = pd.DataFrame(results, columns = ['y_test', 'Predictions'])\n",
    "a = data['close'].tail(len(pred_test))\n",
    "a = list(a.index)\n",
    "results['Date'] = a\n",
    "results['Date'] = pd.to_datetime(results['Date'])\n",
    "results.tail()"
   ]
  },
  {
   "cell_type": "code",
   "execution_count": 18,
   "id": "4f8a42ee",
   "metadata": {},
   "outputs": [
    {
     "data": {
      "image/png": "[encoded data removed]",
      "text/plain": [
       "<Figure size 864x576 with 1 Axes>"
      ]
     },
     "metadata": {
      "needs_background": "light"
     },
     "output_type": "display_data"
    }
   ],
   "source": [
    "plt.figure(figsize=(12,8))\n",
    "plt.plot(y_test, color='blue', label='Real')\n",
    "plt.plot(pred_test, color='red', label='Prediction')\n",
    "plt.title('ETH Price Prediction')\n",
    "plt.legend()\n",
    "plt.show()"
   ]
  },
  {
   "cell_type": "code",
   "execution_count": 19,
   "id": "fa35cd86",
   "metadata": {
    "scrolled": true
   },
   "outputs": [
    {
     "name": "stdout",
     "output_type": "stream",
     "text": [
      "Train data RMSE:  0.05346768306854077\n",
      "Train data MSE:  0.0028587931327179214\n",
      "Train data MAE:  0.025635289910384603\n",
      "-------------------------------------------------------------------------------------\n",
      "Test data RMSE:  0.28593214106361187\n",
      "Test data MSE:  0.08175718929322125\n",
      "Test data MAE:  0.26717489849625736\n"
     ]
    }
   ],
   "source": [
    "# Evaluation metrices RMSE and MAE\n",
    "print(\"Train data RMSE: \", math.sqrt(mean_squared_error(y_train,pred_train)))\n",
    "print(\"Train data MSE: \", mean_squared_error(y_train,pred_train))\n",
    "print(\"Train data MAE: \", mean_absolute_error(y_train,pred_train))\n",
    "print(\"-------------------------------------------------------------------------------------\")\n",
    "print(\"Test data RMSE: \", math.sqrt(mean_squared_error(y_test,pred_test)))\n",
    "print(\"Test data MSE: \", mean_squared_error(y_test,pred_test))\n",
    "print(\"Test data MAE: \", mean_absolute_error(y_test,pred_test))"
   ]
  },
  {
   "cell_type": "code",
   "execution_count": 20,
   "id": "62416aab",
   "metadata": {
    "scrolled": true
   },
   "outputs": [
    {
     "name": "stdout",
     "output_type": "stream",
     "text": [
      "Train data R2 score: 0.8570936247455223\n",
      "Test data R2 score: -2.4740007451788544\n"
     ]
    }
   ],
   "source": [
    "print(\"Train data R2 score:\", r2_score(y_train, pred_train))\n",
    "print(\"Test data R2 score:\", r2_score(y_test, pred_test))"
   ]
  },
  {
   "cell_type": "markdown",
   "id": "a5589e1c",
   "metadata": {},
   "source": [
    "# Model 2: XGBoost Regressor  <a name=\"xgboost\"></a>"
   ]
  },
  {
   "cell_type": "code",
   "execution_count": 21,
   "id": "68d92d22",
   "metadata": {},
   "outputs": [
    {
     "data": {
      "text/plain": [
       "(1614, 8)"
      ]
     },
     "execution_count": 21,
     "metadata": {},
     "output_type": "execute_result"
    }
   ],
   "source": [
    "data1 = eth.copy()\n",
    "data1.reset_index(inplace = True)\n",
    "data1.shape"
   ]
  },
  {
   "cell_type": "code",
   "execution_count": 22,
   "id": "e26b2f9c",
   "metadata": {},
   "outputs": [
    {
     "name": "stdout",
     "output_type": "stream",
     "text": [
      "Total data for prediction:  1614\n"
     ]
    }
   ],
   "source": [
    "close_stock = data1.copy()\n",
    "print(\"Total data for prediction: \",data1.shape[0])"
   ]
  },
  {
   "cell_type": "code",
   "execution_count": 23,
   "id": "23311a08",
   "metadata": {},
   "outputs": [
    {
     "data": {
      "text/plain": [
       "(1614, 7)"
      ]
     },
     "execution_count": 23,
     "metadata": {},
     "output_type": "execute_result"
    }
   ],
   "source": [
    "data1.set_index('Date', inplace = True)\n",
    "data1.shape"
   ]
  },
  {
   "cell_type": "code",
   "execution_count": 24,
   "id": "2a7d472b",
   "metadata": {},
   "outputs": [
    {
     "name": "stdout",
     "output_type": "stream",
     "text": [
      "train_data:  (1291, 7)\n",
      "test_data:  (323, 7)\n"
     ]
    }
   ],
   "source": [
    "#Train and test split using 80% for train and 20% for test\n",
    "training_size=int(len(data1)*0.80)\n",
    "test_size=len(data1)-training_size\n",
    "train_data,test_data=data1.iloc[:training_size,:],data1.iloc[training_size:,:]\n",
    "print(\"train_data: \", train_data.shape)\n",
    "print(\"test_data: \", test_data.shape)"
   ]
  },
  {
   "cell_type": "code",
   "execution_count": 25,
   "id": "68f0a09f",
   "metadata": {},
   "outputs": [
    {
     "data": {
      "image/png": "[encoded data removed]",
      "text/plain": [
       "<Figure size 2160x1080 with 1 Axes>"
      ]
     },
     "metadata": {
      "needs_background": "light"
     },
     "output_type": "display_data"
    }
   ],
   "source": [
    "data1.reset_index(inplace = True)\n",
    "fig, ax = plt.subplots(figsize=(30, 15))\n",
    "sns.lineplot(x = close_stock['Date'][:training_size], y = close_stock['close'][:training_size], color = 'blue')\n",
    "sns.lineplot(x = close_stock['Date'][training_size:], y = close_stock['close'][training_size:], color = 'orange')\n",
    "\n",
    "# Formatting\n",
    "ax.set_title('Train & Test data', fontsize = 20, loc='center', fontdict=dict(weight='bold'))\n",
    "ax.set_xlabel('Date', fontsize = 16, fontdict=dict(weight='bold'))\n",
    "ax.set_ylabel('Weekly Sales', fontsize = 16, fontdict=dict(weight='bold'))\n",
    "plt.tick_params(axis='y', which='major', labelsize=16)\n",
    "plt.tick_params(axis='x', labelsize=5)\n",
    "plt.xticks(rotation='vertical')\n",
    "plt.legend(loc='upper right' ,labels = ('train', 'test'))\n",
    "plt.show()"
   ]
  },
  {
   "cell_type": "code",
   "execution_count": 26,
   "id": "bbfbcf05",
   "metadata": {},
   "outputs": [],
   "source": [
    "data1.set_index('Date', inplace = True)"
   ]
  },
  {
   "cell_type": "code",
   "execution_count": 27,
   "id": "55424599",
   "metadata": {},
   "outputs": [],
   "source": [
    "# convert an array of values into a dataset matrix\n",
    "def create_dataset(dataset, time_step=1):\n",
    "    dataX, dataY = [], []\n",
    "    for i in range(len(dataset)-time_step-1):\n",
    "        a = dataset.iloc[i:(i+time_step), 0:]   \n",
    "        dataX.append(a)\n",
    "        dataY.append(dataset.iloc[i + time_step, 0])\n",
    "    return np.array(dataX), np.array(dataY)"
   ]
  },
  {
   "cell_type": "code",
   "execution_count": 28,
   "id": "58549aeb",
   "metadata": {},
   "outputs": [
    {
     "name": "stdout",
     "output_type": "stream",
     "text": [
      "X_train:  (1283, 7, 7)\n",
      "y_train:  (1283,)\n",
      "X_test:  (315, 7, 7)\n",
      "y_test (315,)\n"
     ]
    }
   ],
   "source": [
    "#Sliding window = 7 or 20\n",
    "time_step = 7\n",
    "X_train, y_train = create_dataset(train_data, time_step)\n",
    "X_test, y_test = create_dataset(test_data, time_step)\n",
    "\n",
    "print(\"X_train: \", X_train.shape)\n",
    "print(\"y_train: \", y_train.shape)\n",
    "print(\"X_test: \", X_test.shape)\n",
    "print(\"y_test\", y_test.shape)"
   ]
  },
  {
   "cell_type": "code",
   "execution_count": 29,
   "id": "3d684fc3",
   "metadata": {},
   "outputs": [],
   "source": [
    "#Reshaping the arrays because XGBRegressor only accepts 1-Dimensional arrays\n",
    "nsamples, nx, ny = X_train.shape\n",
    "X_train = X_train.reshape((nsamples,nx*ny))\n",
    "\n",
    "nsamples, nx, ny = X_test.shape\n",
    "X_test = X_test.reshape((nsamples,nx*ny))"
   ]
  },
  {
   "cell_type": "code",
   "execution_count": 30,
   "id": "017f9d78",
   "metadata": {},
   "outputs": [
    {
     "data": {
      "text/plain": [
       "XGBRegressor(base_score=0.5, booster='gbtree', callbacks=None,\n",
       "             colsample_bylevel=1, colsample_bynode=1, colsample_bytree=1,\n",
       "             early_stopping_rounds=None, enable_categorical=False, eta=0.2,\n",
       "             eval_metric=None, gamma=0, gpu_id=-1, grow_policy='depthwise',\n",
       "             importance_type=None, interaction_constraints='',\n",
       "             learning_rate=0.200000003, max_bin=256, max_cat_to_onehot=4,\n",
       "             max_delta_step=0, max_depth=6, max_leaves=0, min_child_weight=1,\n",
       "             missing=nan, monotone_constraints='()', n_estimators=100, n_jobs=0,\n",
       "             num_parallel_tree=1, predictor='auto', random_state=1, reg_alpha=0, ...)"
      ]
     },
     "execution_count": 30,
     "metadata": {},
     "output_type": "execute_result"
    }
   ],
   "source": [
    "model1 = XGBRegressor(n_estimators=100, random_state = 1, eta = 0.2)\n",
    "model1.fit(X_train, y_train)"
   ]
  },
  {
   "cell_type": "code",
   "execution_count": 31,
   "id": "80a331ec",
   "metadata": {},
   "outputs": [],
   "source": [
    "predictions = model1.predict(X_test).reshape(-1,1)\n",
    "y_test = y_test.reshape(-1,1)\n",
    "\n",
    "predictions_train = model1.predict(X_train)"
   ]
  },
  {
   "cell_type": "code",
   "execution_count": 32,
   "id": "dd572230",
   "metadata": {},
   "outputs": [
    {
     "data": {
      "text/html": [
       "<div>\n",
       "<style scoped>\n",
       "    .dataframe tbody tr th:only-of-type {\n",
       "        vertical-align: middle;\n",
       "    }\n",
       "\n",
       "    .dataframe tbody tr th {\n",
       "        vertical-align: top;\n",
       "    }\n",
       "\n",
       "    .dataframe thead th {\n",
       "        text-align: right;\n",
       "    }\n",
       "</style>\n",
       "<table border=\"1\" class=\"dataframe\">\n",
       "  <thead>\n",
       "    <tr style=\"text-align: right;\">\n",
       "      <th></th>\n",
       "      <th>y_test</th>\n",
       "      <th>Predictions</th>\n",
       "      <th>Date</th>\n",
       "    </tr>\n",
       "  </thead>\n",
       "  <tbody>\n",
       "    <tr>\n",
       "      <th>310</th>\n",
       "      <td>0.633159</td>\n",
       "      <td>0.625108</td>\n",
       "      <td>2022-04-21</td>\n",
       "    </tr>\n",
       "    <tr>\n",
       "      <th>311</th>\n",
       "      <td>0.614067</td>\n",
       "      <td>0.625737</td>\n",
       "      <td>2022-04-22</td>\n",
       "    </tr>\n",
       "    <tr>\n",
       "      <th>312</th>\n",
       "      <td>0.609277</td>\n",
       "      <td>0.621973</td>\n",
       "      <td>2022-04-23</td>\n",
       "    </tr>\n",
       "    <tr>\n",
       "      <th>313</th>\n",
       "      <td>0.603625</td>\n",
       "      <td>0.624148</td>\n",
       "      <td>2022-04-24</td>\n",
       "    </tr>\n",
       "    <tr>\n",
       "      <th>314</th>\n",
       "      <td>0.600372</td>\n",
       "      <td>0.585324</td>\n",
       "      <td>2022-04-25</td>\n",
       "    </tr>\n",
       "  </tbody>\n",
       "</table>\n",
       "</div>"
      ],
      "text/plain": [
       "       y_test  Predictions       Date\n",
       "310  0.633159     0.625108 2022-04-21\n",
       "311  0.614067     0.625737 2022-04-22\n",
       "312  0.609277     0.621973 2022-04-23\n",
       "313  0.603625     0.624148 2022-04-24\n",
       "314  0.600372     0.585324 2022-04-25"
      ]
     },
     "execution_count": 32,
     "metadata": {},
     "output_type": "execute_result"
    }
   ],
   "source": [
    "results2 = np.concatenate((y_test, predictions),axis = 1)\n",
    "results2 = pd.DataFrame(results2, columns = ['y_test', 'Predictions'])\n",
    "a = data1['close'].tail(len(predictions))\n",
    "a = list(a.index)\n",
    "results2['Date'] = a\n",
    "results2['Date'] = pd.to_datetime(results2['Date'])\n",
    "results2.tail()"
   ]
  },
  {
   "cell_type": "code",
   "execution_count": 33,
   "id": "f4bb627c",
   "metadata": {},
   "outputs": [
    {
     "data": {
      "image/png": "[encoded data removed]",
      "text/plain": [
       "<Figure size 864x576 with 1 Axes>"
      ]
     },
     "metadata": {
      "needs_background": "light"
     },
     "output_type": "display_data"
    }
   ],
   "source": [
    "plt.figure(figsize=(12,8))\n",
    "plt.plot(y_test, color='blue', label='Real')\n",
    "plt.plot(predictions, color='red', label='Prediction')\n",
    "plt.title('ETH Price Prediction')\n",
    "plt.legend()\n",
    "plt.show()"
   ]
  },
  {
   "cell_type": "code",
   "execution_count": 34,
   "id": "c0c0be71",
   "metadata": {},
   "outputs": [
    {
     "name": "stdout",
     "output_type": "stream",
     "text": [
      "Train data MSE:  4.779425796080903e-07\n",
      "Mean Absolute Error - MAE : 0.0004915799138824172\n",
      "Root Mean squared Error - RMSE : 0.0006913339132489382\n",
      "R^2 Score 0.9999749017477364\n",
      "--------------------------------------------------------------\n",
      "Test data MSE:  0.011962454569690837\n",
      "Mean Absolute Error - MAE : 0.08023016281359222\n",
      "Root Mean squared Error - RMSE : 0.10937300658613548\n",
      "R^2 Score 0.4931646699659864\n"
     ]
    }
   ],
   "source": [
    "print(\"Train data MSE: \", mean_squared_error(y_train,predictions_train))\n",
    "print(\"Mean Absolute Error - MAE : \" + str(mean_absolute_error(y_train, predictions_train)))\n",
    "print(\"Root Mean squared Error - RMSE : \" + str(math.sqrt(mean_squared_error(y_train, predictions_train))))\n",
    "print('R^2 Score', r2_score(y_train, predictions_train))\n",
    "\n",
    "print (\"--------------------------------------------------------------\")\n",
    "print(\"Test data MSE: \", mean_squared_error(y_test,predictions))\n",
    "print(\"Mean Absolute Error - MAE : \" + str(mean_absolute_error(y_test, predictions)))\n",
    "print(\"Root Mean squared Error - RMSE : \" + str(math.sqrt(mean_squared_error(y_test, predictions))))\n",
    "print('R^2 Score', r2_score(y_test, predictions))"
   ]
  },
  {
   "cell_type": "markdown",
   "id": "b2f33333",
   "metadata": {},
   "source": [
    "# ETH - since January 2021  <a name=\"jan2021\"></a>"
   ]
  },
  {
   "cell_type": "markdown",
   "id": "7d5faeee",
   "metadata": {},
   "source": [
    "# Model 1: LSTM <a name=\"lstm2\"></a>"
   ]
  },
  {
   "cell_type": "code",
   "execution_count": 35,
   "id": "2c26673f",
   "metadata": {},
   "outputs": [
    {
     "name": "stdout",
     "output_type": "stream",
     "text": [
      "Total data for prediction:  480\n"
     ]
    }
   ],
   "source": [
    "data2 = eth.copy()\n",
    "data2.reset_index(inplace = True)\n",
    "data2 = data2[data2['Date'] >= '2021-01-01']\n",
    "data2.set_index('Date', inplace = True)\n",
    "print(\"Total data for prediction: \",data2.shape[0])"
   ]
  },
  {
   "cell_type": "code",
   "execution_count": 36,
   "id": "5b3c778c",
   "metadata": {},
   "outputs": [],
   "source": [
    "hist = []\n",
    "target = []\n",
    "length = 7\n",
    "\n",
    "for i in range(len(data2)-length):\n",
    "    t = data2['close']\n",
    "    v = data2[['close','volume','spread', 'volatility', 'close_off_high', 'EUR/USD_close']]\n",
    "    x = v[i:i+length]\n",
    "    y = t[i+length]\n",
    "    hist.append(x)\n",
    "    target.append(y)"
   ]
  },
  {
   "cell_type": "code",
   "execution_count": 37,
   "id": "f254c217",
   "metadata": {
    "scrolled": true
   },
   "outputs": [
    {
     "name": "stdout",
     "output_type": "stream",
     "text": [
      "7\n",
      "473\n",
      "473\n"
     ]
    }
   ],
   "source": [
    "print(len(hist[0]))\n",
    "print(len(hist))\n",
    "print(len(target))"
   ]
  },
  {
   "cell_type": "code",
   "execution_count": 38,
   "id": "3671c796",
   "metadata": {},
   "outputs": [],
   "source": [
    "#convert list to array\n",
    "hist = np.array(hist)\n",
    "target = np.array(target)"
   ]
  },
  {
   "cell_type": "code",
   "execution_count": 39,
   "id": "56c934f1",
   "metadata": {},
   "outputs": [
    {
     "data": {
      "text/plain": [
       "(473, 1)"
      ]
     },
     "execution_count": 39,
     "metadata": {},
     "output_type": "execute_result"
    }
   ],
   "source": [
    "target = target.reshape(-1,1)\n",
    "target.shape"
   ]
  },
  {
   "cell_type": "code",
   "execution_count": 40,
   "id": "f85c3825",
   "metadata": {},
   "outputs": [],
   "source": [
    "training_size = int(len(data2)*0.8)\n",
    "\n",
    "X_train = hist[:training_size,:]\n",
    "X_test = hist[training_size:,:]\n",
    "\n",
    "y_train = target[:training_size]\n",
    "y_test = target[training_size:]"
   ]
  },
  {
   "cell_type": "code",
   "execution_count": 41,
   "id": "efc29939",
   "metadata": {},
   "outputs": [
    {
     "data": {
      "text/plain": [
       "(384, 7, 6)"
      ]
     },
     "execution_count": 41,
     "metadata": {},
     "output_type": "execute_result"
    }
   ],
   "source": [
    "X_train.shape"
   ]
  },
  {
   "cell_type": "code",
   "execution_count": 42,
   "id": "37202683",
   "metadata": {},
   "outputs": [
    {
     "name": "stdout",
     "output_type": "stream",
     "text": [
      "Model: \"sequential_1\"\n",
      "_________________________________________________________________\n",
      " Layer (type)                Output Shape              Param #   \n",
      "=================================================================\n",
      " lstm_3 (LSTM)               (None, 7, 20)             2160      \n",
      "                                                                 \n",
      " lstm_4 (LSTM)               (None, 7, 32)             6784      \n",
      "                                                                 \n",
      " lstm_5 (LSTM)               (None, 32)                8320      \n",
      "                                                                 \n",
      " dense_1 (Dense)             (None, 1)                 33        \n",
      "                                                                 \n",
      "=================================================================\n",
      "Total params: 17,297\n",
      "Trainable params: 17,297\n",
      "Non-trainable params: 0\n",
      "_________________________________________________________________\n"
     ]
    }
   ],
   "source": [
    "model2 = tf.keras.Sequential()\n",
    "\n",
    "model2.add(layers.LSTM(units=20, activation = 'relu', return_sequences=True,\n",
    "                  input_shape=(7,6), dropout = 0.2))\n",
    "\n",
    "model2.add(layers.LSTM(units=32, return_sequences=True,\n",
    "                  dropout=0.2))\n",
    "\n",
    "model2.add(layers.LSTM(units=32, activation = 'relu', dropout=0.2))\n",
    "\n",
    "#model.add(layers.LSTM(units=55, return_sequences = True, dropout = 0.2))\n",
    "\n",
    "#model.add(layers.LSTM(units = 80, activation = 'relu', dropout = 0.2))\n",
    "\n",
    "model2.add(layers.Dense(units=1))\n",
    "\n",
    "model2.summary()"
   ]
  },
  {
   "cell_type": "code",
   "execution_count": 43,
   "id": "9886005f",
   "metadata": {},
   "outputs": [],
   "source": [
    "model2.compile(optimizer='adam', loss='mean_squared_error')"
   ]
  },
  {
   "cell_type": "code",
   "execution_count": 44,
   "id": "773781e5",
   "metadata": {},
   "outputs": [
    {
     "name": "stdout",
     "output_type": "stream",
     "text": [
      "Epoch 1/30\n",
      "10/10 [==============================] - 4s 68ms/step - loss: 0.2450 - val_loss: 0.4506\n",
      "Epoch 2/30\n",
      "10/10 [==============================] - 0s 11ms/step - loss: 0.1119 - val_loss: 0.2060\n",
      "Epoch 3/30\n",
      "10/10 [==============================] - 0s 10ms/step - loss: 0.0206 - val_loss: 0.0453\n",
      "Epoch 4/30\n",
      "10/10 [==============================] - 0s 10ms/step - loss: 0.0643 - val_loss: 0.0994\n",
      "Epoch 5/30\n",
      "10/10 [==============================] - 0s 10ms/step - loss: 0.0412 - val_loss: 0.1109\n",
      "Epoch 6/30\n",
      "10/10 [==============================] - 0s 10ms/step - loss: 0.0306 - val_loss: 0.0763\n",
      "Epoch 7/30\n",
      "10/10 [==============================] - 0s 10ms/step - loss: 0.0352 - val_loss: 0.0647\n",
      "Epoch 8/30\n",
      "10/10 [==============================] - 0s 10ms/step - loss: 0.0322 - val_loss: 0.0633\n",
      "Epoch 9/30\n",
      "10/10 [==============================] - 0s 10ms/step - loss: 0.0304 - val_loss: 0.0584\n",
      "Epoch 10/30\n",
      "10/10 [==============================] - 0s 10ms/step - loss: 0.0262 - val_loss: 0.0474\n",
      "Epoch 11/30\n",
      "10/10 [==============================] - 0s 10ms/step - loss: 0.0273 - val_loss: 0.0420\n",
      "Epoch 12/30\n",
      "10/10 [==============================] - 0s 11ms/step - loss: 0.0247 - val_loss: 0.0373\n",
      "Epoch 13/30\n",
      "10/10 [==============================] - 0s 10ms/step - loss: 0.0207 - val_loss: 0.0296\n",
      "Epoch 14/30\n",
      "10/10 [==============================] - 0s 10ms/step - loss: 0.0200 - val_loss: 0.0264\n",
      "Epoch 15/30\n",
      "10/10 [==============================] - 0s 10ms/step - loss: 0.0196 - val_loss: 0.0176\n",
      "Epoch 16/30\n",
      "10/10 [==============================] - 0s 10ms/step - loss: 0.0192 - val_loss: 0.0122\n",
      "Epoch 17/30\n",
      "10/10 [==============================] - 0s 10ms/step - loss: 0.0145 - val_loss: 0.0106\n",
      "Epoch 18/30\n",
      "10/10 [==============================] - 0s 11ms/step - loss: 0.0149 - val_loss: 0.0051\n",
      "Epoch 19/30\n",
      "10/10 [==============================] - 0s 10ms/step - loss: 0.0124 - val_loss: 0.0045\n",
      "Epoch 20/30\n",
      "10/10 [==============================] - 0s 10ms/step - loss: 0.0125 - val_loss: 0.0045\n",
      "Epoch 21/30\n",
      "10/10 [==============================] - 0s 10ms/step - loss: 0.0128 - val_loss: 0.0033\n",
      "Epoch 22/30\n",
      "10/10 [==============================] - 0s 10ms/step - loss: 0.0133 - val_loss: 0.0033\n",
      "Epoch 23/30\n",
      "10/10 [==============================] - 0s 10ms/step - loss: 0.0118 - val_loss: 0.0034\n",
      "Epoch 24/30\n",
      "10/10 [==============================] - 0s 10ms/step - loss: 0.0135 - val_loss: 0.0032\n",
      "Epoch 25/30\n",
      "10/10 [==============================] - 0s 11ms/step - loss: 0.0114 - val_loss: 0.0032\n",
      "Epoch 26/30\n",
      "10/10 [==============================] - 0s 10ms/step - loss: 0.0137 - val_loss: 0.0042\n",
      "Epoch 27/30\n",
      "10/10 [==============================] - 0s 10ms/step - loss: 0.0122 - val_loss: 0.0035\n",
      "Epoch 28/30\n",
      "10/10 [==============================] - 0s 10ms/step - loss: 0.0113 - val_loss: 0.0034\n",
      "Epoch 29/30\n",
      "10/10 [==============================] - 0s 11ms/step - loss: 0.0112 - val_loss: 0.0035\n",
      "Epoch 30/30\n",
      "10/10 [==============================] - 0s 10ms/step - loss: 0.0149 - val_loss: 0.0040\n"
     ]
    }
   ],
   "source": [
    "history = model2.fit(X_train, y_train, epochs=30, batch_size=32, validation_split=0.2, shuffle = False)"
   ]
  },
  {
   "cell_type": "code",
   "execution_count": 45,
   "id": "ad9615ac",
   "metadata": {},
   "outputs": [
    {
     "data": {
      "image/png": "[encoded data removed]",
      "text/plain": [
       "<Figure size 864x576 with 1 Axes>"
      ]
     },
     "metadata": {
      "needs_background": "light"
     },
     "output_type": "display_data"
    }
   ],
   "source": [
    "loss = history.history['loss']\n",
    "val_loss = history.history['val_loss']\n",
    "epoch_count = range(len(loss))\n",
    "plt.figure(figsize=(12,8))\n",
    "plt.plot(epoch_count, loss, 'r', label='Training loss')\n",
    "plt.plot(epoch_count, val_loss, 'b', label='Validation loss')\n",
    "plt.legend(['Training Loss','Validation Loss'])\n",
    "plt.xlabel('Epoch')\n",
    "plt.ylabel('Loss')\n",
    "plt.show();"
   ]
  },
  {
   "cell_type": "code",
   "execution_count": 46,
   "id": "40cc3154",
   "metadata": {},
   "outputs": [],
   "source": [
    "pred_test = model2.predict(X_test)\n",
    "pred_train = model2.predict (X_train)"
   ]
  },
  {
   "cell_type": "code",
   "execution_count": 47,
   "id": "1c911f81",
   "metadata": {},
   "outputs": [
    {
     "data": {
      "text/html": [
       "<div>\n",
       "<style scoped>\n",
       "    .dataframe tbody tr th:only-of-type {\n",
       "        vertical-align: middle;\n",
       "    }\n",
       "\n",
       "    .dataframe tbody tr th {\n",
       "        vertical-align: top;\n",
       "    }\n",
       "\n",
       "    .dataframe thead th {\n",
       "        text-align: right;\n",
       "    }\n",
       "</style>\n",
       "<table border=\"1\" class=\"dataframe\">\n",
       "  <thead>\n",
       "    <tr style=\"text-align: right;\">\n",
       "      <th></th>\n",
       "      <th>y_test</th>\n",
       "      <th>Predictions</th>\n",
       "      <th>Date</th>\n",
       "    </tr>\n",
       "  </thead>\n",
       "  <tbody>\n",
       "    <tr>\n",
       "      <th>0</th>\n",
       "      <td>0.494671</td>\n",
       "      <td>0.528650</td>\n",
       "      <td>2022-01-27</td>\n",
       "    </tr>\n",
       "    <tr>\n",
       "      <th>1</th>\n",
       "      <td>0.520918</td>\n",
       "      <td>0.505651</td>\n",
       "      <td>2022-01-28</td>\n",
       "    </tr>\n",
       "    <tr>\n",
       "      <th>2</th>\n",
       "      <td>0.531492</td>\n",
       "      <td>0.507407</td>\n",
       "      <td>2022-01-29</td>\n",
       "    </tr>\n",
       "    <tr>\n",
       "      <th>3</th>\n",
       "      <td>0.532842</td>\n",
       "      <td>0.515389</td>\n",
       "      <td>2022-01-30</td>\n",
       "    </tr>\n",
       "    <tr>\n",
       "      <th>4</th>\n",
       "      <td>0.550781</td>\n",
       "      <td>0.514593</td>\n",
       "      <td>2022-01-31</td>\n",
       "    </tr>\n",
       "  </tbody>\n",
       "</table>\n",
       "</div>"
      ],
      "text/plain": [
       "     y_test  Predictions       Date\n",
       "0  0.494671     0.528650 2022-01-27\n",
       "1  0.520918     0.505651 2022-01-28\n",
       "2  0.531492     0.507407 2022-01-29\n",
       "3  0.532842     0.515389 2022-01-30\n",
       "4  0.550781     0.514593 2022-01-31"
      ]
     },
     "execution_count": 47,
     "metadata": {},
     "output_type": "execute_result"
    }
   ],
   "source": [
    "results = np.concatenate((y_test, pred_test), axis=1)\n",
    "results = pd.DataFrame(results, columns = ['y_test', 'Predictions'])\n",
    "a = data2['close'].tail(len(pred_test))\n",
    "a = list(a.index)\n",
    "results['Date'] = a\n",
    "results['Date'] = pd.to_datetime(results['Date'])\n",
    "results.tail()\n",
    "results.head()"
   ]
  },
  {
   "cell_type": "code",
   "execution_count": 48,
   "id": "a172ed59",
   "metadata": {},
   "outputs": [
    {
     "data": {
      "image/png": "[encoded data removed]",
      "text/plain": [
       "<Figure size 864x576 with 1 Axes>"
      ]
     },
     "metadata": {
      "needs_background": "light"
     },
     "output_type": "display_data"
    }
   ],
   "source": [
    "plt.figure(figsize=(12,8))\n",
    "plt.plot(y_test, color='blue', label='Real')\n",
    "plt.plot(pred_test, color='red', label='Prediction')\n",
    "plt.title('ETH Price Prediction')\n",
    "plt.legend()\n",
    "plt.show()"
   ]
  },
  {
   "cell_type": "code",
   "execution_count": 49,
   "id": "df424692",
   "metadata": {},
   "outputs": [
    {
     "name": "stdout",
     "output_type": "stream",
     "text": [
      "Train data RMSE:  0.07633097884453988\n",
      "Train data MSE:  0.005826418331365594\n",
      "Train data MAE:  0.060465415883477924\n",
      "-------------------------------------------------------------------------------------\n",
      "Test data RMSE:  0.038990743062045245\n",
      "Test data MSE:  0.0015202780445304294\n",
      "Test data MAE:  0.03392671673012298\n"
     ]
    }
   ],
   "source": [
    "# Evaluation metrices RMSE and MAE\n",
    "print(\"Train data RMSE: \", math.sqrt(mean_squared_error(y_train,pred_train)))\n",
    "print(\"Train data MSE: \", mean_squared_error(y_train,pred_train))\n",
    "print(\"Train data MAE: \", mean_absolute_error(y_train,pred_train))\n",
    "print(\"-------------------------------------------------------------------------------------\")\n",
    "print(\"Test data RMSE: \", math.sqrt(mean_squared_error(y_test,pred_test)))\n",
    "print(\"Test data MSE: \", mean_squared_error(y_test,pred_test))\n",
    "print(\"Test data MAE: \", mean_absolute_error(y_test,pred_test))"
   ]
  },
  {
   "cell_type": "code",
   "execution_count": 50,
   "id": "ba69dfcd",
   "metadata": {
    "scrolled": true
   },
   "outputs": [
    {
     "name": "stdout",
     "output_type": "stream",
     "text": [
      "Train data R2 score: 0.8634579632230694\n",
      "Test data R2 score: 0.5240978962488063\n"
     ]
    }
   ],
   "source": [
    "print(\"Train data R2 score:\", r2_score(y_train, pred_train))\n",
    "print(\"Test data R2 score:\", r2_score(y_test, pred_test))"
   ]
  },
  {
   "cell_type": "markdown",
   "id": "8d232550",
   "metadata": {},
   "source": [
    "# Model 2: XGBoost Regressor   <a name=\"xgboost2\"></a>"
   ]
  },
  {
   "cell_type": "code",
   "execution_count": 51,
   "id": "95597b79",
   "metadata": {},
   "outputs": [],
   "source": [
    "data3 = eth.copy()"
   ]
  },
  {
   "cell_type": "code",
   "execution_count": 52,
   "id": "a05b12f5",
   "metadata": {
    "scrolled": false
   },
   "outputs": [
    {
     "name": "stdout",
     "output_type": "stream",
     "text": [
      "Total data for prediction:  480\n"
     ]
    }
   ],
   "source": [
    "data3.reset_index(inplace = True)\n",
    "data3 = data3[data3['Date'] >= '2021-01-01']               \n",
    "data3.set_index('Date', inplace = True)\n",
    "print(\"Total data for prediction: \",data3.shape[0])"
   ]
  },
  {
   "cell_type": "code",
   "execution_count": 53,
   "id": "f8fef781",
   "metadata": {},
   "outputs": [
    {
     "data": {
      "text/plain": [
       "(480, 7)"
      ]
     },
     "execution_count": 53,
     "metadata": {},
     "output_type": "execute_result"
    }
   ],
   "source": [
    "data3.shape"
   ]
  },
  {
   "cell_type": "code",
   "execution_count": 54,
   "id": "0906905c",
   "metadata": {},
   "outputs": [
    {
     "name": "stdout",
     "output_type": "stream",
     "text": [
      "train_data:  (384, 7)\n",
      "test_data:  (96, 7)\n"
     ]
    }
   ],
   "source": [
    "training_size=int(len(data3)*0.80)\n",
    "test_size=len(data3)-training_size\n",
    "train_data,test_data=data3.iloc[:training_size,:],data3.iloc[training_size:,:]\n",
    "print(\"train_data: \", train_data.shape)\n",
    "print(\"test_data: \", test_data.shape)"
   ]
  },
  {
   "cell_type": "code",
   "execution_count": 55,
   "id": "70e9aaf7",
   "metadata": {},
   "outputs": [
    {
     "data": {
      "image/png": "[encoded data removed]",
      "text/plain": [
       "<Figure size 1080x432 with 1 Axes>"
      ]
     },
     "metadata": {
      "needs_background": "light"
     },
     "output_type": "display_data"
    }
   ],
   "source": [
    "data3.reset_index(inplace = True)\n",
    "fig, ax = plt.subplots(figsize=(15, 6))\n",
    "sns.lineplot(x = data3['Date'][:training_size], y = data3['close'][:training_size], color = 'blue')\n",
    "sns.lineplot(x = data3['Date'][training_size:], y =data3['close'][training_size:], color = 'orange')\n",
    "\n",
    "# Formatting\n",
    "ax.set_title('Train & Test data', fontsize = 20, loc='center', fontdict=dict(weight='bold'))\n",
    "ax.set_xlabel('Date', fontsize = 16, fontdict=dict(weight='bold'))\n",
    "ax.set_ylabel('Weekly Sales', fontsize = 16, fontdict=dict(weight='bold'))\n",
    "plt.tick_params(axis='y', which='major', labelsize=16)\n",
    "plt.tick_params(axis='x', which='major', labelsize=5)\n",
    "plt.xticks(rotation = 'vertical')\n",
    "plt.legend(loc='upper right' ,labels = ('train', 'test'))\n",
    "plt.show()"
   ]
  },
  {
   "cell_type": "code",
   "execution_count": 56,
   "id": "404bc424",
   "metadata": {},
   "outputs": [],
   "source": [
    "data3.set_index('Date', inplace = True)"
   ]
  },
  {
   "cell_type": "code",
   "execution_count": 57,
   "id": "acff2e2f",
   "metadata": {},
   "outputs": [],
   "source": [
    "# convert an array of values into a dataset matrix\n",
    "def create_dataset(dataset, time_step=1):\n",
    "    dataX, dataY = [], []\n",
    "    for i in range(len(dataset)-time_step-1):\n",
    "        a = dataset.iloc[i:(i+time_step), :]   \n",
    "        dataX.append(a)\n",
    "        dataY.append(dataset.iloc[i + time_step, 0])\n",
    "    return np.array(dataX), np.array(dataY)"
   ]
  },
  {
   "cell_type": "code",
   "execution_count": 58,
   "id": "967c856d",
   "metadata": {},
   "outputs": [
    {
     "name": "stdout",
     "output_type": "stream",
     "text": [
      "X_train:  (376, 7, 7)\n",
      "y_train:  (376,)\n",
      "X_test:  (88, 7, 7)\n",
      "y_test (88,)\n"
     ]
    }
   ],
   "source": [
    "time_step = 7\n",
    "X_train, y_train = create_dataset(train_data, time_step)\n",
    "X_test, y_test = create_dataset(test_data, time_step)\n",
    "\n",
    "print(\"X_train: \", X_train.shape)\n",
    "print(\"y_train: \", y_train.shape)\n",
    "print(\"X_test: \", X_test.shape)\n",
    "print(\"y_test\", y_test.shape)"
   ]
  },
  {
   "cell_type": "code",
   "execution_count": 59,
   "id": "73a5548c",
   "metadata": {},
   "outputs": [],
   "source": [
    "nsamples, nx, ny = X_train.shape\n",
    "X_train = X_train.reshape((nsamples,nx*ny))\n",
    "\n",
    "nsamples, nx, ny = X_test.shape\n",
    "X_test = X_test.reshape((nsamples,nx*ny))"
   ]
  },
  {
   "cell_type": "code",
   "execution_count": 60,
   "id": "ac737696",
   "metadata": {},
   "outputs": [
    {
     "data": {
      "text/plain": [
       "XGBRegressor(base_score=0.5, booster='gbtree', callbacks=None,\n",
       "             colsample_bylevel=1, colsample_bynode=1, colsample_bytree=1,\n",
       "             early_stopping_rounds=None, enable_categorical=False, eta=0.2,\n",
       "             eval_metric=None, gamma=0, gpu_id=-1, grow_policy='depthwise',\n",
       "             importance_type=None, interaction_constraints='',\n",
       "             learning_rate=0.200000003, max_bin=256, max_cat_to_onehot=4,\n",
       "             max_delta_step=0, max_depth=6, max_leaves=0, min_child_weight=1,\n",
       "             missing=nan, monotone_constraints='()', n_estimators=1000,\n",
       "             n_jobs=0, num_parallel_tree=1, predictor='auto', random_state=1,\n",
       "             reg_alpha=0, ...)"
      ]
     },
     "execution_count": 60,
     "metadata": {},
     "output_type": "execute_result"
    }
   ],
   "source": [
    "model3 = XGBRegressor(n_estimators=1000, random_state = 1, eta = 0.2)\n",
    "model3.fit(X_train, y_train)"
   ]
  },
  {
   "cell_type": "code",
   "execution_count": 61,
   "id": "d9ed2dea",
   "metadata": {},
   "outputs": [],
   "source": [
    "predictions = model3.predict(X_test).reshape(-1,1)\n",
    "y_test = y_test.reshape(-1,1)\n",
    "\n",
    "predictions_train = model3.predict(X_train).reshape(-1,1)\n",
    "y_train = y_train.reshape(-1,1)"
   ]
  },
  {
   "cell_type": "code",
   "execution_count": 62,
   "id": "2e9baab6",
   "metadata": {},
   "outputs": [
    {
     "data": {
      "text/html": [
       "<div>\n",
       "<style scoped>\n",
       "    .dataframe tbody tr th:only-of-type {\n",
       "        vertical-align: middle;\n",
       "    }\n",
       "\n",
       "    .dataframe tbody tr th {\n",
       "        vertical-align: top;\n",
       "    }\n",
       "\n",
       "    .dataframe thead th {\n",
       "        text-align: right;\n",
       "    }\n",
       "</style>\n",
       "<table border=\"1\" class=\"dataframe\">\n",
       "  <thead>\n",
       "    <tr style=\"text-align: right;\">\n",
       "      <th></th>\n",
       "      <th>y_test</th>\n",
       "      <th>Predictions</th>\n",
       "      <th>Date</th>\n",
       "    </tr>\n",
       "  </thead>\n",
       "  <tbody>\n",
       "    <tr>\n",
       "      <th>83</th>\n",
       "      <td>0.633159</td>\n",
       "      <td>0.648992</td>\n",
       "      <td>2022-04-21</td>\n",
       "    </tr>\n",
       "    <tr>\n",
       "      <th>84</th>\n",
       "      <td>0.614067</td>\n",
       "      <td>0.633975</td>\n",
       "      <td>2022-04-22</td>\n",
       "    </tr>\n",
       "    <tr>\n",
       "      <th>85</th>\n",
       "      <td>0.609277</td>\n",
       "      <td>0.636036</td>\n",
       "      <td>2022-04-23</td>\n",
       "    </tr>\n",
       "    <tr>\n",
       "      <th>86</th>\n",
       "      <td>0.603625</td>\n",
       "      <td>0.628448</td>\n",
       "      <td>2022-04-24</td>\n",
       "    </tr>\n",
       "    <tr>\n",
       "      <th>87</th>\n",
       "      <td>0.600372</td>\n",
       "      <td>0.619142</td>\n",
       "      <td>2022-04-25</td>\n",
       "    </tr>\n",
       "  </tbody>\n",
       "</table>\n",
       "</div>"
      ],
      "text/plain": [
       "      y_test  Predictions       Date\n",
       "83  0.633159     0.648992 2022-04-21\n",
       "84  0.614067     0.633975 2022-04-22\n",
       "85  0.609277     0.636036 2022-04-23\n",
       "86  0.603625     0.628448 2022-04-24\n",
       "87  0.600372     0.619142 2022-04-25"
      ]
     },
     "execution_count": 62,
     "metadata": {},
     "output_type": "execute_result"
    }
   ],
   "source": [
    "results2 = np.concatenate((y_test, predictions), axis = 1)\n",
    "results2 = pd.DataFrame(results2, columns = ['y_test', 'Predictions'])\n",
    "a = data3['close'].tail(len(predictions))\n",
    "a = list(a.index)\n",
    "results2['Date'] = a\n",
    "results2['Date'] = pd.to_datetime(results2['Date'])\n",
    "results2.tail()"
   ]
  },
  {
   "cell_type": "code",
   "execution_count": 63,
   "id": "cf0d4173",
   "metadata": {},
   "outputs": [
    {
     "data": {
      "image/png": "[encoded data removed]",
      "text/plain": [
       "<Figure size 960x640 with 1 Axes>"
      ]
     },
     "metadata": {
      "needs_background": "light"
     },
     "output_type": "display_data"
    }
   ],
   "source": [
    "plt.figure(figsize = (12,8), dpi = 80)\n",
    "plt.plot(results2['Date'], results2['y_test'], 'b', label = 'y_test')\n",
    "plt.plot(results2['Date'], results2['Predictions'], 'r', label = 'Predictions')\n",
    "plt.title ('Predictions vs Real Values of Test Data (cryptocurrency: ETH)', fontsize = 16, )\n",
    "plt.xlabel('Date', fontsize = 14)\n",
    "plt.ylabel('Price', fontsize = 14)\n",
    "plt.legend()\n",
    "\n",
    "plt.show()"
   ]
  },
  {
   "cell_type": "code",
   "execution_count": 64,
   "id": "e14eda2d",
   "metadata": {},
   "outputs": [
    {
     "name": "stdout",
     "output_type": "stream",
     "text": [
      "Train data MSE:  3.0848688693610313e-07\n",
      "Mean Absolute Error - MAE : 0.00040834831540854813\n",
      "Root Mean squared Error - RMSE : 0.0005554159584816618\n",
      "R^2 Score 0.9999929039573638\n",
      "--------------------------------------------------------------\n",
      "Test data MSE:  0.0008619310661284942\n",
      "Mean Absolute Error - MAE : 0.024472245928633143\n",
      "Root Mean squared Error - RMSE : 0.029358662539844933\n",
      "R^2 Score 0.7329699549093285\n"
     ]
    }
   ],
   "source": [
    "print(\"Train data MSE: \", mean_squared_error(y_train,predictions_train))\n",
    "print(\"Mean Absolute Error - MAE : \" + str(mean_absolute_error(y_train, predictions_train)))\n",
    "print(\"Root Mean squared Error - RMSE : \" + str(math.sqrt(mean_squared_error(y_train, predictions_train))))\n",
    "print('R^2 Score', r2_score(y_train, predictions_train))\n",
    "\n",
    "print (\"--------------------------------------------------------------\")\n",
    "print(\"Test data MSE: \", mean_squared_error(y_test,predictions))\n",
    "print(\"Mean Absolute Error - MAE : \" + str(mean_absolute_error(y_test, predictions)))\n",
    "print(\"Root Mean squared Error - RMSE : \" + str(math.sqrt(mean_squared_error(y_test, predictions))))\n",
    "print('R^2 Score', r2_score(y_test, predictions))"
   ]
  },
  {
   "cell_type": "markdown",
   "id": "0695d1a0",
   "metadata": {},
   "source": [
    "# ETH - since January 2022  <a name=\"jan2022\"></a>"
   ]
  },
  {
   "cell_type": "markdown",
   "id": "3b0459e2",
   "metadata": {},
   "source": [
    "# Model 1: LSTM <a name=\"lstm3\"></a>"
   ]
  },
  {
   "cell_type": "code",
   "execution_count": 65,
   "id": "b970081c",
   "metadata": {},
   "outputs": [
    {
     "name": "stdout",
     "output_type": "stream",
     "text": [
      "Total data for prediction:  115\n"
     ]
    }
   ],
   "source": [
    "data4 = eth.copy()\n",
    "data4.reset_index(inplace = True)\n",
    "data4 = data4[data4['Date'] >= '2022-01-01']\n",
    "data4.set_index('Date', inplace = True)\n",
    "print(\"Total data for prediction: \",data4.shape[0])"
   ]
  },
  {
   "cell_type": "code",
   "execution_count": 66,
   "id": "5568c9e5",
   "metadata": {},
   "outputs": [],
   "source": [
    "hist = []\n",
    "target = []\n",
    "length = 7\n",
    "\n",
    "for i in range(len(data4)-length):\n",
    "    t = data4['close']\n",
    "    v = data4[['close','volume', 'spread', 'volatility', 'close_off_high', 'EUR/USD_close']]\n",
    "    x = v[i:i+length]\n",
    "    y = t[i+length]\n",
    "    hist.append(x)\n",
    "    target.append(y)"
   ]
  },
  {
   "cell_type": "code",
   "execution_count": 67,
   "id": "b035719a",
   "metadata": {},
   "outputs": [
    {
     "name": "stdout",
     "output_type": "stream",
     "text": [
      "7\n",
      "108\n",
      "108\n"
     ]
    }
   ],
   "source": [
    "print(len(hist[0]))\n",
    "print(len(hist))\n",
    "print(len(target))"
   ]
  },
  {
   "cell_type": "code",
   "execution_count": 68,
   "id": "0d5bffc3",
   "metadata": {},
   "outputs": [],
   "source": [
    "#convert list to array\n",
    "hist = np.array(hist)\n",
    "target = np.array(target)"
   ]
  },
  {
   "cell_type": "code",
   "execution_count": 69,
   "id": "a9b59c59",
   "metadata": {},
   "outputs": [
    {
     "data": {
      "text/plain": [
       "(108, 1)"
      ]
     },
     "execution_count": 69,
     "metadata": {},
     "output_type": "execute_result"
    }
   ],
   "source": [
    "target = target.reshape(-1,1)\n",
    "target.shape"
   ]
  },
  {
   "cell_type": "code",
   "execution_count": 70,
   "id": "62e97ff4",
   "metadata": {},
   "outputs": [],
   "source": [
    "training_size = int(len(data4)*0.8)\n",
    "\n",
    "X_train = hist[:training_size,:]\n",
    "X_test = hist[training_size:,:]\n",
    "\n",
    "y_train = target[:training_size]\n",
    "y_test = target[training_size:]"
   ]
  },
  {
   "cell_type": "code",
   "execution_count": 71,
   "id": "f9c32fc4",
   "metadata": {},
   "outputs": [
    {
     "data": {
      "text/plain": [
       "(92, 7, 6)"
      ]
     },
     "execution_count": 71,
     "metadata": {},
     "output_type": "execute_result"
    }
   ],
   "source": [
    "X_train.shape"
   ]
  },
  {
   "cell_type": "code",
   "execution_count": 72,
   "id": "fb15ee16",
   "metadata": {},
   "outputs": [
    {
     "name": "stdout",
     "output_type": "stream",
     "text": [
      "Model: \"sequential_2\"\n",
      "_________________________________________________________________\n",
      " Layer (type)                Output Shape              Param #   \n",
      "=================================================================\n",
      " lstm_6 (LSTM)               (None, 7, 20)             2160      \n",
      "                                                                 \n",
      " lstm_7 (LSTM)               (None, 7, 32)             6784      \n",
      "                                                                 \n",
      " lstm_8 (LSTM)               (None, 32)                8320      \n",
      "                                                                 \n",
      " dense_2 (Dense)             (None, 1)                 33        \n",
      "                                                                 \n",
      "=================================================================\n",
      "Total params: 17,297\n",
      "Trainable params: 17,297\n",
      "Non-trainable params: 0\n",
      "_________________________________________________________________\n"
     ]
    }
   ],
   "source": [
    "model4 = tf.keras.Sequential()\n",
    "\n",
    "model4.add(layers.LSTM(units=20, activation = 'relu', return_sequences=True,\n",
    "                  input_shape=(7,6), dropout = 0.2))\n",
    "\n",
    "model4.add(layers.LSTM(units=32, return_sequences=True,\n",
    "                  dropout=0.2))\n",
    "\n",
    "model4.add(layers.LSTM(units=32, activation = 'relu', dropout=0.2))\n",
    "\n",
    "#model.add(layers.LSTM(units=55, return_sequences = True, dropout = 0.2))\n",
    "\n",
    "#model.add(layers.LSTM(units = 80, activation = 'relu', dropout = 0.2))\n",
    "\n",
    "model4.add(layers.Dense(units=1))\n",
    "\n",
    "model4.summary()"
   ]
  },
  {
   "cell_type": "code",
   "execution_count": 73,
   "id": "cd4cc769",
   "metadata": {},
   "outputs": [],
   "source": [
    "model4.compile(optimizer='adam', loss='mean_squared_error')"
   ]
  },
  {
   "cell_type": "code",
   "execution_count": 74,
   "id": "42c6b295",
   "metadata": {},
   "outputs": [
    {
     "name": "stdout",
     "output_type": "stream",
     "text": [
      "Epoch 1/30\n",
      "3/3 [==============================] - 4s 250ms/step - loss: 0.3491 - val_loss: 0.4267\n",
      "Epoch 2/30\n",
      "3/3 [==============================] - 0s 20ms/step - loss: 0.3128 - val_loss: 0.3873\n",
      "Epoch 3/30\n",
      "3/3 [==============================] - 0s 21ms/step - loss: 0.2793 - val_loss: 0.3482\n",
      "Epoch 4/30\n",
      "3/3 [==============================] - 0s 20ms/step - loss: 0.2418 - val_loss: 0.3032\n",
      "Epoch 5/30\n",
      "3/3 [==============================] - 0s 20ms/step - loss: 0.2037 - val_loss: 0.2503\n",
      "Epoch 6/30\n",
      "3/3 [==============================] - 0s 18ms/step - loss: 0.1539 - val_loss: 0.1859\n",
      "Epoch 7/30\n",
      "3/3 [==============================] - 0s 17ms/step - loss: 0.1080 - val_loss: 0.1119\n",
      "Epoch 8/30\n",
      "3/3 [==============================] - 0s 20ms/step - loss: 0.0504 - val_loss: 0.0385\n",
      "Epoch 9/30\n",
      "3/3 [==============================] - 0s 17ms/step - loss: 0.0157 - val_loss: 0.0010\n",
      "Epoch 10/30\n",
      "3/3 [==============================] - 0s 18ms/step - loss: 0.0229 - val_loss: 0.0065\n",
      "Epoch 11/30\n",
      "3/3 [==============================] - 0s 18ms/step - loss: 0.0363 - val_loss: 9.9760e-04\n",
      "Epoch 12/30\n",
      "3/3 [==============================] - 0s 18ms/step - loss: 0.0166 - val_loss: 0.0081\n",
      "Epoch 13/30\n",
      "3/3 [==============================] - 0s 18ms/step - loss: 0.0074 - val_loss: 0.0247\n",
      "Epoch 14/30\n",
      "3/3 [==============================] - 0s 18ms/step - loss: 0.0114 - val_loss: 0.0350\n",
      "Epoch 15/30\n",
      "3/3 [==============================] - 0s 18ms/step - loss: 0.0161 - val_loss: 0.0355\n",
      "Epoch 16/30\n",
      "3/3 [==============================] - 0s 18ms/step - loss: 0.0161 - val_loss: 0.0278\n",
      "Epoch 17/30\n",
      "3/3 [==============================] - 0s 17ms/step - loss: 0.0102 - val_loss: 0.0168\n",
      "Epoch 18/30\n",
      "3/3 [==============================] - 0s 18ms/step - loss: 0.0083 - val_loss: 0.0085\n",
      "Epoch 19/30\n",
      "3/3 [==============================] - 0s 18ms/step - loss: 0.0074 - val_loss: 0.0053\n",
      "Epoch 20/30\n",
      "3/3 [==============================] - 0s 18ms/step - loss: 0.0107 - val_loss: 0.0058\n",
      "Epoch 21/30\n",
      "3/3 [==============================] - 0s 20ms/step - loss: 0.0093 - val_loss: 0.0096\n",
      "Epoch 22/30\n",
      "3/3 [==============================] - 0s 19ms/step - loss: 0.0066 - val_loss: 0.0152\n",
      "Epoch 23/30\n",
      "3/3 [==============================] - 0s 17ms/step - loss: 0.0083 - val_loss: 0.0194\n",
      "Epoch 24/30\n",
      "3/3 [==============================] - 0s 18ms/step - loss: 0.0080 - val_loss: 0.0192\n",
      "Epoch 25/30\n",
      "3/3 [==============================] - 0s 18ms/step - loss: 0.0086 - val_loss: 0.0158\n",
      "Epoch 26/30\n",
      "3/3 [==============================] - 0s 18ms/step - loss: 0.0092 - val_loss: 0.0116\n",
      "Epoch 27/30\n",
      "3/3 [==============================] - 0s 18ms/step - loss: 0.0065 - val_loss: 0.0085\n",
      "Epoch 28/30\n",
      "3/3 [==============================] - 0s 17ms/step - loss: 0.0068 - val_loss: 0.0075\n",
      "Epoch 29/30\n",
      "3/3 [==============================] - 0s 17ms/step - loss: 0.0078 - val_loss: 0.0084\n",
      "Epoch 30/30\n",
      "3/3 [==============================] - 0s 18ms/step - loss: 0.0076 - val_loss: 0.0105\n"
     ]
    }
   ],
   "source": [
    "history = model4.fit(X_train, y_train, epochs=30, batch_size=32, validation_split=0.2, shuffle = False)"
   ]
  },
  {
   "cell_type": "code",
   "execution_count": 75,
   "id": "1bcc185d",
   "metadata": {},
   "outputs": [
    {
     "data": {
      "image/png": "[encoded data removed]",
      "text/plain": [
       "<Figure size 864x576 with 1 Axes>"
      ]
     },
     "metadata": {
      "needs_background": "light"
     },
     "output_type": "display_data"
    }
   ],
   "source": [
    "loss = history.history['loss']\n",
    "val_loss = history.history['val_loss']\n",
    "epoch_count = range(len(loss))\n",
    "plt.figure(figsize=(12,8))\n",
    "plt.plot(epoch_count, loss, 'r', label='Training loss')\n",
    "plt.plot(epoch_count, val_loss, 'b', label='Validation loss')\n",
    "plt.legend(['Training Loss','Validation Loss'])\n",
    "plt.xlabel('Epoch')\n",
    "plt.ylabel('Loss')\n",
    "plt.show();"
   ]
  },
  {
   "cell_type": "code",
   "execution_count": 76,
   "id": "36cb8b49",
   "metadata": {},
   "outputs": [],
   "source": [
    "pred_test = model4.predict(X_test)\n",
    "pred_train = model4.predict (X_train)"
   ]
  },
  {
   "cell_type": "code",
   "execution_count": 77,
   "id": "1c911f81",
   "metadata": {},
   "outputs": [
    {
     "data": {
      "text/html": [
       "<div>\n",
       "<style scoped>\n",
       "    .dataframe tbody tr th:only-of-type {\n",
       "        vertical-align: middle;\n",
       "    }\n",
       "\n",
       "    .dataframe tbody tr th {\n",
       "        vertical-align: top;\n",
       "    }\n",
       "\n",
       "    .dataframe thead th {\n",
       "        text-align: right;\n",
       "    }\n",
       "</style>\n",
       "<table border=\"1\" class=\"dataframe\">\n",
       "  <thead>\n",
       "    <tr style=\"text-align: right;\">\n",
       "      <th></th>\n",
       "      <th>y_test</th>\n",
       "      <th>Predictions</th>\n",
       "      <th>Date</th>\n",
       "    </tr>\n",
       "  </thead>\n",
       "  <tbody>\n",
       "    <tr>\n",
       "      <th>11</th>\n",
       "      <td>0.614067</td>\n",
       "      <td>0.576535</td>\n",
       "      <td>2022-04-21</td>\n",
       "    </tr>\n",
       "    <tr>\n",
       "      <th>12</th>\n",
       "      <td>0.609277</td>\n",
       "      <td>0.581788</td>\n",
       "      <td>2022-04-22</td>\n",
       "    </tr>\n",
       "    <tr>\n",
       "      <th>13</th>\n",
       "      <td>0.603625</td>\n",
       "      <td>0.578671</td>\n",
       "      <td>2022-04-23</td>\n",
       "    </tr>\n",
       "    <tr>\n",
       "      <th>14</th>\n",
       "      <td>0.600372</td>\n",
       "      <td>0.573169</td>\n",
       "      <td>2022-04-24</td>\n",
       "    </tr>\n",
       "    <tr>\n",
       "      <th>15</th>\n",
       "      <td>0.618702</td>\n",
       "      <td>0.572486</td>\n",
       "      <td>2022-04-25</td>\n",
       "    </tr>\n",
       "  </tbody>\n",
       "</table>\n",
       "</div>"
      ],
      "text/plain": [
       "      y_test  Predictions       Date\n",
       "11  0.614067     0.576535 2022-04-21\n",
       "12  0.609277     0.581788 2022-04-22\n",
       "13  0.603625     0.578671 2022-04-23\n",
       "14  0.600372     0.573169 2022-04-24\n",
       "15  0.618702     0.572486 2022-04-25"
      ]
     },
     "execution_count": 77,
     "metadata": {},
     "output_type": "execute_result"
    }
   ],
   "source": [
    "results = np.concatenate((y_test, pred_test), axis=1)\n",
    "results = pd.DataFrame(results, columns = ['y_test', 'Predictions'])\n",
    "a = data4['close'].tail(len(pred_test))\n",
    "a = list(a.index)\n",
    "results['Date'] = a\n",
    "results['Date'] = pd.to_datetime(results['Date'])\n",
    "results.tail()"
   ]
  },
  {
   "cell_type": "code",
   "execution_count": 78,
   "id": "4f8a42ee",
   "metadata": {},
   "outputs": [
    {
     "data": {
      "image/png": "[encoded data removed]",
      "text/plain": [
       "<Figure size 960x640 with 1 Axes>"
      ]
     },
     "metadata": {
      "needs_background": "light"
     },
     "output_type": "display_data"
    }
   ],
   "source": [
    "plt.figure(figsize = (12,8), dpi = 80)\n",
    "plt.plot(results['Date'], results['y_test'], 'b', label = 'y_test')\n",
    "plt.plot(results['Date'], results['Predictions'], 'r', label = 'Predictions')\n",
    "plt.title ('Predictions vs Real Values of Test Data (cryptocurrency: ETH)', fontsize = 16,)\n",
    "plt.xlabel('Date', fontsize = 14)\n",
    "plt.ylabel('Price', fontsize = 14)\n",
    "plt.legend()\n",
    "\n",
    "plt.show()"
   ]
  },
  {
   "cell_type": "code",
   "execution_count": 79,
   "id": "fa35cd86",
   "metadata": {},
   "outputs": [
    {
     "name": "stdout",
     "output_type": "stream",
     "text": [
      "Train data RMSE:  0.06620876778854981\n",
      "Train data MSE:  0.004383600932078111\n",
      "Train data MAE:  0.05427966496232342\n",
      "-------------------------------------------------------------------------------------\n",
      "Test data RMSE:  0.0533335769561833\n",
      "Test data MSE:  0.002844470430941126\n",
      "Test data MAE:  0.0507409393955027\n"
     ]
    }
   ],
   "source": [
    "# Evaluation metrices RMSE and MAE\n",
    "print(\"Train data RMSE: \", math.sqrt(mean_squared_error(y_train,pred_train)))\n",
    "print(\"Train data MSE: \", mean_squared_error(y_train,pred_train))\n",
    "print(\"Train data MAE: \", mean_absolute_error(y_train,pred_train))\n",
    "print(\"-------------------------------------------------------------------------------------\")\n",
    "print(\"Test data RMSE: \", math.sqrt(mean_squared_error(y_test,pred_test)))\n",
    "print(\"Test data MSE: \", mean_squared_error(y_test,pred_test))\n",
    "print(\"Test data MAE: \", mean_absolute_error(y_test,pred_test))"
   ]
  },
  {
   "cell_type": "code",
   "execution_count": 80,
   "id": "62416aab",
   "metadata": {
    "scrolled": true
   },
   "outputs": [
    {
     "name": "stdout",
     "output_type": "stream",
     "text": [
      "Train data R2 score: -0.06119681039461011\n",
      "Test data R2 score: -11.599102493950497\n"
     ]
    }
   ],
   "source": [
    "print(\"Train data R2 score:\", r2_score(y_train, pred_train))\n",
    "print(\"Test data R2 score:\", r2_score(y_test, pred_test))"
   ]
  },
  {
   "cell_type": "markdown",
   "id": "a5589e1c",
   "metadata": {},
   "source": [
    "# Model 2: XGBoost Regressor   <a name=\"xgboost3\"></a>"
   ]
  },
  {
   "cell_type": "code",
   "execution_count": 81,
   "id": "68d92d22",
   "metadata": {},
   "outputs": [
    {
     "name": "stdout",
     "output_type": "stream",
     "text": [
      "Total data for prediction:  115\n"
     ]
    }
   ],
   "source": [
    "data5= eth.copy()\n",
    "data5.reset_index(inplace = True)\n",
    "data5 = data5[data5['Date'] >= '2022-01-01']\n",
    "data5.set_index('Date', inplace = True)\n",
    "print(\"Total data for prediction: \",data5.shape[0])"
   ]
  },
  {
   "cell_type": "code",
   "execution_count": 82,
   "id": "2a7d472b",
   "metadata": {},
   "outputs": [
    {
     "name": "stdout",
     "output_type": "stream",
     "text": [
      "train_data:  (92, 7)\n",
      "test_data:  (23, 7)\n"
     ]
    }
   ],
   "source": [
    "training_size=int(len(data5)*0.80)\n",
    "test_size=len(data5)-training_size\n",
    "train_data,test_data=data5.iloc[:training_size,:],data5.iloc[training_size:,:]\n",
    "print(\"train_data: \", train_data.shape)\n",
    "print(\"test_data: \", test_data.shape)"
   ]
  },
  {
   "cell_type": "code",
   "execution_count": 83,
   "id": "68f0a09f",
   "metadata": {
    "scrolled": true
   },
   "outputs": [
    {
     "data": {
      "image/png": "[encoded data removed]",
      "text/plain": [
       "<Figure size 1080x432 with 1 Axes>"
      ]
     },
     "metadata": {
      "needs_background": "light"
     },
     "output_type": "display_data"
    }
   ],
   "source": [
    "data5.reset_index(inplace = True)\n",
    "fig, ax = plt.subplots(figsize=(15, 6))\n",
    "sns.lineplot(x = data5['Date'][:training_size], y = data5['close'][:training_size], color = 'blue')\n",
    "sns.lineplot(x = data5['Date'][training_size:], y = data5['close'][training_size:], color = 'orange')\n",
    "\n",
    "# Formatting\n",
    "ax.set_title('Train & Test data', fontsize = 20, loc='center', fontdict=dict(weight='bold'))\n",
    "ax.set_xlabel('Date', fontsize = 16, fontdict=dict(weight='bold'))\n",
    "ax.set_ylabel('Weekly Sales', fontsize = 16, fontdict=dict(weight='bold'))\n",
    "plt.tick_params(axis='y', which='major', labelsize=16)\n",
    "plt.tick_params(axis='x', which='major', labelsize=5)\n",
    "plt.xticks(rotation = 'vertical')\n",
    "plt.legend(loc='upper right' ,labels = ('train', 'test'))\n",
    "plt.show()"
   ]
  },
  {
   "cell_type": "code",
   "execution_count": 84,
   "id": "2d760131",
   "metadata": {},
   "outputs": [],
   "source": [
    "data5.set_index('Date', inplace = True)"
   ]
  },
  {
   "cell_type": "code",
   "execution_count": 85,
   "id": "55424599",
   "metadata": {},
   "outputs": [],
   "source": [
    "# convert an array of values into a dataset matrix\n",
    "def create_dataset(dataset, time_step=1):\n",
    "    dataX, dataY = [], []\n",
    "    for i in range(len(dataset)-time_step-1):\n",
    "        a = dataset.iloc[i:(i+time_step), :]   \n",
    "        dataX.append(a)\n",
    "        dataY.append(dataset.iloc[i + time_step, 0])\n",
    "    return np.array(dataX), np.array(dataY)"
   ]
  },
  {
   "cell_type": "code",
   "execution_count": 86,
   "id": "58549aeb",
   "metadata": {},
   "outputs": [
    {
     "name": "stdout",
     "output_type": "stream",
     "text": [
      "X_train:  (84, 7, 7)\n",
      "y_train:  (84,)\n",
      "X_test:  (15, 7, 7)\n",
      "y_test (15,)\n"
     ]
    }
   ],
   "source": [
    "time_step = 7\n",
    "X_train, y_train = create_dataset(train_data, time_step)\n",
    "X_test, y_test = create_dataset(test_data, time_step)\n",
    "\n",
    "print(\"X_train: \", X_train.shape)\n",
    "print(\"y_train: \", y_train.shape)\n",
    "print(\"X_test: \", X_test.shape)\n",
    "print(\"y_test\", y_test.shape)"
   ]
  },
  {
   "cell_type": "code",
   "execution_count": 87,
   "id": "73a5548c",
   "metadata": {},
   "outputs": [],
   "source": [
    "nsamples, nx, ny = X_train.shape\n",
    "X_train = X_train.reshape((nsamples,nx*ny))\n",
    "\n",
    "nsamples, nx, ny = X_test.shape\n",
    "X_test = X_test.reshape((nsamples,nx*ny))"
   ]
  },
  {
   "cell_type": "code",
   "execution_count": 88,
   "id": "017f9d78",
   "metadata": {},
   "outputs": [
    {
     "data": {
      "text/plain": [
       "XGBRegressor(base_score=0.5, booster='gbtree', callbacks=None,\n",
       "             colsample_bylevel=1, colsample_bynode=1, colsample_bytree=1,\n",
       "             early_stopping_rounds=None, enable_categorical=False, eta=0.2,\n",
       "             eval_metric=None, gamma=0, gpu_id=-1, grow_policy='depthwise',\n",
       "             importance_type=None, interaction_constraints='',\n",
       "             learning_rate=0.200000003, max_bin=256, max_cat_to_onehot=4,\n",
       "             max_delta_step=0, max_depth=6, max_leaves=0, min_child_weight=1,\n",
       "             missing=nan, monotone_constraints='()', n_estimators=1000,\n",
       "             n_jobs=0, num_parallel_tree=1, predictor='auto', random_state=1,\n",
       "             reg_alpha=0, ...)"
      ]
     },
     "execution_count": 88,
     "metadata": {},
     "output_type": "execute_result"
    }
   ],
   "source": [
    "model5 = XGBRegressor(n_estimators=1000, random_state = 1, eta = 0.2)\n",
    "model5.fit(X_train, y_train)"
   ]
  },
  {
   "cell_type": "code",
   "execution_count": 89,
   "id": "d9ed2dea",
   "metadata": {},
   "outputs": [],
   "source": [
    "predictions = model5.predict(X_test).reshape(-1,1)\n",
    "y_test = y_test.reshape(-1,1)\n",
    "\n",
    "\n",
    "predictions_train = model5.predict(X_train).reshape(-1,1)\n",
    "y_train = y_train.reshape(-1,1)"
   ]
  },
  {
   "cell_type": "code",
   "execution_count": 90,
   "id": "2e9baab6",
   "metadata": {},
   "outputs": [
    {
     "data": {
      "text/html": [
       "<div>\n",
       "<style scoped>\n",
       "    .dataframe tbody tr th:only-of-type {\n",
       "        vertical-align: middle;\n",
       "    }\n",
       "\n",
       "    .dataframe tbody tr th {\n",
       "        vertical-align: top;\n",
       "    }\n",
       "\n",
       "    .dataframe thead th {\n",
       "        text-align: right;\n",
       "    }\n",
       "</style>\n",
       "<table border=\"1\" class=\"dataframe\">\n",
       "  <thead>\n",
       "    <tr style=\"text-align: right;\">\n",
       "      <th></th>\n",
       "      <th>y_test</th>\n",
       "      <th>Predictions</th>\n",
       "      <th>Date</th>\n",
       "    </tr>\n",
       "  </thead>\n",
       "  <tbody>\n",
       "    <tr>\n",
       "      <th>10</th>\n",
       "      <td>0.633159</td>\n",
       "      <td>0.642739</td>\n",
       "      <td>2022-04-21</td>\n",
       "    </tr>\n",
       "    <tr>\n",
       "      <th>11</th>\n",
       "      <td>0.614067</td>\n",
       "      <td>0.639099</td>\n",
       "      <td>2022-04-22</td>\n",
       "    </tr>\n",
       "    <tr>\n",
       "      <th>12</th>\n",
       "      <td>0.609277</td>\n",
       "      <td>0.608521</td>\n",
       "      <td>2022-04-23</td>\n",
       "    </tr>\n",
       "    <tr>\n",
       "      <th>13</th>\n",
       "      <td>0.603625</td>\n",
       "      <td>0.626244</td>\n",
       "      <td>2022-04-24</td>\n",
       "    </tr>\n",
       "    <tr>\n",
       "      <th>14</th>\n",
       "      <td>0.600372</td>\n",
       "      <td>0.613055</td>\n",
       "      <td>2022-04-25</td>\n",
       "    </tr>\n",
       "  </tbody>\n",
       "</table>\n",
       "</div>"
      ],
      "text/plain": [
       "      y_test  Predictions       Date\n",
       "10  0.633159     0.642739 2022-04-21\n",
       "11  0.614067     0.639099 2022-04-22\n",
       "12  0.609277     0.608521 2022-04-23\n",
       "13  0.603625     0.626244 2022-04-24\n",
       "14  0.600372     0.613055 2022-04-25"
      ]
     },
     "execution_count": 90,
     "metadata": {},
     "output_type": "execute_result"
    }
   ],
   "source": [
    "results2 = np.concatenate((y_test, predictions), axis = 1)\n",
    "results2 = pd.DataFrame(results2, columns = ['y_test', 'Predictions'])\n",
    "a = data5['close'].tail(len(predictions))\n",
    "a = list(a.index)\n",
    "results2['Date'] = a\n",
    "results2['Date'] = pd.to_datetime(results2['Date'])\n",
    "results2.tail()"
   ]
  },
  {
   "cell_type": "code",
   "execution_count": 91,
   "id": "cf0d4173",
   "metadata": {
    "scrolled": true
   },
   "outputs": [
    {
     "data": {
      "image/png": "[encoded data removed]",
      "text/plain": [
       "<Figure size 960x640 with 1 Axes>"
      ]
     },
     "metadata": {
      "needs_background": "light"
     },
     "output_type": "display_data"
    }
   ],
   "source": [
    "plt.figure(figsize = (12,8), dpi = 80 )\n",
    "plt.plot(results2['Date'], results2['y_test'], 'b', label = 'y_test')\n",
    "plt.plot(results2['Date'], results2['Predictions'], 'r', label = 'Predictions')\n",
    "plt.title ('Predictions vs Real Values of Test Data (cryptocurrency: ETH)', fontsize = 16, )\n",
    "plt.xlabel('Date', fontsize = 14)\n",
    "plt.ylabel('Price', fontsize = 14)\n",
    "plt.legend()\n",
    "\n",
    "plt.show()"
   ]
  },
  {
   "cell_type": "code",
   "execution_count": 92,
   "id": "c0c0be71",
   "metadata": {},
   "outputs": [
    {
     "name": "stdout",
     "output_type": "stream",
     "text": [
      "Train data MSE:  1.6210860164526654e-07\n",
      "Mean Absolute Error - MAE : 0.0002908001762985602\n",
      "Root Mean squared Error - RMSE : 0.00040262712482552206\n",
      "R^2 Score 0.9999552138564888\n",
      "--------------------------------------------------------------\n",
      "Test data MSE:  0.0004935852146455401\n",
      "Mean Absolute Error - MAE : 0.017041844521212757\n",
      "Root Mean squared Error - RMSE : 0.022216777773690317\n",
      "R^2 Score -1.0641866715051997\n"
     ]
    }
   ],
   "source": [
    "print(\"Train data MSE: \", mean_squared_error(y_train,predictions_train))\n",
    "print(\"Mean Absolute Error - MAE : \" + str(mean_absolute_error(y_train, predictions_train)))\n",
    "print(\"Root Mean squared Error - RMSE : \" + str(math.sqrt(mean_squared_error(y_train, predictions_train))))\n",
    "print('R^2 Score', r2_score(y_train, predictions_train))\n",
    "\n",
    "print (\"--------------------------------------------------------------\")\n",
    "print(\"Test data MSE: \", mean_squared_error(y_test,predictions))\n",
    "print(\"Mean Absolute Error - MAE : \" + str(mean_absolute_error(y_test, predictions)))\n",
    "print(\"Root Mean squared Error - RMSE : \" + str(math.sqrt(mean_squared_error(y_test, predictions))))\n",
    "print('R^2 Score', r2_score(y_test, predictions))"
   ]
  },
  {
   "cell_type": "markdown",
   "id": "c9fc9ba5",
   "metadata": {},
   "source": [
    "# Predictions for the next two days using the best model <a name=\"predictions\"></a>"
   ]
  },
  {
   "cell_type": "code",
   "execution_count": 93,
   "id": "66fb4272",
   "metadata": {},
   "outputs": [],
   "source": [
    "#Importing the dataset with the updated data\n",
    "#Use just the 7 past rows, because our model is predicting based on this sliding window\n",
    "predictions = pd.read_csv('test_ETH.csv', index_col = 'Date')"
   ]
  },
  {
   "cell_type": "code",
   "execution_count": 94,
   "id": "f0559de4",
   "metadata": {
    "scrolled": true
   },
   "outputs": [
    {
     "data": {
      "text/html": [
       "<div>\n",
       "<style scoped>\n",
       "    .dataframe tbody tr th:only-of-type {\n",
       "        vertical-align: middle;\n",
       "    }\n",
       "\n",
       "    .dataframe tbody tr th {\n",
       "        vertical-align: top;\n",
       "    }\n",
       "\n",
       "    .dataframe thead th {\n",
       "        text-align: right;\n",
       "    }\n",
       "</style>\n",
       "<table border=\"1\" class=\"dataframe\">\n",
       "  <thead>\n",
       "    <tr style=\"text-align: right;\">\n",
       "      <th></th>\n",
       "      <th>close</th>\n",
       "      <th>volume</th>\n",
       "      <th>%D</th>\n",
       "      <th>spread</th>\n",
       "      <th>volatility</th>\n",
       "      <th>close_off_high</th>\n",
       "      <th>EUR/USD_close</th>\n",
       "    </tr>\n",
       "    <tr>\n",
       "      <th>Date</th>\n",
       "      <th></th>\n",
       "      <th></th>\n",
       "      <th></th>\n",
       "      <th></th>\n",
       "      <th></th>\n",
       "      <th></th>\n",
       "      <th></th>\n",
       "    </tr>\n",
       "  </thead>\n",
       "  <tbody>\n",
       "    <tr>\n",
       "      <th>2022-05-02</th>\n",
       "      <td>0.586555</td>\n",
       "      <td>0.211471</td>\n",
       "      <td>0.174551</td>\n",
       "      <td>0.058890</td>\n",
       "      <td>0.058393</td>\n",
       "      <td>0.982875</td>\n",
       "      <td>0.015836</td>\n",
       "    </tr>\n",
       "    <tr>\n",
       "      <th>2022-05-03</th>\n",
       "      <td>0.570917</td>\n",
       "      <td>0.144632</td>\n",
       "      <td>0.215162</td>\n",
       "      <td>0.064584</td>\n",
       "      <td>0.064474</td>\n",
       "      <td>0.922521</td>\n",
       "      <td>0.002421</td>\n",
       "    </tr>\n",
       "    <tr>\n",
       "      <th>2022-05-04</th>\n",
       "      <td>0.604160</td>\n",
       "      <td>0.206407</td>\n",
       "      <td>0.301194</td>\n",
       "      <td>0.118711</td>\n",
       "      <td>0.133212</td>\n",
       "      <td>0.983585</td>\n",
       "      <td>0.012130</td>\n",
       "    </tr>\n",
       "    <tr>\n",
       "      <th>2022-05-05</th>\n",
       "      <td>0.563669</td>\n",
       "      <td>0.259749</td>\n",
       "      <td>0.248955</td>\n",
       "      <td>0.163603</td>\n",
       "      <td>0.177674</td>\n",
       "      <td>0.795604</td>\n",
       "      <td>0.058967</td>\n",
       "    </tr>\n",
       "    <tr>\n",
       "      <th>2022-05-06</th>\n",
       "      <td>0.552198</td>\n",
       "      <td>0.240413</td>\n",
       "      <td>0.250508</td>\n",
       "      <td>0.072957</td>\n",
       "      <td>0.078002</td>\n",
       "      <td>0.938749</td>\n",
       "      <td>0.017718</td>\n",
       "    </tr>\n",
       "    <tr>\n",
       "      <th>2022-05-07</th>\n",
       "      <td>0.539743</td>\n",
       "      <td>0.148740</td>\n",
       "      <td>0.117120</td>\n",
       "      <td>0.064621</td>\n",
       "      <td>0.069242</td>\n",
       "      <td>0.938031</td>\n",
       "      <td>0.017718</td>\n",
       "    </tr>\n",
       "    <tr>\n",
       "      <th>2022-05-08</th>\n",
       "      <td>0.517785</td>\n",
       "      <td>0.239545</td>\n",
       "      <td>0.088487</td>\n",
       "      <td>0.089145</td>\n",
       "      <td>0.102926</td>\n",
       "      <td>0.891973</td>\n",
       "      <td>0.017718</td>\n",
       "    </tr>\n",
       "  </tbody>\n",
       "</table>\n",
       "</div>"
      ],
      "text/plain": [
       "               close    volume        %D    spread  volatility  \\\n",
       "Date                                                             \n",
       "2022-05-02  0.586555  0.211471  0.174551  0.058890    0.058393   \n",
       "2022-05-03  0.570917  0.144632  0.215162  0.064584    0.064474   \n",
       "2022-05-04  0.604160  0.206407  0.301194  0.118711    0.133212   \n",
       "2022-05-05  0.563669  0.259749  0.248955  0.163603    0.177674   \n",
       "2022-05-06  0.552198  0.240413  0.250508  0.072957    0.078002   \n",
       "2022-05-07  0.539743  0.148740  0.117120  0.064621    0.069242   \n",
       "2022-05-08  0.517785  0.239545  0.088487  0.089145    0.102926   \n",
       "\n",
       "            close_off_high  EUR/USD_close  \n",
       "Date                                       \n",
       "2022-05-02        0.982875       0.015836  \n",
       "2022-05-03        0.922521       0.002421  \n",
       "2022-05-04        0.983585       0.012130  \n",
       "2022-05-05        0.795604       0.058967  \n",
       "2022-05-06        0.938749       0.017718  \n",
       "2022-05-07        0.938031       0.017718  \n",
       "2022-05-08        0.891973       0.017718  "
      ]
     },
     "execution_count": 94,
     "metadata": {},
     "output_type": "execute_result"
    }
   ],
   "source": [
    "predictions.tail(7)"
   ]
  },
  {
   "cell_type": "code",
   "execution_count": 95,
   "id": "7660d24b",
   "metadata": {},
   "outputs": [],
   "source": [
    "predictions1 = predictions.tail(7)\n",
    "predictions1 = np.array(predictions1)"
   ]
  },
  {
   "cell_type": "code",
   "execution_count": 96,
   "id": "4cb389cb",
   "metadata": {},
   "outputs": [],
   "source": [
    "x_input=predictions1[len(predictions1)-time_step:].reshape(1,-1)\n",
    "temp_input=list(x_input)\n",
    "temp_input=temp_input[0].tolist()\n",
    "\n",
    "output9=[]\n",
    "n_steps=7\n",
    "i=0\n",
    "pred_days = 1\n"
   ]
  },
  {
   "cell_type": "code",
   "execution_count": 97,
   "id": "f402a242",
   "metadata": {},
   "outputs": [
    {
     "name": "stdout",
     "output_type": "stream",
     "text": [
      "0 day input [0.58655492 0.21147052 0.17455056 0.05888995 0.05839251 0.98287492\n",
      " 0.01583568 0.5709167  0.14463191 0.21516229 0.06458414 0.06447447\n",
      " 0.92252082 0.00242126 0.60416031 0.20640714 0.30119426 0.11871101\n",
      " 0.13321236 0.98358467 0.01213009 0.56366949 0.25974942 0.24895491\n",
      " 0.16360296 0.17767418 0.79560377 0.05896673 0.55219827 0.24041329\n",
      " 0.25050784 0.07295716 0.07800165 0.93874903 0.01771789 0.5397428\n",
      " 0.14873996 0.11711964 0.06462099 0.06924174 0.93803079 0.01771789\n",
      " 0.51778548 0.23954522 0.08848728 0.08914492 0.10292582 0.89197278\n",
      " 0.01771789]\n",
      "0 day output [0.5484141]\n",
      "Output of predicted next days:  1\n"
     ]
    }
   ],
   "source": [
    "while(i<pred_days):\n",
    "    \n",
    "    if(len(temp_input)>time_step):        \n",
    "        x_input=np.array(temp_input[i:])\n",
    "        print(\"{} day input {}\".format(i,x_input))\n",
    "        x_input=x_input.reshape(1,-1)\n",
    "        \n",
    "        yhat = model3.predict(x_input)\n",
    "        print(\"{} day output {}\".format(i,yhat))\n",
    "        temp_input.extend(yhat.tolist())\n",
    "        temp_input=temp_input[i:]\n",
    "       \n",
    "        output9.extend(yhat.tolist())\n",
    "        i=i+1\n",
    "        \n",
    "print(\"Output of predicted next days: \", len(output9))"
   ]
  },
  {
   "cell_type": "code",
   "execution_count": 98,
   "id": "54bd2b18",
   "metadata": {},
   "outputs": [
    {
     "data": {
      "text/plain": [
       "[0.5484141111373901]"
      ]
     },
     "execution_count": 98,
     "metadata": {},
     "output_type": "execute_result"
    }
   ],
   "source": [
    "output9  #predicted closing price for May 9th, 2022 (Monday)"
   ]
  },
  {
   "cell_type": "code",
   "execution_count": 99,
   "id": "a60d3cbb",
   "metadata": {
    "scrolled": true
   },
   "outputs": [
    {
     "name": "stdout",
     "output_type": "stream",
     "text": [
      "[1 2 3 4 5 6 7]\n",
      "[8]\n"
     ]
    }
   ],
   "source": [
    "last_days=np.arange(1,time_step+1)\n",
    "day_pred=np.arange(time_step+1,time_step+pred_days+1)\n",
    "print(last_days)\n",
    "print(day_pred)"
   ]
  },
  {
   "cell_type": "code",
   "execution_count": 100,
   "id": "4f6ef42d",
   "metadata": {},
   "outputs": [],
   "source": [
    "# Inserting the prediction for the row May 9th, 2022 --> using new predicted value + data from May 8th 2022 for the other variables "
   ]
  },
  {
   "cell_type": "code",
   "execution_count": 101,
   "id": "c593abc6",
   "metadata": {},
   "outputs": [
    {
     "data": {
      "text/html": [
       "<div>\n",
       "<style scoped>\n",
       "    .dataframe tbody tr th:only-of-type {\n",
       "        vertical-align: middle;\n",
       "    }\n",
       "\n",
       "    .dataframe tbody tr th {\n",
       "        vertical-align: top;\n",
       "    }\n",
       "\n",
       "    .dataframe thead th {\n",
       "        text-align: right;\n",
       "    }\n",
       "</style>\n",
       "<table border=\"1\" class=\"dataframe\">\n",
       "  <thead>\n",
       "    <tr style=\"text-align: right;\">\n",
       "      <th></th>\n",
       "      <th>Date</th>\n",
       "      <th>close</th>\n",
       "      <th>volume</th>\n",
       "      <th>%D</th>\n",
       "      <th>spread</th>\n",
       "      <th>volatility</th>\n",
       "      <th>close_off_high</th>\n",
       "      <th>EUR/USD_close</th>\n",
       "    </tr>\n",
       "  </thead>\n",
       "  <tbody>\n",
       "    <tr>\n",
       "      <th>0</th>\n",
       "      <td>2022-05-08</td>\n",
       "      <td>0.517785</td>\n",
       "      <td>0.239545</td>\n",
       "      <td>0.088487</td>\n",
       "      <td>0.089145</td>\n",
       "      <td>0.102926</td>\n",
       "      <td>0.891973</td>\n",
       "      <td>0.017718</td>\n",
       "    </tr>\n",
       "  </tbody>\n",
       "</table>\n",
       "</div>"
      ],
      "text/plain": [
       "         Date     close    volume        %D    spread  volatility  \\\n",
       "0  2022-05-08  0.517785  0.239545  0.088487  0.089145    0.102926   \n",
       "\n",
       "   close_off_high  EUR/USD_close  \n",
       "0        0.891973       0.017718  "
      ]
     },
     "execution_count": 101,
     "metadata": {},
     "output_type": "execute_result"
    }
   ],
   "source": [
    "a = predictions.tail(1).copy()\n",
    "a.reset_index(inplace = True)\n",
    "a"
   ]
  },
  {
   "cell_type": "code",
   "execution_count": 102,
   "id": "63b2d074",
   "metadata": {},
   "outputs": [
    {
     "data": {
      "text/html": [
       "<div>\n",
       "<style scoped>\n",
       "    .dataframe tbody tr th:only-of-type {\n",
       "        vertical-align: middle;\n",
       "    }\n",
       "\n",
       "    .dataframe tbody tr th {\n",
       "        vertical-align: top;\n",
       "    }\n",
       "\n",
       "    .dataframe thead th {\n",
       "        text-align: right;\n",
       "    }\n",
       "</style>\n",
       "<table border=\"1\" class=\"dataframe\">\n",
       "  <thead>\n",
       "    <tr style=\"text-align: right;\">\n",
       "      <th></th>\n",
       "      <th>close</th>\n",
       "      <th>volume</th>\n",
       "      <th>%D</th>\n",
       "      <th>spread</th>\n",
       "      <th>volatility</th>\n",
       "      <th>close_off_high</th>\n",
       "      <th>EUR/USD_close</th>\n",
       "    </tr>\n",
       "    <tr>\n",
       "      <th>Date</th>\n",
       "      <th></th>\n",
       "      <th></th>\n",
       "      <th></th>\n",
       "      <th></th>\n",
       "      <th></th>\n",
       "      <th></th>\n",
       "      <th></th>\n",
       "    </tr>\n",
       "  </thead>\n",
       "  <tbody>\n",
       "    <tr>\n",
       "      <th>2022-05-09</th>\n",
       "      <td>0.548414</td>\n",
       "      <td>0.239545</td>\n",
       "      <td>0.088487</td>\n",
       "      <td>0.089145</td>\n",
       "      <td>0.102926</td>\n",
       "      <td>0.891973</td>\n",
       "      <td>0.017718</td>\n",
       "    </tr>\n",
       "  </tbody>\n",
       "</table>\n",
       "</div>"
      ],
      "text/plain": [
       "               close    volume        %D    spread  volatility  \\\n",
       "Date                                                             \n",
       "2022-05-09  0.548414  0.239545  0.088487  0.089145    0.102926   \n",
       "\n",
       "            close_off_high  EUR/USD_close  \n",
       "Date                                       \n",
       "2022-05-09        0.891973       0.017718  "
      ]
     },
     "execution_count": 102,
     "metadata": {},
     "output_type": "execute_result"
    }
   ],
   "source": [
    "a.at[0,'Date']='2022-05-09'\n",
    "a.at[0,'close']= output9[0]\n",
    "a.set_index('Date', inplace = True)\n",
    "a"
   ]
  },
  {
   "cell_type": "code",
   "execution_count": 103,
   "id": "d89f150f",
   "metadata": {},
   "outputs": [],
   "source": [
    "final_predictions = pd.concat([predictions, a], axis=0, join='outer')"
   ]
  },
  {
   "cell_type": "code",
   "execution_count": 104,
   "id": "fed79fe6",
   "metadata": {},
   "outputs": [
    {
     "name": "stdout",
     "output_type": "stream",
     "text": [
      "The predicted closing price for ETH on May 9th, 2022 is  2677.0890720709153 USD\n"
     ]
    }
   ],
   "source": [
    "#Get the predicted denormalized closing price using MinMaxScaler formula\n",
    "intermediate_result = ((4812.087402-84.308296)*output9[0])+84.308296\n",
    "\n",
    "print (\"The predicted closing price for ETH on May 9th, 2022 is \", intermediate_result, \"USD\")"
   ]
  },
  {
   "cell_type": "markdown",
   "id": "b30c6dc4",
   "metadata": {},
   "source": [
    "# Final Predictions<a name=\"finalpredictions\"></a>"
   ]
  },
  {
   "cell_type": "code",
   "execution_count": 105,
   "id": "ccd287f0",
   "metadata": {
    "scrolled": true
   },
   "outputs": [
    {
     "data": {
      "text/html": [
       "<div>\n",
       "<style scoped>\n",
       "    .dataframe tbody tr th:only-of-type {\n",
       "        vertical-align: middle;\n",
       "    }\n",
       "\n",
       "    .dataframe tbody tr th {\n",
       "        vertical-align: top;\n",
       "    }\n",
       "\n",
       "    .dataframe thead th {\n",
       "        text-align: right;\n",
       "    }\n",
       "</style>\n",
       "<table border=\"1\" class=\"dataframe\">\n",
       "  <thead>\n",
       "    <tr style=\"text-align: right;\">\n",
       "      <th></th>\n",
       "      <th>close</th>\n",
       "      <th>volume</th>\n",
       "      <th>%D</th>\n",
       "      <th>spread</th>\n",
       "      <th>volatility</th>\n",
       "      <th>close_off_high</th>\n",
       "      <th>EUR/USD_close</th>\n",
       "    </tr>\n",
       "    <tr>\n",
       "      <th>Date</th>\n",
       "      <th></th>\n",
       "      <th></th>\n",
       "      <th></th>\n",
       "      <th></th>\n",
       "      <th></th>\n",
       "      <th></th>\n",
       "      <th></th>\n",
       "    </tr>\n",
       "  </thead>\n",
       "  <tbody>\n",
       "    <tr>\n",
       "      <th>2022-05-03</th>\n",
       "      <td>0.570917</td>\n",
       "      <td>0.144632</td>\n",
       "      <td>0.215162</td>\n",
       "      <td>0.064584</td>\n",
       "      <td>0.064474</td>\n",
       "      <td>0.922521</td>\n",
       "      <td>0.002421</td>\n",
       "    </tr>\n",
       "    <tr>\n",
       "      <th>2022-05-04</th>\n",
       "      <td>0.604160</td>\n",
       "      <td>0.206407</td>\n",
       "      <td>0.301194</td>\n",
       "      <td>0.118711</td>\n",
       "      <td>0.133212</td>\n",
       "      <td>0.983585</td>\n",
       "      <td>0.012130</td>\n",
       "    </tr>\n",
       "    <tr>\n",
       "      <th>2022-05-05</th>\n",
       "      <td>0.563669</td>\n",
       "      <td>0.259749</td>\n",
       "      <td>0.248955</td>\n",
       "      <td>0.163603</td>\n",
       "      <td>0.177674</td>\n",
       "      <td>0.795604</td>\n",
       "      <td>0.058967</td>\n",
       "    </tr>\n",
       "    <tr>\n",
       "      <th>2022-05-06</th>\n",
       "      <td>0.552198</td>\n",
       "      <td>0.240413</td>\n",
       "      <td>0.250508</td>\n",
       "      <td>0.072957</td>\n",
       "      <td>0.078002</td>\n",
       "      <td>0.938749</td>\n",
       "      <td>0.017718</td>\n",
       "    </tr>\n",
       "    <tr>\n",
       "      <th>2022-05-07</th>\n",
       "      <td>0.539743</td>\n",
       "      <td>0.148740</td>\n",
       "      <td>0.117120</td>\n",
       "      <td>0.064621</td>\n",
       "      <td>0.069242</td>\n",
       "      <td>0.938031</td>\n",
       "      <td>0.017718</td>\n",
       "    </tr>\n",
       "    <tr>\n",
       "      <th>2022-05-08</th>\n",
       "      <td>0.517785</td>\n",
       "      <td>0.239545</td>\n",
       "      <td>0.088487</td>\n",
       "      <td>0.089145</td>\n",
       "      <td>0.102926</td>\n",
       "      <td>0.891973</td>\n",
       "      <td>0.017718</td>\n",
       "    </tr>\n",
       "    <tr>\n",
       "      <th>2022-05-09</th>\n",
       "      <td>0.548414</td>\n",
       "      <td>0.239545</td>\n",
       "      <td>0.088487</td>\n",
       "      <td>0.089145</td>\n",
       "      <td>0.102926</td>\n",
       "      <td>0.891973</td>\n",
       "      <td>0.017718</td>\n",
       "    </tr>\n",
       "  </tbody>\n",
       "</table>\n",
       "</div>"
      ],
      "text/plain": [
       "               close    volume        %D    spread  volatility  \\\n",
       "Date                                                             \n",
       "2022-05-03  0.570917  0.144632  0.215162  0.064584    0.064474   \n",
       "2022-05-04  0.604160  0.206407  0.301194  0.118711    0.133212   \n",
       "2022-05-05  0.563669  0.259749  0.248955  0.163603    0.177674   \n",
       "2022-05-06  0.552198  0.240413  0.250508  0.072957    0.078002   \n",
       "2022-05-07  0.539743  0.148740  0.117120  0.064621    0.069242   \n",
       "2022-05-08  0.517785  0.239545  0.088487  0.089145    0.102926   \n",
       "2022-05-09  0.548414  0.239545  0.088487  0.089145    0.102926   \n",
       "\n",
       "            close_off_high  EUR/USD_close  \n",
       "Date                                       \n",
       "2022-05-03        0.922521       0.002421  \n",
       "2022-05-04        0.983585       0.012130  \n",
       "2022-05-05        0.795604       0.058967  \n",
       "2022-05-06        0.938749       0.017718  \n",
       "2022-05-07        0.938031       0.017718  \n",
       "2022-05-08        0.891973       0.017718  \n",
       "2022-05-09        0.891973       0.017718  "
      ]
     },
     "execution_count": 105,
     "metadata": {},
     "output_type": "execute_result"
    }
   ],
   "source": [
    "final_predictions.tail(7)"
   ]
  },
  {
   "cell_type": "code",
   "execution_count": 106,
   "id": "b62f5f49",
   "metadata": {},
   "outputs": [],
   "source": [
    "final_predictions1 = final_predictions.tail(7)\n",
    "final_predictions1 = np.array(final_predictions1)"
   ]
  },
  {
   "cell_type": "code",
   "execution_count": 107,
   "id": "b25f3431",
   "metadata": {},
   "outputs": [],
   "source": [
    "x_input=(final_predictions1[len(final_predictions1)-(time_step*time_step):]).reshape(1,-1)\n",
    "temp_input=list(x_input)\n",
    "temp_input=temp_input[0].tolist()\n",
    "\n",
    "output10=[]\n",
    "n_steps=7\n",
    "i=0\n",
    "pred_days = 1"
   ]
  },
  {
   "cell_type": "code",
   "execution_count": 108,
   "id": "f402a242",
   "metadata": {
    "scrolled": true
   },
   "outputs": [
    {
     "name": "stdout",
     "output_type": "stream",
     "text": [
      "0 day input [0.5709167  0.14463191 0.21516229 0.06458414 0.06447447 0.92252082\n",
      " 0.00242126 0.60416031 0.20640714 0.30119426 0.11871101 0.13321236\n",
      " 0.98358467 0.01213009 0.56366949 0.25974942 0.24895491 0.16360296\n",
      " 0.17767418 0.79560377 0.05896673 0.55219827 0.24041329 0.25050784\n",
      " 0.07295716 0.07800165 0.93874903 0.01771789 0.5397428  0.14873996\n",
      " 0.11711964 0.06462099 0.06924174 0.93803079 0.01771789 0.51778548\n",
      " 0.23954522 0.08848728 0.08914492 0.10292582 0.89197278 0.01771789\n",
      " 0.54841411 0.23954522 0.08848728 0.08914492 0.10292582 0.89197278\n",
      " 0.01771789]\n",
      "0 day output [0.5637253]\n",
      "Output of predicted next days:  1\n"
     ]
    }
   ],
   "source": [
    "while(i<pred_days):\n",
    "    \n",
    "    if(len(temp_input)>time_step):        \n",
    "        x_input=np.array(temp_input[i:])\n",
    "        print(\"{} day input {}\".format(i,x_input))\n",
    "        x_input=x_input.reshape(1,-1)\n",
    "        \n",
    "        yhat = model3.predict(x_input)\n",
    "        print(\"{} day output {}\".format(i,yhat))\n",
    "        temp_input.extend(yhat.tolist())\n",
    "        temp_input=temp_input[i:]\n",
    "       \n",
    "        output10.extend(yhat.tolist())\n",
    "        i=i+1\n",
    "        \n",
    "print(\"Output of predicted next days: \", len(output10))"
   ]
  },
  {
   "cell_type": "code",
   "execution_count": 109,
   "id": "2fb076f9",
   "metadata": {},
   "outputs": [
    {
     "name": "stdout",
     "output_type": "stream",
     "text": [
      "The predicted normalized closing price for ETH on May 10th, 2022 is  0.5637252926826477\n"
     ]
    }
   ],
   "source": [
    "print (\"The predicted normalized closing price for ETH on May 10th, 2022 is \", output10[0])"
   ]
  },
  {
   "cell_type": "code",
   "execution_count": 110,
   "id": "713f443f",
   "metadata": {},
   "outputs": [
    {
     "name": "stdout",
     "output_type": "stream",
     "text": [
      "The predicted closing price for ETH on May 10th, 2022 is  2749.4769562687566 USD\n"
     ]
    }
   ],
   "source": [
    "#Get the predicted denormalized closing price using MinMaxScaler formula\n",
    "final_result = ((4812.087402-84.308296)*output10[0])+84.308296\n",
    "\n",
    "print (\"The predicted closing price for ETH on May 10th, 2022 is \", final_result, \"USD\")"
   ]
  },
  {
   "cell_type": "code",
   "execution_count": null,
   "id": "882e49f0",
   "metadata": {},
   "outputs": [],
   "source": []
  }
 ],
 "metadata": {
  "kernelspec": {
   "display_name": "Python 3 (ipykernel)",
   "language": "python",
   "name": "python3"
  },
  "language_info": {
   "codemirror_mode": {
    "name": "ipython",
    "version": 3
   },
   "file_extension": ".py",
   "mimetype": "text/x-python",
   "name": "python",
   "nbconvert_exporter": "python",
   "pygments_lexer": "ipython3",
   "version": "3.9.6"
  }
 },
 "nbformat": 4,
 "nbformat_minor": 5
}
