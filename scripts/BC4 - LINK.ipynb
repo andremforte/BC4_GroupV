{
 "cells": [
  {
   "cell_type": "markdown",
   "id": "2e429287",
   "metadata": {},
   "source": [
    "# Business Case 4: Cryptocurrencies Forecasting"
   ]
  },
  {
   "cell_type": "markdown",
   "id": "c8c7cf49",
   "metadata": {},
   "source": [
    "## Contents:\n",
    "  \n",
    " * [Modeling LINK](#Modeling)\n",
    " * [LINK - Entire Dataset](#entiredataset)\n",
    "    * [Model 1: LSTM](#lstm)\n",
    "    * [Model 2: XGBOOST Regressor](#xgboost)\n",
    " * [LINK - since January 2021](#jan2021)\n",
    "    * [Model 1: LSTM](#lstm2)\n",
    "    * [Model 2: XGBOOST Regressor](#xgboost2)\n",
    " * [LINK - since January 2022](#jan2022)\n",
    "    * [Model 1: LSTM](#lstm3)\n",
    "    * [Model 2: XGBOOST Regressor](#xgboost3)\n",
    " * [Predictions for the next two days using the best model](#predictions)\n",
    " * [Final Predictions](#finalpredictions)\n",
    " "
   ]
  },
  {
   "cell_type": "markdown",
   "id": "18e6ee6e",
   "metadata": {},
   "source": [
    "## Imports"
   ]
  },
  {
   "cell_type": "code",
   "execution_count": 1,
   "id": "5748d9b6",
   "metadata": {},
   "outputs": [],
   "source": [
    "#! pip install xgboost\n",
    "#! pip install fastai==0.7.0\n",
    "#! pip install --upgrade tensorflow\n",
    "#! pip install keras\n",
    "#! pip install pystan\n",
    "#! pip install ephem\n",
    "#! pip install fbprophet"
   ]
  },
  {
   "cell_type": "code",
   "execution_count": 2,
   "id": "28a80461",
   "metadata": {},
   "outputs": [],
   "source": [
    "import numpy as np\n",
    "import pandas as pd\n",
    "import seaborn as sns\n",
    "import matplotlib.pyplot as plt\n",
    "%matplotlib inline\n",
    "from math import ceil\n",
    "import math\n",
    "import scipy.stats as stats\n",
    "from itertools import cycle\n",
    "\n",
    "import plotly.express as px\n",
    "import plotly.graph_objects as go\n",
    "from plotly.subplots import make_subplots\n",
    "import plotly\n",
    "\n",
    "import json\n",
    "import requests\n",
    "import tensorflow as tf\n",
    "from sklearn.preprocessing import MinMaxScaler\n",
    "from keras.models import Sequential\n",
    "from keras.layers import Activation, Dense, Dropout, LSTM\n",
    "from sklearn.metrics import mean_squared_error , mean_absolute_error, explained_variance_score, r2_score\n",
    "from tensorflow.keras import layers\n",
    "from xgboost import XGBRegressor\n",
    "\n",
    "import warnings"
   ]
  },
  {
   "cell_type": "markdown",
   "id": "745ad7b6",
   "metadata": {},
   "source": [
    "# Modeling - LINK <a name=\"Modeling\"></a>\n",
    ">In this step, we decided to implement algorithms (LSTM, XGBOOST Regressor) that can predict the closing price of LINK."
   ]
  },
  {
   "cell_type": "markdown",
   "id": "704de260",
   "metadata": {},
   "source": [
    "# LINK - Entire Dataset <a name=\"entiredataset\"></a>"
   ]
  },
  {
   "cell_type": "code",
   "execution_count": 3,
   "id": "32905e5d",
   "metadata": {},
   "outputs": [],
   "source": [
    "link = pd.read_csv('LINK.csv', index_col = 'Date')"
   ]
  },
  {
   "cell_type": "code",
   "execution_count": 4,
   "id": "d6e69e14",
   "metadata": {
    "scrolled": true
   },
   "outputs": [
    {
     "data": {
      "text/html": [
       "<div>\n",
       "<style scoped>\n",
       "    .dataframe tbody tr th:only-of-type {\n",
       "        vertical-align: middle;\n",
       "    }\n",
       "\n",
       "    .dataframe tbody tr th {\n",
       "        vertical-align: top;\n",
       "    }\n",
       "\n",
       "    .dataframe thead th {\n",
       "        text-align: right;\n",
       "    }\n",
       "</style>\n",
       "<table border=\"1\" class=\"dataframe\">\n",
       "  <thead>\n",
       "    <tr style=\"text-align: right;\">\n",
       "      <th></th>\n",
       "      <th>close</th>\n",
       "      <th>volume</th>\n",
       "      <th>%D</th>\n",
       "      <th>spread</th>\n",
       "      <th>volatility</th>\n",
       "      <th>close_off_high</th>\n",
       "      <th>EUR/USD_close</th>\n",
       "    </tr>\n",
       "    <tr>\n",
       "      <th>Date</th>\n",
       "      <th></th>\n",
       "      <th></th>\n",
       "      <th></th>\n",
       "      <th></th>\n",
       "      <th></th>\n",
       "      <th></th>\n",
       "      <th></th>\n",
       "    </tr>\n",
       "  </thead>\n",
       "  <tbody>\n",
       "    <tr>\n",
       "      <th>2017-11-24</th>\n",
       "      <td>0.000916</td>\n",
       "      <td>0.000020</td>\n",
       "      <td>0.407882</td>\n",
       "      <td>0.001338</td>\n",
       "      <td>0.302441</td>\n",
       "      <td>0.999973</td>\n",
       "      <td>0.645889</td>\n",
       "    </tr>\n",
       "    <tr>\n",
       "      <th>2017-11-25</th>\n",
       "      <td>0.000686</td>\n",
       "      <td>0.000011</td>\n",
       "      <td>0.536328</td>\n",
       "      <td>0.000492</td>\n",
       "      <td>0.118046</td>\n",
       "      <td>0.999269</td>\n",
       "      <td>0.645889</td>\n",
       "    </tr>\n",
       "    <tr>\n",
       "      <th>2017-11-26</th>\n",
       "      <td>0.000723</td>\n",
       "      <td>0.000009</td>\n",
       "      <td>0.667296</td>\n",
       "      <td>0.000369</td>\n",
       "      <td>0.103798</td>\n",
       "      <td>0.999819</td>\n",
       "      <td>0.645889</td>\n",
       "    </tr>\n",
       "    <tr>\n",
       "      <th>2017-11-27</th>\n",
       "      <td>0.000748</td>\n",
       "      <td>0.000023</td>\n",
       "      <td>0.628122</td>\n",
       "      <td>0.000267</td>\n",
       "      <td>0.086569</td>\n",
       "      <td>0.999918</td>\n",
       "      <td>0.685035</td>\n",
       "    </tr>\n",
       "    <tr>\n",
       "      <th>2017-11-28</th>\n",
       "      <td>0.000599</td>\n",
       "      <td>0.000028</td>\n",
       "      <td>0.632137</td>\n",
       "      <td>0.000398</td>\n",
       "      <td>0.106493</td>\n",
       "      <td>0.999065</td>\n",
       "      <td>0.673386</td>\n",
       "    </tr>\n",
       "  </tbody>\n",
       "</table>\n",
       "</div>"
      ],
      "text/plain": [
       "               close    volume        %D    spread  volatility  \\\n",
       "Date                                                             \n",
       "2017-11-24  0.000916  0.000020  0.407882  0.001338    0.302441   \n",
       "2017-11-25  0.000686  0.000011  0.536328  0.000492    0.118046   \n",
       "2017-11-26  0.000723  0.000009  0.667296  0.000369    0.103798   \n",
       "2017-11-27  0.000748  0.000023  0.628122  0.000267    0.086569   \n",
       "2017-11-28  0.000599  0.000028  0.632137  0.000398    0.106493   \n",
       "\n",
       "            close_off_high  EUR/USD_close  \n",
       "Date                                       \n",
       "2017-11-24        0.999973       0.645889  \n",
       "2017-11-25        0.999269       0.645889  \n",
       "2017-11-26        0.999819       0.645889  \n",
       "2017-11-27        0.999918       0.685035  \n",
       "2017-11-28        0.999065       0.673386  "
      ]
     },
     "execution_count": 4,
     "metadata": {},
     "output_type": "execute_result"
    }
   ],
   "source": [
    "link.head()"
   ]
  },
  {
   "cell_type": "markdown",
   "id": "b8cb8770",
   "metadata": {},
   "source": [
    "# Model 1: LSTM <a name=\"lstm\"></a>"
   ]
  },
  {
   "cell_type": "code",
   "execution_count": 5,
   "id": "d0e4476b",
   "metadata": {},
   "outputs": [],
   "source": [
    "data = link.copy()"
   ]
  },
  {
   "cell_type": "code",
   "execution_count": 6,
   "id": "d7bb58e9",
   "metadata": {},
   "outputs": [
    {
     "data": {
      "text/html": [
       "<div>\n",
       "<style scoped>\n",
       "    .dataframe tbody tr th:only-of-type {\n",
       "        vertical-align: middle;\n",
       "    }\n",
       "\n",
       "    .dataframe tbody tr th {\n",
       "        vertical-align: top;\n",
       "    }\n",
       "\n",
       "    .dataframe thead th {\n",
       "        text-align: right;\n",
       "    }\n",
       "</style>\n",
       "<table border=\"1\" class=\"dataframe\">\n",
       "  <thead>\n",
       "    <tr style=\"text-align: right;\">\n",
       "      <th></th>\n",
       "      <th>close</th>\n",
       "      <th>volume</th>\n",
       "      <th>%D</th>\n",
       "      <th>spread</th>\n",
       "      <th>volatility</th>\n",
       "      <th>close_off_high</th>\n",
       "      <th>EUR/USD_close</th>\n",
       "    </tr>\n",
       "    <tr>\n",
       "      <th>Date</th>\n",
       "      <th></th>\n",
       "      <th></th>\n",
       "      <th></th>\n",
       "      <th></th>\n",
       "      <th></th>\n",
       "      <th></th>\n",
       "      <th></th>\n",
       "    </tr>\n",
       "  </thead>\n",
       "  <tbody>\n",
       "    <tr>\n",
       "      <th>2017-11-24</th>\n",
       "      <td>0.000916</td>\n",
       "      <td>0.000020</td>\n",
       "      <td>0.407882</td>\n",
       "      <td>0.001338</td>\n",
       "      <td>0.302441</td>\n",
       "      <td>0.999973</td>\n",
       "      <td>0.645889</td>\n",
       "    </tr>\n",
       "    <tr>\n",
       "      <th>2017-11-25</th>\n",
       "      <td>0.000686</td>\n",
       "      <td>0.000011</td>\n",
       "      <td>0.536328</td>\n",
       "      <td>0.000492</td>\n",
       "      <td>0.118046</td>\n",
       "      <td>0.999269</td>\n",
       "      <td>0.645889</td>\n",
       "    </tr>\n",
       "    <tr>\n",
       "      <th>2017-11-26</th>\n",
       "      <td>0.000723</td>\n",
       "      <td>0.000009</td>\n",
       "      <td>0.667296</td>\n",
       "      <td>0.000369</td>\n",
       "      <td>0.103798</td>\n",
       "      <td>0.999819</td>\n",
       "      <td>0.645889</td>\n",
       "    </tr>\n",
       "    <tr>\n",
       "      <th>2017-11-27</th>\n",
       "      <td>0.000748</td>\n",
       "      <td>0.000023</td>\n",
       "      <td>0.628122</td>\n",
       "      <td>0.000267</td>\n",
       "      <td>0.086569</td>\n",
       "      <td>0.999918</td>\n",
       "      <td>0.685035</td>\n",
       "    </tr>\n",
       "    <tr>\n",
       "      <th>2017-11-28</th>\n",
       "      <td>0.000599</td>\n",
       "      <td>0.000028</td>\n",
       "      <td>0.632137</td>\n",
       "      <td>0.000398</td>\n",
       "      <td>0.106493</td>\n",
       "      <td>0.999065</td>\n",
       "      <td>0.673386</td>\n",
       "    </tr>\n",
       "  </tbody>\n",
       "</table>\n",
       "</div>"
      ],
      "text/plain": [
       "               close    volume        %D    spread  volatility  \\\n",
       "Date                                                             \n",
       "2017-11-24  0.000916  0.000020  0.407882  0.001338    0.302441   \n",
       "2017-11-25  0.000686  0.000011  0.536328  0.000492    0.118046   \n",
       "2017-11-26  0.000723  0.000009  0.667296  0.000369    0.103798   \n",
       "2017-11-27  0.000748  0.000023  0.628122  0.000267    0.086569   \n",
       "2017-11-28  0.000599  0.000028  0.632137  0.000398    0.106493   \n",
       "\n",
       "            close_off_high  EUR/USD_close  \n",
       "Date                                       \n",
       "2017-11-24        0.999973       0.645889  \n",
       "2017-11-25        0.999269       0.645889  \n",
       "2017-11-26        0.999819       0.645889  \n",
       "2017-11-27        0.999918       0.685035  \n",
       "2017-11-28        0.999065       0.673386  "
      ]
     },
     "execution_count": 6,
     "metadata": {},
     "output_type": "execute_result"
    }
   ],
   "source": [
    "data.head()"
   ]
  },
  {
   "cell_type": "code",
   "execution_count": 7,
   "id": "f1d5c78b",
   "metadata": {},
   "outputs": [],
   "source": [
    "#Splitting the original dataset using all the variables (hist) and \"close\" (target) using 7 days a the length of the sliding window\n",
    "\n",
    "hist = []\n",
    "target = []\n",
    "length = 7\n",
    "\n",
    "for i in range(len(data)-length):\n",
    "    t = data['close']\n",
    "    v = data[['close', 'volume', 'volatility', 'close_off_high', 'EUR/USD_close']]\n",
    "    x = v[i:i+length]\n",
    "    y = t[i+length]\n",
    "    hist.append(x)\n",
    "    target.append(y)"
   ]
  },
  {
   "cell_type": "code",
   "execution_count": 8,
   "id": "fba04aec",
   "metadata": {},
   "outputs": [
    {
     "name": "stdout",
     "output_type": "stream",
     "text": [
      "7\n",
      "1607\n",
      "1607\n"
     ]
    }
   ],
   "source": [
    "print(len(hist[0]))  #nr of days\n",
    "print(len(hist)) #size of train dataset\n",
    "print(len(target)) #size of test dataset"
   ]
  },
  {
   "cell_type": "code",
   "execution_count": 9,
   "id": "72f98a10",
   "metadata": {},
   "outputs": [],
   "source": [
    "#convert lists to arrays\n",
    "hist = np.array(hist)\n",
    "target = np.array(target)"
   ]
  },
  {
   "cell_type": "code",
   "execution_count": 10,
   "id": "c013ab52",
   "metadata": {},
   "outputs": [
    {
     "data": {
      "text/plain": [
       "(1607, 1)"
      ]
     },
     "execution_count": 10,
     "metadata": {},
     "output_type": "execute_result"
    }
   ],
   "source": [
    "target = target.reshape(-1,1)\n",
    "target.shape"
   ]
  },
  {
   "cell_type": "code",
   "execution_count": 11,
   "id": "20846eb4",
   "metadata": {},
   "outputs": [],
   "source": [
    "#Splitting the datasets into train and test using 80% for train and 20% for test\n",
    "\n",
    "training_size=int(len(data)*0.80)\n",
    "\n",
    "X_train = hist[:training_size,:]\n",
    "X_test = hist[training_size:,:]\n",
    "\n",
    "y_train = target[:training_size]\n",
    "y_test = target[training_size:]"
   ]
  },
  {
   "cell_type": "code",
   "execution_count": 12,
   "id": "560076ba",
   "metadata": {},
   "outputs": [
    {
     "data": {
      "text/plain": [
       "(1291, 7, 5)"
      ]
     },
     "execution_count": 12,
     "metadata": {},
     "output_type": "execute_result"
    }
   ],
   "source": [
    "#Nr of instances, # nr of days (length), #nr of columns\n",
    "X_train.shape"
   ]
  },
  {
   "cell_type": "code",
   "execution_count": 13,
   "id": "a9a1e870",
   "metadata": {},
   "outputs": [
    {
     "name": "stdout",
     "output_type": "stream",
     "text": [
      "Model: \"sequential\"\n",
      "_________________________________________________________________\n",
      " Layer (type)                Output Shape              Param #   \n",
      "=================================================================\n",
      " lstm (LSTM)                 (None, 7, 20)             2080      \n",
      "                                                                 \n",
      " lstm_1 (LSTM)               (None, 7, 32)             6784      \n",
      "                                                                 \n",
      " lstm_2 (LSTM)               (None, 40)                11680     \n",
      "                                                                 \n",
      " dense (Dense)               (None, 1)                 41        \n",
      "                                                                 \n",
      "=================================================================\n",
      "Total params: 20,585\n",
      "Trainable params: 20,585\n",
      "Non-trainable params: 0\n",
      "_________________________________________________________________\n"
     ]
    }
   ],
   "source": [
    "model = tf.keras.Sequential()\n",
    "\n",
    "model.add(layers.LSTM(units=20, activation = 'relu', return_sequences=True,\n",
    "                  input_shape=(7,5), dropout = 0.2))\n",
    "\n",
    "model.add(layers.LSTM(units=32, return_sequences=True,\n",
    "                  dropout=0.2))\n",
    "\n",
    "model.add(layers.LSTM(units=40, activation = 'relu', dropout=0.2))\n",
    "\n",
    "#model.add(layers.LSTM(units=55, return_sequences = True, dropout = 0.2))\n",
    "\n",
    "#model.add(layers.LSTM(units = 80, activation = 'relu', dropout = 0.2))\n",
    "\n",
    "model.add(layers.Dense(units=1))\n",
    "\n",
    "model.summary()"
   ]
  },
  {
   "cell_type": "code",
   "execution_count": 14,
   "id": "a4e6950c",
   "metadata": {},
   "outputs": [],
   "source": [
    "model.compile(optimizer='adam', loss='mean_squared_error')"
   ]
  },
  {
   "cell_type": "code",
   "execution_count": 15,
   "id": "09d21824",
   "metadata": {},
   "outputs": [
    {
     "name": "stdout",
     "output_type": "stream",
     "text": [
      "Epoch 1/30\n",
      "33/33 [==============================] - 6s 34ms/step - loss: 0.0019 - val_loss: 0.1474\n",
      "Epoch 2/30\n",
      "33/33 [==============================] - 0s 13ms/step - loss: 0.0075 - val_loss: 0.2041\n",
      "Epoch 3/30\n",
      "33/33 [==============================] - 0s 11ms/step - loss: 0.0040 - val_loss: 0.1938\n",
      "Epoch 4/30\n",
      "33/33 [==============================] - 0s 10ms/step - loss: 0.0042 - val_loss: 0.1913\n",
      "Epoch 5/30\n",
      "33/33 [==============================] - 0s 9ms/step - loss: 0.0040 - val_loss: 0.1887\n",
      "Epoch 6/30\n",
      "33/33 [==============================] - 0s 10ms/step - loss: 0.0040 - val_loss: 0.1838\n",
      "Epoch 7/30\n",
      "33/33 [==============================] - 0s 10ms/step - loss: 0.0039 - val_loss: 0.1778\n",
      "Epoch 8/30\n",
      "33/33 [==============================] - 0s 9ms/step - loss: 0.0039 - val_loss: 0.1676\n",
      "Epoch 9/30\n",
      "33/33 [==============================] - 0s 10ms/step - loss: 0.0038 - val_loss: 0.1526\n",
      "Epoch 10/30\n",
      "33/33 [==============================] - 0s 10ms/step - loss: 0.0036 - val_loss: 0.1266\n",
      "Epoch 11/30\n",
      "33/33 [==============================] - 0s 10ms/step - loss: 0.0033 - val_loss: 0.0812\n",
      "Epoch 12/30\n",
      "33/33 [==============================] - 0s 10ms/step - loss: 0.0029 - val_loss: 0.0173\n",
      "Epoch 13/30\n",
      "33/33 [==============================] - 0s 9ms/step - loss: 0.0021 - val_loss: 0.0609\n",
      "Epoch 14/30\n",
      "33/33 [==============================] - 0s 10ms/step - loss: 0.0012 - val_loss: 0.0146\n",
      "Epoch 15/30\n",
      "33/33 [==============================] - 0s 10ms/step - loss: 0.0011 - val_loss: 0.0095\n",
      "Epoch 16/30\n",
      "33/33 [==============================] - 0s 9ms/step - loss: 0.0024 - val_loss: 0.0246\n",
      "Epoch 17/30\n",
      "33/33 [==============================] - 0s 10ms/step - loss: 0.0025 - val_loss: 0.0206\n",
      "Epoch 18/30\n",
      "33/33 [==============================] - 0s 11ms/step - loss: 0.0032 - val_loss: 0.1189\n",
      "Epoch 19/30\n",
      "33/33 [==============================] - 0s 10ms/step - loss: 0.0030 - val_loss: 0.0822\n",
      "Epoch 20/30\n",
      "33/33 [==============================] - 0s 9ms/step - loss: 0.0020 - val_loss: 0.0351\n",
      "Epoch 21/30\n",
      "33/33 [==============================] - 0s 11ms/step - loss: 0.0012 - val_loss: 0.0077\n",
      "Epoch 22/30\n",
      "33/33 [==============================] - 0s 11ms/step - loss: 8.6231e-04 - val_loss: 0.0054\n",
      "Epoch 23/30\n",
      "33/33 [==============================] - 0s 10ms/step - loss: 6.5071e-04 - val_loss: 0.0126\n",
      "Epoch 24/30\n",
      "33/33 [==============================] - 0s 11ms/step - loss: 4.7676e-04 - val_loss: 0.0144\n",
      "Epoch 25/30\n",
      "33/33 [==============================] - 0s 9ms/step - loss: 5.4399e-04 - val_loss: 0.0114\n",
      "Epoch 26/30\n",
      "33/33 [==============================] - 0s 9ms/step - loss: 5.2428e-04 - val_loss: 0.0186\n",
      "Epoch 27/30\n",
      "33/33 [==============================] - 0s 10ms/step - loss: 5.3958e-04 - val_loss: 0.0128\n",
      "Epoch 28/30\n",
      "33/33 [==============================] - 0s 9ms/step - loss: 5.3371e-04 - val_loss: 0.0280\n",
      "Epoch 29/30\n",
      "33/33 [==============================] - 0s 11ms/step - loss: 4.4997e-04 - val_loss: 0.0240\n",
      "Epoch 30/30\n",
      "33/33 [==============================] - 0s 10ms/step - loss: 4.6793e-04 - val_loss: 0.0256\n"
     ]
    }
   ],
   "source": [
    "history = model.fit(X_train, y_train, epochs=30, batch_size=32, shuffle = False, validation_split=0.2)"
   ]
  },
  {
   "cell_type": "code",
   "execution_count": 16,
   "id": "1bcc185d",
   "metadata": {},
   "outputs": [
    {
     "data": {
      "image/png": "[encoded data removed]",
      "text/plain": [
       "<Figure size 864x576 with 1 Axes>"
      ]
     },
     "metadata": {
      "needs_background": "light"
     },
     "output_type": "display_data"
    }
   ],
   "source": [
    "loss = history.history['loss']\n",
    "val_loss = history.history['val_loss']\n",
    "epoch_count = range(len(loss))\n",
    "plt.figure(figsize=(12,8))\n",
    "plt.plot(epoch_count, loss, 'r', label='Training loss')\n",
    "plt.plot(epoch_count, val_loss, 'b', label='Validation loss')\n",
    "plt.legend(['Training Loss','Validation Loss'])\n",
    "plt.xlabel('Epoch')\n",
    "plt.ylabel('Loss')\n",
    "plt.show();"
   ]
  },
  {
   "cell_type": "code",
   "execution_count": 17,
   "id": "36cb8b49",
   "metadata": {},
   "outputs": [],
   "source": [
    "pred_test = model.predict(X_test)\n",
    "pred_train = model.predict (X_train)"
   ]
  },
  {
   "cell_type": "code",
   "execution_count": 18,
   "id": "ffd38b0f",
   "metadata": {},
   "outputs": [
    {
     "data": {
      "text/html": [
       "<div>\n",
       "<style scoped>\n",
       "    .dataframe tbody tr th:only-of-type {\n",
       "        vertical-align: middle;\n",
       "    }\n",
       "\n",
       "    .dataframe tbody tr th {\n",
       "        vertical-align: top;\n",
       "    }\n",
       "\n",
       "    .dataframe thead th {\n",
       "        text-align: right;\n",
       "    }\n",
       "</style>\n",
       "<table border=\"1\" class=\"dataframe\">\n",
       "  <thead>\n",
       "    <tr style=\"text-align: right;\">\n",
       "      <th></th>\n",
       "      <th>y_test</th>\n",
       "      <th>Predictions</th>\n",
       "      <th>Date</th>\n",
       "    </tr>\n",
       "  </thead>\n",
       "  <tbody>\n",
       "    <tr>\n",
       "      <th>311</th>\n",
       "      <td>0.258263</td>\n",
       "      <td>0.220348</td>\n",
       "      <td>2022-04-21</td>\n",
       "    </tr>\n",
       "    <tr>\n",
       "      <th>312</th>\n",
       "      <td>0.258659</td>\n",
       "      <td>0.221253</td>\n",
       "      <td>2022-04-22</td>\n",
       "    </tr>\n",
       "    <tr>\n",
       "      <th>313</th>\n",
       "      <td>0.253556</td>\n",
       "      <td>0.220498</td>\n",
       "      <td>2022-04-23</td>\n",
       "    </tr>\n",
       "    <tr>\n",
       "      <th>314</th>\n",
       "      <td>0.252475</td>\n",
       "      <td>0.218889</td>\n",
       "      <td>2022-04-24</td>\n",
       "    </tr>\n",
       "    <tr>\n",
       "      <th>315</th>\n",
       "      <td>0.255765</td>\n",
       "      <td>0.218834</td>\n",
       "      <td>2022-04-25</td>\n",
       "    </tr>\n",
       "  </tbody>\n",
       "</table>\n",
       "</div>"
      ],
      "text/plain": [
       "       y_test  Predictions       Date\n",
       "311  0.258263     0.220348 2022-04-21\n",
       "312  0.258659     0.221253 2022-04-22\n",
       "313  0.253556     0.220498 2022-04-23\n",
       "314  0.252475     0.218889 2022-04-24\n",
       "315  0.255765     0.218834 2022-04-25"
      ]
     },
     "execution_count": 18,
     "metadata": {},
     "output_type": "execute_result"
    }
   ],
   "source": [
    "results = np.concatenate((y_test, pred_test), axis=1)\n",
    "results = pd.DataFrame(results, columns = ['y_test', 'Predictions'])\n",
    "a = data['close'].tail(len(pred_test))\n",
    "a = list(a.index)\n",
    "results['Date'] = a\n",
    "results['Date'] = pd.to_datetime(results['Date'])\n",
    "results.tail()"
   ]
  },
  {
   "cell_type": "code",
   "execution_count": 19,
   "id": "4f8a42ee",
   "metadata": {},
   "outputs": [
    {
     "data": {
      "image/png": "[encoded data removed]",
      "text/plain": [
       "<Figure size 864x576 with 1 Axes>"
      ]
     },
     "metadata": {
      "needs_background": "light"
     },
     "output_type": "display_data"
    }
   ],
   "source": [
    "plt.figure(figsize=(12,8))\n",
    "plt.plot(y_test, color='blue', label='Real')\n",
    "plt.plot(pred_test, color='red', label='Prediction')\n",
    "plt.title('LINK Price Prediction')\n",
    "plt.legend()\n",
    "plt.show()"
   ]
  },
  {
   "cell_type": "code",
   "execution_count": 20,
   "id": "fa35cd86",
   "metadata": {
    "scrolled": true
   },
   "outputs": [
    {
     "name": "stdout",
     "output_type": "stream",
     "text": [
      "Train data RMSE:  0.07257969699014608\n",
      "Train data MSE:  0.005267812415181419\n",
      "Train data MAE:  0.028258692633334807\n",
      "-------------------------------------------------------------------------------------\n",
      "Test data RMSE:  0.1142660499802671\n",
      "Test data MSE:  0.013056730178092899\n",
      "Test data MAE:  0.09680292593137192\n"
     ]
    }
   ],
   "source": [
    "# Evaluation metrices RMSE and MAE\n",
    "print(\"Train data RMSE: \", math.sqrt(mean_squared_error(y_train,pred_train)))\n",
    "print(\"Train data MSE: \", mean_squared_error(y_train,pred_train))\n",
    "print(\"Train data MAE: \", mean_absolute_error(y_train,pred_train))\n",
    "print(\"-------------------------------------------------------------------------------------\")\n",
    "print(\"Test data RMSE: \", math.sqrt(mean_squared_error(y_test,pred_test)))\n",
    "print(\"Test data MSE: \", mean_squared_error(y_test,pred_test))\n",
    "print(\"Test data MAE: \", mean_absolute_error(y_test,pred_test))"
   ]
  },
  {
   "cell_type": "code",
   "execution_count": 21,
   "id": "62416aab",
   "metadata": {
    "scrolled": true
   },
   "outputs": [
    {
     "name": "stdout",
     "output_type": "stream",
     "text": [
      "Train data R2 score: 0.856829208207366\n",
      "Test data R2 score: -0.036010469992410865\n"
     ]
    }
   ],
   "source": [
    "print(\"Train data R2 score:\", r2_score(y_train, pred_train))\n",
    "print(\"Test data R2 score:\", r2_score(y_test, pred_test))"
   ]
  },
  {
   "cell_type": "markdown",
   "id": "a5589e1c",
   "metadata": {},
   "source": [
    "# Model 2: XGBoost Regressor  <a name=\"xgboost\"></a>"
   ]
  },
  {
   "cell_type": "code",
   "execution_count": 22,
   "id": "68d92d22",
   "metadata": {},
   "outputs": [
    {
     "data": {
      "text/plain": [
       "(1614, 8)"
      ]
     },
     "execution_count": 22,
     "metadata": {},
     "output_type": "execute_result"
    }
   ],
   "source": [
    "data1 = link.copy()\n",
    "data1.reset_index(inplace = True)\n",
    "data1.shape"
   ]
  },
  {
   "cell_type": "code",
   "execution_count": 23,
   "id": "e26b2f9c",
   "metadata": {},
   "outputs": [
    {
     "name": "stdout",
     "output_type": "stream",
     "text": [
      "Total data for prediction:  1614\n"
     ]
    }
   ],
   "source": [
    "close_stock = data1.copy()\n",
    "print(\"Total data for prediction: \",data1.shape[0])"
   ]
  },
  {
   "cell_type": "code",
   "execution_count": 24,
   "id": "23311a08",
   "metadata": {},
   "outputs": [
    {
     "data": {
      "text/plain": [
       "(1614, 7)"
      ]
     },
     "execution_count": 24,
     "metadata": {},
     "output_type": "execute_result"
    }
   ],
   "source": [
    "data1.set_index('Date', inplace = True)\n",
    "data1.shape"
   ]
  },
  {
   "cell_type": "code",
   "execution_count": 25,
   "id": "2a7d472b",
   "metadata": {},
   "outputs": [
    {
     "name": "stdout",
     "output_type": "stream",
     "text": [
      "train_data:  (1291, 7)\n",
      "test_data:  (323, 7)\n"
     ]
    }
   ],
   "source": [
    "#Train and test split using 80% for train and 20% for test\n",
    "training_size=int(len(data1)*0.80)\n",
    "test_size=len(data1)-training_size\n",
    "train_data,test_data=data1.iloc[:training_size,:],data1.iloc[training_size:,:]\n",
    "print(\"train_data: \", train_data.shape)\n",
    "print(\"test_data: \", test_data.shape)"
   ]
  },
  {
   "cell_type": "code",
   "execution_count": 26,
   "id": "68f0a09f",
   "metadata": {},
   "outputs": [
    {
     "data": {
      "image/png": "[encoded data removed]",
      "text/plain": [
       "<Figure size 2160x1080 with 1 Axes>"
      ]
     },
     "metadata": {
      "needs_background": "light"
     },
     "output_type": "display_data"
    }
   ],
   "source": [
    "data1.reset_index(inplace = True)\n",
    "fig, ax = plt.subplots(figsize=(30, 15))\n",
    "sns.lineplot(x = close_stock['Date'][:training_size], y = close_stock['close'][:training_size], color = 'blue')\n",
    "sns.lineplot(x = close_stock['Date'][training_size:], y = close_stock['close'][training_size:], color = 'orange')\n",
    "\n",
    "# Formatting\n",
    "ax.set_title('Train & Test data', fontsize = 20, loc='center', fontdict=dict(weight='bold'))\n",
    "ax.set_xlabel('Date', fontsize = 16, fontdict=dict(weight='bold'))\n",
    "ax.set_ylabel('Weekly Sales', fontsize = 16, fontdict=dict(weight='bold'))\n",
    "plt.tick_params(axis='y', which='major', labelsize=16)\n",
    "plt.tick_params(axis='x', labelsize=5)\n",
    "plt.xticks(rotation='vertical')\n",
    "plt.legend(loc='upper right' ,labels = ('train', 'test'))\n",
    "plt.show()"
   ]
  },
  {
   "cell_type": "code",
   "execution_count": 27,
   "id": "bbfbcf05",
   "metadata": {},
   "outputs": [],
   "source": [
    "data1.set_index('Date', inplace = True)"
   ]
  },
  {
   "cell_type": "code",
   "execution_count": 28,
   "id": "55424599",
   "metadata": {},
   "outputs": [],
   "source": [
    "# convert an array of values into a dataset matrix\n",
    "def create_dataset(dataset, time_step):\n",
    "    dataX, dataY = [], []\n",
    "    for i in range(len(dataset)-time_step-1):\n",
    "        a = dataset.iloc[i:(i+time_step), 1:]   \n",
    "        dataX.append(a)\n",
    "        dataY.append(dataset.iloc[i + time_step, 0])\n",
    "    return np.array(dataX), np.array(dataY)"
   ]
  },
  {
   "cell_type": "code",
   "execution_count": 29,
   "id": "58549aeb",
   "metadata": {},
   "outputs": [
    {
     "name": "stdout",
     "output_type": "stream",
     "text": [
      "X_train:  (1283, 7, 6)\n",
      "y_train:  (1283,)\n",
      "X_test:  (315, 7, 6)\n",
      "y_test (315,)\n"
     ]
    }
   ],
   "source": [
    "#Sliding window = 7 or 20\n",
    "time_step = 7\n",
    "X_train, y_train = create_dataset(train_data, time_step)\n",
    "X_test, y_test = create_dataset(test_data, time_step)\n",
    "\n",
    "print(\"X_train: \", X_train.shape)\n",
    "print(\"y_train: \", y_train.shape)\n",
    "print(\"X_test: \", X_test.shape)\n",
    "print(\"y_test\", y_test.shape)"
   ]
  },
  {
   "cell_type": "code",
   "execution_count": 30,
   "id": "3d684fc3",
   "metadata": {},
   "outputs": [],
   "source": [
    "#Reshaping the arrays because XGBRegressor only accepts 1-Dimensional arrays\n",
    "nsamples, nx, ny = X_train.shape\n",
    "X_train = X_train.reshape((nsamples,nx*ny))\n",
    "\n",
    "nsamples, nx, ny = X_test.shape\n",
    "X_test = X_test.reshape((nsamples,nx*ny))"
   ]
  },
  {
   "cell_type": "code",
   "execution_count": 31,
   "id": "017f9d78",
   "metadata": {},
   "outputs": [
    {
     "data": {
      "text/plain": [
       "XGBRegressor(base_score=0.5, booster='gbtree', callbacks=None,\n",
       "             colsample_bylevel=1, colsample_bynode=1, colsample_bytree=1,\n",
       "             early_stopping_rounds=None, enable_categorical=False, eta=0.2,\n",
       "             eval_metric=None, gamma=0, gpu_id=-1, grow_policy='depthwise',\n",
       "             importance_type=None, interaction_constraints='',\n",
       "             learning_rate=0.200000003, max_bin=256, max_cat_to_onehot=4,\n",
       "             max_delta_step=0, max_depth=6, max_leaves=0, min_child_weight=1,\n",
       "             missing=nan, monotone_constraints='()', n_estimators=100, n_jobs=0,\n",
       "             num_parallel_tree=1, predictor='auto', random_state=1, reg_alpha=0, ...)"
      ]
     },
     "execution_count": 31,
     "metadata": {},
     "output_type": "execute_result"
    }
   ],
   "source": [
    "model1 = XGBRegressor(n_estimators=100, random_state = 1, eta = 0.2)\n",
    "model1.fit(X_train, y_train)"
   ]
  },
  {
   "cell_type": "code",
   "execution_count": 32,
   "id": "80a331ec",
   "metadata": {},
   "outputs": [],
   "source": [
    "predictions = model1.predict(X_test).reshape(-1,1)\n",
    "y_test = y_test.reshape(-1,1)\n",
    "\n",
    "predictions_train = model1.predict(X_train)"
   ]
  },
  {
   "cell_type": "code",
   "execution_count": 33,
   "id": "dd572230",
   "metadata": {},
   "outputs": [
    {
     "data": {
      "text/html": [
       "<div>\n",
       "<style scoped>\n",
       "    .dataframe tbody tr th:only-of-type {\n",
       "        vertical-align: middle;\n",
       "    }\n",
       "\n",
       "    .dataframe tbody tr th {\n",
       "        vertical-align: top;\n",
       "    }\n",
       "\n",
       "    .dataframe thead th {\n",
       "        text-align: right;\n",
       "    }\n",
       "</style>\n",
       "<table border=\"1\" class=\"dataframe\">\n",
       "  <thead>\n",
       "    <tr style=\"text-align: right;\">\n",
       "      <th></th>\n",
       "      <th>y_test</th>\n",
       "      <th>Predictions</th>\n",
       "      <th>Date</th>\n",
       "    </tr>\n",
       "  </thead>\n",
       "  <tbody>\n",
       "    <tr>\n",
       "      <th>310</th>\n",
       "      <td>0.266626</td>\n",
       "      <td>0.065382</td>\n",
       "      <td>2022-04-21</td>\n",
       "    </tr>\n",
       "    <tr>\n",
       "      <th>311</th>\n",
       "      <td>0.258263</td>\n",
       "      <td>0.070216</td>\n",
       "      <td>2022-04-22</td>\n",
       "    </tr>\n",
       "    <tr>\n",
       "      <th>312</th>\n",
       "      <td>0.258659</td>\n",
       "      <td>0.066150</td>\n",
       "      <td>2022-04-23</td>\n",
       "    </tr>\n",
       "    <tr>\n",
       "      <th>313</th>\n",
       "      <td>0.253556</td>\n",
       "      <td>0.066771</td>\n",
       "      <td>2022-04-24</td>\n",
       "    </tr>\n",
       "    <tr>\n",
       "      <th>314</th>\n",
       "      <td>0.252475</td>\n",
       "      <td>0.051914</td>\n",
       "      <td>2022-04-25</td>\n",
       "    </tr>\n",
       "  </tbody>\n",
       "</table>\n",
       "</div>"
      ],
      "text/plain": [
       "       y_test  Predictions       Date\n",
       "310  0.266626     0.065382 2022-04-21\n",
       "311  0.258263     0.070216 2022-04-22\n",
       "312  0.258659     0.066150 2022-04-23\n",
       "313  0.253556     0.066771 2022-04-24\n",
       "314  0.252475     0.051914 2022-04-25"
      ]
     },
     "execution_count": 33,
     "metadata": {},
     "output_type": "execute_result"
    }
   ],
   "source": [
    "results2 = np.concatenate((y_test, predictions),axis = 1)\n",
    "results2 = pd.DataFrame(results2, columns = ['y_test', 'Predictions'])\n",
    "a = data1['close'].tail(len(predictions))\n",
    "a = list(a.index)\n",
    "results2['Date'] = a\n",
    "results2['Date'] = pd.to_datetime(results2['Date'])\n",
    "results2.tail()"
   ]
  },
  {
   "cell_type": "code",
   "execution_count": 34,
   "id": "f4bb627c",
   "metadata": {},
   "outputs": [
    {
     "data": {
      "image/png": "[encoded data removed]",
      "text/plain": [
       "<Figure size 864x576 with 1 Axes>"
      ]
     },
     "metadata": {
      "needs_background": "light"
     },
     "output_type": "display_data"
    }
   ],
   "source": [
    "plt.figure(figsize=(12,8))\n",
    "plt.plot(y_test, color='blue', label='Real')\n",
    "plt.plot(predictions, color='red', label='Prediction')\n",
    "plt.title('BTC Price Prediction')\n",
    "plt.legend()\n",
    "plt.show()"
   ]
  },
  {
   "cell_type": "code",
   "execution_count": 35,
   "id": "c0c0be71",
   "metadata": {},
   "outputs": [
    {
     "name": "stdout",
     "output_type": "stream",
     "text": [
      "Train data MSE:  4.448766806764896e-07\n",
      "Mean Absolute Error - MAE : 0.0004748834777665648\n",
      "Root Mean squared Error - RMSE : 0.0006669907650608737\n",
      "R^2 Score 0.9999877457675953\n",
      "--------------------------------------------------------------\n",
      "Test data MSE:  0.01310217154575144\n",
      "Mean Absolute Error - MAE : 0.09458644465506855\n",
      "Root Mean squared Error - RMSE : 0.11446471747115546\n",
      "R^2 Score -0.042851586535093134\n"
     ]
    }
   ],
   "source": [
    "print(\"Train data MSE: \", mean_squared_error(y_train,predictions_train))\n",
    "print(\"Mean Absolute Error - MAE : \" + str(mean_absolute_error(y_train, predictions_train)))\n",
    "print(\"Root Mean squared Error - RMSE : \" + str(math.sqrt(mean_squared_error(y_train, predictions_train))))\n",
    "print('R^2 Score', r2_score(y_train, predictions_train))\n",
    "\n",
    "print (\"--------------------------------------------------------------\")\n",
    "print(\"Test data MSE: \", mean_squared_error(y_test,predictions))\n",
    "print(\"Mean Absolute Error - MAE : \" + str(mean_absolute_error(y_test, predictions)))\n",
    "print(\"Root Mean squared Error - RMSE : \" + str(math.sqrt(mean_squared_error(y_test, predictions))))\n",
    "print('R^2 Score', r2_score(y_test, predictions))"
   ]
  },
  {
   "cell_type": "markdown",
   "id": "b2f33333",
   "metadata": {},
   "source": [
    "# LINK- since January 2021  <a name=\"jan2021\"></a>"
   ]
  },
  {
   "cell_type": "markdown",
   "id": "7d5faeee",
   "metadata": {},
   "source": [
    "# Model 1: LSTM <a name=\"lstm2\"></a>"
   ]
  },
  {
   "cell_type": "code",
   "execution_count": 36,
   "id": "2c26673f",
   "metadata": {},
   "outputs": [
    {
     "name": "stdout",
     "output_type": "stream",
     "text": [
      "Total data for prediction:  480\n"
     ]
    }
   ],
   "source": [
    "data2 = link.copy()\n",
    "data2.reset_index(inplace = True)\n",
    "data2 = data2[data2['Date'] >= '2021-01-01']\n",
    "data2.set_index('Date', inplace = True)\n",
    "print(\"Total data for prediction: \",data2.shape[0])"
   ]
  },
  {
   "cell_type": "code",
   "execution_count": 37,
   "id": "5b3c778c",
   "metadata": {},
   "outputs": [],
   "source": [
    "hist = []\n",
    "target = []\n",
    "length = 7\n",
    "\n",
    "for i in range(len(data2)-length):\n",
    "    t = data2['close']\n",
    "    v = data2[['close','volume','volatility', 'close_off_high', 'EUR/USD_close']]\n",
    "    x = v[i:i+length]\n",
    "    y = t[i+length]\n",
    "    hist.append(x)\n",
    "    target.append(y)"
   ]
  },
  {
   "cell_type": "code",
   "execution_count": 38,
   "id": "f254c217",
   "metadata": {
    "scrolled": true
   },
   "outputs": [
    {
     "name": "stdout",
     "output_type": "stream",
     "text": [
      "7\n",
      "473\n",
      "473\n"
     ]
    }
   ],
   "source": [
    "print(len(hist[0]))\n",
    "print(len(hist))\n",
    "print(len(target))"
   ]
  },
  {
   "cell_type": "code",
   "execution_count": 39,
   "id": "3671c796",
   "metadata": {},
   "outputs": [],
   "source": [
    "#convert list to array\n",
    "hist = np.array(hist)\n",
    "target = np.array(target)"
   ]
  },
  {
   "cell_type": "code",
   "execution_count": 40,
   "id": "56c934f1",
   "metadata": {},
   "outputs": [
    {
     "data": {
      "text/plain": [
       "(473, 1)"
      ]
     },
     "execution_count": 40,
     "metadata": {},
     "output_type": "execute_result"
    }
   ],
   "source": [
    "target = target.reshape(-1,1)\n",
    "target.shape"
   ]
  },
  {
   "cell_type": "code",
   "execution_count": 41,
   "id": "f85c3825",
   "metadata": {},
   "outputs": [],
   "source": [
    "training_size = int(len(data2)*0.8)\n",
    "\n",
    "X_train = hist[:training_size,:]\n",
    "X_test = hist[training_size:,:]\n",
    "\n",
    "y_train = target[:training_size]\n",
    "y_test = target[training_size:]"
   ]
  },
  {
   "cell_type": "code",
   "execution_count": 42,
   "id": "efc29939",
   "metadata": {},
   "outputs": [
    {
     "data": {
      "text/plain": [
       "(384, 7, 5)"
      ]
     },
     "execution_count": 42,
     "metadata": {},
     "output_type": "execute_result"
    }
   ],
   "source": [
    "X_train.shape"
   ]
  },
  {
   "cell_type": "code",
   "execution_count": 43,
   "id": "37202683",
   "metadata": {},
   "outputs": [
    {
     "name": "stdout",
     "output_type": "stream",
     "text": [
      "Model: \"sequential_1\"\n",
      "_________________________________________________________________\n",
      " Layer (type)                Output Shape              Param #   \n",
      "=================================================================\n",
      " lstm_3 (LSTM)               (None, 7, 20)             2080      \n",
      "                                                                 \n",
      " lstm_4 (LSTM)               (None, 7, 32)             6784      \n",
      "                                                                 \n",
      " lstm_5 (LSTM)               (None, 32)                8320      \n",
      "                                                                 \n",
      " dense_1 (Dense)             (None, 1)                 33        \n",
      "                                                                 \n",
      "=================================================================\n",
      "Total params: 17,217\n",
      "Trainable params: 17,217\n",
      "Non-trainable params: 0\n",
      "_________________________________________________________________\n"
     ]
    }
   ],
   "source": [
    "model2 = tf.keras.Sequential()\n",
    "\n",
    "model2.add(layers.LSTM(units=20, activation = 'relu', return_sequences=True,\n",
    "                  input_shape=(7,5), dropout = 0.2))\n",
    "\n",
    "model2.add(layers.LSTM(units=32, return_sequences=True,\n",
    "                  dropout=0.2))\n",
    "\n",
    "model2.add(layers.LSTM(units=32, activation = 'relu', dropout=0.2))\n",
    "\n",
    "#model.add(layers.LSTM(units=55, return_sequences = True, dropout = 0.2))\n",
    "\n",
    "#model.add(layers.LSTM(units = 80, activation = 'relu', dropout = 0.2))\n",
    "\n",
    "model2.add(layers.Dense(units=1))\n",
    "\n",
    "model2.summary()"
   ]
  },
  {
   "cell_type": "code",
   "execution_count": 44,
   "id": "9886005f",
   "metadata": {},
   "outputs": [],
   "source": [
    "model2.compile(optimizer='adam', loss='mean_squared_error')"
   ]
  },
  {
   "cell_type": "code",
   "execution_count": 45,
   "id": "773781e5",
   "metadata": {},
   "outputs": [
    {
     "name": "stdout",
     "output_type": "stream",
     "text": [
      "Epoch 1/30\n",
      "10/10 [==============================] - 4s 68ms/step - loss: 0.2756 - val_loss: 0.1591\n",
      "Epoch 2/30\n",
      "10/10 [==============================] - 0s 13ms/step - loss: 0.1961 - val_loss: 0.0853\n",
      "Epoch 3/30\n",
      "10/10 [==============================] - 0s 11ms/step - loss: 0.0774 - val_loss: 0.0056\n",
      "Epoch 4/30\n",
      "10/10 [==============================] - 0s 11ms/step - loss: 0.0304 - val_loss: 0.0092\n",
      "Epoch 5/30\n",
      "10/10 [==============================] - 0s 10ms/step - loss: 0.0204 - val_loss: 0.0071\n",
      "Epoch 6/30\n",
      "10/10 [==============================] - 0s 11ms/step - loss: 0.0207 - val_loss: 0.0060\n",
      "Epoch 7/30\n",
      "10/10 [==============================] - 0s 11ms/step - loss: 0.0172 - val_loss: 0.0078\n",
      "Epoch 8/30\n",
      "10/10 [==============================] - 0s 11ms/step - loss: 0.0162 - val_loss: 0.0063\n",
      "Epoch 9/30\n",
      "10/10 [==============================] - 0s 11ms/step - loss: 0.0171 - val_loss: 0.0061\n",
      "Epoch 10/30\n",
      "10/10 [==============================] - 0s 10ms/step - loss: 0.0168 - val_loss: 0.0067\n",
      "Epoch 11/30\n",
      "10/10 [==============================] - 0s 11ms/step - loss: 0.0151 - val_loss: 0.0063\n",
      "Epoch 12/30\n",
      "10/10 [==============================] - 0s 11ms/step - loss: 0.0152 - val_loss: 0.0061\n",
      "Epoch 13/30\n",
      "10/10 [==============================] - 0s 11ms/step - loss: 0.0154 - val_loss: 0.0063\n",
      "Epoch 14/30\n",
      "10/10 [==============================] - 0s 11ms/step - loss: 0.0156 - val_loss: 0.0060\n",
      "Epoch 15/30\n",
      "10/10 [==============================] - 0s 10ms/step - loss: 0.0138 - val_loss: 0.0061\n",
      "Epoch 16/30\n",
      "10/10 [==============================] - 0s 10ms/step - loss: 0.0141 - val_loss: 0.0058\n",
      "Epoch 17/30\n",
      "10/10 [==============================] - 0s 11ms/step - loss: 0.0142 - val_loss: 0.0057\n",
      "Epoch 18/30\n",
      "10/10 [==============================] - 0s 11ms/step - loss: 0.0148 - val_loss: 0.0058\n",
      "Epoch 19/30\n",
      "10/10 [==============================] - 0s 12ms/step - loss: 0.0138 - val_loss: 0.0059\n",
      "Epoch 20/30\n",
      "10/10 [==============================] - 0s 11ms/step - loss: 0.0153 - val_loss: 0.0058\n",
      "Epoch 21/30\n",
      "10/10 [==============================] - 0s 11ms/step - loss: 0.0141 - val_loss: 0.0054\n",
      "Epoch 22/30\n",
      "10/10 [==============================] - 0s 11ms/step - loss: 0.0139 - val_loss: 0.0059\n",
      "Epoch 23/30\n",
      "10/10 [==============================] - 0s 10ms/step - loss: 0.0134 - val_loss: 0.0051\n",
      "Epoch 24/30\n",
      "10/10 [==============================] - 0s 11ms/step - loss: 0.0130 - val_loss: 0.0058\n",
      "Epoch 25/30\n",
      "10/10 [==============================] - 0s 11ms/step - loss: 0.0137 - val_loss: 0.0049\n",
      "Epoch 26/30\n",
      "10/10 [==============================] - 0s 11ms/step - loss: 0.0127 - val_loss: 0.0049\n",
      "Epoch 27/30\n",
      "10/10 [==============================] - 0s 11ms/step - loss: 0.0116 - val_loss: 0.0047\n",
      "Epoch 28/30\n",
      "10/10 [==============================] - 0s 10ms/step - loss: 0.0122 - val_loss: 0.0044\n",
      "Epoch 29/30\n",
      "10/10 [==============================] - 0s 10ms/step - loss: 0.0124 - val_loss: 0.0049\n",
      "Epoch 30/30\n",
      "10/10 [==============================] - 0s 11ms/step - loss: 0.0132 - val_loss: 0.0050\n"
     ]
    }
   ],
   "source": [
    "history = model2.fit(X_train, y_train, epochs=30, batch_size=32, validation_split=0.2, shuffle = False)"
   ]
  },
  {
   "cell_type": "code",
   "execution_count": 46,
   "id": "ad9615ac",
   "metadata": {},
   "outputs": [
    {
     "data": {
      "image/png": "[encoded data removed]",
      "text/plain": [
       "<Figure size 864x576 with 1 Axes>"
      ]
     },
     "metadata": {
      "needs_background": "light"
     },
     "output_type": "display_data"
    }
   ],
   "source": [
    "loss = history.history['loss']\n",
    "val_loss = history.history['val_loss']\n",
    "epoch_count = range(len(loss))\n",
    "plt.figure(figsize=(12,8))\n",
    "plt.plot(epoch_count, loss, 'r', label='Training loss')\n",
    "plt.plot(epoch_count, val_loss, 'b', label='Validation loss')\n",
    "plt.legend(['Training Loss','Validation Loss'])\n",
    "plt.xlabel('Epoch')\n",
    "plt.ylabel('Loss')\n",
    "plt.show();"
   ]
  },
  {
   "cell_type": "code",
   "execution_count": 47,
   "id": "40cc3154",
   "metadata": {},
   "outputs": [],
   "source": [
    "pred_test = model2.predict(X_test)\n",
    "pred_train = model2.predict (X_train)"
   ]
  },
  {
   "cell_type": "code",
   "execution_count": 48,
   "id": "1c911f81",
   "metadata": {},
   "outputs": [
    {
     "data": {
      "text/html": [
       "<div>\n",
       "<style scoped>\n",
       "    .dataframe tbody tr th:only-of-type {\n",
       "        vertical-align: middle;\n",
       "    }\n",
       "\n",
       "    .dataframe tbody tr th {\n",
       "        vertical-align: top;\n",
       "    }\n",
       "\n",
       "    .dataframe thead th {\n",
       "        text-align: right;\n",
       "    }\n",
       "</style>\n",
       "<table border=\"1\" class=\"dataframe\">\n",
       "  <thead>\n",
       "    <tr style=\"text-align: right;\">\n",
       "      <th></th>\n",
       "      <th>y_test</th>\n",
       "      <th>Predictions</th>\n",
       "      <th>Date</th>\n",
       "    </tr>\n",
       "  </thead>\n",
       "  <tbody>\n",
       "    <tr>\n",
       "      <th>0</th>\n",
       "      <td>0.288843</td>\n",
       "      <td>0.423048</td>\n",
       "      <td>2022-01-27</td>\n",
       "    </tr>\n",
       "    <tr>\n",
       "      <th>1</th>\n",
       "      <td>0.306954</td>\n",
       "      <td>0.419624</td>\n",
       "      <td>2022-01-28</td>\n",
       "    </tr>\n",
       "    <tr>\n",
       "      <th>2</th>\n",
       "      <td>0.308542</td>\n",
       "      <td>0.420233</td>\n",
       "      <td>2022-01-29</td>\n",
       "    </tr>\n",
       "    <tr>\n",
       "      <th>3</th>\n",
       "      <td>0.338561</td>\n",
       "      <td>0.421330</td>\n",
       "      <td>2022-01-30</td>\n",
       "    </tr>\n",
       "    <tr>\n",
       "      <th>4</th>\n",
       "      <td>0.328416</td>\n",
       "      <td>0.420109</td>\n",
       "      <td>2022-01-31</td>\n",
       "    </tr>\n",
       "  </tbody>\n",
       "</table>\n",
       "</div>"
      ],
      "text/plain": [
       "     y_test  Predictions       Date\n",
       "0  0.288843     0.423048 2022-01-27\n",
       "1  0.306954     0.419624 2022-01-28\n",
       "2  0.308542     0.420233 2022-01-29\n",
       "3  0.338561     0.421330 2022-01-30\n",
       "4  0.328416     0.420109 2022-01-31"
      ]
     },
     "execution_count": 48,
     "metadata": {},
     "output_type": "execute_result"
    }
   ],
   "source": [
    "results = np.concatenate((y_test, pred_test), axis=1)\n",
    "results = pd.DataFrame(results, columns = ['y_test', 'Predictions'])\n",
    "a = data2['close'].tail(len(pred_test))\n",
    "a = list(a.index)\n",
    "results['Date'] = a\n",
    "results['Date'] = pd.to_datetime(results['Date'])\n",
    "results.tail()\n",
    "results.head()"
   ]
  },
  {
   "cell_type": "code",
   "execution_count": 49,
   "id": "a172ed59",
   "metadata": {},
   "outputs": [
    {
     "data": {
      "image/png": "[encoded data removed]",
      "text/plain": [
       "<Figure size 864x576 with 1 Axes>"
      ]
     },
     "metadata": {
      "needs_background": "light"
     },
     "output_type": "display_data"
    }
   ],
   "source": [
    "plt.figure(figsize=(12,8))\n",
    "plt.plot(y_test, color='blue', label='Real')\n",
    "plt.plot(pred_test, color='red', label='Prediction')\n",
    "plt.title('LINK Price Prediction')\n",
    "plt.legend()\n",
    "plt.show()"
   ]
  },
  {
   "cell_type": "code",
   "execution_count": 50,
   "id": "df424692",
   "metadata": {},
   "outputs": [
    {
     "name": "stdout",
     "output_type": "stream",
     "text": [
      "Train data RMSE:  0.09146511068397176\n",
      "Train data MSE:  0.008365866472431205\n",
      "Train data MAE:  0.06916827561985191\n",
      "-------------------------------------------------------------------------------------\n",
      "Test data RMSE:  0.13324414958075037\n",
      "Test data MSE:  0.017754003397497376\n",
      "Test data MAE:  0.13060210741111727\n"
     ]
    }
   ],
   "source": [
    "# Evaluation metrices RMSE and MAE\n",
    "print(\"Train data RMSE: \", math.sqrt(mean_squared_error(y_train,pred_train)))\n",
    "print(\"Train data MSE: \", mean_squared_error(y_train,pred_train))\n",
    "print(\"Train data MAE: \", mean_absolute_error(y_train,pred_train))\n",
    "print(\"-------------------------------------------------------------------------------------\")\n",
    "print(\"Test data RMSE: \", math.sqrt(mean_squared_error(y_test,pred_test)))\n",
    "print(\"Test data MSE: \", mean_squared_error(y_test,pred_test))\n",
    "print(\"Test data MAE: \", mean_absolute_error(y_test,pred_test))"
   ]
  },
  {
   "cell_type": "code",
   "execution_count": 51,
   "id": "ba69dfcd",
   "metadata": {
    "scrolled": true
   },
   "outputs": [
    {
     "name": "stdout",
     "output_type": "stream",
     "text": [
      "Train data R2 score: 0.509390571388902\n",
      "Test data R2 score: -18.370596556194975\n"
     ]
    }
   ],
   "source": [
    "print(\"Train data R2 score:\", r2_score(y_train, pred_train))\n",
    "print(\"Test data R2 score:\", r2_score(y_test, pred_test))"
   ]
  },
  {
   "cell_type": "markdown",
   "id": "8d232550",
   "metadata": {},
   "source": [
    "# Model 2: XGBoost Regressor   <a name=\"xgboost2\"></a>"
   ]
  },
  {
   "cell_type": "code",
   "execution_count": 52,
   "id": "95597b79",
   "metadata": {},
   "outputs": [],
   "source": [
    "data3 = link.copy()"
   ]
  },
  {
   "cell_type": "code",
   "execution_count": 53,
   "id": "a05b12f5",
   "metadata": {
    "scrolled": false
   },
   "outputs": [
    {
     "name": "stdout",
     "output_type": "stream",
     "text": [
      "Total data for prediction:  480\n"
     ]
    }
   ],
   "source": [
    "data3.reset_index(inplace = True)\n",
    "data3 = data3[data3['Date'] >= '2021-01-01']               \n",
    "data3.set_index('Date', inplace = True)\n",
    "print(\"Total data for prediction: \",data3.shape[0])"
   ]
  },
  {
   "cell_type": "code",
   "execution_count": 54,
   "id": "f8fef781",
   "metadata": {},
   "outputs": [
    {
     "data": {
      "text/plain": [
       "(480, 7)"
      ]
     },
     "execution_count": 54,
     "metadata": {},
     "output_type": "execute_result"
    }
   ],
   "source": [
    "data3.shape"
   ]
  },
  {
   "cell_type": "code",
   "execution_count": 55,
   "id": "0906905c",
   "metadata": {},
   "outputs": [
    {
     "name": "stdout",
     "output_type": "stream",
     "text": [
      "train_data:  (384, 7)\n",
      "test_data:  (96, 7)\n"
     ]
    }
   ],
   "source": [
    "training_size=int(len(data3)*0.80)\n",
    "test_size=len(data3)-training_size\n",
    "train_data,test_data=data3.iloc[:training_size,:],data3.iloc[training_size:,:]\n",
    "print(\"train_data: \", train_data.shape)\n",
    "print(\"test_data: \", test_data.shape)"
   ]
  },
  {
   "cell_type": "code",
   "execution_count": 56,
   "id": "70e9aaf7",
   "metadata": {},
   "outputs": [
    {
     "data": {
      "image/png": "[encoded data removed]",
      "text/plain": [
       "<Figure size 1080x432 with 1 Axes>"
      ]
     },
     "metadata": {
      "needs_background": "light"
     },
     "output_type": "display_data"
    }
   ],
   "source": [
    "data3.reset_index(inplace = True)\n",
    "fig, ax = plt.subplots(figsize=(15, 6))\n",
    "sns.lineplot(x = data3['Date'][:training_size], y = data3['close'][:training_size], color = 'blue')\n",
    "sns.lineplot(x = data3['Date'][training_size:], y =data3['close'][training_size:], color = 'orange')\n",
    "\n",
    "# Formatting\n",
    "ax.set_title('Train & Test data', fontsize = 20, loc='center', fontdict=dict(weight='bold'))\n",
    "ax.set_xlabel('Date', fontsize = 16, fontdict=dict(weight='bold'))\n",
    "ax.set_ylabel('Weekly Sales', fontsize = 16, fontdict=dict(weight='bold'))\n",
    "plt.tick_params(axis='y', which='major', labelsize=16)\n",
    "plt.tick_params(axis='x', which='major', labelsize=5)\n",
    "plt.xticks(rotation = 'vertical')\n",
    "plt.legend(loc='upper right' ,labels = ('train', 'test'))\n",
    "plt.show()"
   ]
  },
  {
   "cell_type": "code",
   "execution_count": 57,
   "id": "404bc424",
   "metadata": {},
   "outputs": [],
   "source": [
    "data3.set_index('Date', inplace = True)"
   ]
  },
  {
   "cell_type": "code",
   "execution_count": 58,
   "id": "acff2e2f",
   "metadata": {},
   "outputs": [],
   "source": [
    "# convert an array of values into a dataset matrix\n",
    "def create_dataset(dataset, time_step=1):\n",
    "    dataX, dataY = [], []\n",
    "    for i in range(len(dataset)-time_step-1):\n",
    "        a = dataset.iloc[i:(i+time_step), :]   \n",
    "        dataX.append(a)\n",
    "        dataY.append(dataset.iloc[i + time_step, 0])\n",
    "    return np.array(dataX), np.array(dataY)"
   ]
  },
  {
   "cell_type": "code",
   "execution_count": 59,
   "id": "967c856d",
   "metadata": {},
   "outputs": [
    {
     "name": "stdout",
     "output_type": "stream",
     "text": [
      "X_train:  (376, 7, 7)\n",
      "y_train:  (376,)\n",
      "X_test:  (88, 7, 7)\n",
      "y_test (88,)\n"
     ]
    }
   ],
   "source": [
    "time_step = 7\n",
    "X_train, y_train = create_dataset(train_data, time_step)\n",
    "X_test, y_test = create_dataset(test_data, time_step)\n",
    "\n",
    "print(\"X_train: \", X_train.shape)\n",
    "print(\"y_train: \", y_train.shape)\n",
    "print(\"X_test: \", X_test.shape)\n",
    "print(\"y_test\", y_test.shape)"
   ]
  },
  {
   "cell_type": "code",
   "execution_count": 60,
   "id": "73a5548c",
   "metadata": {},
   "outputs": [],
   "source": [
    "nsamples, nx, ny = X_train.shape\n",
    "X_train = X_train.reshape((nsamples,nx*ny))\n",
    "\n",
    "nsamples, nx, ny = X_test.shape\n",
    "X_test = X_test.reshape((nsamples,nx*ny))"
   ]
  },
  {
   "cell_type": "code",
   "execution_count": 61,
   "id": "ac737696",
   "metadata": {},
   "outputs": [
    {
     "data": {
      "text/plain": [
       "XGBRegressor(base_score=0.5, booster='gbtree', callbacks=None,\n",
       "             colsample_bylevel=1, colsample_bynode=1, colsample_bytree=1,\n",
       "             early_stopping_rounds=None, enable_categorical=False, eta=0.2,\n",
       "             eval_metric=None, gamma=0, gpu_id=-1, grow_policy='depthwise',\n",
       "             importance_type=None, interaction_constraints='',\n",
       "             learning_rate=0.200000003, max_bin=256, max_cat_to_onehot=4,\n",
       "             max_delta_step=0, max_depth=6, max_leaves=0, min_child_weight=1,\n",
       "             missing=nan, monotone_constraints='()', n_estimators=1000,\n",
       "             n_jobs=0, num_parallel_tree=1, predictor='auto', random_state=1,\n",
       "             reg_alpha=0, ...)"
      ]
     },
     "execution_count": 61,
     "metadata": {},
     "output_type": "execute_result"
    }
   ],
   "source": [
    "model3 = XGBRegressor(n_estimators=1000, random_state = 1, eta = 0.2)\n",
    "model3.fit(X_train, y_train)"
   ]
  },
  {
   "cell_type": "code",
   "execution_count": 62,
   "id": "d9ed2dea",
   "metadata": {},
   "outputs": [],
   "source": [
    "predictions = model3.predict(X_test).reshape(-1,1)\n",
    "y_test = y_test.reshape(-1,1)\n",
    "\n",
    "predictions_train = model3.predict(X_train).reshape(-1,1)\n",
    "y_train = y_train.reshape(-1,1)"
   ]
  },
  {
   "cell_type": "code",
   "execution_count": 63,
   "id": "2e9baab6",
   "metadata": {},
   "outputs": [
    {
     "data": {
      "text/html": [
       "<div>\n",
       "<style scoped>\n",
       "    .dataframe tbody tr th:only-of-type {\n",
       "        vertical-align: middle;\n",
       "    }\n",
       "\n",
       "    .dataframe tbody tr th {\n",
       "        vertical-align: top;\n",
       "    }\n",
       "\n",
       "    .dataframe thead th {\n",
       "        text-align: right;\n",
       "    }\n",
       "</style>\n",
       "<table border=\"1\" class=\"dataframe\">\n",
       "  <thead>\n",
       "    <tr style=\"text-align: right;\">\n",
       "      <th></th>\n",
       "      <th>y_test</th>\n",
       "      <th>Predictions</th>\n",
       "      <th>Date</th>\n",
       "    </tr>\n",
       "  </thead>\n",
       "  <tbody>\n",
       "    <tr>\n",
       "      <th>83</th>\n",
       "      <td>0.266626</td>\n",
       "      <td>0.310774</td>\n",
       "      <td>2022-04-21</td>\n",
       "    </tr>\n",
       "    <tr>\n",
       "      <th>84</th>\n",
       "      <td>0.258263</td>\n",
       "      <td>0.304839</td>\n",
       "      <td>2022-04-22</td>\n",
       "    </tr>\n",
       "    <tr>\n",
       "      <th>85</th>\n",
       "      <td>0.258659</td>\n",
       "      <td>0.296757</td>\n",
       "      <td>2022-04-23</td>\n",
       "    </tr>\n",
       "    <tr>\n",
       "      <th>86</th>\n",
       "      <td>0.253556</td>\n",
       "      <td>0.313464</td>\n",
       "      <td>2022-04-24</td>\n",
       "    </tr>\n",
       "    <tr>\n",
       "      <th>87</th>\n",
       "      <td>0.252475</td>\n",
       "      <td>0.298363</td>\n",
       "      <td>2022-04-25</td>\n",
       "    </tr>\n",
       "  </tbody>\n",
       "</table>\n",
       "</div>"
      ],
      "text/plain": [
       "      y_test  Predictions       Date\n",
       "83  0.266626     0.310774 2022-04-21\n",
       "84  0.258263     0.304839 2022-04-22\n",
       "85  0.258659     0.296757 2022-04-23\n",
       "86  0.253556     0.313464 2022-04-24\n",
       "87  0.252475     0.298363 2022-04-25"
      ]
     },
     "execution_count": 63,
     "metadata": {},
     "output_type": "execute_result"
    }
   ],
   "source": [
    "results2 = np.concatenate((y_test, predictions), axis = 1)\n",
    "results2 = pd.DataFrame(results2, columns = ['y_test', 'Predictions'])\n",
    "a = data3['close'].tail(len(predictions))\n",
    "a = list(a.index)\n",
    "results2['Date'] = a\n",
    "results2['Date'] = pd.to_datetime(results2['Date'])\n",
    "results2.tail()"
   ]
  },
  {
   "cell_type": "code",
   "execution_count": 64,
   "id": "2f1eda5d",
   "metadata": {},
   "outputs": [
    {
     "data": {
      "image/png": "[encoded data removed]",
      "text/plain": [
       "<Figure size 960x640 with 1 Axes>"
      ]
     },
     "metadata": {
      "needs_background": "light"
     },
     "output_type": "display_data"
    }
   ],
   "source": [
    "plt.figure(figsize = (12,8), dpi = 80)\n",
    "plt.plot(results2['Date'], results2['y_test'], 'b', label = 'y_test')\n",
    "plt.plot(results2['Date'], results2['Predictions'], 'r', label = 'Predictions')\n",
    "plt.title ('Predictions vs Real Values of Test Data (cryptocurrency: LINK)', fontsize = 16, )\n",
    "plt.xlabel('Date', fontsize = 14)\n",
    "plt.ylabel('Price', fontsize = 14)\n",
    "plt.legend()\n",
    "\n",
    "plt.show()"
   ]
  },
  {
   "cell_type": "code",
   "execution_count": 65,
   "id": "e14eda2d",
   "metadata": {},
   "outputs": [
    {
     "name": "stdout",
     "output_type": "stream",
     "text": [
      "Train data MSE:  3.8555962873499457e-07\n",
      "Mean Absolute Error - MAE : 0.00045236531663738025\n",
      "Root Mean squared Error - RMSE : 0.0006209344802271771\n",
      "R^2 Score 0.9999768791851074\n",
      "--------------------------------------------------------------\n",
      "Test data MSE:  0.0012971911926393804\n",
      "Mean Absolute Error - MAE : 0.030891027851483656\n",
      "Root Mean squared Error - RMSE : 0.03601654054235887\n",
      "R^2 Score -0.42064322026835255\n"
     ]
    }
   ],
   "source": [
    "print(\"Train data MSE: \", mean_squared_error(y_train,predictions_train))\n",
    "print(\"Mean Absolute Error - MAE : \" + str(mean_absolute_error(y_train, predictions_train)))\n",
    "print(\"Root Mean squared Error - RMSE : \" + str(math.sqrt(mean_squared_error(y_train, predictions_train))))\n",
    "print('R^2 Score', r2_score(y_train, predictions_train))\n",
    "\n",
    "print (\"--------------------------------------------------------------\")\n",
    "print(\"Test data MSE: \", mean_squared_error(y_test,predictions))\n",
    "print(\"Mean Absolute Error - MAE : \" + str(mean_absolute_error(y_test, predictions)))\n",
    "print(\"Root Mean squared Error - RMSE : \" + str(math.sqrt(mean_squared_error(y_test, predictions))))\n",
    "print('R^2 Score', r2_score(y_test, predictions))"
   ]
  },
  {
   "cell_type": "markdown",
   "id": "e92438c4",
   "metadata": {},
   "source": [
    "# LINK - since January 2022  <a name=\"jan2022\"></a>"
   ]
  },
  {
   "cell_type": "markdown",
   "id": "708a8c99",
   "metadata": {},
   "source": [
    "# Model 1: LSTM <a name=\"lstm3\"></a>"
   ]
  },
  {
   "cell_type": "code",
   "execution_count": 66,
   "id": "880a53ec",
   "metadata": {},
   "outputs": [
    {
     "name": "stdout",
     "output_type": "stream",
     "text": [
      "Total data for prediction:  115\n"
     ]
    }
   ],
   "source": [
    "data4 = link.copy()\n",
    "data4.reset_index(inplace = True)\n",
    "data4 = data4[data4['Date'] >= '2022-01-01']\n",
    "data4.set_index('Date', inplace = True)\n",
    "print(\"Total data for prediction: \",data4.shape[0])"
   ]
  },
  {
   "cell_type": "code",
   "execution_count": 67,
   "id": "40ad14ca",
   "metadata": {},
   "outputs": [],
   "source": [
    "hist = []\n",
    "target = []\n",
    "length = 7\n",
    "\n",
    "for i in range(len(data4)-length):\n",
    "    t = data4['close']\n",
    "    v = data4[['close','volume', 'volatility', 'close_off_high', 'EUR/USD_close']]\n",
    "    x = v[i:i+length]\n",
    "    y = t[i+length]\n",
    "    hist.append(x)\n",
    "    target.append(y)"
   ]
  },
  {
   "cell_type": "code",
   "execution_count": 68,
   "id": "c88f92e7",
   "metadata": {},
   "outputs": [
    {
     "name": "stdout",
     "output_type": "stream",
     "text": [
      "7\n",
      "108\n",
      "108\n"
     ]
    }
   ],
   "source": [
    "print(len(hist[0]))\n",
    "print(len(hist))\n",
    "print(len(target))"
   ]
  },
  {
   "cell_type": "code",
   "execution_count": 69,
   "id": "3edefe80",
   "metadata": {},
   "outputs": [],
   "source": [
    "#convert list to array\n",
    "hist = np.array(hist)\n",
    "target = np.array(target)"
   ]
  },
  {
   "cell_type": "code",
   "execution_count": 70,
   "id": "4a6f7c4f",
   "metadata": {},
   "outputs": [
    {
     "data": {
      "text/plain": [
       "(108, 1)"
      ]
     },
     "execution_count": 70,
     "metadata": {},
     "output_type": "execute_result"
    }
   ],
   "source": [
    "target = target.reshape(-1,1)\n",
    "target.shape"
   ]
  },
  {
   "cell_type": "code",
   "execution_count": 71,
   "id": "280f743a",
   "metadata": {},
   "outputs": [],
   "source": [
    "training_size = int(len(data4)*0.8)\n",
    "\n",
    "X_train = hist[:training_size,:]\n",
    "X_test = hist[training_size:,:]\n",
    "\n",
    "y_train = target[:training_size]\n",
    "y_test = target[training_size:]"
   ]
  },
  {
   "cell_type": "code",
   "execution_count": 72,
   "id": "28aa3a53",
   "metadata": {},
   "outputs": [
    {
     "data": {
      "text/plain": [
       "(92, 7, 5)"
      ]
     },
     "execution_count": 72,
     "metadata": {},
     "output_type": "execute_result"
    }
   ],
   "source": [
    "X_train.shape"
   ]
  },
  {
   "cell_type": "code",
   "execution_count": 73,
   "id": "2159fa4f",
   "metadata": {},
   "outputs": [
    {
     "name": "stdout",
     "output_type": "stream",
     "text": [
      "Model: \"sequential_2\"\n",
      "_________________________________________________________________\n",
      " Layer (type)                Output Shape              Param #   \n",
      "=================================================================\n",
      " lstm_6 (LSTM)               (None, 7, 20)             2080      \n",
      "                                                                 \n",
      " lstm_7 (LSTM)               (None, 7, 32)             6784      \n",
      "                                                                 \n",
      " lstm_8 (LSTM)               (None, 32)                8320      \n",
      "                                                                 \n",
      " dense_2 (Dense)             (None, 1)                 33        \n",
      "                                                                 \n",
      "=================================================================\n",
      "Total params: 17,217\n",
      "Trainable params: 17,217\n",
      "Non-trainable params: 0\n",
      "_________________________________________________________________\n"
     ]
    }
   ],
   "source": [
    "model4 = tf.keras.Sequential()\n",
    "\n",
    "model4.add(layers.LSTM(units=20, activation = 'relu', return_sequences=True,\n",
    "                  input_shape=(7,5), dropout = 0.2))\n",
    "\n",
    "model4.add(layers.LSTM(units=32, return_sequences=True,\n",
    "                  dropout=0.2))\n",
    "\n",
    "model4.add(layers.LSTM(units=32, activation = 'relu', dropout=0.2))\n",
    "\n",
    "#model.add(layers.LSTM(units=55, return_sequences = True, dropout = 0.2))\n",
    "\n",
    "#model.add(layers.LSTM(units = 80, activation = 'relu', dropout = 0.2))\n",
    "\n",
    "model4.add(layers.Dense(units=1))\n",
    "\n",
    "model4.summary()"
   ]
  },
  {
   "cell_type": "code",
   "execution_count": 74,
   "id": "bde4c62c",
   "metadata": {},
   "outputs": [],
   "source": [
    "model4.compile(optimizer='adam', loss='mean_squared_error')"
   ]
  },
  {
   "cell_type": "code",
   "execution_count": 75,
   "id": "eb14e483",
   "metadata": {},
   "outputs": [
    {
     "name": "stdout",
     "output_type": "stream",
     "text": [
      "Epoch 1/30\n",
      "3/3 [==============================] - 4s 257ms/step - loss: 0.1088 - val_loss: 0.0748\n",
      "Epoch 2/30\n",
      "3/3 [==============================] - 0s 22ms/step - loss: 0.0802 - val_loss: 0.0500\n",
      "Epoch 3/30\n",
      "3/3 [==============================] - 0s 22ms/step - loss: 0.0561 - val_loss: 0.0284\n",
      "Epoch 4/30\n",
      "3/3 [==============================] - 0s 21ms/step - loss: 0.0347 - val_loss: 0.0119\n",
      "Epoch 5/30\n",
      "3/3 [==============================] - 0s 20ms/step - loss: 0.0172 - val_loss: 0.0020\n",
      "Epoch 6/30\n",
      "3/3 [==============================] - 0s 20ms/step - loss: 0.0086 - val_loss: 9.3372e-04\n",
      "Epoch 7/30\n",
      "3/3 [==============================] - 0s 19ms/step - loss: 0.0103 - val_loss: 0.0044\n",
      "Epoch 8/30\n",
      "3/3 [==============================] - 0s 18ms/step - loss: 0.0144 - val_loss: 0.0031\n",
      "Epoch 9/30\n",
      "3/3 [==============================] - 0s 18ms/step - loss: 0.0084 - val_loss: 7.2669e-04\n",
      "Epoch 10/30\n",
      "3/3 [==============================] - 0s 21ms/step - loss: 0.0056 - val_loss: 3.6662e-04\n",
      "Epoch 11/30\n",
      "3/3 [==============================] - 0s 18ms/step - loss: 0.0060 - val_loss: 0.0014\n",
      "Epoch 12/30\n",
      "3/3 [==============================] - 0s 19ms/step - loss: 0.0065 - val_loss: 0.0023\n",
      "Epoch 13/30\n",
      "3/3 [==============================] - 0s 18ms/step - loss: 0.0079 - val_loss: 0.0025\n",
      "Epoch 14/30\n",
      "3/3 [==============================] - 0s 18ms/step - loss: 0.0080 - val_loss: 0.0020\n",
      "Epoch 15/30\n",
      "3/3 [==============================] - 0s 19ms/step - loss: 0.0070 - val_loss: 0.0013\n",
      "Epoch 16/30\n",
      "3/3 [==============================] - 0s 18ms/step - loss: 0.0066 - val_loss: 6.4292e-04\n",
      "Epoch 17/30\n",
      "3/3 [==============================] - 0s 19ms/step - loss: 0.0057 - val_loss: 3.4385e-04\n",
      "Epoch 18/30\n",
      "3/3 [==============================] - 0s 19ms/step - loss: 0.0071 - val_loss: 2.7417e-04\n",
      "Epoch 19/30\n",
      "3/3 [==============================] - 0s 19ms/step - loss: 0.0062 - val_loss: 2.8019e-04\n",
      "Epoch 20/30\n",
      "3/3 [==============================] - 0s 19ms/step - loss: 0.0059 - val_loss: 3.3436e-04\n",
      "Epoch 21/30\n",
      "3/3 [==============================] - 0s 20ms/step - loss: 0.0055 - val_loss: 4.3972e-04\n",
      "Epoch 22/30\n",
      "3/3 [==============================] - 0s 20ms/step - loss: 0.0049 - val_loss: 5.5973e-04\n",
      "Epoch 23/30\n",
      "3/3 [==============================] - 0s 19ms/step - loss: 0.0057 - val_loss: 6.5390e-04\n",
      "Epoch 24/30\n",
      "3/3 [==============================] - 0s 23ms/step - loss: 0.0056 - val_loss: 6.9335e-04\n",
      "Epoch 25/30\n",
      "3/3 [==============================] - 0s 22ms/step - loss: 0.0054 - val_loss: 6.4633e-04\n",
      "Epoch 26/30\n",
      "3/3 [==============================] - 0s 21ms/step - loss: 0.0059 - val_loss: 5.6055e-04\n",
      "Epoch 27/30\n",
      "3/3 [==============================] - 0s 21ms/step - loss: 0.0053 - val_loss: 5.2131e-04\n",
      "Epoch 28/30\n",
      "3/3 [==============================] - 0s 20ms/step - loss: 0.0052 - val_loss: 5.1677e-04\n",
      "Epoch 29/30\n",
      "3/3 [==============================] - 0s 21ms/step - loss: 0.0051 - val_loss: 5.9780e-04\n",
      "Epoch 30/30\n",
      "3/3 [==============================] - 0s 20ms/step - loss: 0.0048 - val_loss: 7.1650e-04\n"
     ]
    }
   ],
   "source": [
    "history = model4.fit(X_train, y_train, epochs=30, batch_size=32, validation_split=0.2, shuffle = False)"
   ]
  },
  {
   "cell_type": "code",
   "execution_count": 76,
   "id": "8e6660df",
   "metadata": {},
   "outputs": [
    {
     "data": {
      "image/png": "[encoded data removed]",
      "text/plain": [
       "<Figure size 864x576 with 1 Axes>"
      ]
     },
     "metadata": {
      "needs_background": "light"
     },
     "output_type": "display_data"
    }
   ],
   "source": [
    "loss = history.history['loss']\n",
    "val_loss = history.history['val_loss']\n",
    "epoch_count = range(len(loss))\n",
    "plt.figure(figsize=(12,8))\n",
    "plt.plot(epoch_count, loss, 'r', label='Training loss')\n",
    "plt.plot(epoch_count, val_loss, 'b', label='Validation loss')\n",
    "plt.legend(['Training Loss','Validation Loss'])\n",
    "plt.xlabel('Epoch')\n",
    "plt.ylabel('Loss')\n",
    "plt.show();"
   ]
  },
  {
   "cell_type": "code",
   "execution_count": 77,
   "id": "bb67b8f8",
   "metadata": {},
   "outputs": [],
   "source": [
    "pred_test = model4.predict(X_test)\n",
    "pred_train = model4.predict (X_train)"
   ]
  },
  {
   "cell_type": "code",
   "execution_count": 78,
   "id": "cc9dfcc4",
   "metadata": {},
   "outputs": [
    {
     "data": {
      "text/html": [
       "<div>\n",
       "<style scoped>\n",
       "    .dataframe tbody tr th:only-of-type {\n",
       "        vertical-align: middle;\n",
       "    }\n",
       "\n",
       "    .dataframe tbody tr th {\n",
       "        vertical-align: top;\n",
       "    }\n",
       "\n",
       "    .dataframe thead th {\n",
       "        text-align: right;\n",
       "    }\n",
       "</style>\n",
       "<table border=\"1\" class=\"dataframe\">\n",
       "  <thead>\n",
       "    <tr style=\"text-align: right;\">\n",
       "      <th></th>\n",
       "      <th>y_test</th>\n",
       "      <th>Predictions</th>\n",
       "      <th>Date</th>\n",
       "    </tr>\n",
       "  </thead>\n",
       "  <tbody>\n",
       "    <tr>\n",
       "      <th>11</th>\n",
       "      <td>0.258263</td>\n",
       "      <td>0.279427</td>\n",
       "      <td>2022-04-21</td>\n",
       "    </tr>\n",
       "    <tr>\n",
       "      <th>12</th>\n",
       "      <td>0.258659</td>\n",
       "      <td>0.279628</td>\n",
       "      <td>2022-04-22</td>\n",
       "    </tr>\n",
       "    <tr>\n",
       "      <th>13</th>\n",
       "      <td>0.253556</td>\n",
       "      <td>0.279150</td>\n",
       "      <td>2022-04-23</td>\n",
       "    </tr>\n",
       "    <tr>\n",
       "      <th>14</th>\n",
       "      <td>0.252475</td>\n",
       "      <td>0.278703</td>\n",
       "      <td>2022-04-24</td>\n",
       "    </tr>\n",
       "    <tr>\n",
       "      <th>15</th>\n",
       "      <td>0.255765</td>\n",
       "      <td>0.279340</td>\n",
       "      <td>2022-04-25</td>\n",
       "    </tr>\n",
       "  </tbody>\n",
       "</table>\n",
       "</div>"
      ],
      "text/plain": [
       "      y_test  Predictions       Date\n",
       "11  0.258263     0.279427 2022-04-21\n",
       "12  0.258659     0.279628 2022-04-22\n",
       "13  0.253556     0.279150 2022-04-23\n",
       "14  0.252475     0.278703 2022-04-24\n",
       "15  0.255765     0.279340 2022-04-25"
      ]
     },
     "execution_count": 78,
     "metadata": {},
     "output_type": "execute_result"
    }
   ],
   "source": [
    "results = np.concatenate((y_test, pred_test), axis=1)\n",
    "results = pd.DataFrame(results, columns = ['y_test', 'Predictions'])\n",
    "a = data4['close'].tail(len(pred_test))\n",
    "a = list(a.index)\n",
    "results['Date'] = a\n",
    "results['Date'] = pd.to_datetime(results['Date'])\n",
    "results.tail()"
   ]
  },
  {
   "cell_type": "code",
   "execution_count": 79,
   "id": "35ef0410",
   "metadata": {},
   "outputs": [
    {
     "data": {
      "image/png": "[encoded data removed]",
      "text/plain": [
       "<Figure size 960x640 with 1 Axes>"
      ]
     },
     "metadata": {
      "needs_background": "light"
     },
     "output_type": "display_data"
    }
   ],
   "source": [
    "plt.figure(figsize = (12,8), dpi = 80)\n",
    "plt.plot(results['Date'], results['y_test'], 'b', label = 'y_test')\n",
    "plt.plot(results['Date'], results['Predictions'], 'r', label = 'Predictions')\n",
    "plt.title ('Predictions vs Real Values of Test Data (cryptocurrency: LINK)', fontsize = 16,)\n",
    "plt.xlabel('Date', fontsize = 14)\n",
    "plt.ylabel('Price', fontsize = 14)\n",
    "plt.legend()\n",
    "\n",
    "plt.show()"
   ]
  },
  {
   "cell_type": "code",
   "execution_count": 80,
   "id": "ea92e161",
   "metadata": {},
   "outputs": [
    {
     "name": "stdout",
     "output_type": "stream",
     "text": [
      "Train data RMSE:  0.06220488980186555\n",
      "Train data MSE:  0.0038694483152622366\n",
      "Train data MAE:  0.04021733057787004\n",
      "-------------------------------------------------------------------------------------\n",
      "Test data RMSE:  0.018277486142993474\n",
      "Test data MSE:  0.00033406649970731843\n",
      "Test data MAE:  0.01711237084823857\n"
     ]
    }
   ],
   "source": [
    "# Evaluation metrices RMSE and MAE\n",
    "print(\"Train data RMSE: \", math.sqrt(mean_squared_error(y_train,pred_train)))\n",
    "print(\"Train data MSE: \", mean_squared_error(y_train,pred_train))\n",
    "print(\"Train data MAE: \", mean_absolute_error(y_train,pred_train))\n",
    "print(\"-------------------------------------------------------------------------------------\")\n",
    "print(\"Test data RMSE: \", math.sqrt(mean_squared_error(y_test,pred_test)))\n",
    "print(\"Test data MSE: \", mean_squared_error(y_test,pred_test))\n",
    "print(\"Test data MAE: \", mean_absolute_error(y_test,pred_test))"
   ]
  },
  {
   "cell_type": "code",
   "execution_count": 81,
   "id": "22ca4419",
   "metadata": {
    "scrolled": true
   },
   "outputs": [
    {
     "name": "stdout",
     "output_type": "stream",
     "text": [
      "Train data R2 score: 0.21385886024703404\n",
      "Test data R2 score: -2.9975471231229767\n"
     ]
    }
   ],
   "source": [
    "print(\"Train data R2 score:\", r2_score(y_train, pred_train))\n",
    "print(\"Test data R2 score:\", r2_score(y_test, pred_test))"
   ]
  },
  {
   "cell_type": "markdown",
   "id": "ad865093",
   "metadata": {},
   "source": [
    "# Model 2: XGBoost Regressor   <a name=\"xgboost3\"></a>"
   ]
  },
  {
   "cell_type": "code",
   "execution_count": 82,
   "id": "f7fccbc8",
   "metadata": {
    "scrolled": true
   },
   "outputs": [
    {
     "name": "stdout",
     "output_type": "stream",
     "text": [
      "Total data for prediction:  115\n"
     ]
    }
   ],
   "source": [
    "data5= link.copy()\n",
    "data5.reset_index(inplace = True)\n",
    "data5 = data5[data5['Date'] >= '2022-01-01']\n",
    "data5.set_index('Date', inplace = True)\n",
    "print(\"Total data for prediction: \",data5.shape[0])"
   ]
  },
  {
   "cell_type": "code",
   "execution_count": 83,
   "id": "5b9ac483",
   "metadata": {},
   "outputs": [
    {
     "name": "stdout",
     "output_type": "stream",
     "text": [
      "train_data:  (92, 7)\n",
      "test_data:  (23, 7)\n"
     ]
    }
   ],
   "source": [
    "training_size=int(len(data5)*0.80)\n",
    "test_size=len(data5)-training_size\n",
    "train_data,test_data=data5.iloc[:training_size,:],data5.iloc[training_size:,:]\n",
    "print(\"train_data: \", train_data.shape)\n",
    "print(\"test_data: \", test_data.shape)"
   ]
  },
  {
   "cell_type": "code",
   "execution_count": 84,
   "id": "c7b8ee15",
   "metadata": {
    "scrolled": true
   },
   "outputs": [
    {
     "data": {
      "image/png": "[encoded data removed]",
      "text/plain": [
       "<Figure size 1080x432 with 1 Axes>"
      ]
     },
     "metadata": {
      "needs_background": "light"
     },
     "output_type": "display_data"
    }
   ],
   "source": [
    "data5.reset_index(inplace = True)\n",
    "fig, ax = plt.subplots(figsize=(15, 6))\n",
    "sns.lineplot(x = data5['Date'][:training_size], y = data5['close'][:training_size], color = 'blue')\n",
    "sns.lineplot(x = data5['Date'][training_size:], y = data5['close'][training_size:], color = 'orange')\n",
    "\n",
    "# Formatting\n",
    "ax.set_title('Train & Test data', fontsize = 20, loc='center', fontdict=dict(weight='bold'))\n",
    "ax.set_xlabel('Date', fontsize = 16, fontdict=dict(weight='bold'))\n",
    "ax.set_ylabel('Weekly Sales', fontsize = 16, fontdict=dict(weight='bold'))\n",
    "plt.tick_params(axis='y', which='major', labelsize=16)\n",
    "plt.tick_params(axis='x', which='major', labelsize=5)\n",
    "plt.xticks(rotation = 'vertical')\n",
    "plt.legend(loc='upper right' ,labels = ('train', 'test'))\n",
    "plt.show()"
   ]
  },
  {
   "cell_type": "code",
   "execution_count": 85,
   "id": "2d760131",
   "metadata": {},
   "outputs": [],
   "source": [
    "data5.set_index('Date', inplace = True)"
   ]
  },
  {
   "cell_type": "code",
   "execution_count": 86,
   "id": "1cc60c5a",
   "metadata": {},
   "outputs": [],
   "source": [
    "# convert an array of values into a dataset matrix\n",
    "def create_dataset(dataset, time_step=1):\n",
    "    dataX, dataY = [], []\n",
    "    for i in range(len(dataset)-time_step-1):\n",
    "        a = dataset.iloc[i:(i+time_step), :]   \n",
    "        dataX.append(a)\n",
    "        dataY.append(dataset.iloc[i + time_step, 0])\n",
    "    return np.array(dataX), np.array(dataY)"
   ]
  },
  {
   "cell_type": "code",
   "execution_count": 87,
   "id": "1ccdd34d",
   "metadata": {},
   "outputs": [
    {
     "name": "stdout",
     "output_type": "stream",
     "text": [
      "X_train:  (84, 7, 7)\n",
      "y_train:  (84,)\n",
      "X_test:  (15, 7, 7)\n",
      "y_test (15,)\n"
     ]
    }
   ],
   "source": [
    "time_step = 7\n",
    "X_train, y_train = create_dataset(train_data, time_step)\n",
    "X_test, y_test = create_dataset(test_data, time_step)\n",
    "\n",
    "print(\"X_train: \", X_train.shape)\n",
    "print(\"y_train: \", y_train.shape)\n",
    "print(\"X_test: \", X_test.shape)\n",
    "print(\"y_test\", y_test.shape)"
   ]
  },
  {
   "cell_type": "code",
   "execution_count": 88,
   "id": "1c99c283",
   "metadata": {},
   "outputs": [],
   "source": [
    "nsamples, nx, ny = X_train.shape\n",
    "X_train = X_train.reshape((nsamples,nx*ny))\n",
    "\n",
    "nsamples, nx, ny = X_test.shape\n",
    "X_test = X_test.reshape((nsamples,nx*ny))"
   ]
  },
  {
   "cell_type": "code",
   "execution_count": 89,
   "id": "768d4699",
   "metadata": {},
   "outputs": [
    {
     "data": {
      "text/plain": [
       "XGBRegressor(base_score=0.5, booster='gbtree', callbacks=None,\n",
       "             colsample_bylevel=1, colsample_bynode=1, colsample_bytree=1,\n",
       "             early_stopping_rounds=None, enable_categorical=False, eta=0.2,\n",
       "             eval_metric=None, gamma=0, gpu_id=-1, grow_policy='depthwise',\n",
       "             importance_type=None, interaction_constraints='',\n",
       "             learning_rate=0.200000003, max_bin=256, max_cat_to_onehot=4,\n",
       "             max_delta_step=0, max_depth=6, max_leaves=0, min_child_weight=1,\n",
       "             missing=nan, monotone_constraints='()', n_estimators=1000,\n",
       "             n_jobs=0, num_parallel_tree=1, predictor='auto', random_state=1,\n",
       "             reg_alpha=0, ...)"
      ]
     },
     "execution_count": 89,
     "metadata": {},
     "output_type": "execute_result"
    }
   ],
   "source": [
    "model5 = XGBRegressor(n_estimators=1000, random_state = 1, eta = 0.2)\n",
    "model5.fit(X_train, y_train)"
   ]
  },
  {
   "cell_type": "code",
   "execution_count": 90,
   "id": "8a372445",
   "metadata": {},
   "outputs": [],
   "source": [
    "predictions = model5.predict(X_test).reshape(-1,1)\n",
    "y_test = y_test.reshape(-1,1)\n",
    "\n",
    "\n",
    "predictions_train = model5.predict(X_train).reshape(-1,1)\n",
    "y_train = y_train.reshape(-1,1)"
   ]
  },
  {
   "cell_type": "code",
   "execution_count": 91,
   "id": "270bfb43",
   "metadata": {},
   "outputs": [
    {
     "data": {
      "text/html": [
       "<div>\n",
       "<style scoped>\n",
       "    .dataframe tbody tr th:only-of-type {\n",
       "        vertical-align: middle;\n",
       "    }\n",
       "\n",
       "    .dataframe tbody tr th {\n",
       "        vertical-align: top;\n",
       "    }\n",
       "\n",
       "    .dataframe thead th {\n",
       "        text-align: right;\n",
       "    }\n",
       "</style>\n",
       "<table border=\"1\" class=\"dataframe\">\n",
       "  <thead>\n",
       "    <tr style=\"text-align: right;\">\n",
       "      <th></th>\n",
       "      <th>y_test</th>\n",
       "      <th>Predictions</th>\n",
       "      <th>Date</th>\n",
       "    </tr>\n",
       "  </thead>\n",
       "  <tbody>\n",
       "    <tr>\n",
       "      <th>10</th>\n",
       "      <td>0.266626</td>\n",
       "      <td>0.283068</td>\n",
       "      <td>2022-04-21</td>\n",
       "    </tr>\n",
       "    <tr>\n",
       "      <th>11</th>\n",
       "      <td>0.258263</td>\n",
       "      <td>0.279156</td>\n",
       "      <td>2022-04-22</td>\n",
       "    </tr>\n",
       "    <tr>\n",
       "      <th>12</th>\n",
       "      <td>0.258659</td>\n",
       "      <td>0.268417</td>\n",
       "      <td>2022-04-23</td>\n",
       "    </tr>\n",
       "    <tr>\n",
       "      <th>13</th>\n",
       "      <td>0.253556</td>\n",
       "      <td>0.277652</td>\n",
       "      <td>2022-04-24</td>\n",
       "    </tr>\n",
       "    <tr>\n",
       "      <th>14</th>\n",
       "      <td>0.252475</td>\n",
       "      <td>0.269885</td>\n",
       "      <td>2022-04-25</td>\n",
       "    </tr>\n",
       "  </tbody>\n",
       "</table>\n",
       "</div>"
      ],
      "text/plain": [
       "      y_test  Predictions       Date\n",
       "10  0.266626     0.283068 2022-04-21\n",
       "11  0.258263     0.279156 2022-04-22\n",
       "12  0.258659     0.268417 2022-04-23\n",
       "13  0.253556     0.277652 2022-04-24\n",
       "14  0.252475     0.269885 2022-04-25"
      ]
     },
     "execution_count": 91,
     "metadata": {},
     "output_type": "execute_result"
    }
   ],
   "source": [
    "results2 = np.concatenate((y_test, predictions), axis = 1)\n",
    "results2 = pd.DataFrame(results2, columns = ['y_test', 'Predictions'])\n",
    "a = data5['close'].tail(len(predictions))\n",
    "a = list(a.index)\n",
    "results2['Date'] = a\n",
    "results2['Date'] = pd.to_datetime(results2['Date'])\n",
    "results2.tail()"
   ]
  },
  {
   "cell_type": "code",
   "execution_count": 92,
   "id": "cf0d4173",
   "metadata": {
    "scrolled": true
   },
   "outputs": [
    {
     "data": {
      "image/png": "[encoded data removed]",
      "text/plain": [
       "<Figure size 960x640 with 1 Axes>"
      ]
     },
     "metadata": {
      "needs_background": "light"
     },
     "output_type": "display_data"
    }
   ],
   "source": [
    "plt.figure(figsize = (12,8), dpi = 80 )\n",
    "plt.plot(results2['Date'], results2['y_test'], 'b', label = 'y_test')\n",
    "plt.plot(results2['Date'], results2['Predictions'], 'r', label = 'Predictions')\n",
    "plt.title ('Predictions vs Real Values of Test Data (cryptocurrency: LINK)', fontsize = 16, )\n",
    "plt.xlabel('Date', fontsize = 14)\n",
    "plt.ylabel('Price', fontsize = 14)\n",
    "plt.legend()\n",
    "\n",
    "plt.show()"
   ]
  },
  {
   "cell_type": "code",
   "execution_count": 93,
   "id": "22e74d33",
   "metadata": {
    "scrolled": true
   },
   "outputs": [
    {
     "name": "stdout",
     "output_type": "stream",
     "text": [
      "Train data MSE:  1.8057127051544732e-07\n",
      "Mean Absolute Error - MAE : 0.00031226656678972183\n",
      "Root Mean squared Error - RMSE : 0.0004249367841402381\n",
      "R^2 Score 0.99996619903637\n",
      "--------------------------------------------------------------\n",
      "Test data MSE:  0.0003327161488581212\n",
      "Mean Absolute Error - MAE : 0.01559401218961044\n",
      "Root Mean squared Error - RMSE : 0.018240508459418592\n",
      "R^2 Score -2.9698994675872887\n"
     ]
    }
   ],
   "source": [
    "print(\"Train data MSE: \", mean_squared_error(y_train,predictions_train))\n",
    "print(\"Mean Absolute Error - MAE : \" + str(mean_absolute_error(y_train, predictions_train)))\n",
    "print(\"Root Mean squared Error - RMSE : \" + str(math.sqrt(mean_squared_error(y_train, predictions_train))))\n",
    "print('R^2 Score', r2_score(y_train, predictions_train))\n",
    "\n",
    "print (\"--------------------------------------------------------------\")\n",
    "print(\"Test data MSE: \", mean_squared_error(y_test,predictions))\n",
    "print(\"Mean Absolute Error - MAE : \" + str(mean_absolute_error(y_test, predictions)))\n",
    "print(\"Root Mean squared Error - RMSE : \" + str(math.sqrt(mean_squared_error(y_test, predictions))))\n",
    "print('R^2 Score', r2_score(y_test, predictions))"
   ]
  },
  {
   "cell_type": "markdown",
   "id": "c9fc9ba5",
   "metadata": {},
   "source": [
    "# Predictions for the next two days using the best model <a name=\"predictions\"></a>"
   ]
  },
  {
   "cell_type": "code",
   "execution_count": 94,
   "id": "66fb4272",
   "metadata": {},
   "outputs": [],
   "source": [
    "#Importing the dataset with the updated data\n",
    "#Use just the 7 past rows, because our model is predicting based on this sliding window\n",
    "predictions = pd.read_csv('test_LINK.csv', index_col = 'Date')"
   ]
  },
  {
   "cell_type": "code",
   "execution_count": 95,
   "id": "f0559de4",
   "metadata": {
    "scrolled": true
   },
   "outputs": [
    {
     "data": {
      "text/html": [
       "<div>\n",
       "<style scoped>\n",
       "    .dataframe tbody tr th:only-of-type {\n",
       "        vertical-align: middle;\n",
       "    }\n",
       "\n",
       "    .dataframe tbody tr th {\n",
       "        vertical-align: top;\n",
       "    }\n",
       "\n",
       "    .dataframe thead th {\n",
       "        text-align: right;\n",
       "    }\n",
       "</style>\n",
       "<table border=\"1\" class=\"dataframe\">\n",
       "  <thead>\n",
       "    <tr style=\"text-align: right;\">\n",
       "      <th></th>\n",
       "      <th>close</th>\n",
       "      <th>volume</th>\n",
       "      <th>%D</th>\n",
       "      <th>spread</th>\n",
       "      <th>volatility</th>\n",
       "      <th>close_off_high</th>\n",
       "      <th>EUR/USD_close</th>\n",
       "    </tr>\n",
       "    <tr>\n",
       "      <th>Date</th>\n",
       "      <th></th>\n",
       "      <th></th>\n",
       "      <th></th>\n",
       "      <th></th>\n",
       "      <th></th>\n",
       "      <th></th>\n",
       "      <th></th>\n",
       "    </tr>\n",
       "  </thead>\n",
       "  <tbody>\n",
       "    <tr>\n",
       "      <th>2022-05-02</th>\n",
       "      <td>0.211965</td>\n",
       "      <td>0.002621</td>\n",
       "      <td>0.060433</td>\n",
       "      <td>0.025233</td>\n",
       "      <td>0.052067</td>\n",
       "      <td>0.985747</td>\n",
       "      <td>0.015836</td>\n",
       "    </tr>\n",
       "    <tr>\n",
       "      <th>2022-05-03</th>\n",
       "      <td>0.210864</td>\n",
       "      <td>0.002373</td>\n",
       "      <td>0.078627</td>\n",
       "      <td>0.025116</td>\n",
       "      <td>0.052586</td>\n",
       "      <td>0.982107</td>\n",
       "      <td>0.002421</td>\n",
       "    </tr>\n",
       "    <tr>\n",
       "      <th>2022-05-04</th>\n",
       "      <td>0.230539</td>\n",
       "      <td>0.002940</td>\n",
       "      <td>0.167915</td>\n",
       "      <td>0.046125</td>\n",
       "      <td>0.112595</td>\n",
       "      <td>0.999938</td>\n",
       "      <td>0.012130</td>\n",
       "    </tr>\n",
       "    <tr>\n",
       "      <th>2022-05-05</th>\n",
       "      <td>0.206944</td>\n",
       "      <td>0.003286</td>\n",
       "      <td>0.156303</td>\n",
       "      <td>0.067161</td>\n",
       "      <td>0.156027</td>\n",
       "      <td>0.921321</td>\n",
       "      <td>0.058967</td>\n",
       "    </tr>\n",
       "    <tr>\n",
       "      <th>2022-05-06</th>\n",
       "      <td>0.204686</td>\n",
       "      <td>0.002974</td>\n",
       "      <td>0.163360</td>\n",
       "      <td>0.021822</td>\n",
       "      <td>0.044790</td>\n",
       "      <td>0.988561</td>\n",
       "      <td>0.017718</td>\n",
       "    </tr>\n",
       "    <tr>\n",
       "      <th>2022-05-07</th>\n",
       "      <td>0.193929</td>\n",
       "      <td>0.002076</td>\n",
       "      <td>0.049167</td>\n",
       "      <td>0.031900</td>\n",
       "      <td>0.074940</td>\n",
       "      <td>0.965640</td>\n",
       "      <td>0.017718</td>\n",
       "    </tr>\n",
       "    <tr>\n",
       "      <th>2022-05-08</th>\n",
       "      <td>0.190171</td>\n",
       "      <td>0.002524</td>\n",
       "      <td>0.040855</td>\n",
       "      <td>0.018496</td>\n",
       "      <td>0.038689</td>\n",
       "      <td>0.982127</td>\n",
       "      <td>0.017718</td>\n",
       "    </tr>\n",
       "  </tbody>\n",
       "</table>\n",
       "</div>"
      ],
      "text/plain": [
       "               close    volume        %D    spread  volatility  \\\n",
       "Date                                                             \n",
       "2022-05-02  0.211965  0.002621  0.060433  0.025233    0.052067   \n",
       "2022-05-03  0.210864  0.002373  0.078627  0.025116    0.052586   \n",
       "2022-05-04  0.230539  0.002940  0.167915  0.046125    0.112595   \n",
       "2022-05-05  0.206944  0.003286  0.156303  0.067161    0.156027   \n",
       "2022-05-06  0.204686  0.002974  0.163360  0.021822    0.044790   \n",
       "2022-05-07  0.193929  0.002076  0.049167  0.031900    0.074940   \n",
       "2022-05-08  0.190171  0.002524  0.040855  0.018496    0.038689   \n",
       "\n",
       "            close_off_high  EUR/USD_close  \n",
       "Date                                       \n",
       "2022-05-02        0.985747       0.015836  \n",
       "2022-05-03        0.982107       0.002421  \n",
       "2022-05-04        0.999938       0.012130  \n",
       "2022-05-05        0.921321       0.058967  \n",
       "2022-05-06        0.988561       0.017718  \n",
       "2022-05-07        0.965640       0.017718  \n",
       "2022-05-08        0.982127       0.017718  "
      ]
     },
     "execution_count": 95,
     "metadata": {},
     "output_type": "execute_result"
    }
   ],
   "source": [
    "predictions.tail(7)"
   ]
  },
  {
   "cell_type": "code",
   "execution_count": 96,
   "id": "7660d24b",
   "metadata": {},
   "outputs": [],
   "source": [
    "predictions1 = predictions.tail(7)\n",
    "predictions1 = np.array(predictions1)"
   ]
  },
  {
   "cell_type": "code",
   "execution_count": 97,
   "id": "4cb389cb",
   "metadata": {},
   "outputs": [],
   "source": [
    "x_input=predictions1[len(predictions1)-time_step:].reshape(1,-1)\n",
    "temp_input=list(x_input)\n",
    "temp_input=temp_input[0].tolist()\n",
    "\n",
    "output9=[]\n",
    "n_steps=7\n",
    "i=0\n",
    "pred_days = 1\n"
   ]
  },
  {
   "cell_type": "code",
   "execution_count": 98,
   "id": "f402a242",
   "metadata": {},
   "outputs": [
    {
     "name": "stdout",
     "output_type": "stream",
     "text": [
      "0 day input [0.21196533 0.00262126 0.0604334  0.02523274 0.05206726 0.98574734\n",
      " 0.01583568 0.21086353 0.00237324 0.07862678 0.02511586 0.05258638\n",
      " 0.98210672 0.00242126 0.23053913 0.00294025 0.16791467 0.04612489\n",
      " 0.11259492 0.99993801 0.01213009 0.20694396 0.00328607 0.15630311\n",
      " 0.06716103 0.15602687 0.92132082 0.05896673 0.20468558 0.00297368\n",
      " 0.16336005 0.02182243 0.04479008 0.98856118 0.01771789 0.19392859\n",
      " 0.00207612 0.04916715 0.03189985 0.07493967 0.96563977 0.01771789\n",
      " 0.19017096 0.0025245  0.04085515 0.01849638 0.03868863 0.98212676\n",
      " 0.01771789]\n",
      "0 day output [0.29086345]\n",
      "Output of predicted next days:  1\n"
     ]
    }
   ],
   "source": [
    "while(i<pred_days):\n",
    "    \n",
    "    if(len(temp_input)>time_step):        \n",
    "        x_input=np.array(temp_input[i:])\n",
    "        print(\"{} day input {}\".format(i,x_input))\n",
    "        x_input=x_input.reshape(1,-1)\n",
    "        \n",
    "        yhat = model3.predict(x_input)\n",
    "        print(\"{} day output {}\".format(i,yhat))\n",
    "        temp_input.extend(yhat.tolist())\n",
    "        temp_input=temp_input[i:]\n",
    "       \n",
    "        output9.extend(yhat.tolist())\n",
    "        i=i+1\n",
    "        \n",
    "print(\"Output of predicted next days: \", len(output9))"
   ]
  },
  {
   "cell_type": "code",
   "execution_count": 99,
   "id": "54bd2b18",
   "metadata": {},
   "outputs": [
    {
     "data": {
      "text/plain": [
       "[0.2908634543418884]"
      ]
     },
     "execution_count": 99,
     "metadata": {},
     "output_type": "execute_result"
    }
   ],
   "source": [
    "output9  #predicted closing price for May 9th, 2022 (Monday)"
   ]
  },
  {
   "cell_type": "code",
   "execution_count": 100,
   "id": "a60d3cbb",
   "metadata": {
    "scrolled": true
   },
   "outputs": [
    {
     "name": "stdout",
     "output_type": "stream",
     "text": [
      "[1 2 3 4 5 6 7]\n",
      "[8]\n"
     ]
    }
   ],
   "source": [
    "last_days=np.arange(1,time_step+1)\n",
    "day_pred=np.arange(time_step+1,time_step+pred_days+1)\n",
    "print(last_days)\n",
    "print(day_pred)"
   ]
  },
  {
   "cell_type": "code",
   "execution_count": 101,
   "id": "4f6ef42d",
   "metadata": {},
   "outputs": [],
   "source": [
    "# Inserting the prediction for the row May 9th, 2022 --> using new predicted value + data from May 8th 2022 for the other variables "
   ]
  },
  {
   "cell_type": "code",
   "execution_count": 102,
   "id": "c593abc6",
   "metadata": {},
   "outputs": [
    {
     "data": {
      "text/html": [
       "<div>\n",
       "<style scoped>\n",
       "    .dataframe tbody tr th:only-of-type {\n",
       "        vertical-align: middle;\n",
       "    }\n",
       "\n",
       "    .dataframe tbody tr th {\n",
       "        vertical-align: top;\n",
       "    }\n",
       "\n",
       "    .dataframe thead th {\n",
       "        text-align: right;\n",
       "    }\n",
       "</style>\n",
       "<table border=\"1\" class=\"dataframe\">\n",
       "  <thead>\n",
       "    <tr style=\"text-align: right;\">\n",
       "      <th></th>\n",
       "      <th>Date</th>\n",
       "      <th>close</th>\n",
       "      <th>volume</th>\n",
       "      <th>%D</th>\n",
       "      <th>spread</th>\n",
       "      <th>volatility</th>\n",
       "      <th>close_off_high</th>\n",
       "      <th>EUR/USD_close</th>\n",
       "    </tr>\n",
       "  </thead>\n",
       "  <tbody>\n",
       "    <tr>\n",
       "      <th>0</th>\n",
       "      <td>2022-05-08</td>\n",
       "      <td>0.190171</td>\n",
       "      <td>0.002524</td>\n",
       "      <td>0.040855</td>\n",
       "      <td>0.018496</td>\n",
       "      <td>0.038689</td>\n",
       "      <td>0.982127</td>\n",
       "      <td>0.017718</td>\n",
       "    </tr>\n",
       "  </tbody>\n",
       "</table>\n",
       "</div>"
      ],
      "text/plain": [
       "         Date     close    volume        %D    spread  volatility  \\\n",
       "0  2022-05-08  0.190171  0.002524  0.040855  0.018496    0.038689   \n",
       "\n",
       "   close_off_high  EUR/USD_close  \n",
       "0        0.982127       0.017718  "
      ]
     },
     "execution_count": 102,
     "metadata": {},
     "output_type": "execute_result"
    }
   ],
   "source": [
    "a = predictions.tail(1).copy()\n",
    "a.reset_index(inplace = True)\n",
    "a"
   ]
  },
  {
   "cell_type": "code",
   "execution_count": 103,
   "id": "63b2d074",
   "metadata": {},
   "outputs": [
    {
     "data": {
      "text/html": [
       "<div>\n",
       "<style scoped>\n",
       "    .dataframe tbody tr th:only-of-type {\n",
       "        vertical-align: middle;\n",
       "    }\n",
       "\n",
       "    .dataframe tbody tr th {\n",
       "        vertical-align: top;\n",
       "    }\n",
       "\n",
       "    .dataframe thead th {\n",
       "        text-align: right;\n",
       "    }\n",
       "</style>\n",
       "<table border=\"1\" class=\"dataframe\">\n",
       "  <thead>\n",
       "    <tr style=\"text-align: right;\">\n",
       "      <th></th>\n",
       "      <th>close</th>\n",
       "      <th>volume</th>\n",
       "      <th>%D</th>\n",
       "      <th>spread</th>\n",
       "      <th>volatility</th>\n",
       "      <th>close_off_high</th>\n",
       "      <th>EUR/USD_close</th>\n",
       "    </tr>\n",
       "    <tr>\n",
       "      <th>Date</th>\n",
       "      <th></th>\n",
       "      <th></th>\n",
       "      <th></th>\n",
       "      <th></th>\n",
       "      <th></th>\n",
       "      <th></th>\n",
       "      <th></th>\n",
       "    </tr>\n",
       "  </thead>\n",
       "  <tbody>\n",
       "    <tr>\n",
       "      <th>2022-05-09</th>\n",
       "      <td>0.290863</td>\n",
       "      <td>0.002524</td>\n",
       "      <td>0.040855</td>\n",
       "      <td>0.018496</td>\n",
       "      <td>0.038689</td>\n",
       "      <td>0.982127</td>\n",
       "      <td>0.017718</td>\n",
       "    </tr>\n",
       "  </tbody>\n",
       "</table>\n",
       "</div>"
      ],
      "text/plain": [
       "               close    volume        %D    spread  volatility  \\\n",
       "Date                                                             \n",
       "2022-05-09  0.290863  0.002524  0.040855  0.018496    0.038689   \n",
       "\n",
       "            close_off_high  EUR/USD_close  \n",
       "Date                                       \n",
       "2022-05-09        0.982127       0.017718  "
      ]
     },
     "execution_count": 103,
     "metadata": {},
     "output_type": "execute_result"
    }
   ],
   "source": [
    "a.at[0,'Date']='2022-05-09'\n",
    "a.at[0,'close']= output9[0]\n",
    "a.set_index('Date', inplace = True)\n",
    "a"
   ]
  },
  {
   "cell_type": "code",
   "execution_count": 104,
   "id": "d89f150f",
   "metadata": {},
   "outputs": [],
   "source": [
    "final_predictions = pd.concat([predictions, a], axis=0, join='outer')"
   ]
  },
  {
   "cell_type": "code",
   "execution_count": 105,
   "id": "fed79fe6",
   "metadata": {},
   "outputs": [
    {
     "name": "stdout",
     "output_type": "stream",
     "text": [
      "The predicted closing price for LINK on May 9th, 2022 is  15.28577544759363 USD\n"
     ]
    }
   ],
   "source": [
    "#Get the predicted denormalized closing price using MinMaxScaler formula\n",
    "intermediate_result = ((52.19896-0.145255)*output9[0])+0.145255\n",
    "\n",
    "print (\"The predicted closing price for LINK on May 9th, 2022 is \", intermediate_result, \"USD\")"
   ]
  },
  {
   "cell_type": "markdown",
   "id": "b30c6dc4",
   "metadata": {},
   "source": [
    "# Final Predictions<a name=\"finalpredictions\"></a>"
   ]
  },
  {
   "cell_type": "code",
   "execution_count": 106,
   "id": "ccd287f0",
   "metadata": {
    "scrolled": true
   },
   "outputs": [
    {
     "data": {
      "text/html": [
       "<div>\n",
       "<style scoped>\n",
       "    .dataframe tbody tr th:only-of-type {\n",
       "        vertical-align: middle;\n",
       "    }\n",
       "\n",
       "    .dataframe tbody tr th {\n",
       "        vertical-align: top;\n",
       "    }\n",
       "\n",
       "    .dataframe thead th {\n",
       "        text-align: right;\n",
       "    }\n",
       "</style>\n",
       "<table border=\"1\" class=\"dataframe\">\n",
       "  <thead>\n",
       "    <tr style=\"text-align: right;\">\n",
       "      <th></th>\n",
       "      <th>close</th>\n",
       "      <th>volume</th>\n",
       "      <th>%D</th>\n",
       "      <th>spread</th>\n",
       "      <th>volatility</th>\n",
       "      <th>close_off_high</th>\n",
       "      <th>EUR/USD_close</th>\n",
       "    </tr>\n",
       "    <tr>\n",
       "      <th>Date</th>\n",
       "      <th></th>\n",
       "      <th></th>\n",
       "      <th></th>\n",
       "      <th></th>\n",
       "      <th></th>\n",
       "      <th></th>\n",
       "      <th></th>\n",
       "    </tr>\n",
       "  </thead>\n",
       "  <tbody>\n",
       "    <tr>\n",
       "      <th>2022-05-03</th>\n",
       "      <td>0.210864</td>\n",
       "      <td>0.002373</td>\n",
       "      <td>0.078627</td>\n",
       "      <td>0.025116</td>\n",
       "      <td>0.052586</td>\n",
       "      <td>0.982107</td>\n",
       "      <td>0.002421</td>\n",
       "    </tr>\n",
       "    <tr>\n",
       "      <th>2022-05-04</th>\n",
       "      <td>0.230539</td>\n",
       "      <td>0.002940</td>\n",
       "      <td>0.167915</td>\n",
       "      <td>0.046125</td>\n",
       "      <td>0.112595</td>\n",
       "      <td>0.999938</td>\n",
       "      <td>0.012130</td>\n",
       "    </tr>\n",
       "    <tr>\n",
       "      <th>2022-05-05</th>\n",
       "      <td>0.206944</td>\n",
       "      <td>0.003286</td>\n",
       "      <td>0.156303</td>\n",
       "      <td>0.067161</td>\n",
       "      <td>0.156027</td>\n",
       "      <td>0.921321</td>\n",
       "      <td>0.058967</td>\n",
       "    </tr>\n",
       "    <tr>\n",
       "      <th>2022-05-06</th>\n",
       "      <td>0.204686</td>\n",
       "      <td>0.002974</td>\n",
       "      <td>0.163360</td>\n",
       "      <td>0.021822</td>\n",
       "      <td>0.044790</td>\n",
       "      <td>0.988561</td>\n",
       "      <td>0.017718</td>\n",
       "    </tr>\n",
       "    <tr>\n",
       "      <th>2022-05-07</th>\n",
       "      <td>0.193929</td>\n",
       "      <td>0.002076</td>\n",
       "      <td>0.049167</td>\n",
       "      <td>0.031900</td>\n",
       "      <td>0.074940</td>\n",
       "      <td>0.965640</td>\n",
       "      <td>0.017718</td>\n",
       "    </tr>\n",
       "    <tr>\n",
       "      <th>2022-05-08</th>\n",
       "      <td>0.190171</td>\n",
       "      <td>0.002524</td>\n",
       "      <td>0.040855</td>\n",
       "      <td>0.018496</td>\n",
       "      <td>0.038689</td>\n",
       "      <td>0.982127</td>\n",
       "      <td>0.017718</td>\n",
       "    </tr>\n",
       "    <tr>\n",
       "      <th>2022-05-09</th>\n",
       "      <td>0.290863</td>\n",
       "      <td>0.002524</td>\n",
       "      <td>0.040855</td>\n",
       "      <td>0.018496</td>\n",
       "      <td>0.038689</td>\n",
       "      <td>0.982127</td>\n",
       "      <td>0.017718</td>\n",
       "    </tr>\n",
       "  </tbody>\n",
       "</table>\n",
       "</div>"
      ],
      "text/plain": [
       "               close    volume        %D    spread  volatility  \\\n",
       "Date                                                             \n",
       "2022-05-03  0.210864  0.002373  0.078627  0.025116    0.052586   \n",
       "2022-05-04  0.230539  0.002940  0.167915  0.046125    0.112595   \n",
       "2022-05-05  0.206944  0.003286  0.156303  0.067161    0.156027   \n",
       "2022-05-06  0.204686  0.002974  0.163360  0.021822    0.044790   \n",
       "2022-05-07  0.193929  0.002076  0.049167  0.031900    0.074940   \n",
       "2022-05-08  0.190171  0.002524  0.040855  0.018496    0.038689   \n",
       "2022-05-09  0.290863  0.002524  0.040855  0.018496    0.038689   \n",
       "\n",
       "            close_off_high  EUR/USD_close  \n",
       "Date                                       \n",
       "2022-05-03        0.982107       0.002421  \n",
       "2022-05-04        0.999938       0.012130  \n",
       "2022-05-05        0.921321       0.058967  \n",
       "2022-05-06        0.988561       0.017718  \n",
       "2022-05-07        0.965640       0.017718  \n",
       "2022-05-08        0.982127       0.017718  \n",
       "2022-05-09        0.982127       0.017718  "
      ]
     },
     "execution_count": 106,
     "metadata": {},
     "output_type": "execute_result"
    }
   ],
   "source": [
    "final_predictions.tail(7)"
   ]
  },
  {
   "cell_type": "code",
   "execution_count": 107,
   "id": "b62f5f49",
   "metadata": {},
   "outputs": [],
   "source": [
    "final_predictions1 = final_predictions.tail(7)\n",
    "final_predictions1 = np.array(final_predictions1)"
   ]
  },
  {
   "cell_type": "code",
   "execution_count": 108,
   "id": "b25f3431",
   "metadata": {},
   "outputs": [],
   "source": [
    "x_input=(final_predictions1[len(final_predictions1)-(time_step*time_step):]).reshape(1,-1)\n",
    "temp_input=list(x_input)\n",
    "temp_input=temp_input[0].tolist()\n",
    "\n",
    "output10=[]\n",
    "n_steps=7\n",
    "i=0\n",
    "pred_days = 1"
   ]
  },
  {
   "cell_type": "code",
   "execution_count": 109,
   "id": "13907221",
   "metadata": {
    "scrolled": true
   },
   "outputs": [
    {
     "name": "stdout",
     "output_type": "stream",
     "text": [
      "0 day input [0.21086353 0.00237324 0.07862678 0.02511586 0.05258638 0.98210672\n",
      " 0.00242126 0.23053913 0.00294025 0.16791467 0.04612489 0.11259492\n",
      " 0.99993801 0.01213009 0.20694396 0.00328607 0.15630311 0.06716103\n",
      " 0.15602687 0.92132082 0.05896673 0.20468558 0.00297368 0.16336005\n",
      " 0.02182243 0.04479008 0.98856118 0.01771789 0.19392859 0.00207612\n",
      " 0.04916715 0.03189985 0.07493967 0.96563977 0.01771789 0.19017096\n",
      " 0.0025245  0.04085515 0.01849638 0.03868863 0.98212676 0.01771789\n",
      " 0.29086345 0.0025245  0.04085515 0.01849638 0.03868863 0.98212676\n",
      " 0.01771789]\n",
      "0 day output [0.29616386]\n",
      "Output of predicted next days:  1\n"
     ]
    }
   ],
   "source": [
    "while(i<pred_days):\n",
    "    \n",
    "    if(len(temp_input)>time_step):        \n",
    "        x_input=np.array(temp_input[i:])\n",
    "        print(\"{} day input {}\".format(i,x_input))\n",
    "        x_input=x_input.reshape(1,-1)\n",
    "        \n",
    "        yhat = model3.predict(x_input)\n",
    "        print(\"{} day output {}\".format(i,yhat))\n",
    "        temp_input.extend(yhat.tolist())\n",
    "        temp_input=temp_input[i:]\n",
    "       \n",
    "        output10.extend(yhat.tolist())\n",
    "        i=i+1\n",
    "        \n",
    "print(\"Output of predicted next days: \", len(output10))"
   ]
  },
  {
   "cell_type": "code",
   "execution_count": 110,
   "id": "2fb076f9",
   "metadata": {},
   "outputs": [
    {
     "name": "stdout",
     "output_type": "stream",
     "text": [
      "The predicted normalized closing price for LINK on May 10th, 2022 is  0.2961638569831848\n"
     ]
    }
   ],
   "source": [
    "print (\"The predicted normalized closing price for LINK on May 10th, 2022 is \", output10[0])"
   ]
  },
  {
   "cell_type": "code",
   "execution_count": 111,
   "id": "713f443f",
   "metadata": {},
   "outputs": [
    {
     "name": "stdout",
     "output_type": "stream",
     "text": [
      "The predicted closing price for LINK on May 10th, 2022 is  15.561681043064894 USD\n"
     ]
    }
   ],
   "source": [
    "#Get the predicted denormalized closing price using MinMaxScaler formula\n",
    "final_result = ((52.19896-0.145255)*output10[0])+0.145255\n",
    "\n",
    "print (\"The predicted closing price for LINK on May 10th, 2022 is \", final_result, \"USD\")"
   ]
  }
 ],
 "metadata": {
  "kernelspec": {
   "display_name": "Python 3 (ipykernel)",
   "language": "python",
   "name": "python3"
  },
  "language_info": {
   "codemirror_mode": {
    "name": "ipython",
    "version": 3
   },
   "file_extension": ".py",
   "mimetype": "text/x-python",
   "name": "python",
   "nbconvert_exporter": "python",
   "pygments_lexer": "ipython3",
   "version": "3.9.6"
  }
 },
 "nbformat": 4,
 "nbformat_minor": 5
}
